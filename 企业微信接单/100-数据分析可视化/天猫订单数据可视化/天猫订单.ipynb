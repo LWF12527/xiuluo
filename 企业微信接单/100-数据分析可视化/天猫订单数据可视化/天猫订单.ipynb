{
 "cells": [
  {
   "cell_type": "markdown",
   "metadata": {
    "id": "526F79CA2025442B8AAA80D530E57D7F",
    "notebookId": "67702dccf42f7962755a6aa3",
    "jupyter": {},
    "tags": [],
    "slideshow": {
     "slide_type": "slide"
    },
    "trusted": true,
    "mdEditEnable": false,
    "runtime": {
     "status": "default",
     "execution_status": null,
     "is_visible": false
    },
    "scrolled": false
   },
   "source": [
    "# 一、导入数据及数据预处理"
   ]
  },
  {
   "cell_type": "code",
   "execution_count": 2,
   "outputs": [],
   "source": [
    "import pandas as pd\n",
    "import numpy as np\n",
    "from pyecharts.charts import Pie,Bar,Line,Map,Map3D,Funnel\n",
    "from pyecharts import options as opts\n",
    "import matplotlib.pyplot as plt\n",
    "import warnings\n",
    "import seaborn as sns\n",
    "from pyecharts.commons.utils import JsCode\n",
    "from pyecharts.globals import ThemeType, ChartType\n",
    "import textwrap\n",
    "# 中文设置\n",
    "plt.rcParams['font.sans-serif']=['Microsoft YaHei']\n",
    "plt.rcParams['axes.unicode_minus']=False\n",
    "plt.rc('font',family = 'Microsoft YaHei',size = '15')\n",
    "warnings.filterwarnings(\"ignore\")\n",
    "%matplotlib inline"
   ],
   "metadata": {
    "collapsed": false
   }
  },
  {
   "cell_type": "code",
   "metadata": {
    "id": "A9806E5348A346378237C03A6D1328A7",
    "notebookId": "67702dccf42f7962755a6aa3",
    "jupyter": {},
    "tags": [],
    "slideshow": {
     "slide_type": "slide"
    },
    "trusted": true,
    "collapsed": false,
    "scrolled": false
   },
   "source": [
    "df = pd.read_csv('tmall_order.csv')\n",
    "df.head()"
   ],
   "outputs": [
    {
     "data": {
      "text/plain": "   订单编号    总金额  买家实际支付金额   收货地址                订单创建时间              订单付款时间   \\\n0     1  178.8       0.0      上海  2020-02-21 00:00:00                  NaN   \n1     2   21.0      21.0  内蒙古自治区  2020-02-20 23:59:54  2020-02-21 00:00:02   \n2     3   37.0       0.0     安徽省  2020-02-20 23:59:35                  NaN   \n3     4  157.0     157.0     湖南省  2020-02-20 23:58:34  2020-02-20 23:58:44   \n4     5   64.8       0.0     江苏省  2020-02-20 23:57:04  2020-02-20 23:57:11   \n\n   退款金额  \n0   0.0  \n1   0.0  \n2   0.0  \n3   0.0  \n4  64.8  ",
      "text/html": "<div>\n<style scoped>\n    .dataframe tbody tr th:only-of-type {\n        vertical-align: middle;\n    }\n\n    .dataframe tbody tr th {\n        vertical-align: top;\n    }\n\n    .dataframe thead th {\n        text-align: right;\n    }\n</style>\n<table border=\"1\" class=\"dataframe\">\n  <thead>\n    <tr style=\"text-align: right;\">\n      <th></th>\n      <th>订单编号</th>\n      <th>总金额</th>\n      <th>买家实际支付金额</th>\n      <th>收货地址</th>\n      <th>订单创建时间</th>\n      <th>订单付款时间</th>\n      <th>退款金额</th>\n    </tr>\n  </thead>\n  <tbody>\n    <tr>\n      <th>0</th>\n      <td>1</td>\n      <td>178.8</td>\n      <td>0.0</td>\n      <td>上海</td>\n      <td>2020-02-21 00:00:00</td>\n      <td>NaN</td>\n      <td>0.0</td>\n    </tr>\n    <tr>\n      <th>1</th>\n      <td>2</td>\n      <td>21.0</td>\n      <td>21.0</td>\n      <td>内蒙古自治区</td>\n      <td>2020-02-20 23:59:54</td>\n      <td>2020-02-21 00:00:02</td>\n      <td>0.0</td>\n    </tr>\n    <tr>\n      <th>2</th>\n      <td>3</td>\n      <td>37.0</td>\n      <td>0.0</td>\n      <td>安徽省</td>\n      <td>2020-02-20 23:59:35</td>\n      <td>NaN</td>\n      <td>0.0</td>\n    </tr>\n    <tr>\n      <th>3</th>\n      <td>4</td>\n      <td>157.0</td>\n      <td>157.0</td>\n      <td>湖南省</td>\n      <td>2020-02-20 23:58:34</td>\n      <td>2020-02-20 23:58:44</td>\n      <td>0.0</td>\n    </tr>\n    <tr>\n      <th>4</th>\n      <td>5</td>\n      <td>64.8</td>\n      <td>0.0</td>\n      <td>江苏省</td>\n      <td>2020-02-20 23:57:04</td>\n      <td>2020-02-20 23:57:11</td>\n      <td>64.8</td>\n    </tr>\n  </tbody>\n</table>\n</div>"
     },
     "execution_count": 4,
     "metadata": {},
     "output_type": "execute_result"
    }
   ],
   "execution_count": 4
  },
  {
   "cell_type": "code",
   "metadata": {
    "id": "E834F4AE32384D308D54C71E5690D704",
    "notebookId": "67702dccf42f7962755a6aa3",
    "jupyter": {},
    "tags": [],
    "slideshow": {
     "slide_type": "slide"
    },
    "trusted": true,
    "collapsed": false,
    "scrolled": false
   },
   "source": [
    "# 去除字段名中的空格\n",
    "new_columns = [col.strip() for col in df.columns]\n",
    "df.columns = new_columns\n",
    "df.info()"
   ],
   "outputs": [
    {
     "name": "stdout",
     "output_type": "stream",
     "text": [
      "<class 'pandas.core.frame.DataFrame'>\n",
      "RangeIndex: 28010 entries, 0 to 28009\n",
      "Data columns (total 7 columns):\n",
      " #   Column    Non-Null Count  Dtype  \n",
      "---  ------    --------------  -----  \n",
      " 0   订单编号      28010 non-null  int64  \n",
      " 1   总金额       28010 non-null  float64\n",
      " 2   买家实际支付金额  28010 non-null  float64\n",
      " 3   收货地址      28010 non-null  object \n",
      " 4   订单创建时间    28010 non-null  object \n",
      " 5   订单付款时间    24087 non-null  object \n",
      " 6   退款金额      28010 non-null  float64\n",
      "dtypes: float64(3), int64(1), object(3)\n",
      "memory usage: 1.5+ MB\n"
     ]
    }
   ],
   "execution_count": 5
  },
  {
   "cell_type": "code",
   "metadata": {
    "id": "FAB5280214EF4A1980E6FCF67F4A6ABB",
    "notebookId": "67702dccf42f7962755a6aa3",
    "jupyter": {},
    "tags": [],
    "slideshow": {
     "slide_type": "slide"
    },
    "trusted": true,
    "collapsed": false,
    "scrolled": false
   },
   "source": [
    "# 数据基本描述\n",
    "print('数据的时间区间为',df['订单创建时间'].min(),'到',df['订单创建时间'].max())\n",
    "print('收货地址总计有：',df['收货地址'].nunique(),'个')\n",
    "df.describe()"
   ],
   "outputs": [
    {
     "name": "stdout",
     "output_type": "stream",
     "text": [
      "数据的时间区间为 2020-02-01 00:14:15 到 2020-02-29 23:59:18\n",
      "收货地址总计有： 31 个\n"
     ]
    },
    {
     "data": {
      "text/plain": "               订单编号            总金额      买家实际支付金额          退款金额\ncount  28010.000000   28010.000000  28010.000000  28010.000000\nmean   14005.500000     106.953253     67.921712     20.433271\nstd     8085.934856    1136.587094    151.493434     71.501963\nmin        1.000000       1.000000      0.000000      0.000000\n25%     7003.250000      38.000000      0.000000      0.000000\n50%    14005.500000      75.000000     45.000000      0.000000\n75%    21007.750000     119.000000    101.000000      0.000000\nmax    28010.000000  188320.000000  16065.000000   3800.000000",
      "text/html": "<div>\n<style scoped>\n    .dataframe tbody tr th:only-of-type {\n        vertical-align: middle;\n    }\n\n    .dataframe tbody tr th {\n        vertical-align: top;\n    }\n\n    .dataframe thead th {\n        text-align: right;\n    }\n</style>\n<table border=\"1\" class=\"dataframe\">\n  <thead>\n    <tr style=\"text-align: right;\">\n      <th></th>\n      <th>订单编号</th>\n      <th>总金额</th>\n      <th>买家实际支付金额</th>\n      <th>退款金额</th>\n    </tr>\n  </thead>\n  <tbody>\n    <tr>\n      <th>count</th>\n      <td>28010.000000</td>\n      <td>28010.000000</td>\n      <td>28010.000000</td>\n      <td>28010.000000</td>\n    </tr>\n    <tr>\n      <th>mean</th>\n      <td>14005.500000</td>\n      <td>106.953253</td>\n      <td>67.921712</td>\n      <td>20.433271</td>\n    </tr>\n    <tr>\n      <th>std</th>\n      <td>8085.934856</td>\n      <td>1136.587094</td>\n      <td>151.493434</td>\n      <td>71.501963</td>\n    </tr>\n    <tr>\n      <th>min</th>\n      <td>1.000000</td>\n      <td>1.000000</td>\n      <td>0.000000</td>\n      <td>0.000000</td>\n    </tr>\n    <tr>\n      <th>25%</th>\n      <td>7003.250000</td>\n      <td>38.000000</td>\n      <td>0.000000</td>\n      <td>0.000000</td>\n    </tr>\n    <tr>\n      <th>50%</th>\n      <td>14005.500000</td>\n      <td>75.000000</td>\n      <td>45.000000</td>\n      <td>0.000000</td>\n    </tr>\n    <tr>\n      <th>75%</th>\n      <td>21007.750000</td>\n      <td>119.000000</td>\n      <td>101.000000</td>\n      <td>0.000000</td>\n    </tr>\n    <tr>\n      <th>max</th>\n      <td>28010.000000</td>\n      <td>188320.000000</td>\n      <td>16065.000000</td>\n      <td>3800.000000</td>\n    </tr>\n  </tbody>\n</table>\n</div>"
     },
     "execution_count": 6,
     "metadata": {},
     "output_type": "execute_result"
    }
   ],
   "execution_count": 6
  },
  {
   "cell_type": "code",
   "metadata": {
    "id": "B3BB617A8BA446A182B5D52564F9B416",
    "notebookId": "67702dccf42f7962755a6aa3",
    "jupyter": {},
    "tags": [],
    "slideshow": {
     "slide_type": "slide"
    },
    "trusted": true,
    "collapsed": false,
    "scrolled": false
   },
   "source": [
    "# 提取日期中的时间为后续分析做准备\n",
    "df['订单创建时间'] = df['订单创建时间'].astype('datetime64')\n",
    "df['订单付款时间'] = df['订单付款时间'].astype('datetime64')\n",
    "df['月'] = df['订单付款时间'].dt.month\n",
    "df['日'] = df['订单付款时间'].dt.day\n",
    "df2 = df[~df['订单付款时间'].isnull()]\n",
    "df2['月'] = df2['月'].apply(lambda x:int(x)).astype('str')\n",
    "df2['日'] = df2['日'].apply(lambda x:int(x)).astype('str')\n",
    "df2['日期'] = df2['月'] + '月' + df2['日'] + '日'\n",
    "df2['周'] = df2['订单付款时间'].dt.weekday + 1\n",
    "df2['周'] = '星期' + df2['周'].astype('str')\n",
    "df2['月'] = df2['月'].astype('int')\n",
    "df2['日'] = df2['日'].astype('int')\n",
    "df2 = df2.sort_values(by = '订单付款时间')\n",
    "df2['小时'] = df2['订单付款时间'].dt.hour\n",
    "df2.head()"
   ],
   "outputs": [
    {
     "ename": "ValueError",
     "evalue": "Passing in 'datetime64' dtype with no precision is not allowed. Please pass in 'datetime64[ns]' instead.",
     "output_type": "error",
     "traceback": [
      "\u001B[1;31m---------------------------------------------------------------------------\u001B[0m",
      "\u001B[1;31mValueError\u001B[0m                                Traceback (most recent call last)",
      "Cell \u001B[1;32mIn[7], line 2\u001B[0m\n\u001B[0;32m      1\u001B[0m \u001B[38;5;66;03m# 提取日期中的时间为后续分析做准备\u001B[39;00m\n\u001B[1;32m----> 2\u001B[0m df[\u001B[38;5;124m'\u001B[39m\u001B[38;5;124m订单创建时间\u001B[39m\u001B[38;5;124m'\u001B[39m] \u001B[38;5;241m=\u001B[39m \u001B[43mdf\u001B[49m\u001B[43m[\u001B[49m\u001B[38;5;124;43m'\u001B[39;49m\u001B[38;5;124;43m订单创建时间\u001B[39;49m\u001B[38;5;124;43m'\u001B[39;49m\u001B[43m]\u001B[49m\u001B[38;5;241;43m.\u001B[39;49m\u001B[43mastype\u001B[49m\u001B[43m(\u001B[49m\u001B[38;5;124;43m'\u001B[39;49m\u001B[38;5;124;43mdatetime64\u001B[39;49m\u001B[38;5;124;43m'\u001B[39;49m\u001B[43m)\u001B[49m\n\u001B[0;32m      3\u001B[0m df[\u001B[38;5;124m'\u001B[39m\u001B[38;5;124m订单付款时间\u001B[39m\u001B[38;5;124m'\u001B[39m] \u001B[38;5;241m=\u001B[39m df[\u001B[38;5;124m'\u001B[39m\u001B[38;5;124m订单付款时间\u001B[39m\u001B[38;5;124m'\u001B[39m]\u001B[38;5;241m.\u001B[39mastype(\u001B[38;5;124m'\u001B[39m\u001B[38;5;124mdatetime64\u001B[39m\u001B[38;5;124m'\u001B[39m)\n\u001B[0;32m      4\u001B[0m df[\u001B[38;5;124m'\u001B[39m\u001B[38;5;124m月\u001B[39m\u001B[38;5;124m'\u001B[39m] \u001B[38;5;241m=\u001B[39m df[\u001B[38;5;124m'\u001B[39m\u001B[38;5;124m订单付款时间\u001B[39m\u001B[38;5;124m'\u001B[39m]\u001B[38;5;241m.\u001B[39mdt\u001B[38;5;241m.\u001B[39mmonth\n",
      "File \u001B[1;32mD:\\Desktop\\Python\\pySDK 3.10.5\\Lib\\site-packages\\pandas\\core\\generic.py:6640\u001B[0m, in \u001B[0;36mNDFrame.astype\u001B[1;34m(self, dtype, copy, errors)\u001B[0m\n\u001B[0;32m   6634\u001B[0m     results \u001B[38;5;241m=\u001B[39m [\n\u001B[0;32m   6635\u001B[0m         ser\u001B[38;5;241m.\u001B[39mastype(dtype, copy\u001B[38;5;241m=\u001B[39mcopy, errors\u001B[38;5;241m=\u001B[39merrors) \u001B[38;5;28;01mfor\u001B[39;00m _, ser \u001B[38;5;129;01min\u001B[39;00m \u001B[38;5;28mself\u001B[39m\u001B[38;5;241m.\u001B[39mitems()\n\u001B[0;32m   6636\u001B[0m     ]\n\u001B[0;32m   6638\u001B[0m \u001B[38;5;28;01melse\u001B[39;00m:\n\u001B[0;32m   6639\u001B[0m     \u001B[38;5;66;03m# else, only a single dtype is given\u001B[39;00m\n\u001B[1;32m-> 6640\u001B[0m     new_data \u001B[38;5;241m=\u001B[39m \u001B[38;5;28;43mself\u001B[39;49m\u001B[38;5;241;43m.\u001B[39;49m\u001B[43m_mgr\u001B[49m\u001B[38;5;241;43m.\u001B[39;49m\u001B[43mastype\u001B[49m\u001B[43m(\u001B[49m\u001B[43mdtype\u001B[49m\u001B[38;5;241;43m=\u001B[39;49m\u001B[43mdtype\u001B[49m\u001B[43m,\u001B[49m\u001B[43m \u001B[49m\u001B[43mcopy\u001B[49m\u001B[38;5;241;43m=\u001B[39;49m\u001B[43mcopy\u001B[49m\u001B[43m,\u001B[49m\u001B[43m \u001B[49m\u001B[43merrors\u001B[49m\u001B[38;5;241;43m=\u001B[39;49m\u001B[43merrors\u001B[49m\u001B[43m)\u001B[49m\n\u001B[0;32m   6641\u001B[0m     res \u001B[38;5;241m=\u001B[39m \u001B[38;5;28mself\u001B[39m\u001B[38;5;241m.\u001B[39m_constructor_from_mgr(new_data, axes\u001B[38;5;241m=\u001B[39mnew_data\u001B[38;5;241m.\u001B[39maxes)\n\u001B[0;32m   6642\u001B[0m     \u001B[38;5;28;01mreturn\u001B[39;00m res\u001B[38;5;241m.\u001B[39m__finalize__(\u001B[38;5;28mself\u001B[39m, method\u001B[38;5;241m=\u001B[39m\u001B[38;5;124m\"\u001B[39m\u001B[38;5;124mastype\u001B[39m\u001B[38;5;124m\"\u001B[39m)\n",
      "File \u001B[1;32mD:\\Desktop\\Python\\pySDK 3.10.5\\Lib\\site-packages\\pandas\\core\\internals\\managers.py:430\u001B[0m, in \u001B[0;36mBaseBlockManager.astype\u001B[1;34m(self, dtype, copy, errors)\u001B[0m\n\u001B[0;32m    427\u001B[0m \u001B[38;5;28;01melif\u001B[39;00m using_copy_on_write():\n\u001B[0;32m    428\u001B[0m     copy \u001B[38;5;241m=\u001B[39m \u001B[38;5;28;01mFalse\u001B[39;00m\n\u001B[1;32m--> 430\u001B[0m \u001B[38;5;28;01mreturn\u001B[39;00m \u001B[38;5;28;43mself\u001B[39;49m\u001B[38;5;241;43m.\u001B[39;49m\u001B[43mapply\u001B[49m\u001B[43m(\u001B[49m\n\u001B[0;32m    431\u001B[0m \u001B[43m    \u001B[49m\u001B[38;5;124;43m\"\u001B[39;49m\u001B[38;5;124;43mastype\u001B[39;49m\u001B[38;5;124;43m\"\u001B[39;49m\u001B[43m,\u001B[49m\n\u001B[0;32m    432\u001B[0m \u001B[43m    \u001B[49m\u001B[43mdtype\u001B[49m\u001B[38;5;241;43m=\u001B[39;49m\u001B[43mdtype\u001B[49m\u001B[43m,\u001B[49m\n\u001B[0;32m    433\u001B[0m \u001B[43m    \u001B[49m\u001B[43mcopy\u001B[49m\u001B[38;5;241;43m=\u001B[39;49m\u001B[43mcopy\u001B[49m\u001B[43m,\u001B[49m\n\u001B[0;32m    434\u001B[0m \u001B[43m    \u001B[49m\u001B[43merrors\u001B[49m\u001B[38;5;241;43m=\u001B[39;49m\u001B[43merrors\u001B[49m\u001B[43m,\u001B[49m\n\u001B[0;32m    435\u001B[0m \u001B[43m    \u001B[49m\u001B[43musing_cow\u001B[49m\u001B[38;5;241;43m=\u001B[39;49m\u001B[43musing_copy_on_write\u001B[49m\u001B[43m(\u001B[49m\u001B[43m)\u001B[49m\u001B[43m,\u001B[49m\n\u001B[0;32m    436\u001B[0m \u001B[43m\u001B[49m\u001B[43m)\u001B[49m\n",
      "File \u001B[1;32mD:\\Desktop\\Python\\pySDK 3.10.5\\Lib\\site-packages\\pandas\\core\\internals\\managers.py:363\u001B[0m, in \u001B[0;36mBaseBlockManager.apply\u001B[1;34m(self, f, align_keys, **kwargs)\u001B[0m\n\u001B[0;32m    361\u001B[0m         applied \u001B[38;5;241m=\u001B[39m b\u001B[38;5;241m.\u001B[39mapply(f, \u001B[38;5;241m*\u001B[39m\u001B[38;5;241m*\u001B[39mkwargs)\n\u001B[0;32m    362\u001B[0m     \u001B[38;5;28;01melse\u001B[39;00m:\n\u001B[1;32m--> 363\u001B[0m         applied \u001B[38;5;241m=\u001B[39m \u001B[38;5;28mgetattr\u001B[39m(b, f)(\u001B[38;5;241m*\u001B[39m\u001B[38;5;241m*\u001B[39mkwargs)\n\u001B[0;32m    364\u001B[0m     result_blocks \u001B[38;5;241m=\u001B[39m extend_blocks(applied, result_blocks)\n\u001B[0;32m    366\u001B[0m out \u001B[38;5;241m=\u001B[39m \u001B[38;5;28mtype\u001B[39m(\u001B[38;5;28mself\u001B[39m)\u001B[38;5;241m.\u001B[39mfrom_blocks(result_blocks, \u001B[38;5;28mself\u001B[39m\u001B[38;5;241m.\u001B[39maxes)\n",
      "File \u001B[1;32mD:\\Desktop\\Python\\pySDK 3.10.5\\Lib\\site-packages\\pandas\\core\\internals\\blocks.py:758\u001B[0m, in \u001B[0;36mBlock.astype\u001B[1;34m(self, dtype, copy, errors, using_cow, squeeze)\u001B[0m\n\u001B[0;32m    755\u001B[0m         \u001B[38;5;28;01mraise\u001B[39;00m \u001B[38;5;167;01mValueError\u001B[39;00m(\u001B[38;5;124m\"\u001B[39m\u001B[38;5;124mCan not squeeze with more than one column.\u001B[39m\u001B[38;5;124m\"\u001B[39m)\n\u001B[0;32m    756\u001B[0m     values \u001B[38;5;241m=\u001B[39m values[\u001B[38;5;241m0\u001B[39m, :]  \u001B[38;5;66;03m# type: ignore[call-overload]\u001B[39;00m\n\u001B[1;32m--> 758\u001B[0m new_values \u001B[38;5;241m=\u001B[39m \u001B[43mastype_array_safe\u001B[49m\u001B[43m(\u001B[49m\u001B[43mvalues\u001B[49m\u001B[43m,\u001B[49m\u001B[43m \u001B[49m\u001B[43mdtype\u001B[49m\u001B[43m,\u001B[49m\u001B[43m \u001B[49m\u001B[43mcopy\u001B[49m\u001B[38;5;241;43m=\u001B[39;49m\u001B[43mcopy\u001B[49m\u001B[43m,\u001B[49m\u001B[43m \u001B[49m\u001B[43merrors\u001B[49m\u001B[38;5;241;43m=\u001B[39;49m\u001B[43merrors\u001B[49m\u001B[43m)\u001B[49m\n\u001B[0;32m    760\u001B[0m new_values \u001B[38;5;241m=\u001B[39m maybe_coerce_values(new_values)\n\u001B[0;32m    762\u001B[0m refs \u001B[38;5;241m=\u001B[39m \u001B[38;5;28;01mNone\u001B[39;00m\n",
      "File \u001B[1;32mD:\\Desktop\\Python\\pySDK 3.10.5\\Lib\\site-packages\\pandas\\core\\dtypes\\astype.py:237\u001B[0m, in \u001B[0;36mastype_array_safe\u001B[1;34m(values, dtype, copy, errors)\u001B[0m\n\u001B[0;32m    234\u001B[0m     dtype \u001B[38;5;241m=\u001B[39m dtype\u001B[38;5;241m.\u001B[39mnumpy_dtype\n\u001B[0;32m    236\u001B[0m \u001B[38;5;28;01mtry\u001B[39;00m:\n\u001B[1;32m--> 237\u001B[0m     new_values \u001B[38;5;241m=\u001B[39m \u001B[43mastype_array\u001B[49m\u001B[43m(\u001B[49m\u001B[43mvalues\u001B[49m\u001B[43m,\u001B[49m\u001B[43m \u001B[49m\u001B[43mdtype\u001B[49m\u001B[43m,\u001B[49m\u001B[43m \u001B[49m\u001B[43mcopy\u001B[49m\u001B[38;5;241;43m=\u001B[39;49m\u001B[43mcopy\u001B[49m\u001B[43m)\u001B[49m\n\u001B[0;32m    238\u001B[0m \u001B[38;5;28;01mexcept\u001B[39;00m (\u001B[38;5;167;01mValueError\u001B[39;00m, \u001B[38;5;167;01mTypeError\u001B[39;00m):\n\u001B[0;32m    239\u001B[0m     \u001B[38;5;66;03m# e.g. _astype_nansafe can fail on object-dtype of strings\u001B[39;00m\n\u001B[0;32m    240\u001B[0m     \u001B[38;5;66;03m#  trying to convert to float\u001B[39;00m\n\u001B[0;32m    241\u001B[0m     \u001B[38;5;28;01mif\u001B[39;00m errors \u001B[38;5;241m==\u001B[39m \u001B[38;5;124m\"\u001B[39m\u001B[38;5;124mignore\u001B[39m\u001B[38;5;124m\"\u001B[39m:\n",
      "File \u001B[1;32mD:\\Desktop\\Python\\pySDK 3.10.5\\Lib\\site-packages\\pandas\\core\\dtypes\\astype.py:182\u001B[0m, in \u001B[0;36mastype_array\u001B[1;34m(values, dtype, copy)\u001B[0m\n\u001B[0;32m    179\u001B[0m     values \u001B[38;5;241m=\u001B[39m values\u001B[38;5;241m.\u001B[39mastype(dtype, copy\u001B[38;5;241m=\u001B[39mcopy)\n\u001B[0;32m    181\u001B[0m \u001B[38;5;28;01melse\u001B[39;00m:\n\u001B[1;32m--> 182\u001B[0m     values \u001B[38;5;241m=\u001B[39m \u001B[43m_astype_nansafe\u001B[49m\u001B[43m(\u001B[49m\u001B[43mvalues\u001B[49m\u001B[43m,\u001B[49m\u001B[43m \u001B[49m\u001B[43mdtype\u001B[49m\u001B[43m,\u001B[49m\u001B[43m \u001B[49m\u001B[43mcopy\u001B[49m\u001B[38;5;241;43m=\u001B[39;49m\u001B[43mcopy\u001B[49m\u001B[43m)\u001B[49m\n\u001B[0;32m    184\u001B[0m \u001B[38;5;66;03m# in pandas we don't store numpy str dtypes, so convert to object\u001B[39;00m\n\u001B[0;32m    185\u001B[0m \u001B[38;5;28;01mif\u001B[39;00m \u001B[38;5;28misinstance\u001B[39m(dtype, np\u001B[38;5;241m.\u001B[39mdtype) \u001B[38;5;129;01mand\u001B[39;00m \u001B[38;5;28missubclass\u001B[39m(values\u001B[38;5;241m.\u001B[39mdtype\u001B[38;5;241m.\u001B[39mtype, \u001B[38;5;28mstr\u001B[39m):\n",
      "File \u001B[1;32mD:\\Desktop\\Python\\pySDK 3.10.5\\Lib\\site-packages\\pandas\\core\\dtypes\\astype.py:110\u001B[0m, in \u001B[0;36m_astype_nansafe\u001B[1;34m(arr, dtype, copy, skipna)\u001B[0m\n\u001B[0;32m    107\u001B[0m \u001B[38;5;28;01mif\u001B[39;00m lib\u001B[38;5;241m.\u001B[39mis_np_dtype(dtype, \u001B[38;5;124m\"\u001B[39m\u001B[38;5;124mM\u001B[39m\u001B[38;5;124m\"\u001B[39m):\n\u001B[0;32m    108\u001B[0m     \u001B[38;5;28;01mfrom\u001B[39;00m \u001B[38;5;21;01mpandas\u001B[39;00m\u001B[38;5;21;01m.\u001B[39;00m\u001B[38;5;21;01mcore\u001B[39;00m\u001B[38;5;21;01m.\u001B[39;00m\u001B[38;5;21;01marrays\u001B[39;00m \u001B[38;5;28;01mimport\u001B[39;00m DatetimeArray\n\u001B[1;32m--> 110\u001B[0m     dta \u001B[38;5;241m=\u001B[39m \u001B[43mDatetimeArray\u001B[49m\u001B[38;5;241;43m.\u001B[39;49m\u001B[43m_from_sequence\u001B[49m\u001B[43m(\u001B[49m\u001B[43marr\u001B[49m\u001B[43m,\u001B[49m\u001B[43m \u001B[49m\u001B[43mdtype\u001B[49m\u001B[38;5;241;43m=\u001B[39;49m\u001B[43mdtype\u001B[49m\u001B[43m)\u001B[49m\n\u001B[0;32m    111\u001B[0m     \u001B[38;5;28;01mreturn\u001B[39;00m dta\u001B[38;5;241m.\u001B[39m_ndarray\n\u001B[0;32m    113\u001B[0m \u001B[38;5;28;01melif\u001B[39;00m lib\u001B[38;5;241m.\u001B[39mis_np_dtype(dtype, \u001B[38;5;124m\"\u001B[39m\u001B[38;5;124mm\u001B[39m\u001B[38;5;124m\"\u001B[39m):\n",
      "File \u001B[1;32mD:\\Desktop\\Python\\pySDK 3.10.5\\Lib\\site-packages\\pandas\\core\\arrays\\datetimes.py:327\u001B[0m, in \u001B[0;36mDatetimeArray._from_sequence\u001B[1;34m(cls, scalars, dtype, copy)\u001B[0m\n\u001B[0;32m    325\u001B[0m \u001B[38;5;129m@classmethod\u001B[39m\n\u001B[0;32m    326\u001B[0m \u001B[38;5;28;01mdef\u001B[39;00m \u001B[38;5;21m_from_sequence\u001B[39m(\u001B[38;5;28mcls\u001B[39m, scalars, \u001B[38;5;241m*\u001B[39m, dtype\u001B[38;5;241m=\u001B[39m\u001B[38;5;28;01mNone\u001B[39;00m, copy: \u001B[38;5;28mbool\u001B[39m \u001B[38;5;241m=\u001B[39m \u001B[38;5;28;01mFalse\u001B[39;00m):\n\u001B[1;32m--> 327\u001B[0m     \u001B[38;5;28;01mreturn\u001B[39;00m \u001B[38;5;28;43mcls\u001B[39;49m\u001B[38;5;241;43m.\u001B[39;49m\u001B[43m_from_sequence_not_strict\u001B[49m\u001B[43m(\u001B[49m\u001B[43mscalars\u001B[49m\u001B[43m,\u001B[49m\u001B[43m \u001B[49m\u001B[43mdtype\u001B[49m\u001B[38;5;241;43m=\u001B[39;49m\u001B[43mdtype\u001B[49m\u001B[43m,\u001B[49m\u001B[43m \u001B[49m\u001B[43mcopy\u001B[49m\u001B[38;5;241;43m=\u001B[39;49m\u001B[43mcopy\u001B[49m\u001B[43m)\u001B[49m\n",
      "File \u001B[1;32mD:\\Desktop\\Python\\pySDK 3.10.5\\Lib\\site-packages\\pandas\\core\\arrays\\datetimes.py:354\u001B[0m, in \u001B[0;36mDatetimeArray._from_sequence_not_strict\u001B[1;34m(cls, data, dtype, copy, tz, freq, dayfirst, yearfirst, ambiguous)\u001B[0m\n\u001B[0;32m    351\u001B[0m \u001B[38;5;28;01melse\u001B[39;00m:\n\u001B[0;32m    352\u001B[0m     tz \u001B[38;5;241m=\u001B[39m timezones\u001B[38;5;241m.\u001B[39mmaybe_get_tz(tz)\n\u001B[1;32m--> 354\u001B[0m dtype \u001B[38;5;241m=\u001B[39m \u001B[43m_validate_dt64_dtype\u001B[49m\u001B[43m(\u001B[49m\u001B[43mdtype\u001B[49m\u001B[43m)\u001B[49m\n\u001B[0;32m    355\u001B[0m \u001B[38;5;66;03m# if dtype has an embedded tz, capture it\u001B[39;00m\n\u001B[0;32m    356\u001B[0m tz \u001B[38;5;241m=\u001B[39m _validate_tz_from_dtype(dtype, tz, explicit_tz_none)\n",
      "File \u001B[1;32mD:\\Desktop\\Python\\pySDK 3.10.5\\Lib\\site-packages\\pandas\\core\\arrays\\datetimes.py:2544\u001B[0m, in \u001B[0;36m_validate_dt64_dtype\u001B[1;34m(dtype)\u001B[0m\n\u001B[0;32m   2538\u001B[0m \u001B[38;5;28;01mif\u001B[39;00m dtype \u001B[38;5;241m==\u001B[39m np\u001B[38;5;241m.\u001B[39mdtype(\u001B[38;5;124m\"\u001B[39m\u001B[38;5;124mM8\u001B[39m\u001B[38;5;124m\"\u001B[39m):\n\u001B[0;32m   2539\u001B[0m     \u001B[38;5;66;03m# no precision, disallowed GH#24806\u001B[39;00m\n\u001B[0;32m   2540\u001B[0m     msg \u001B[38;5;241m=\u001B[39m (\n\u001B[0;32m   2541\u001B[0m         \u001B[38;5;124m\"\u001B[39m\u001B[38;5;124mPassing in \u001B[39m\u001B[38;5;124m'\u001B[39m\u001B[38;5;124mdatetime64\u001B[39m\u001B[38;5;124m'\u001B[39m\u001B[38;5;124m dtype with no precision is not allowed. \u001B[39m\u001B[38;5;124m\"\u001B[39m\n\u001B[0;32m   2542\u001B[0m         \u001B[38;5;124m\"\u001B[39m\u001B[38;5;124mPlease pass in \u001B[39m\u001B[38;5;124m'\u001B[39m\u001B[38;5;124mdatetime64[ns]\u001B[39m\u001B[38;5;124m'\u001B[39m\u001B[38;5;124m instead.\u001B[39m\u001B[38;5;124m\"\u001B[39m\n\u001B[0;32m   2543\u001B[0m     )\n\u001B[1;32m-> 2544\u001B[0m     \u001B[38;5;28;01mraise\u001B[39;00m \u001B[38;5;167;01mValueError\u001B[39;00m(msg)\n\u001B[0;32m   2546\u001B[0m \u001B[38;5;28;01mif\u001B[39;00m (\n\u001B[0;32m   2547\u001B[0m     \u001B[38;5;28misinstance\u001B[39m(dtype, np\u001B[38;5;241m.\u001B[39mdtype)\n\u001B[0;32m   2548\u001B[0m     \u001B[38;5;129;01mand\u001B[39;00m (dtype\u001B[38;5;241m.\u001B[39mkind \u001B[38;5;241m!=\u001B[39m \u001B[38;5;124m\"\u001B[39m\u001B[38;5;124mM\u001B[39m\u001B[38;5;124m\"\u001B[39m \u001B[38;5;129;01mor\u001B[39;00m \u001B[38;5;129;01mnot\u001B[39;00m is_supported_dtype(dtype))\n\u001B[0;32m   2549\u001B[0m ) \u001B[38;5;129;01mor\u001B[39;00m \u001B[38;5;129;01mnot\u001B[39;00m \u001B[38;5;28misinstance\u001B[39m(dtype, (np\u001B[38;5;241m.\u001B[39mdtype, DatetimeTZDtype)):\n\u001B[0;32m   2550\u001B[0m     \u001B[38;5;28;01mraise\u001B[39;00m \u001B[38;5;167;01mValueError\u001B[39;00m(\n\u001B[0;32m   2551\u001B[0m         \u001B[38;5;124mf\u001B[39m\u001B[38;5;124m\"\u001B[39m\u001B[38;5;124mUnexpected value for \u001B[39m\u001B[38;5;124m'\u001B[39m\u001B[38;5;124mdtype\u001B[39m\u001B[38;5;124m'\u001B[39m\u001B[38;5;124m: \u001B[39m\u001B[38;5;124m'\u001B[39m\u001B[38;5;132;01m{\u001B[39;00mdtype\u001B[38;5;132;01m}\u001B[39;00m\u001B[38;5;124m'\u001B[39m\u001B[38;5;124m. \u001B[39m\u001B[38;5;124m\"\u001B[39m\n\u001B[0;32m   2552\u001B[0m         \u001B[38;5;124m\"\u001B[39m\u001B[38;5;124mMust be \u001B[39m\u001B[38;5;124m'\u001B[39m\u001B[38;5;124mdatetime64[s]\u001B[39m\u001B[38;5;124m'\u001B[39m\u001B[38;5;124m, \u001B[39m\u001B[38;5;124m'\u001B[39m\u001B[38;5;124mdatetime64[ms]\u001B[39m\u001B[38;5;124m'\u001B[39m\u001B[38;5;124m, \u001B[39m\u001B[38;5;124m'\u001B[39m\u001B[38;5;124mdatetime64[us]\u001B[39m\u001B[38;5;124m'\u001B[39m\u001B[38;5;124m, \u001B[39m\u001B[38;5;124m\"\u001B[39m\n\u001B[0;32m   2553\u001B[0m         \u001B[38;5;124m\"\u001B[39m\u001B[38;5;124m'\u001B[39m\u001B[38;5;124mdatetime64[ns]\u001B[39m\u001B[38;5;124m'\u001B[39m\u001B[38;5;124m or DatetimeTZDtype\u001B[39m\u001B[38;5;124m'\u001B[39m\u001B[38;5;124m.\u001B[39m\u001B[38;5;124m\"\u001B[39m\n\u001B[0;32m   2554\u001B[0m     )\n",
      "\u001B[1;31mValueError\u001B[0m: Passing in 'datetime64' dtype with no precision is not allowed. Please pass in 'datetime64[ns]' instead."
     ]
    }
   ],
   "execution_count": 7
  },
  {
   "cell_type": "code",
   "metadata": {
    "id": "6A8E5818224B43DB96016D6235988EA3",
    "notebookId": "67702dccf42f7962755a6aa3",
    "jupyter": {},
    "tags": [],
    "slideshow": {
     "slide_type": "slide"
    },
    "trusted": true,
    "collapsed": false,
    "scrolled": false
   },
   "source": [
    "# 查看收货地址信息\n",
    "df2.收货地址.unique()"
   ],
   "outputs": [],
   "execution_count": null
  },
  {
   "cell_type": "markdown",
   "metadata": {
    "id": "4AFAF46627E74AF68D0FDC5EC1D0F31C",
    "notebookId": "67702dccf42f7962755a6aa3",
    "jupyter": {},
    "tags": [],
    "slideshow": {
     "slide_type": "slide"
    },
    "trusted": true,
    "mdEditEnable": false,
    "runtime": {
     "status": "default",
     "execution_status": null,
     "is_visible": false
    },
    "scrolled": false
   },
   "source": [
    "收货地址字段中，数据都为“四川省”、“西藏自治区”的形式，且四个直辖市是以“北京”、“上海”的数据形式，因为Pyecharts在绘图时候，数据中不能包含“省”、“自治区”这样的字眼，因此这里将收货地址数据做处理。"
   ]
  },
  {
   "cell_type": "code",
   "metadata": {
    "id": "6E68F33A98914D8F947E1BB8DD7168F1",
    "notebookId": "67702dccf42f7962755a6aa3",
    "jupyter": {},
    "tags": [],
    "slideshow": {
     "slide_type": "slide"
    },
    "trusted": true,
    "collapsed": false,
    "scrolled": false
   },
   "source": [
    "df2['收货地址'] = df2.收货地址.apply(lambda x:x.strip('省|自治区'))\n",
    "df2['收货地址'] = df2.收货地址.replace(['新疆维吾尔','广西壮族','宁夏回族'],['新疆','广西','宁夏'])\n",
    "df2.head()\n",
    "df2.收货地址.unique()"
   ],
   "outputs": [],
   "execution_count": null
  },
  {
   "cell_type": "code",
   "metadata": {
    "id": "E2AE0058507F43B8847640291E681D83",
    "notebookId": "67702dccf42f7962755a6aa3",
    "jupyter": {},
    "tags": [],
    "slideshow": {
     "slide_type": "slide"
    },
    "trusted": true,
    "collapsed": false,
    "scrolled": false
   },
   "source": [
    "# 查看缺失数据\n",
    "df[df['订单付款时间'].isnull()].head()"
   ],
   "outputs": [],
   "execution_count": null
  },
  {
   "cell_type": "code",
   "metadata": {
    "id": "9A372D6CBD4343D787F62C3B2F8D3851",
    "notebookId": "67702dccf42f7962755a6aa3",
    "jupyter": {},
    "tags": [],
    "slideshow": {
     "slide_type": "slide"
    },
    "trusted": true,
    "collapsed": false,
    "scrolled": false
   },
   "source": [
    "# 查看是否有重复值\n",
    "df[df['退款金额'] > df['总金额']]\n",
    "print('重复值数量为：',df.duplicated().sum())"
   ],
   "outputs": [],
   "execution_count": null
  },
  {
   "cell_type": "code",
   "metadata": {
    "id": "BF317EA809EA4AF38A01C654367E6EAE",
    "notebookId": "67702dccf42f7962755a6aa3",
    "jupyter": {},
    "tags": [],
    "slideshow": {
     "slide_type": "slide"
    },
    "trusted": true,
    "collapsed": false,
    "scrolled": false,
    "hide_input": true
   },
   "source": [
    "def kde_plot_array(df):\n",
    "    \"\"\"\n",
    "    绘制概率密度图矩阵函数\n",
    "    df:要绘制图像的dataframe\n",
    "    绘制各个字段的概率密度分布，最终返回图像的show()\n",
    "    \"\"\"\n",
    "    plt.figure(figsize = (24,16))  # 图一figure\n",
    "    # plt.figure(figsize = (24,12))    # 图二figure\n",
    "    # subplots_adjust(left = 0,bottom = 0,top = 1.4,right = 1)\n",
    "    for num,columns in zip(range(len(df.columns)),df.columns):\n",
    "        plt.subplot(round(len(df.columns)/2,0),2,num+1)\n",
    "        # sns.set(font = 'SimHei',font_scale = 1.6)\n",
    "        index = columns\n",
    "        sns.kdeplot(df[columns],\n",
    "                   shade = True,label = index,alpha = 0.7)\n",
    "        plt.legend()\n",
    "        plt.title('{}分布图'.format(index))\n",
    "    return plt.show()\n",
    "\n",
    "kde_plot_array(df[['总金额','买家实际支付金额','退款金额']])"
   ],
   "outputs": [],
   "execution_count": null
  },
  {
   "cell_type": "markdown",
   "metadata": {
    "id": "381D9BF6526F469585A8B1EF7673B1D4",
    "notebookId": "67702dccf42f7962755a6aa3",
    "jupyter": {},
    "tags": [],
    "slideshow": {
     "slide_type": "slide"
    },
    "trusted": true,
    "mdEditEnable": false,
    "runtime": {
     "status": "default",
     "execution_status": null,
     "is_visible": false
    },
    "scrolled": false
   },
   "source": [
    "通过绘制【总金额】、【买家实际支付金额】、【退款金额】的分布图，可以发现，这几个字段均有金额特别高的数据。有特别高的异常值，会影响我们对大部分订单金额分布的判断。  \n",
    "因此接下来我们截取总金额小于500，退款金额小于400的数据，绘制概率密度图，查看大部分数据都分布在哪个数值附近。"
   ]
  },
  {
   "cell_type": "code",
   "metadata": {
    "id": "9091FAEA9E1C4D698D7901BE7086DED5",
    "notebookId": "67702dccf42f7962755a6aa3",
    "jupyter": {},
    "tags": [],
    "slideshow": {
     "slide_type": "slide"
    },
    "trusted": true,
    "collapsed": false,
    "scrolled": false
   },
   "source": [
    "df.describe()\n",
    "df[df.总金额 > 5000]\n",
    "plot_df = df[(df.总金额 < 500)&(df.退款金额 < 400)][['总金额','买家实际支付金额','退款金额']]\n",
    "kde_plot_array(plot_df)"
   ],
   "outputs": [],
   "execution_count": null
  },
  {
   "cell_type": "markdown",
   "metadata": {
    "id": "21DA81CF9FD241B9A4AEEBCD3755AB6A",
    "notebookId": "67702dccf42f7962755a6aa3",
    "jupyter": {},
    "tags": [],
    "slideshow": {
     "slide_type": "slide"
    },
    "trusted": true,
    "scrolled": false,
    "mdEditEnable": false,
    "runtime": {
     "status": "default",
     "execution_status": null,
     "is_visible": false
    }
   },
   "source": [
    "绘制截取后的金额分布后我们可以发现如下信息：  \n",
    "1. 总金额分布在50元和100元附近。单笔订单总金额为0-100元的居多。  \n",
    "2. 买家实际支付金额和总金额分布基本一致，因为有退款行为的发生，会导致买家实际支付金额要比总金额分布更靠左一点。  \n",
    "3. 退款金额分布在25-125元附近，因为单笔订单的购买金额通常并不会很高，因此退款金额的分布也不会很靠右。  \n",
    "接下来我们看一下总金额特别高的几笔订单。"
   ]
  },
  {
   "cell_type": "code",
   "metadata": {
    "id": "0D2456D1728240919592AD3566F6397C",
    "notebookId": "67702dccf42f7962755a6aa3",
    "jupyter": {},
    "tags": [],
    "slideshow": {
     "slide_type": "slide"
    },
    "trusted": true,
    "collapsed": false,
    "scrolled": false
   },
   "source": [
    "df[df.总金额 > 3000]"
   ],
   "outputs": [],
   "execution_count": null
  },
  {
   "cell_type": "markdown",
   "metadata": {
    "id": "2BBC75BFE3094C2688F66C2CEB4178EE",
    "notebookId": "67702dccf42f7962755a6aa3",
    "jupyter": {},
    "tags": [],
    "slideshow": {
     "slide_type": "slide"
    },
    "trusted": true,
    "mdEditEnable": false,
    "runtime": {
     "status": "default",
     "execution_status": null,
     "is_visible": false
    },
    "scrolled": false
   },
   "source": [
    "查看总金额很大的几笔订单可以发现，最大的一笔订单为订单编号19258的订单，总金额为188320元，但是这笔订单没有完成交易，实际支付金额为0，因此判断可能是误操作导致。另外还有一万块以上的订单，也并没有发生未支付取消订单的情况。因此说明也会有这种订单金额很高的订单成交。因此对于这样的数据，并不进行异常值的处理，在后续分析中，将使用买家实际支付金额作为主要分析目标。"
   ]
  },
  {
   "cell_type": "markdown",
   "metadata": {
    "id": "77D7FC01A08B4018AA6709279CF87236",
    "notebookId": "67702dccf42f7962755a6aa3",
    "jupyter": {},
    "tags": [],
    "slideshow": {
     "slide_type": "slide"
    },
    "trusted": true,
    "mdEditEnable": false,
    "runtime": {
     "status": "default",
     "execution_status": null,
     "is_visible": false
    },
    "scrolled": false
   },
   "source": [
    "1. 缺失值  \n",
    "在进行数据预处理时，发现数据仅【订单付款时间】字段有3923的缺失值，经过查看，发现订单付款时间缺失的数据中，【买家实际支付金额】都为0，且【退款金额】都是0，说明这样的订单都是没有付款的，取消交易的订单类型。这样的订单也属于正常现象，因此并不做处理。  \n",
    "2. 重复值  \n",
    "查看发现数据并无重复值。  \n",
    "3. 异常值  \n",
    "数据中只有一条总金额很大的异常数据，怀疑是误操作导致。但是后续分析也不会用到总金额，因此这样的异常数据同样也是不做处理。"
   ]
  },
  {
   "cell_type": "markdown",
   "metadata": {
    "id": "42EFCEDF7B3A4CF78930A2BFC76D9E30",
    "notebookId": "67702dccf42f7962755a6aa3",
    "jupyter": {},
    "tags": [],
    "slideshow": {
     "slide_type": "slide"
    },
    "trusted": true,
    "mdEditEnable": false,
    "runtime": {
     "status": "default",
     "execution_status": null,
     "is_visible": false
    },
    "scrolled": false
   },
   "source": [
    "# 二、数据分析及可视化"
   ]
  },
  {
   "cell_type": "markdown",
   "metadata": {
    "id": "261EE66572F9402F800AB6C944520D8D",
    "notebookId": "67702dccf42f7962755a6aa3",
    "jupyter": {},
    "tags": [],
    "slideshow": {
     "slide_type": "slide"
    },
    "trusted": true,
    "scrolled": false,
    "mdEditEnable": false,
    "runtime": {
     "status": "default",
     "execution_status": null,
     "is_visible": false
    }
   },
   "source": [
    "在处理完数据后，接下来要确定分析目标。因为常有退款现象发生、以及交易未完成等现象，因此我们只用实际支付金额作为分析目标，截取没有实际支付金额为0的数据。而分析这份数据，我决定从成交金额、成交次数、转换率这几部分作为分析目标来分析，并且从时间维度和空间维度作为分析维度，分别来看各指标，看一看能否发现一些有价值的信息。  \n",
    "1. 成交金额  \n",
    "\ta. 成交金额在时间维度上的变化  \n",
    "\tb. 成交金额在地区维度上的分布  \n",
    "2. 退款金额  \n",
    "\ta. 退款金额在时间维度上的变化  \n",
    "\tb. 退款金额在地区维度上的分布  \n",
    "3. 转换率  \n",
    " a. 整体转换率  \n",
    " b. 全国各省市创建-支付转换率  \n",
    " c. 全国各省市支付-成交转换率"
   ]
  },
  {
   "cell_type": "markdown",
   "metadata": {
    "id": "17562B665DB342F38C360413656F3AA5",
    "notebookId": "67702dccf42f7962755a6aa3",
    "jupyter": {},
    "tags": [],
    "slideshow": {
     "slide_type": "slide"
    },
    "trusted": true,
    "scrolled": false,
    "mdEditEnable": false,
    "runtime": {
     "status": "default",
     "execution_status": null,
     "is_visible": false
    }
   },
   "source": [
    "## 1. 成交金额"
   ]
  },
  {
   "cell_type": "markdown",
   "metadata": {
    "id": "322FBE0ACB9F496283A8031989841562",
    "notebookId": "67702dccf42f7962755a6aa3",
    "jupyter": {},
    "tags": [],
    "slideshow": {
     "slide_type": "slide"
    },
    "trusted": true,
    "scrolled": false,
    "mdEditEnable": false,
    "runtime": {
     "status": "default",
     "execution_status": null,
     "is_visible": false
    }
   },
   "source": [
    "### a. 成交金额在时间维度上的变化"
   ]
  },
  {
   "cell_type": "code",
   "metadata": {
    "id": "C50D1083C2C842DA8D27966DE927320D",
    "notebookId": "67702dccf42f7962755a6aa3",
    "jupyter": {},
    "tags": [],
    "slideshow": {
     "slide_type": "slide"
    },
    "trusted": true,
    "collapsed": false,
    "scrolled": false
   },
   "source": [
    "change = df2[['买家实际支付金额','日']].groupby('日').sum().round(2).reset_index().sort_values(by = '日')"
   ],
   "outputs": [],
   "execution_count": null
  },
  {
   "cell_type": "markdown",
   "metadata": {
    "id": "2259E5C586EA4E6081F79EFBE82C1A60",
    "notebookId": "67702dccf42f7962755a6aa3",
    "jupyter": {},
    "tags": [],
    "slideshow": {
     "slide_type": "slide"
    },
    "trusted": true,
    "mdEditEnable": false,
    "runtime": {
     "status": "default",
     "execution_status": null,
     "is_visible": false
    },
    "scrolled": false
   },
   "source": [
    "把要绘制的折线图调整好样式后，封装成这样的函数，然后后边在绘制类似的折线图的时候，就可以直接调用这个函数了，方便的很。由于绘制折线图部分的代码属实太长了，为不影响对整体报告的阅读，只好隐藏掉了。需要代码的，大家直接fork我的项目就可以看到啦~"
   ]
  },
  {
   "cell_type": "code",
   "metadata": {
    "id": "84FF4BC610B340C88007E3E7ADAF1AFE",
    "notebookId": "67702dccf42f7962755a6aa3",
    "jupyter": {},
    "tags": [],
    "slideshow": {
     "slide_type": "slide"
    },
    "trusted": true,
    "collapsed": false,
    "scrolled": false,
    "hide_input": false
   },
   "source": [
    "\n",
    "def echarts_line(x,y,title = '主标题',subtitle = '副标题',label = '图例'):\n",
    "    \"\"\"\n",
    "    x: 函数传入x轴标签数据\n",
    "    y：函数传入y轴数据\n",
    "    title：主标题\n",
    "    subtitle：副标题\n",
    "    label：图例\n",
    "    \"\"\"\n",
    "    line = Line(\n",
    "        init_opts=opts.InitOpts(\n",
    "            bg_color='#FFFFFF',  # 设置背景颜色\n",
    "            theme='white'         # 设置主题\n",
    "            # width='980px',     # 设置图的宽度\n",
    "            # height='800px'     # 设置图的高度\n",
    "        )\n",
    "    )\n",
    "    line.add_xaxis(x)\n",
    "    line.add_yaxis(\n",
    "        label,\n",
    "        y,\n",
    "        is_symbol_show=False,  # 是否显示数据标签点\n",
    "        is_smooth=True,        # 设置曲线平滑\n",
    "        label_opts=opts.LabelOpts(\n",
    "            is_show=False,     # 是否显示数据\n",
    "        ),\n",
    "        itemstyle_opts=opts.ItemStyleOpts(color='#00ca95'),  # 设置系列颜色\n",
    "        # 线条粗细阴影设置\n",
    "        linestyle_opts={\n",
    "            \"normal\": {\n",
    "                \"color\": \"#4ADEDE\",  #线条颜色\n",
    "                \"shadowColor\": 'rgba(0, 0, 0, .3)', #阴影颜色和不透明度\n",
    "                \"shadowBlur\": 2,     #阴影虚化大小\n",
    "                \"shadowOffsetY\": 5,  #阴影y偏移量\n",
    "                \"shadowOffsetX\": 5,  #阴影x偏移量\n",
    "                \"width\": 6   # 线条粗细\n",
    "            },\n",
    "        },\n",
    "        # 阴影设置\n",
    "        areastyle_opts={\n",
    "            \"normal\": {\n",
    "                \"color\": JsCode(\"\"\"new echarts.graphic.LinearGradient(0, 0, 0, 1, [{\n",
    "                                offset: 0,\n",
    "                                color: '#7BD5F5'\n",
    "                            },\n",
    "                            {\n",
    "                                offset: 1,\n",
    "                                color: 'rgba(0,202,149, 0)'\n",
    "                            }\n",
    "                        ], false)\"\"\"),  #设置底色色块渐变\n",
    "                \"shadowColor\": 'rgba(0,202,149, 0.9)',  #设置底色阴影\n",
    "                \"shadowBlur\": 20  #设置底色阴影大小\n",
    "            }\n",
    "        },\n",
    "    )\n",
    "    line.set_global_opts(\n",
    "        # 标题设置\n",
    "        title_opts=opts.TitleOpts(\n",
    "            title=title, # 主标题\n",
    "            subtitle=subtitle, # 副标题\n",
    "            pos_left='center',  # 标题展示位置\n",
    "            title_textstyle_opts=dict(color='#fff') # 设置标题字体颜色\n",
    "        ),\n",
    "        # 图例设置\n",
    "        legend_opts=opts.LegendOpts(\n",
    "            is_show=True, # 是否显示图例\n",
    "            pos_left='right', # 图例显示位置\n",
    "            pos_top='3%',  #图例距离顶部的距离\n",
    "            orient='horizontal'  # 图例水平布局\n",
    "        ),\n",
    "    )\n",
    "    return line.render_notebook()\n"
   ],
   "outputs": [],
   "execution_count": null
  },
  {
   "cell_type": "code",
   "metadata": {
    "id": "58785DED8E444065850201CE0514A5B6",
    "notebookId": "67702dccf42f7962755a6aa3",
    "jupyter": {},
    "tags": [],
    "slideshow": {
     "slide_type": "slide"
    },
    "trusted": true,
    "collapsed": false,
    "scrolled": false
   },
   "source": [
    "echarts_line(change['日'],change['买家实际支付金额'],title = '成交金额变化图',subtitle = \"成交金额在时间维度上的变化\",\n",
    "            label = '成交金额')"
   ],
   "outputs": [],
   "execution_count": null
  },
  {
   "cell_type": "markdown",
   "metadata": {
    "id": "E508D919EACB41598F5CA1A788F25C02",
    "notebookId": "67702dccf42f7962755a6aa3",
    "jupyter": {},
    "tags": [],
    "slideshow": {
     "slide_type": "slide"
    },
    "trusted": true,
    "mdEditEnable": false,
    "runtime": {
     "status": "default",
     "execution_status": null,
     "is_visible": false
    },
    "scrolled": false
   },
   "source": [
    "绘制成交金额在时间维度上的变化图，可以看到在2020年2月份的天猫成交金额在15日以前都是呈现一个较低的状态，而从15日开始，出现一个稳步上升的趋势，并且在22日和25日的时候分别达到了高峰。2022年的1月25日是春节，因此怀疑导致成交金额如此低下的原因，可能是受到春节影响，大部分消费者和商家都在停业过春节，而随着春节的结束，大部分人都开始逐渐进行了复工，因此从15日开始，成交金额开始逐步恢复正常，并且稳步提升。"
   ]
  },
  {
   "cell_type": "code",
   "metadata": {
    "id": "36EBE97488C4439A8F9FE16F56CE75C2",
    "notebookId": "67702dccf42f7962755a6aa3",
    "jupyter": {},
    "tags": [],
    "slideshow": {
     "slide_type": "slide"
    },
    "trusted": true,
    "collapsed": false,
    "scrolled": false
   },
   "source": [
    "week_change = df2[['周','买家实际支付金额']].groupby('周').sum().round(2).reset_index()"
   ],
   "outputs": [],
   "execution_count": null
  },
  {
   "cell_type": "code",
   "metadata": {
    "id": "317D9062679F47FE9D72A12ACD0EF0E6",
    "notebookId": "67702dccf42f7962755a6aa3",
    "jupyter": {},
    "tags": [],
    "slideshow": {
     "slide_type": "slide"
    },
    "trusted": true,
    "collapsed": false,
    "scrolled": false,
    "hide_input": false
   },
   "source": [
    "\n",
    "def echarts_bar(x,y,title = '主标题',subtitle = '副标题',label = '图例'):\n",
    "    \"\"\"\n",
    "    x: 函数传入x轴标签数据\n",
    "    y：函数传入y轴数据\n",
    "    title：主标题\n",
    "    subtitle：副标题\n",
    "    label：图例\n",
    "    \"\"\"\n",
    "    bar = Bar(\n",
    "            init_opts=opts.InitOpts(\n",
    "            bg_color='#FFFFFF',  # 设置背景颜色\n",
    "            theme='white'         # 设置主题\n",
    "            # width='980px',     # 设置图的宽度\n",
    "            # height='800px'     # 设置图的高度\n",
    "        )\n",
    "    )\n",
    "    bar.add_xaxis(x)\n",
    "    bar.add_yaxis(label,y,\n",
    "        label_opts=opts.LabelOpts(is_show=True) # 是否显示数据\n",
    "        ,category_gap=\"50%\" # 柱子宽度设置\n",
    "        ) \n",
    "    bar.set_series_opts( # 自定义图表样式\n",
    "        label_opts=opts.LabelOpts(is_show=False), # 是否显示数据标签\n",
    "        markpoint_opts=opts.MarkPointOpts(\n",
    "            data=[\n",
    "            opts.MarkPointItem(type_=\"min\", name=\"最小值\"), # 显示最小值标签\n",
    "            opts.MarkPointItem(type_=\"max\", name=\"最大值\"), # 显示最大值标签\n",
    "            opts.MarkPointItem(type_=\"average\", name=\"平均值\") # 显示均值标签\n",
    "            ]\n",
    "        ),\n",
    "        itemstyle_opts={  \n",
    "            \"normal\": {\n",
    "                \"color\": JsCode(\n",
    "                    \"\"\"new echarts.graphic.LinearGradient(0, 0, 0, 1, [{\n",
    "                        offset: 0,color: 'rgba(0, 244, 255, 1)'}\n",
    "                        ,{offset: 1,color: 'rgba(0, 77, 167, 1)'}], false)\n",
    "                    \"\"\"\n",
    "                ),       # 调整柱子颜色渐变\n",
    "                \"barBorderRadius\": [100, 100, 100, 100],  # 调整柱子圆角弧度\n",
    "                \"shadowColor\": \"rgb(0, 160, 221)\", # 调整阴影颜色\n",
    "            }\n",
    "        }\n",
    "    )\n",
    "    bar.set_global_opts(\n",
    "        # 标题设置\n",
    "        title_opts=opts.TitleOpts(\n",
    "            title=title, # 主标题\n",
    "            subtitle=subtitle, # 副标题\n",
    "            pos_left='center',  # 标题展示位置\n",
    "            title_textstyle_opts=dict(color='#080b30') # 设置标题字体颜色\n",
    "        ),\n",
    "        # 图例设置\n",
    "        legend_opts=opts.LegendOpts(\n",
    "            is_show=True, # 是否显示图例\n",
    "            pos_left='right', # 图例显示位置\n",
    "            pos_top='3%',  #图例距离顶部的距离\n",
    "            orient='horizontal'  # 图例水平布局\n",
    "        ),\n",
    "    )\n",
    "    return bar.render_notebook()"
   ],
   "outputs": [],
   "execution_count": null
  },
  {
   "cell_type": "markdown",
   "metadata": {
    "id": "EA6B5A48F4864D8A8E701F7D9147422C",
    "notebookId": "67702dccf42f7962755a6aa3",
    "runtime": {
     "status": "default",
     "execution_status": null,
     "is_visible": false
    },
    "jupyter": {},
    "scrolled": false,
    "tags": [],
    "slideshow": {
     "slide_type": "slide"
    }
   },
   "source": []
  },
  {
   "cell_type": "code",
   "metadata": {
    "id": "6FE94FBF81CB486E80CAEC4B5E57CCF6",
    "notebookId": "67702dccf42f7962755a6aa3",
    "jupyter": {},
    "tags": [],
    "slideshow": {
     "slide_type": "slide"
    },
    "trusted": true,
    "collapsed": false,
    "scrolled": false
   },
   "source": [
    "echarts_bar(week_change['周'].tolist(),week_change['买家实际支付金额'].tolist(),title = '订单成交金额平均每周对比',\n",
    "            subtitle = '每周对比图',label = '成交金额')"
   ],
   "outputs": [],
   "execution_count": null
  },
  {
   "cell_type": "markdown",
   "metadata": {
    "id": "0B746A02981E47DB9B3453553B0D1CC7",
    "notebookId": "67702dccf42f7962755a6aa3",
    "jupyter": {},
    "tags": [],
    "slideshow": {
     "slide_type": "slide"
    },
    "trusted": true,
    "mdEditEnable": false,
    "runtime": {
     "status": "default",
     "execution_status": null,
     "is_visible": false
    },
    "scrolled": false
   },
   "source": [
    "绘制成交金额每周的对比图可以发现，周六日和周一的成交金额通常来说是较少的，每周的周二和周五的成交金额反而是较多的。猜测是因为周末大家通常来说都比较想好好安排一下自己的周末的生活，出去玩或者直接去实体店进行逛街购物，而平时工作日的时候，由于要忙工作的原因，因此只能进行线上网购，因此工作日期间网购的成交金额会相对来说较高一点。"
   ]
  },
  {
   "cell_type": "code",
   "metadata": {
    "id": "64DB075F550E4854AF8D4418CC7EEF3C",
    "notebookId": "67702dccf42f7962755a6aa3",
    "jupyter": {},
    "tags": [],
    "slideshow": {
     "slide_type": "slide"
    },
    "trusted": true,
    "collapsed": false,
    "scrolled": false
   },
   "source": [
    "hour_change = df2[['小时','买家实际支付金额']].groupby('小时').sum().round(2).reset_index()"
   ],
   "outputs": [],
   "execution_count": null
  },
  {
   "cell_type": "markdown",
   "metadata": {
    "id": "3B08A482B2EE492F81DE301997471B23",
    "notebookId": "67702dccf42f7962755a6aa3",
    "jupyter": {},
    "tags": [],
    "slideshow": {
     "slide_type": "slide"
    },
    "trusted": true,
    "mdEditEnable": false,
    "runtime": {
     "status": "default",
     "execution_status": null,
     "is_visible": false
    },
    "scrolled": false
   },
   "source": [
    "因为前边已经封装好了绘制折线图的函数，接下来就只要吧数据传进函数，一行代码直接绘图，肥肠好用~"
   ]
  },
  {
   "cell_type": "code",
   "metadata": {
    "id": "AA286511EC094745877413B1A7D16250",
    "notebookId": "67702dccf42f7962755a6aa3",
    "jupyter": {},
    "tags": [],
    "slideshow": {
     "slide_type": "slide"
    },
    "trusted": true,
    "collapsed": false,
    "scrolled": false
   },
   "source": [
    "echarts_line(hour_change['小时'],hour_change['买家实际支付金额'],title = '每天各时段成交金额变化图'\n",
    "            ,subtitle = '一天24小时哪个时间段成交金额多',label = '成交金额')"
   ],
   "outputs": [],
   "execution_count": null
  },
  {
   "cell_type": "markdown",
   "metadata": {
    "id": "4C615607ABC34070B6A9353C0D73CC30",
    "notebookId": "67702dccf42f7962755a6aa3",
    "jupyter": {},
    "tags": [],
    "slideshow": {
     "slide_type": "slide"
    },
    "trusted": true,
    "mdEditEnable": false,
    "runtime": {
     "status": "default",
     "execution_status": null,
     "is_visible": false
    },
    "scrolled": false
   },
   "source": [
    "绘制每天各时段的成交金额变化图，可以发现，每天的早上10点，下午的15点，晚上的21-23点的时间段，是成交金额的高峰期。尤其是晚上这个时间段，成交金额相对来说是最高的。这可能因为人在晚上是比较容易冲动消费的，也可能因为大家再进行了一整天的工作后，只有在晚上吃完饭，忙完所有工作以后，才有时间来天猫逛一逛，进行一些网购等。而10点和15点通常也都是大家吃完早餐和午餐以后，进行了一段时间的工作以后，稍微休息一下，进行一些网购行为（猜的奥~）。"
   ]
  },
  {
   "cell_type": "markdown",
   "metadata": {
    "id": "74C47D83224E4A50B094592B934524B6",
    "notebookId": "67702dccf42f7962755a6aa3",
    "jupyter": {},
    "tags": [],
    "slideshow": {
     "slide_type": "slide"
    },
    "trusted": true,
    "scrolled": false,
    "mdEditEnable": false,
    "runtime": {
     "status": "default",
     "execution_status": null,
     "is_visible": false
    }
   },
   "source": [
    "### b. 成交金额在地区维度上的分布"
   ]
  },
  {
   "cell_type": "code",
   "metadata": {
    "id": "E3816647D7714090AACD367B60315E15",
    "notebookId": "67702dccf42f7962755a6aa3",
    "jupyter": {},
    "tags": [],
    "slideshow": {
     "slide_type": "slide"
    },
    "trusted": true,
    "collapsed": false,
    "scrolled": false
   },
   "source": [
    "change_map = df2[['收货地址','买家实际支付金额']].groupby('收货地址').sum().round(2).reset_index().sort_values(by = '买家实际支付金额',\n",
    "                ascending = False)"
   ],
   "outputs": [],
   "execution_count": null
  },
  {
   "cell_type": "code",
   "metadata": {
    "id": "6D790296F76B4B688768E4EAA945CD50",
    "notebookId": "67702dccf42f7962755a6aa3",
    "jupyter": {},
    "tags": [],
    "slideshow": {
     "slide_type": "slide"
    },
    "trusted": true,
    "collapsed": false,
    "scrolled": false,
    "hide_input": false
   },
   "source": [
    "\n",
    "def echarts_map(province,data,title = '主标题',subtitle = '副标题',label = '图例'):\n",
    "    \"\"\"\n",
    "    province：传入省份List\n",
    "    data：传入各省对应的数据List\n",
    "    title：主标题\n",
    "    subtitle：副标题\n",
    "    label：图例\n",
    "    \"\"\"\n",
    "    map_ = Map(\n",
    "            init_opts=opts.InitOpts(\n",
    "            bg_color='#FFF',  # 设置背景颜色\n",
    "            theme='white'         # 设置主题\n",
    "            # width='980px',     # 设置图的宽度\n",
    "            # height='800px'     # 设置图的高度\n",
    "            )\n",
    "    )\n",
    "    map_.add(label,[list(i) for i in zip(province,data)])\n",
    "    map_.set_global_opts(\n",
    "        # 标题设置\n",
    "        title_opts=opts.TitleOpts(\n",
    "            title=title, # 主标题\n",
    "            subtitle=subtitle, # 副标题\n",
    "            pos_left='center',  # 标题展示位置\n",
    "            title_textstyle_opts=dict(color='#fff') # 设置标题字体颜色\n",
    "        ),\n",
    "        # 图例设置\n",
    "        legend_opts=opts.LegendOpts(\n",
    "            is_show=True, # 是否显示图例\n",
    "            pos_left='right', # 图例显示位置\n",
    "            pos_top='3%',  #图例距离顶部的距离\n",
    "            orient='horizontal'  # 图例水平布局\n",
    "        ),\n",
    "        visualmap_opts = opts.VisualMapOpts(max_ = int(data.max()),is_piecewise = False)\n",
    "    )\n",
    "    return map_.render_notebook()\n"
   ],
   "outputs": [],
   "execution_count": null
  },
  {
   "cell_type": "code",
   "metadata": {
    "id": "FDA5732BA5294479A0B24C21A43100EA",
    "notebookId": "67702dccf42f7962755a6aa3",
    "jupyter": {},
    "tags": [],
    "slideshow": {
     "slide_type": "slide"
    },
    "trusted": true,
    "collapsed": false,
    "scrolled": false
   },
   "source": [
    "echarts_map(change_map['收货地址'],change_map['买家实际支付金额'],title = '成交金额分布图'\n",
    "            ,subtitle = '成交金额在全国各地分布情况',label = '成交金额')"
   ],
   "outputs": [],
   "execution_count": null
  },
  {
   "cell_type": "markdown",
   "metadata": {
    "id": "80502EE99E294D88A5FF9B9A90060A23",
    "notebookId": "67702dccf42f7962755a6aa3",
    "jupyter": {},
    "tags": [],
    "slideshow": {
     "slide_type": "slide"
    },
    "trusted": true,
    "scrolled": false,
    "mdEditEnable": false,
    "runtime": {
     "status": "default",
     "execution_status": null,
     "is_visible": false
    }
   },
   "source": [
    "绘制成交金额在全国各地的分布，我们可以发现江浙沪一带、以及北京、广东、四川等地区的成交金额是比较高的，而新疆西藏内蒙古等其他地区的成交金额普遍较低。北上广深等一线城市本身就是人口较多、经济较发达的城市，所以成交金额自然也会较高。"
   ]
  },
  {
   "cell_type": "code",
   "metadata": {
    "id": "9F7C370944164C5CA9CFC1E2093122A3",
    "notebookId": "67702dccf42f7962755a6aa3",
    "jupyter": {},
    "tags": [],
    "slideshow": {
     "slide_type": "slide"
    },
    "trusted": true,
    "collapsed": false,
    "scrolled": false
   },
   "source": [
    "change_map = df2[['收货地址','买家实际支付金额']].groupby('收货地址').sum().round(2).reset_index().sort_values(by = '买家实际支付金额',\n",
    "                ascending = False)"
   ],
   "outputs": [],
   "execution_count": null
  },
  {
   "cell_type": "code",
   "metadata": {
    "id": "676D026EDDFB4C2281BBB0EF5E01DD07",
    "notebookId": "67702dccf42f7962755a6aa3",
    "jupyter": {},
    "tags": [],
    "slideshow": {
     "slide_type": "slide"
    },
    "trusted": true,
    "collapsed": false,
    "scrolled": false,
    "hide_input": false
   },
   "source": [
    "\n",
    "def map3d_with_bar3d(province,data_lis,title = '主标题',subtitle = '副标题',label = '图例'):\n",
    "    \"\"\"\n",
    "    province：传入省份的List\n",
    "    data_lis：传入省份对应的数据的List\n",
    "    title：主标题\n",
    "    subtitle：副标题\n",
    "    label：图例\n",
    "    \"\"\"\n",
    "    data_dict = {'黑龙江': [127.9688, 45.368], '上海': [121.4648, 31.2891],\n",
    "            '内蒙古': [110.3467, 41.4899], '吉林': [125.8154, 44.2584],\n",
    "            '辽宁': [123.1238, 42.1216], '河北': [114.4995, 38.1006],\n",
    "            '天津': [117.4219, 39.4189], '山西': [112.3352, 37.9413],\n",
    "            '陕西': [109.1162, 34.2004], '甘肃': [103.5901, 36.3043],\n",
    "            '宁夏': [106.3586, 38.1775], '青海': [101.4038, 36.8207],\n",
    "            '新疆': [87.9236, 43.5883], '西藏': [91.11, 29.97],\n",
    "            '四川': [103.9526, 30.7617], '重庆': [108.384366, 30.439702],\n",
    "            '山东': [117.1582, 36.8701], '河南': [113.4668, 34.6234],\n",
    "            '江苏': [118.8062, 31.9208], '安徽': [117.29, 32.0581],\n",
    "            '湖北': [114.3896, 30.6628], '浙江': [119.5313, 29.8773],\n",
    "            '福建': [119.4543, 25.9222], '江西': [116.0046, 28.6633],\n",
    "            '湖南': [113.0823, 28.2568], '贵州': [106.6992, 26.7682],\n",
    "            '广西': [108.479, 23.1152], '海南': [110.3893, 19.8516],\n",
    "            '广东': [113.28064, 23.125177], '北京': [116.405289, 39.904987],\n",
    "            '云南': [102.71225, 25.040609], '香港': [114.165460, 22.275340],\n",
    "            '澳门': [113.549130, 22.198750], '台湾': [121.5200760, 25.0307240]}\n",
    "    for item in [list(z) for z in zip(province, data_lis)]:\n",
    "        data_dict[item[0]].append(item[1])\n",
    "    example_data = list(zip(data_dict.keys(),data_dict.values()))\n",
    "\n",
    "    map_3d = Map3D(\n",
    "        init_opts=opts.InitOpts(\n",
    "        bg_color='#080b30',  # 设置背景颜色\n",
    "        theme='dark',         # 设置主题\n",
    "        # width='1200px',     # 设置图的宽度\n",
    "        # height='1000px'     # 设置图的高度\n",
    "        )\n",
    "    )\n",
    "    map_3d.add_schema(\n",
    "        itemstyle_opts=opts.ItemStyleOpts(\n",
    "            color=\"rgb(5,101,123)\",\n",
    "            opacity=1,\n",
    "            border_width=0.8,\n",
    "            border_color=\"rgb(62,215,213)\",\n",
    "        ),\n",
    "        map3d_label=opts.Map3DLabelOpts(\n",
    "            is_show=False,\n",
    "            formatter=JsCode(\n",
    "                \"function(data){return data.name + \" \" + data.value[2];}\"\n",
    "            ),\n",
    "        ),\n",
    "        emphasis_label_opts=opts.LabelOpts(\n",
    "            is_show=False,\n",
    "            color=\"#fff\",\n",
    "            font_size=10,\n",
    "            background_color=\"rgba(0,23,11,0)\",\n",
    "        ),\n",
    "        light_opts=opts.Map3DLightOpts(\n",
    "            main_color=\"#fff\",\n",
    "            main_intensity=1.2,\n",
    "            main_shadow_quality=\"high\",\n",
    "            is_main_shadow=False,\n",
    "            main_beta=10,\n",
    "            ambient_intensity=0.3,\n",
    "        )\n",
    "    )\n",
    "    map_3d.add(\n",
    "        series_name=label,\n",
    "        data_pair=example_data,\n",
    "        type_=ChartType.BAR3D,\n",
    "        bar_size=1,\n",
    "        shading=\"lambert\",\n",
    "        label_opts=opts.LabelOpts(\n",
    "            is_show=True,\n",
    "            formatter=JsCode(\n",
    "                \"function(data){return data.name + ' ' + data.value[2];}\"\n",
    "            ),\n",
    "        ),\n",
    "    )\n",
    "    map_3d.set_global_opts(\n",
    "    # 标题设置\n",
    "        title_opts=opts.TitleOpts(\n",
    "            title= title, # 主标题\n",
    "            subtitle= subtitle, # 副标题\n",
    "            pos_left='center',  # 标题展示位置\n",
    "            title_textstyle_opts=dict(color='#fff') # 设置标题字体颜色\n",
    "        ),\n",
    "    # 图例设置\n",
    "        legend_opts=opts.LegendOpts(\n",
    "            is_show=True, # 是否显示图例\n",
    "            pos_left='right', # 图例显示位置\n",
    "            pos_top='3%',  #图例距离顶部的距离\n",
    "            orient='horizontal'  # 图例水平布局\n",
    "        ),\n",
    "    )\n",
    "    return map_3d.render_notebook()"
   ],
   "outputs": [],
   "execution_count": null
  },
  {
   "cell_type": "code",
   "metadata": {
    "id": "A74FC137D2EB4810B7B8BDD6660E8DB8",
    "notebookId": "67702dccf42f7962755a6aa3",
    "jupyter": {},
    "tags": [],
    "slideshow": {
     "slide_type": "slide"
    },
    "trusted": true,
    "collapsed": false,
    "scrolled": false
   },
   "source": [
    "map3d_with_bar3d(change_map['收货地址'],change_map['买家实际支付金额'],title = '成交金额分布图'\n",
    "            ,subtitle = '成交金额在全国各地分布情况',label = '成交金额')"
   ],
   "outputs": [],
   "execution_count": null
  },
  {
   "cell_type": "markdown",
   "metadata": {
    "id": "EB1E82644FF04BADBC3FD2C4329D30DC",
    "notebookId": "67702dccf42f7962755a6aa3",
    "jupyter": {},
    "tags": [],
    "slideshow": {
     "slide_type": "slide"
    },
    "trusted": true,
    "scrolled": false,
    "mdEditEnable": false,
    "runtime": {
     "status": "default",
     "execution_status": null,
     "is_visible": false
    }
   },
   "source": [
    "因为pyecharts在新版本中更新了Map3D的3D地图，个人比较喜欢这个效果，所以这里也是来尝试一下。其实这个图还是蛮好绘制的，并且结合柱状图，可以很直观的看到哪里的销售额较高，通常来说做一些数字化看板等会用的比较多，因为结果较为炫酷嘛。"
   ]
  },
  {
   "cell_type": "markdown",
   "metadata": {
    "id": "F1BCAF16B06247628ECEAC2B93CE2E42",
    "notebookId": "67702dccf42f7962755a6aa3",
    "jupyter": {},
    "tags": [],
    "slideshow": {
     "slide_type": "slide"
    },
    "trusted": true,
    "scrolled": false,
    "mdEditEnable": false,
    "runtime": {
     "status": "default",
     "execution_status": null,
     "is_visible": false
    }
   },
   "source": [
    "## 2. 退款金额"
   ]
  },
  {
   "cell_type": "markdown",
   "metadata": {
    "id": "5A75261B5EB34520B2327666DD10B9E8",
    "notebookId": "67702dccf42f7962755a6aa3",
    "jupyter": {},
    "tags": [],
    "slideshow": {
     "slide_type": "slide"
    },
    "trusted": true,
    "mdEditEnable": false,
    "runtime": {
     "status": "default",
     "execution_status": null,
     "is_visible": false
    },
    "scrolled": false
   },
   "source": [
    "### a. 退款金额在时间维度上的变化"
   ]
  },
  {
   "cell_type": "code",
   "metadata": {
    "id": "63E3F5E752ED44EB82599831FDA57818",
    "notebookId": "67702dccf42f7962755a6aa3",
    "jupyter": {},
    "tags": [],
    "slideshow": {
     "slide_type": "slide"
    },
    "trusted": true,
    "collapsed": false,
    "scrolled": false
   },
   "source": [
    "back_money = df2[['日','退款金额']].groupby('日').sum().round(2).reset_index()"
   ],
   "outputs": [],
   "execution_count": null
  },
  {
   "cell_type": "code",
   "metadata": {
    "id": "BE76B60DB25D4787B6C8E7DD8BA4584D",
    "notebookId": "67702dccf42f7962755a6aa3",
    "jupyter": {},
    "tags": [],
    "slideshow": {
     "slide_type": "slide"
    },
    "trusted": true,
    "collapsed": false,
    "scrolled": false
   },
   "source": [
    "echarts_bar(back_money['日'].tolist(),back_money['退款金额'].tolist(),title = '退款金额变化图'\n",
    "            ,subtitle = '退款金额日变化图',label = '退款金额')"
   ],
   "outputs": [],
   "execution_count": null
  },
  {
   "cell_type": "markdown",
   "metadata": {
    "id": "DECAD97E5EF14A6B8F4640BE9131B19F",
    "notebookId": "67702dccf42f7962755a6aa3",
    "jupyter": {},
    "tags": [],
    "slideshow": {
     "slide_type": "slide"
    },
    "trusted": true,
    "scrolled": false,
    "mdEditEnable": false,
    "runtime": {
     "status": "default",
     "execution_status": null,
     "is_visible": false
    }
   },
   "source": [
    "绘制退款金额在时间维度上的变化图可以发现，和成交金额几乎一致，都是在25号达到了一个高峰的状态，成交的金额多的时候，退款的金额也相应的多。"
   ]
  },
  {
   "cell_type": "code",
   "metadata": {
    "id": "F8F902EAE6664387802D2591C118F36C",
    "notebookId": "67702dccf42f7962755a6aa3",
    "jupyter": {},
    "tags": [],
    "slideshow": {
     "slide_type": "slide"
    },
    "trusted": true,
    "collapsed": false,
    "scrolled": false
   },
   "source": [
    "hour_back_money = df2[['小时','退款金额']].groupby('小时').sum().round(2).reset_index()"
   ],
   "outputs": [],
   "execution_count": null
  },
  {
   "cell_type": "code",
   "metadata": {
    "id": "9FF61AC768824FAC8B18C4EB3401923D",
    "notebookId": "67702dccf42f7962755a6aa3",
    "jupyter": {},
    "tags": [],
    "slideshow": {
     "slide_type": "slide"
    },
    "trusted": true,
    "collapsed": false,
    "scrolled": false
   },
   "source": [
    "echarts_line(hour_back_money['小时'].tolist(),hour_back_money['退款金额'].tolist(),title = '退款金额变化图'\n",
    "                ,subtitle = '退款金额每日小时变化图',label = '退款金额')"
   ],
   "outputs": [],
   "execution_count": null
  },
  {
   "cell_type": "markdown",
   "metadata": {
    "id": "F21414C086454414863EEE54A123F3D6",
    "notebookId": "67702dccf42f7962755a6aa3",
    "jupyter": {},
    "tags": [],
    "slideshow": {
     "slide_type": "slide"
    },
    "trusted": true,
    "scrolled": false,
    "mdEditEnable": false,
    "runtime": {
     "status": "default",
     "execution_status": null,
     "is_visible": false
    }
   },
   "source": [
    "绘制退款金额在每天各小时的变化图，发现和成交金额的变化也差不多，都是在10点、15点、22点的时间段会比较多。"
   ]
  },
  {
   "cell_type": "markdown",
   "metadata": {
    "id": "4625DC8F8E8F440E8922419AC3444F2D",
    "notebookId": "67702dccf42f7962755a6aa3",
    "jupyter": {},
    "tags": [],
    "slideshow": {
     "slide_type": "slide"
    },
    "trusted": true,
    "mdEditEnable": false,
    "runtime": {
     "status": "default",
     "execution_status": null,
     "is_visible": false
    },
    "scrolled": false
   },
   "source": [
    "### b. 退款金额在地区维度上的分布"
   ]
  },
  {
   "cell_type": "code",
   "metadata": {
    "id": "1BBCFBBABBE1467F91999B6C0D4FAC6A",
    "notebookId": "67702dccf42f7962755a6aa3",
    "jupyter": {},
    "tags": [],
    "slideshow": {
     "slide_type": "slide"
    },
    "trusted": true,
    "collapsed": false,
    "scrolled": false
   },
   "source": [
    "local_back_money = df2[['收货地址','退款金额']].groupby('收货地址').sum().round(2).reset_index()"
   ],
   "outputs": [],
   "execution_count": null
  },
  {
   "cell_type": "code",
   "metadata": {
    "id": "5FED5197E238482F851F50B013286F72",
    "notebookId": "67702dccf42f7962755a6aa3",
    "jupyter": {},
    "tags": [],
    "slideshow": {
     "slide_type": "slide"
    },
    "trusted": true,
    "collapsed": false,
    "scrolled": false
   },
   "source": [
    "echarts_map(local_back_money['收货地址'],local_back_money['退款金额'],title = '退款金额分布图'\n",
    "            ,subtitle = '退款金额在全国各地分布情况',label = '退款金额')"
   ],
   "outputs": [],
   "execution_count": null
  },
  {
   "cell_type": "code",
   "metadata": {
    "id": "1A9CDD85F36948108C08DA294C050AD4",
    "notebookId": "67702dccf42f7962755a6aa3",
    "jupyter": {},
    "tags": [],
    "slideshow": {
     "slide_type": "slide"
    },
    "trusted": true,
    "collapsed": false,
    "scrolled": false
   },
   "source": [
    "map3d_with_bar3d(local_back_money['收货地址'],local_back_money['退款金额'],title = '退款金额分布图'\n",
    "            ,subtitle = '退款金额在全国各地分布情况',label = '退款金额')"
   ],
   "outputs": [],
   "execution_count": null
  },
  {
   "cell_type": "markdown",
   "metadata": {
    "id": "85F863A713B14AAC9BEC938ED3681527",
    "notebookId": "67702dccf42f7962755a6aa3",
    "jupyter": {},
    "tags": [],
    "slideshow": {
     "slide_type": "slide"
    },
    "trusted": true,
    "scrolled": false,
    "mdEditEnable": false,
    "runtime": {
     "status": "default",
     "execution_status": null,
     "is_visible": false
    }
   },
   "source": [
    "## 3. 转换率"
   ]
  },
  {
   "cell_type": "markdown",
   "metadata": {
    "id": "B14573E924E44EAA9E04343C0E93F7DF",
    "notebookId": "67702dccf42f7962755a6aa3",
    "jupyter": {},
    "tags": [],
    "slideshow": {
     "slide_type": "slide"
    },
    "trusted": true,
    "mdEditEnable": false,
    "runtime": {
     "status": "default",
     "execution_status": null,
     "is_visible": false
    },
    "scrolled": false
   },
   "source": [
    "### a. 整体转换率"
   ]
  },
  {
   "cell_type": "code",
   "metadata": {
    "id": "5D803940550C477893C433E2220B218D",
    "notebookId": "67702dccf42f7962755a6aa3",
    "jupyter": {},
    "tags": [],
    "slideshow": {
     "slide_type": "slide"
    },
    "trusted": true,
    "collapsed": false,
    "scrolled": false
   },
   "source": [
    "# 计算各阶段订单量\n",
    "create_order = df.订单编号.count()\n",
    "print('下单数量为：',create_order)\n",
    "buy_order = df[~df.订单付款时间.isnull()].订单编号.count()\n",
    "print('支付订单数量为：',buy_order)\n",
    "finish_order = df[df.买家实际支付金额 > 0].订单编号.count()\n",
    "print('成交订单数量为：',finish_order)\n",
    "whole_finish_order = df[df.总金额 == df.买家实际支付金额].订单编号.count()\n",
    "print('全额成交订单量为：',whole_finish_order)"
   ],
   "outputs": [],
   "execution_count": null
  },
  {
   "cell_type": "code",
   "metadata": {
    "id": "0F40292878C54B9F8E3D1D562D6A4717",
    "notebookId": "67702dccf42f7962755a6aa3",
    "jupyter": {},
    "tags": [],
    "slideshow": {
     "slide_type": "slide"
    },
    "trusted": true,
    "collapsed": false,
    "scrolled": false
   },
   "source": [
    "# 计算各阶段转化率\n",
    "transform = [['创建订单',round(create_order / df.shape[0],2)],\n",
    "             ['支付订单',round(buy_order / df.shape[0],2)],\n",
    "             ['成交订单',round(finish_order / df.shape[0],2)],\n",
    "             ['全额成交订单',round(whole_finish_order / df.shape[0],2)]]\n",
    "transform"
   ],
   "outputs": [],
   "execution_count": null
  },
  {
   "cell_type": "code",
   "metadata": {
    "id": "4828EFA2CDFE42F7A53EAB1CB5F85AA3",
    "notebookId": "67702dccf42f7962755a6aa3",
    "jupyter": {},
    "tags": [],
    "slideshow": {
     "slide_type": "slide"
    },
    "trusted": true,
    "collapsed": false,
    "scrolled": false,
    "hide_input": false
   },
   "source": [
    "funnel=Funnel(\n",
    "        init_opts=opts.InitOpts(\n",
    "        bg_color='#FFFFFF',  # 设置背景颜色\n",
    "        theme='wgite',         # 设置主题\n",
    "        # width='980px',     # 设置图的宽度\n",
    "        # height='800px'     # 设置图的高度\n",
    "        )\n",
    ")\n",
    "funnel.add(\"销售图\",transform\n",
    "        ,is_selected=True\n",
    "        ,label_opts=opts.LabelOpts(position='inside', formatter='{b}：{c}'), # 设置文字显示在漏斗图内\n",
    "    )\n",
    "funnel.set_global_opts(\n",
    "        # 标题设置\n",
    "        title_opts=opts.TitleOpts(\n",
    "            title='天猫2月销售订单转化率漏斗图', # 主标题\n",
    "            subtitle=' ', # 副标题\n",
    "            pos_left='center',  # 标题展示位置\n",
    "            title_textstyle_opts=dict(color='#fff') # 设置标题字体颜色\n",
    "        ),\n",
    "        # 图例设置\n",
    "        legend_opts=opts.LegendOpts(\n",
    "            is_show=True, # 是否显示图例\n",
    "            pos_left='right', # 图例显示位置\n",
    "            pos_top='3%',  #图例距离顶部的距离\n",
    "            orient='horizontal'  # 图例水平布局\n",
    "        )\n",
    "    )\n",
    "funnel.render_notebook()"
   ],
   "outputs": [],
   "execution_count": null
  },
  {
   "cell_type": "code",
   "metadata": {
    "id": "A55233E04DB84B25AEFDFD88A1D324F0",
    "notebookId": "67702dccf42f7962755a6aa3",
    "jupyter": {},
    "collapsed": false,
    "scrolled": false,
    "tags": [],
    "slideshow": {
     "slide_type": "slide"
    },
    "trusted": true
   },
   "source": [],
   "outputs": [],
   "execution_count": null
  },
  {
   "cell_type": "markdown",
   "metadata": {
    "id": "1A5BCD151D97426B9DC341E7F183F144",
    "notebookId": "67702dccf42f7962755a6aa3",
    "jupyter": {},
    "tags": [],
    "slideshow": {
     "slide_type": "slide"
    },
    "trusted": true,
    "scrolled": false,
    "mdEditEnable": false,
    "runtime": {
     "status": "default",
     "execution_status": null,
     "is_visible": false
    }
   },
   "source": [
    "1. 通过销售额漏斗图可以发现，成交订单到全额成交订单的转化率还是蛮高的，只下降了2个百分点，这说明通常来说只要订单成交了，那么基本上就是进行的全额成交，只会有小部分消费者有部分退款行为。  \n",
    "2. 创建订单到支付订单的转化率有86%，这说明有14%的用户在创建了订单以后，没有选择支付，而是取消了该笔订单的支付。应当重点追溯一下导致这个情况的原因是什么。可以查询创建订单以后的用户行为都有哪些，创建了订单以后，用户是立即取消了订单支付？还是用户离开了支付界面进行了其他行为？用户离开支付界面，都进行了哪些行为，是继续浏览同类商品？还是退出app忘记支付？是因为看到了其他同类更好的商品决定不购买该商品了？还是只是点错了，不小心进到了支付界面？还是想要购买的商品规格不符合自己的预期？提升创建订单到支付订单的转化率是较为关键的。  \n",
    "3. 支付订单到成交订单的转化率同样比较低，转换率下降了18%。这就说明，有18% 的用户在支付了订单金额以后，选择了全额退款。这个问题也不容小觑。应当查明导致该问题的原因。是购买的产品规格不符合预期需要重新下单？还是收到了商品以后发现有质量问题，需要全额退款？还是因为物流速度太慢，导致的全额退款行为？在整个销售漏斗中，这部分的转化率是最低的，因此应当结合其他数据，着重查找该环节的原因，从而提升销售额。"
   ]
  },
  {
   "cell_type": "markdown",
   "metadata": {
    "id": "3673B8E88DE34254A4A2C06B549B0F27",
    "notebookId": "67702dccf42f7962755a6aa3",
    "jupyter": {},
    "tags": [],
    "slideshow": {
     "slide_type": "slide"
    },
    "trusted": true,
    "mdEditEnable": false,
    "runtime": {
     "status": "default",
     "execution_status": null,
     "is_visible": false
    },
    "scrolled": false
   },
   "source": [
    "### b. 全国各省市创建-支付转换率"
   ]
  },
  {
   "cell_type": "markdown",
   "metadata": {
    "id": "263825EAD4AC4B45BC98DB2B805355BC",
    "notebookId": "67702dccf42f7962755a6aa3",
    "jupyter": {},
    "tags": [],
    "slideshow": {
     "slide_type": "slide"
    },
    "trusted": true,
    "mdEditEnable": false,
    "runtime": {
     "status": "default",
     "execution_status": null,
     "is_visible": false
    },
    "scrolled": false
   },
   "source": [
    "通过前边一部分的分析，我们知道，在创建 -> 支付和支付 -> 成交的转换率是较低的。因此我们猜测，是否受到地区影响，导致物流等问题，发生了取消支付或者是退货等情况。因此接下来我们分别查看全国各省市创建-支付转换率和全国各省市支付-成交转换率，看看到底是哪个省市的转换率较低。"
   ]
  },
  {
   "cell_type": "code",
   "metadata": {
    "id": "BCD2E371E3D44112B352626590FF00DD",
    "notebookId": "67702dccf42f7962755a6aa3",
    "jupyter": {},
    "tags": [],
    "slideshow": {
     "slide_type": "slide"
    },
    "trusted": true,
    "collapsed": false,
    "scrolled": false
   },
   "source": [
    "# 全国各省市创建-支付转换率计算\n",
    "df['辅助计数'] = 1\n",
    "pay_order = df[~df.订单付款时间.isnull()]\n",
    "province_pay_order = pay_order[['收货地址','辅助计数']].groupby('收货地址').sum().reset_index()\n",
    "create_order = df[['收货地址','辅助计数']].groupby('收货地址').sum().reset_index()\n",
    "province_create_pay_transform = pd.merge(create_order,province_pay_order,how = 'left',on = '收货地址')\n",
    "province_create_pay_transform.rename(columns = {'辅助计数_x':'创建订单数','辅助计数_y':'支付订单数'},inplace = True)\n",
    "province_create_pay_transform['创建-支付转换率'] = province_create_pay_transform['支付订单数'] / province_create_pay_transform['创建订单数']\n",
    "province_create_pay_transform['创建-支付转换率'] = province_create_pay_transform['创建-支付转换率'].round(2)\n",
    "province_create_pay_transform.head()"
   ],
   "outputs": [],
   "execution_count": null
  },
  {
   "cell_type": "code",
   "metadata": {
    "id": "7FCE5F39C07A4076829AD2008E928788",
    "notebookId": "67702dccf42f7962755a6aa3",
    "jupyter": {},
    "tags": [],
    "slideshow": {
     "slide_type": "slide"
    },
    "trusted": true,
    "collapsed": false,
    "scrolled": false,
    "hide_input": false
   },
   "source": [
    "echarts_bar(province_create_pay_transform['收货地址'].tolist(),province_create_pay_transform['创建-支付转换率'].tolist(),\n",
    "            title = '创建-支付转换率对比图'\n",
    "            ,subtitle = '全国各省创建-支付转换率对比图',label = '创建-支付转换率')"
   ],
   "outputs": [],
   "execution_count": null
  },
  {
   "cell_type": "markdown",
   "metadata": {
    "id": "C1CA1B02E8F14DA78BA59890D141351F",
    "notebookId": "67702dccf42f7962755a6aa3",
    "jupyter": {},
    "tags": [],
    "slideshow": {
     "slide_type": "slide"
    },
    "trusted": true,
    "mdEditEnable": false,
    "runtime": {
     "status": "default",
     "execution_status": null,
     "is_visible": false
    },
    "scrolled": false
   },
   "source": [
    "1. 通过绘制全国各省市创建-支付转换率的对比图我们可以发现，大部分省份的转换率都是处于一个相对稳定的水平，都处在均值0.84附近，而宁夏、上海、青海、北京等地区的转换率更是高达90%以上的，说明大部分地区的用户在支付界面取消订单的现象并不严重。  \n",
    "2. 有三个特别的地区，创建-支付订单的转化率较低，分别是西藏、新疆和湖北。西藏和新疆因为处于偏远地区，交通并不是很便利，因此物流是比较慢的，很多商家都是不往这两个地区发货的，因此可能受到物流影响，转换率会较低。而湖北地区的转化率较低，很可能是因为受到疫情影响。2020年的2月份正是湖北疫情严重的时期，因此很多消费者会选择取消订单，这也可能是转换率较低的原因。"
   ]
  },
  {
   "cell_type": "markdown",
   "metadata": {
    "id": "31C536D88ADD47D1A462B3D3FAF395DC",
    "notebookId": "67702dccf42f7962755a6aa3",
    "jupyter": {},
    "tags": [],
    "slideshow": {
     "slide_type": "slide"
    },
    "trusted": true,
    "mdEditEnable": false,
    "runtime": {
     "status": "default",
     "execution_status": null,
     "is_visible": false
    },
    "scrolled": false
   },
   "source": [
    "### c. 全国各省市支付-成交转换率"
   ]
  },
  {
   "cell_type": "code",
   "metadata": {
    "id": "11BF369D2CEB407FAEF7EA2468F11F3C",
    "notebookId": "67702dccf42f7962755a6aa3",
    "jupyter": {},
    "tags": [],
    "slideshow": {
     "slide_type": "slide"
    },
    "trusted": true,
    "collapsed": false,
    "scrolled": false
   },
   "source": [
    "# 全国各省市支付-成交转换率计算\n",
    "df2['辅助计数'] = 1\n",
    "finish_df = df2[df2.买家实际支付金额 > 0]\n",
    "province_finish_df = finish_df[['收货地址','辅助计数']].groupby('收货地址').sum().reset_index()\n",
    "province_buy_df = df2[['收货地址','辅助计数']].groupby('收货地址').sum().reset_index()\n",
    "province_transform = pd.merge(province_buy_df,province_finish_df,how = 'outer',on = '收货地址')\n",
    "province_transform.rename(columns = {'辅助计数_x':'支付订单数','辅助计数_y':'成交订单数'},inplace = True)\n",
    "province_transform['支付-成交转换率'] = province_transform['成交订单数'] / province_transform['支付订单数']\n",
    "province_transform['支付-成交转换率'] = province_transform['支付-成交转换率'].round(2)\n",
    "province_transform.head()"
   ],
   "outputs": [],
   "execution_count": null
  },
  {
   "cell_type": "code",
   "metadata": {
    "id": "388F4237863F4393B1C71F5779108159",
    "notebookId": "67702dccf42f7962755a6aa3",
    "jupyter": {},
    "tags": [],
    "slideshow": {
     "slide_type": "slide"
    },
    "trusted": true,
    "collapsed": false,
    "scrolled": false
   },
   "source": [
    "echarts_bar(province_transform['收货地址'].tolist(),province_transform['支付-成交转换率'].tolist(),\n",
    "            title = '支付-成交转换率对比图'\n",
    "            ,subtitle = '全国各省支付-成交转换率对比图',label = '支付-成交转换率')"
   ],
   "outputs": [],
   "execution_count": null
  },
  {
   "cell_type": "code",
   "metadata": {
    "id": "D92842FD3CF547B581DCBBF105204CAB",
    "notebookId": "67702dccf42f7962755a6aa3",
    "jupyter": {},
    "tags": [],
    "slideshow": {
     "slide_type": "slide"
    },
    "trusted": true,
    "collapsed": false,
    "scrolled": false
   },
   "source": [
    "province_transform[province_transform.收货地址 == '西藏']"
   ],
   "outputs": [],
   "execution_count": null
  },
  {
   "cell_type": "code",
   "metadata": {
    "id": "8FAFB879731E4518880840B9CFDC9536",
    "notebookId": "67702dccf42f7962755a6aa3",
    "jupyter": {},
    "tags": [],
    "slideshow": {
     "slide_type": "slide"
    },
    "trusted": true,
    "collapsed": false,
    "scrolled": false
   },
   "source": [
    "province_create_pay_transform[province_create_pay_transform.收货地址 == '湖北省']"
   ],
   "outputs": [],
   "execution_count": null
  },
  {
   "cell_type": "code",
   "metadata": {
    "id": "CD8DFFC0F74F400CB165FECC03E607A1",
    "notebookId": "67702dccf42f7962755a6aa3",
    "jupyter": {},
    "tags": [],
    "slideshow": {
     "slide_type": "slide"
    },
    "trusted": true,
    "collapsed": false,
    "scrolled": false
   },
   "source": [
    "province_transform[province_transform.收货地址 == '湖北']"
   ],
   "outputs": [],
   "execution_count": null
  },
  {
   "cell_type": "markdown",
   "metadata": {
    "id": "49AFC3305D4C42DF8F67487CBF579B79",
    "notebookId": "67702dccf42f7962755a6aa3",
    "jupyter": {},
    "tags": [],
    "slideshow": {
     "slide_type": "slide"
    },
    "trusted": true,
    "mdEditEnable": false,
    "runtime": {
     "status": "default",
     "execution_status": null,
     "is_visible": false
    },
    "scrolled": false
   },
   "source": [
    "1. 绘制全国各省市支付-成交转换率对比图可以发现，该部分转换率较低的几个省份依旧是新疆、西藏和湖北。西藏的转换率为0，查询原因发现，西藏在2月份有过支付记录的订单总共就2个，因此西藏的转化率达到了0也不算异常。  \n",
    "2. 而湖北的转换率达到了0.32，查询2月份湖北的订单创建数和支付数，发现湖北2月份创建的订单仅有75个，支付的57个，而真正成交的只有18个订单，从支付到成交的转换率仅有32%，说明有68%的用户直接进行了全额退款。这可能是因为2020年2月份湖北疫情较为严重，湖北的物流基本上呈现中断的状态，大部分商品很可能不在发往湖北，因此出现了大量的全额退款等行为。"
   ]
  },
  {
   "cell_type": "markdown",
   "metadata": {
    "id": "82F1CAEE6B324B119B52806828C9891D",
    "notebookId": "67702dccf42f7962755a6aa3",
    "jupyter": {},
    "tags": [],
    "slideshow": {
     "slide_type": "slide"
    },
    "trusted": true,
    "mdEditEnable": false,
    "runtime": {
     "status": "default",
     "execution_status": null,
     "is_visible": false
    },
    "scrolled": false
   },
   "source": [
    "# 三、总结与建议"
   ]
  },
  {
   "cell_type": "markdown",
   "metadata": {
    "id": "76FFD618AFE14AC48313D16B7D6C1D84",
    "notebookId": "67702dccf42f7962755a6aa3",
    "jupyter": {},
    "tags": [],
    "slideshow": {
     "slide_type": "slide"
    },
    "trusted": true,
    "mdEditEnable": false,
    "runtime": {
     "status": "default",
     "execution_status": null,
     "is_visible": false
    },
    "scrolled": false
   },
   "source": [
    "1. 成交金额方面，新年过后复工的一周左右，销售额会出现快速的增长，在月底前达到一个小高峰。因此可以在新年过后一周左右的时间，提前准备好库存，做好销售计划等。  \n",
    "2. 每周的周二和周五是销售额较高的时间段。如果有促销计划什么的，可以重点在周二和周五进行。  \n",
    "3. 每日的10点、15点、21-22点的时间段是销售额较高的时间段，如果有促销活动、优惠券发放、新品推荐等推送内容，可以选择在这些时间段进行发放，效果会更佳。  \n",
    "4. 地区方面，江浙沪一带、以及北京、广东、四川等地区的成交金额是比较高的，而新疆西藏内蒙古等其他地区的成交金额普遍较低。可以根据以后的发展计划、策略、综合考虑物流、成本等因素进行产品销售的调整。  \n",
    "5. 退款金额和销售金额的趋势基本吻合。销售额高相应的退款行为发生次数也多。  \n",
    "6. 转换率方面，创建订单->支付订单->成交订单的转化率均较低，应当从各方面寻找原因，加强物流管理、提升产品质量、提高服务态度等等，从而提高各环节转换率，增加销量。  \n",
    "7. 对于转换率较低的省份，因受到疫情影响，因此转换率较低，出现大量退款等行为，一方面要全力配合防疫工作，另一方面要在疫情到来之前，提前做好应对措施，及时调整营销策略等。"
   ]
  }
 ],
 "metadata": {
  "kernelspec": {
   "language": "python",
   "display_name": "Python 3",
   "name": "python3"
  },
  "language_info": {
   "codemirror_mode": {
    "name": "ipython",
    "version": 3
   },
   "name": "python",
   "mimetype": "text/x-python",
   "nbconvert_exporter": "python",
   "file_extension": ".py",
   "version": "3.5.2",
   "pygments_lexer": "ipython3"
  }
 },
 "nbformat": 4,
 "nbformat_minor": 0
}
