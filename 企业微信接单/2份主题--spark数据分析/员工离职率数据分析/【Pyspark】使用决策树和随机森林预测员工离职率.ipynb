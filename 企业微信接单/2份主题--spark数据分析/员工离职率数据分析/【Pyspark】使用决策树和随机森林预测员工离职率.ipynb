{
 "cells": [
  {
   "cell_type": "markdown",
   "metadata": {
    "jupyter": {},
    "scrolled": false,
    "tags": [],
    "slideshow": {
     "slide_type": "slide"
    },
    "id": "9A01C15258E5471CA99FD539E0CDB92B",
    "runtime": {
     "status": "default",
     "execution_status": null,
     "is_visible": false
    },
    "notebookId": "65b9a7edebb28341c8d9f868"
   },
   "source": [
    "# 【Pyspark】使用决策树和随机森林预测员工离职率"
   ]
  },
  {
   "cell_type": "markdown",
   "metadata": {
    "jupyter": {},
    "scrolled": false,
    "tags": [],
    "slideshow": {
     "slide_type": "slide"
    },
    "id": "E2B01173A5CE40749F8BDE5E0FC36EEE",
    "runtime": {
     "status": "default",
     "execution_status": null,
     "is_visible": false
    },
    "notebookId": "65b9a7edebb28341c8d9f868"
   },
   "source": [
    "# 一、数据介绍"
   ]
  },
  {
   "cell_type": "markdown",
   "metadata": {
    "jupyter": {},
    "scrolled": false,
    "tags": [],
    "slideshow": {
     "slide_type": "slide"
    },
    "id": "3B9D301BF3CC401F8D114A7705B86FF9",
    "runtime": {
     "status": "default",
     "execution_status": null,
     "is_visible": false
    },
    "notebookId": "65b9a7edebb28341c8d9f868"
   },
   "source": [
    "## 数据说明："
   ]
  },
  {
   "cell_type": "markdown",
   "metadata": {
    "jupyter": {},
    "scrolled": false,
    "tags": [],
    "slideshow": {
     "slide_type": "slide"
    },
    "id": "60597CE60CA743CB97C72D503045928F",
    "runtime": {
     "status": "default",
     "execution_status": null,
     "is_visible": false
    },
    "notebookId": "65b9a7edebb28341c8d9f868"
   },
   "source": [
    "* satisfaction_level 员工对公司的满意度  \n",
    "* last_evaluation 员工上次KPI评分  \n",
    "* number_project 同时处理的项目数  \n",
    "* average_montly_hours 平均每个月的工作时间  \n",
    "* time_spend_company 在公司的时间  \n",
    "* Work_accident 是否出现过工作事故  \n",
    "* left 是否离开  \n",
    "* promotion_last_5years 最近5年是否升职  \n",
    "* sales 员工部门  \n",
    "* salary 工资水平"
   ]
  },
  {
   "cell_type": "markdown",
   "metadata": {
    "jupyter": {},
    "scrolled": false,
    "tags": [],
    "slideshow": {
     "slide_type": "slide"
    },
    "id": "9C0BC9A6B68D4BE18861719006F54A95",
    "runtime": {
     "status": "default",
     "execution_status": null,
     "is_visible": false
    },
    "notebookId": "65b9a7edebb28341c8d9f868"
   },
   "source": [
    "# 二、模型概述"
   ]
  },
  {
   "cell_type": "markdown",
   "metadata": {
    "jupyter": {},
    "scrolled": false,
    "tags": [],
    "slideshow": {
     "slide_type": "slide"
    },
    "id": "4D0EE519080F4DAEA16934214852A9BC",
    "runtime": {
     "status": "default",
     "execution_status": null,
     "is_visible": false
    },
    "notebookId": "65b9a7edebb28341c8d9f868"
   },
   "source": [
    "* 数据中约有76.2%的员工未离职，有23.8%的员工离职了  \n",
    "* 未离职员工对公司的满意度明显高于已离职员工  \n",
    "* 离职员工同时处理的项目数略高于未离职员工同时处理的项目数  \n",
    "* t检验，判定离职员工的满意度和未离职员工的满意度是不是完全一致"
   ]
  },
  {
   "cell_type": "markdown",
   "metadata": {
    "jupyter": {},
    "scrolled": false,
    "tags": [],
    "slideshow": {
     "slide_type": "slide"
    },
    "id": "356495350188459A8BCAE5FD2EF85F17",
    "runtime": {
     "status": "default",
     "execution_status": null,
     "is_visible": false
    },
    "notebookId": "65b9a7edebb28341c8d9f868"
   },
   "source": [
    "# 三、数据预处理"
   ]
  },
  {
   "cell_type": "code",
   "metadata": {
    "jupyter": {},
    "collapsed": false,
    "scrolled": false,
    "tags": [],
    "slideshow": {
     "slide_type": "slide"
    },
    "id": "E65A66F2380D45C491FCE32BE69322AB",
    "notebookId": "65b9a7edebb28341c8d9f868",
    "trusted": true
   },
   "source": [
    "import findspark\n",
    "findspark.init()"
   ],
   "outputs": [],
   "execution_count": 1
  },
  {
   "cell_type": "code",
   "metadata": {
    "jupyter": {},
    "collapsed": false,
    "scrolled": false,
    "tags": [],
    "slideshow": {
     "slide_type": "slide"
    },
    "id": "64E24446284746D1A5B9A5534F4A5D3D",
    "notebookId": "65b9a7edebb28341c8d9f868",
    "trusted": true
   },
   "source": [
    "from pyspark.sql import SparkSession\n",
    "from pyspark.sql.functions import col, mean, when\n",
    "from pyspark.ml.feature import VectorAssembler\n",
    "from pyspark.ml.stat import Correlation\n",
    "from pyspark.ml.classification import DecisionTreeClassifier\n",
    "from pyspark.ml.classification import RandomForestClassifier\n",
    "from pyspark.ml.evaluation import BinaryClassificationEvaluator\n",
    "from pyspark.ml.evaluation import MulticlassClassificationEvaluator\n",
    "from pyspark.sql import Row\n",
    "from pyspark.ml.linalg import DenseMatrix\n",
    "from pyspark.sql import types as T\n",
    "from pyspark.sql.types import StructType, StructField, StringType, ArrayType, DoubleType\n",
    "import scipy.stats as stats\n",
    "from pyspark.ml.stat import Summarizer\n",
    "from pyspark.ml.feature import StringIndexer"
   ],
   "outputs": [],
   "execution_count": 2
  },
  {
   "cell_type": "code",
   "metadata": {
    "jupyter": {},
    "collapsed": false,
    "scrolled": false,
    "tags": [],
    "slideshow": {
     "slide_type": "slide"
    },
    "id": "E7DBD9F523B24C678BF1A64DE393F3B4",
    "notebookId": "65b9a7edebb28341c8d9f868",
    "trusted": true
   },
   "source": [
    "# 创建 SparkSession\n",
    "spark = SparkSession.builder.appName(\"Tree\").master(\"local[*]\").getOrCreate()"
   ],
   "outputs": [],
   "execution_count": 3
  },
  {
   "cell_type": "code",
   "metadata": {
    "jupyter": {},
    "collapsed": false,
    "scrolled": false,
    "tags": [],
    "slideshow": {
     "slide_type": "slide"
    },
    "id": "7AB71E69DF10410EA353D73862DA68A1",
    "notebookId": "65b9a7edebb28341c8d9f868",
    "trusted": true
   },
   "source": [
    "# 读取 员工 数据\n",
    "data = spark.read.csv(\"HR_comma_sep.csv\", header=True, inferSchema=True)"
   ],
   "outputs": [],
   "execution_count": 5
  },
  {
   "cell_type": "code",
   "metadata": {
    "jupyter": {},
    "collapsed": false,
    "scrolled": false,
    "tags": [],
    "slideshow": {
     "slide_type": "slide"
    },
    "id": "846C5FF32291468A92DFCDAE1FFF43EA",
    "notebookId": "65b9a7edebb28341c8d9f868",
    "trusted": true
   },
   "source": [
    "data.show()"
   ],
   "outputs": [
    {
     "name": "stdout",
     "output_type": "stream",
     "text": [
      "+------------------+---------------+--------------+--------------------+------------------+-------------+----+---------------------+-----+------+\n",
      "|satisfaction_level|last_evaluation|number_project|average_montly_hours|time_spend_company|Work_accident|left|promotion_last_5years|sales|salary|\n",
      "+------------------+---------------+--------------+--------------------+------------------+-------------+----+---------------------+-----+------+\n",
      "|              0.38|           0.53|             2|                 157|                 3|            0|   1|                    0|sales|   low|\n",
      "|               0.8|           0.86|             5|                 262|                 6|            0|   1|                    0|sales|medium|\n",
      "|              0.11|           0.88|             7|                 272|                 4|            0|   1|                    0|sales|medium|\n",
      "|              0.72|           0.87|             5|                 223|                 5|            0|   1|                    0|sales|   low|\n",
      "|              0.37|           0.52|             2|                 159|                 3|            0|   1|                    0|sales|   low|\n",
      "|              0.41|            0.5|             2|                 153|                 3|            0|   1|                    0|sales|   low|\n",
      "|               0.1|           0.77|             6|                 247|                 4|            0|   1|                    0|sales|   low|\n",
      "|              0.92|           0.85|             5|                 259|                 5|            0|   1|                    0|sales|   low|\n",
      "|              0.89|            1.0|             5|                 224|                 5|            0|   1|                    0|sales|   low|\n",
      "|              0.42|           0.53|             2|                 142|                 3|            0|   1|                    0|sales|   low|\n",
      "|              0.45|           0.54|             2|                 135|                 3|            0|   1|                    0|sales|   low|\n",
      "|              0.11|           0.81|             6|                 305|                 4|            0|   1|                    0|sales|   low|\n",
      "|              0.84|           0.92|             4|                 234|                 5|            0|   1|                    0|sales|   low|\n",
      "|              0.41|           0.55|             2|                 148|                 3|            0|   1|                    0|sales|   low|\n",
      "|              0.36|           0.56|             2|                 137|                 3|            0|   1|                    0|sales|   low|\n",
      "|              0.38|           0.54|             2|                 143|                 3|            0|   1|                    0|sales|   low|\n",
      "|              0.45|           0.47|             2|                 160|                 3|            0|   1|                    0|sales|   low|\n",
      "|              0.78|           0.99|             4|                 255|                 6|            0|   1|                    0|sales|   low|\n",
      "|              0.45|           0.51|             2|                 160|                 3|            1|   1|                    1|sales|   low|\n",
      "|              0.76|           0.89|             5|                 262|                 5|            0|   1|                    0|sales|   low|\n",
      "+------------------+---------------+--------------+--------------------+------------------+-------------+----+---------------------+-----+------+\n",
      "only showing top 20 rows\n",
      "\n"
     ]
    }
   ],
   "execution_count": 6
  },
  {
   "cell_type": "code",
   "metadata": {
    "jupyter": {},
    "collapsed": false,
    "scrolled": false,
    "tags": [],
    "slideshow": {
     "slide_type": "slide"
    },
    "id": "3B2F8D3A60DD4997891557A94F680EF4",
    "notebookId": "65b9a7edebb28341c8d9f868",
    "trusted": true
   },
   "source": [
    "data.count()"
   ],
   "outputs": [
    {
     "data": {
      "text/plain": "14999"
     },
     "execution_count": 7,
     "metadata": {},
     "output_type": "execute_result"
    }
   ],
   "execution_count": 7
  },
  {
   "cell_type": "code",
   "metadata": {
    "jupyter": {},
    "collapsed": false,
    "scrolled": false,
    "tags": [],
    "slideshow": {
     "slide_type": "slide"
    },
    "id": "34AA0062898840A2809B3A5A96A53F05",
    "notebookId": "65b9a7edebb28341c8d9f868",
    "trusted": true
   },
   "source": [
    "data.dtypes"
   ],
   "outputs": [
    {
     "data": {
      "text/plain": "[('satisfaction_level', 'double'),\n ('last_evaluation', 'double'),\n ('number_project', 'int'),\n ('average_montly_hours', 'int'),\n ('time_spend_company', 'int'),\n ('Work_accident', 'int'),\n ('left', 'int'),\n ('promotion_last_5years', 'int'),\n ('sales', 'string'),\n ('salary', 'string')]"
     },
     "execution_count": 8,
     "metadata": {},
     "output_type": "execute_result"
    }
   ],
   "execution_count": 8
  },
  {
   "cell_type": "markdown",
   "metadata": {
    "jupyter": {},
    "scrolled": false,
    "tags": [],
    "slideshow": {
     "slide_type": "slide"
    },
    "id": "31EAFC535C204E97B8BC7B9C53275E88",
    "runtime": {
     "status": "default",
     "execution_status": null,
     "is_visible": false
    },
    "notebookId": "65b9a7edebb28341c8d9f868"
   },
   "source": [
    "## 缺失值处理"
   ]
  },
  {
   "cell_type": "code",
   "metadata": {
    "jupyter": {},
    "collapsed": false,
    "scrolled": false,
    "tags": [],
    "slideshow": {
     "slide_type": "slide"
    },
    "id": "45AAA76BCA154EDCA5F39BEA4C843A01",
    "notebookId": "65b9a7edebb28341c8d9f868",
    "trusted": true
   },
   "source": [
    "# 计算DataFrame中每一列的缺失率\n",
    "def calculate_missing_rates(df):\n",
    "    \"\"\"\n",
    "    计算每列的缺失率（为 null 和 空格 都认为是缺失值）\n",
    "\n",
    "    Parameters:\n",
    "    - df: PySpark DataFrame\n",
    "\n",
    "    Returns:\n",
    "    - missing_rates_df: PySpark DataFrame，包含每列的缺失率\n",
    "    \"\"\"\n",
    "    total_rows = df.count()\n",
    "    missing_rates = []\n",
    "\n",
    "    for column in df.columns:\n",
    "        missing_count = df.filter(col(column).isNull() | (col(column) == \"\") | (col(column) == \" \")).count()\n",
    "        missing_rate = (missing_count / total_rows) * 100\n",
    "        missing_rates.append((column, missing_rate))\n",
    "\n",
    "    # 创建 DataFrame 显示结果\n",
    "    missing_rates_df = spark.createDataFrame(missing_rates, [\"Column\", \"MissingRate\"])\n",
    "    return missing_rates_df"
   ],
   "outputs": [],
   "execution_count": 8
  },
  {
   "cell_type": "code",
   "metadata": {
    "jupyter": {},
    "collapsed": false,
    "scrolled": false,
    "tags": [],
    "slideshow": {
     "slide_type": "slide"
    },
    "id": "7F2DB49322964F9B8FCDBABFDB1B20B3",
    "notebookId": "65b9a7edebb28341c8d9f868",
    "trusted": true
   },
   "source": [
    "missing_rates = calculate_missing_rates(data)"
   ],
   "outputs": [],
   "execution_count": 11
  },
  {
   "cell_type": "code",
   "metadata": {
    "jupyter": {},
    "collapsed": false,
    "scrolled": false,
    "tags": [],
    "slideshow": {
     "slide_type": "slide"
    },
    "id": "904A1CE17DB644C6B8BC85EC3C4FB81B",
    "notebookId": "65b9a7edebb28341c8d9f868",
    "trusted": true
   },
   "source": [
    "missing_rates.show()"
   ],
   "outputs": [
    {
     "name": "stdout",
     "output_type": "stream",
     "text": [
      "+--------------------+-----------+\n",
      "|              Column|MissingRate|\n",
      "+--------------------+-----------+\n",
      "|  satisfaction_level|        0.0|\n",
      "|     last_evaluation|        0.0|\n",
      "|      number_project|        0.0|\n",
      "|average_montly_hours|        0.0|\n",
      "|  time_spend_company|        0.0|\n",
      "|       Work_accident|        0.0|\n",
      "|                left|        0.0|\n",
      "|promotion_last_5y...|        0.0|\n",
      "|               sales|        0.0|\n",
      "|              salary|        0.0|\n",
      "+--------------------+-----------+\n",
      "\n"
     ]
    }
   ],
   "execution_count": 12
  },
  {
   "cell_type": "markdown",
   "metadata": {
    "jupyter": {},
    "scrolled": false,
    "tags": [],
    "slideshow": {
     "slide_type": "slide"
    },
    "id": "5B32EABD9E1D41F498C014319EF01A0E",
    "runtime": {
     "status": "default",
     "execution_status": null,
     "is_visible": false
    },
    "notebookId": "65b9a7edebb28341c8d9f868"
   },
   "source": [
    "* 数据集中不存在缺失数据"
   ]
  },
  {
   "cell_type": "markdown",
   "metadata": {
    "jupyter": {},
    "scrolled": false,
    "tags": [],
    "slideshow": {
     "slide_type": "slide"
    },
    "id": "114C8C710F9C4746B877F9D19E8F3970",
    "runtime": {
     "status": "default",
     "execution_status": null,
     "is_visible": false
    },
    "notebookId": "65b9a7edebb28341c8d9f868"
   },
   "source": [
    "## 特征重命名"
   ]
  },
  {
   "cell_type": "code",
   "metadata": {
    "jupyter": {},
    "collapsed": false,
    "scrolled": false,
    "tags": [],
    "slideshow": {
     "slide_type": "slide"
    },
    "id": "3B552DA35B524AFEB2CF9AD1C32FABF4",
    "notebookId": "65b9a7edebb28341c8d9f868",
    "trusted": true
   },
   "source": [
    "# 定义列名映射关系\n",
    "column_mapping = {'satisfaction_level': 'satisfaction', \n",
    "                  'last_evaluation': 'evaluation',\n",
    "                  'number_project': 'projectCount',\n",
    "                  'average_montly_hours': 'averageMonthlyHours',\n",
    "                  'time_spend_company': 'yearsAtCompany',\n",
    "                  'Work_accident': 'workAccident',\n",
    "                  'promotion_last_5years': 'promotion',\n",
    "                  'sales' : 'department',\n",
    "                  'left' : 'turnover',\n",
    "                  'salary': 'salary'\n",
    "                 }"
   ],
   "outputs": [],
   "execution_count": 17
  },
  {
   "cell_type": "code",
   "metadata": {
    "jupyter": {},
    "collapsed": false,
    "scrolled": false,
    "tags": [],
    "slideshow": {
     "slide_type": "slide"
    },
    "id": "5193043B3BED4B5988B72BD294DDC92A",
    "notebookId": "65b9a7edebb28341c8d9f868",
    "trusted": true
   },
   "source": [
    "# 特征列重命名\n",
    "data = data.selectExpr(*[f\"{col} as {column_mapping[col]}\" for col in data.columns])"
   ],
   "outputs": [],
   "execution_count": 124
  },
  {
   "cell_type": "code",
   "metadata": {
    "jupyter": {},
    "collapsed": false,
    "scrolled": false,
    "tags": [],
    "slideshow": {
     "slide_type": "slide"
    },
    "id": "CF07DC4A7E3B43CDBF925153D33CC61B",
    "notebookId": "65b9a7edebb28341c8d9f868",
    "trusted": true
   },
   "source": [
    "data.show()"
   ],
   "outputs": [
    {
     "name": "stdout",
     "output_type": "stream",
     "text": [
      "+------------+----------+------------+-------------------+--------------+------------+--------+---------+----------+------+\n",
      "|satisfaction|evaluation|projectCount|averageMonthlyHours|yearsAtCompany|workAccident|turnover|promotion|department|salary|\n",
      "+------------+----------+------------+-------------------+--------------+------------+--------+---------+----------+------+\n",
      "|        0.38|      0.53|           2|                157|             3|           0|       1|        0|     sales|   low|\n",
      "|         0.8|      0.86|           5|                262|             6|           0|       1|        0|     sales|medium|\n",
      "|        0.11|      0.88|           7|                272|             4|           0|       1|        0|     sales|medium|\n",
      "|        0.72|      0.87|           5|                223|             5|           0|       1|        0|     sales|   low|\n",
      "|        0.37|      0.52|           2|                159|             3|           0|       1|        0|     sales|   low|\n",
      "|        0.41|       0.5|           2|                153|             3|           0|       1|        0|     sales|   low|\n",
      "|         0.1|      0.77|           6|                247|             4|           0|       1|        0|     sales|   low|\n",
      "|        0.92|      0.85|           5|                259|             5|           0|       1|        0|     sales|   low|\n",
      "|        0.89|       1.0|           5|                224|             5|           0|       1|        0|     sales|   low|\n",
      "|        0.42|      0.53|           2|                142|             3|           0|       1|        0|     sales|   low|\n",
      "|        0.45|      0.54|           2|                135|             3|           0|       1|        0|     sales|   low|\n",
      "|        0.11|      0.81|           6|                305|             4|           0|       1|        0|     sales|   low|\n",
      "|        0.84|      0.92|           4|                234|             5|           0|       1|        0|     sales|   low|\n",
      "|        0.41|      0.55|           2|                148|             3|           0|       1|        0|     sales|   low|\n",
      "|        0.36|      0.56|           2|                137|             3|           0|       1|        0|     sales|   low|\n",
      "|        0.38|      0.54|           2|                143|             3|           0|       1|        0|     sales|   low|\n",
      "|        0.45|      0.47|           2|                160|             3|           0|       1|        0|     sales|   low|\n",
      "|        0.78|      0.99|           4|                255|             6|           0|       1|        0|     sales|   low|\n",
      "|        0.45|      0.51|           2|                160|             3|           1|       1|        1|     sales|   low|\n",
      "|        0.76|      0.89|           5|                262|             5|           0|       1|        0|     sales|   low|\n",
      "+------------+----------+------------+-------------------+--------------+------------+--------+---------+----------+------+\n",
      "only showing top 20 rows\n",
      "\n"
     ]
    }
   ],
   "execution_count": 19
  },
  {
   "cell_type": "markdown",
   "metadata": {
    "jupyter": {},
    "scrolled": false,
    "tags": [],
    "slideshow": {
     "slide_type": "slide"
    },
    "id": "D59310C959D14D31A1DC75366B09F479",
    "runtime": {
     "status": "default",
     "execution_status": null,
     "is_visible": false
    },
    "notebookId": "65b9a7edebb28341c8d9f868"
   },
   "source": [
    "# 四、分析过程"
   ]
  },
  {
   "cell_type": "markdown",
   "metadata": {
    "jupyter": {},
    "scrolled": false,
    "tags": [],
    "slideshow": {
     "slide_type": "slide"
    },
    "id": "EB23337FD50C446F88CDE37E790DB7D8",
    "runtime": {
     "status": "default",
     "execution_status": null,
     "is_visible": false
    },
    "notebookId": "65b9a7edebb28341c8d9f868"
   },
   "source": [
    "## 1、探索性分析"
   ]
  },
  {
   "cell_type": "code",
   "metadata": {
    "jupyter": {},
    "collapsed": false,
    "scrolled": false,
    "tags": [],
    "slideshow": {
     "slide_type": "slide"
    },
    "id": "99A480381A1248379E11293DAA4B9891",
    "notebookId": "65b9a7edebb28341c8d9f868",
    "trusted": true
   },
   "source": [
    "# 计算离职员工以及未离职员工比例\n",
    "turnover_rate = data.groupBy(\"turnover\").count().withColumn(\n",
    "    \"turnover_rate\", col(\"count\") / data.count()\n",
    ").select(\"turnover\", \"turnover_rate\")"
   ],
   "outputs": [],
   "execution_count": 21
  },
  {
   "cell_type": "code",
   "metadata": {
    "jupyter": {},
    "collapsed": false,
    "scrolled": false,
    "tags": [],
    "slideshow": {
     "slide_type": "slide"
    },
    "id": "68472AABFC3C458F97D01A94976A3517",
    "notebookId": "65b9a7edebb28341c8d9f868",
    "trusted": true
   },
   "source": [
    "turnover_rate.show()"
   ],
   "outputs": [
    {
     "name": "stdout",
     "output_type": "stream",
     "text": [
      "+--------+------------------+\n",
      "|turnover|     turnover_rate|\n",
      "+--------+------------------+\n",
      "|       1|0.2380825388359224|\n",
      "|       0|0.7619174611640777|\n",
      "+--------+------------------+\n",
      "\n"
     ]
    }
   ],
   "execution_count": 22
  },
  {
   "cell_type": "markdown",
   "metadata": {
    "jupyter": {},
    "scrolled": false,
    "tags": [],
    "slideshow": {
     "slide_type": "slide"
    },
    "id": "C6C5AE70A12944569B8AD25A627E1B99",
    "runtime": {
     "status": "default",
     "execution_status": null,
     "is_visible": false
    },
    "notebookId": "65b9a7edebb28341c8d9f868"
   },
   "source": [
    "* 数据中约有76.2%的员工未离职，有23.8%的员工离职了"
   ]
  },
  {
   "cell_type": "code",
   "metadata": {
    "jupyter": {},
    "collapsed": false,
    "scrolled": false,
    "tags": [],
    "slideshow": {
     "slide_type": "slide"
    },
    "id": "91F14FDDBCF0484D91663DC44451EE4D",
    "notebookId": "65b9a7edebb28341c8d9f868",
    "trusted": true
   },
   "source": [
    "# 分组查看员工的特征\n",
    "turnover_Summary = data.groupby('turnover').mean()\n",
    "turnover_Summary.show()"
   ],
   "outputs": [
    {
     "name": "stdout",
     "output_type": "stream",
     "text": [
      "+--------+-------------------+------------------+------------------+------------------------+-------------------+--------------------+-------------+--------------------+\n",
      "|turnover|  avg(satisfaction)|   avg(evaluation)| avg(projectCount)|avg(averageMonthlyHours)|avg(yearsAtCompany)|   avg(workAccident)|avg(turnover)|      avg(promotion)|\n",
      "+--------+-------------------+------------------+------------------+------------------------+-------------------+--------------------+-------------+--------------------+\n",
      "|       1|0.44009801176140917|0.7181125735088183|3.8555026603192384|      207.41921030523662|  3.876505180621675|0.047325679081489776|          1.0|0.005320638476617194|\n",
      "|       0|  0.666809590479516|0.7154733986699274| 3.786664333216661|       199.0602030101505| 3.3800315015750786| 0.17500875043752187|          0.0|0.026251312565628283|\n",
      "+--------+-------------------+------------------+------------------+------------------------+-------------------+--------------------+-------------+--------------------+\n",
      "\n"
     ]
    }
   ],
   "execution_count": 23
  },
  {
   "cell_type": "markdown",
   "metadata": {
    "jupyter": {},
    "scrolled": false,
    "tags": [],
    "slideshow": {
     "slide_type": "slide"
    },
    "id": "D41F7C1EF7D14BC9827D7C01E4985D7B",
    "runtime": {
     "status": "default",
     "execution_status": null,
     "is_visible": false
    },
    "notebookId": "65b9a7edebb28341c8d9f868"
   },
   "source": [
    "* 未离职员工对公司的满意度明显高于已离职员工  \n",
    "* 离职员工同时处理的项目数略高于未离职员工同时处理的项目数"
   ]
  },
  {
   "cell_type": "markdown",
   "metadata": {
    "jupyter": {},
    "scrolled": false,
    "tags": [],
    "slideshow": {
     "slide_type": "slide"
    },
    "id": "545AABEA20564AB9A1E9989993D2F818",
    "runtime": {
     "status": "default",
     "execution_status": null,
     "is_visible": false
    },
    "notebookId": "65b9a7edebb28341c8d9f868"
   },
   "source": [
    "## 2、相关性分析"
   ]
  },
  {
   "cell_type": "code",
   "metadata": {
    "jupyter": {},
    "collapsed": false,
    "scrolled": false,
    "tags": [],
    "slideshow": {
     "slide_type": "slide"
    },
    "id": "8C50D49BBCB54144B50887386D9043A3",
    "notebookId": "65b9a7edebb28341c8d9f868",
    "trusted": true
   },
   "source": [
    "# 将所有数字类型特征合并到一个向量中\n",
    "assembler = VectorAssembler(inputCols=[col_name for col_name, col_type in data.dtypes if col_type == \"double\" or col_type == \"int\"], outputCol=\"features\")"
   ],
   "outputs": [],
   "execution_count": 27
  },
  {
   "cell_type": "code",
   "metadata": {
    "jupyter": {},
    "collapsed": false,
    "scrolled": false,
    "tags": [],
    "slideshow": {
     "slide_type": "slide"
    },
    "id": "AC3B9BEFC0814D63A52D33400773F3C9",
    "notebookId": "65b9a7edebb28341c8d9f868",
    "trusted": true
   },
   "source": [
    "data_vector = assembler.transform(data).select(\"features\")"
   ],
   "outputs": [],
   "execution_count": 28
  },
  {
   "cell_type": "code",
   "metadata": {
    "jupyter": {},
    "collapsed": false,
    "scrolled": false,
    "tags": [],
    "slideshow": {
     "slide_type": "slide"
    },
    "id": "D09976B8058F48BAA60008D73441CB29",
    "notebookId": "65b9a7edebb28341c8d9f868",
    "trusted": true
   },
   "source": [
    "# 计算相关矩阵\n",
    "matrix = Correlation.corr(data_vector, \"features\").head()[0]"
   ],
   "outputs": [],
   "execution_count": 40
  },
  {
   "cell_type": "code",
   "metadata": {
    "jupyter": {},
    "collapsed": false,
    "scrolled": false,
    "tags": [],
    "slideshow": {
     "slide_type": "slide"
    },
    "id": "47B63B9210014D62A062B81E09890E84",
    "notebookId": "65b9a7edebb28341c8d9f868",
    "trusted": true
   },
   "source": [
    "# 将结果转换为矩阵格式并创建DataFrame\n",
    "schema = StructType([\n",
    "    StructField(\"feature\", StringType(), True),\n",
    "    StructField(\"correlations\", ArrayType(DoubleType()), True)  # 修正此处\n",
    "])"
   ],
   "outputs": [],
   "execution_count": 75
  },
  {
   "cell_type": "code",
   "metadata": {
    "scrolled": true,
    "jupyter": {},
    "collapsed": false,
    "tags": [],
    "slideshow": {
     "slide_type": "slide"
    },
    "id": "7D8D1E00633D4C56B4F38BB8C21B9585",
    "notebookId": "65b9a7edebb28341c8d9f868",
    "trusted": true
   },
   "source": [
    "columns = [col_name for col_name, col_type in data.dtypes if col_type == \"double\" or col_type == \"int\"]\n",
    "corr_data = [\n",
    "    (column, [float(x) for x in matrix.toArray()[i]]) for i, column in enumerate(columns)\n",
    "]"
   ],
   "outputs": [],
   "execution_count": 84
  },
  {
   "cell_type": "code",
   "metadata": {
    "jupyter": {},
    "collapsed": false,
    "scrolled": false,
    "tags": [],
    "slideshow": {
     "slide_type": "slide"
    },
    "id": "EE7ECA7D18814093969CFAFBC61C6718",
    "notebookId": "65b9a7edebb28341c8d9f868",
    "trusted": true
   },
   "source": [
    "corr_data = spark.createDataFrame(corr_data, schema=schema) "
   ],
   "outputs": [],
   "execution_count": 86
  },
  {
   "cell_type": "code",
   "metadata": {
    "jupyter": {},
    "collapsed": false,
    "scrolled": false,
    "tags": [],
    "slideshow": {
     "slide_type": "slide"
    },
    "id": "C4A8E4CE00584477B657C5A42AA6E176",
    "notebookId": "65b9a7edebb28341c8d9f868",
    "trusted": true
   },
   "source": [
    "corr_data.show()"
   ],
   "outputs": [
    {
     "name": "stdout",
     "output_type": "stream",
     "text": [
      "+-------------------+--------------------+\n",
      "|            feature|        correlations|\n",
      "+-------------------+--------------------+\n",
      "|       satisfaction|[1.0, 0.105021213...|\n",
      "|         evaluation|[0.10502121397148...|\n",
      "|       projectCount|[-0.1429695860368...|\n",
      "|averageMonthlyHours|[-0.0200481132194...|\n",
      "|     yearsAtCompany|[-0.1008660725779...|\n",
      "|       workAccident|[0.05869724105198...|\n",
      "|           turnover|[-0.3883749834240...|\n",
      "|          promotion|[0.02560518570904...|\n",
      "+-------------------+--------------------+\n",
      "\n"
     ]
    }
   ],
   "execution_count": 87
  },
  {
   "cell_type": "code",
   "metadata": {
    "jupyter": {},
    "collapsed": false,
    "scrolled": false,
    "tags": [],
    "slideshow": {
     "slide_type": "slide"
    },
    "id": "C9503F34ABE54F5C9E91C5E471CB1459",
    "notebookId": "65b9a7edebb28341c8d9f868",
    "trusted": true
   },
   "source": [
    "column_indices = range(len(columns))\n",
    "\n",
    "# 使用foldLeft操作遍历列索引，并将每个索引位置的值提取到新列中\n",
    "for i in column_indices:\n",
    "    # 创建新列名\n",
    "    new_column_name = columns[i]\n",
    "    # 使用withColumn添加新列\n",
    "    corr_data = corr_data.withColumn(new_column_name, col(\"correlations\")[i])\n",
    "\n",
    "# 删除原始的correlations列\n",
    "corr_data = corr_data.drop(\"correlations\")"
   ],
   "outputs": [],
   "execution_count": 91
  },
  {
   "cell_type": "code",
   "metadata": {
    "jupyter": {},
    "collapsed": false,
    "scrolled": false,
    "tags": [],
    "slideshow": {
     "slide_type": "slide"
    },
    "id": "0CACC0CA085347229F4630BAB7F21362",
    "notebookId": "65b9a7edebb28341c8d9f868",
    "trusted": true
   },
   "source": [
    "corr_data.show()"
   ],
   "outputs": [
    {
     "name": "stdout",
     "output_type": "stream",
     "text": [
      "+-------------------+--------------------+--------------------+--------------------+--------------------+--------------------+--------------------+--------------------+--------------------+\n",
      "|            feature|        satisfaction|          evaluation|        projectCount| averageMonthlyHours|      yearsAtCompany|        workAccident|            turnover|           promotion|\n",
      "+-------------------+--------------------+--------------------+--------------------+--------------------+--------------------+--------------------+--------------------+--------------------+\n",
      "|       satisfaction|                 1.0|  0.1050212139714834|-0.14296958603689447|-0.02004811321947...|-0.10086607257797037|0.058697241051982506| -0.3883749834240641|0.025605185709041058|\n",
      "|         evaluation|  0.1050212139714834|                 1.0|  0.3493325885162647|  0.3397417998383528| 0.13159072244765946|-0.00710428851960...|0.006567120447532696|-0.00868376790479...|\n",
      "|       projectCount|-0.14296958603689447|  0.3493325885162647|                 1.0|  0.4172106344017622|  0.1967858912637988|-0.00474054771976...|0.023787185071765946|-0.00606395792453...|\n",
      "|averageMonthlyHours|-0.02004811321947...|  0.3397417998383528|  0.4172106344017622|                 1.0|  0.1277549103618611|-0.01014288818580...|  0.0712871787832906|-0.00354441429299...|\n",
      "|     yearsAtCompany|-0.10086607257797037| 0.13159072244765946|  0.1967858912637988|  0.1277549103618611|                 1.0|0.002120418096712...| 0.14482217493939978|   0.067432925383425|\n",
      "|       workAccident|0.058697241051982506|-0.00710428851960...|-0.00474054771976...|-0.01014288818580...|0.002120418096712...|                 1.0|-0.15462163370515628|0.039245434583560994|\n",
      "|           turnover| -0.3883749834240641|0.006567120447532696|0.023787185071765946|  0.0712871787832906| 0.14482217493939978|-0.15462163370515628|                 1.0|-0.06178810657919538|\n",
      "|          promotion|0.025605185709041058|-0.00868376790479...|-0.00606395792453...|-0.00354441429299...|   0.067432925383425|0.039245434583560994|-0.06178810657919538|                 1.0|\n",
      "+-------------------+--------------------+--------------------+--------------------+--------------------+--------------------+--------------------+--------------------+--------------------+\n",
      "\n"
     ]
    }
   ],
   "execution_count": 92
  },
  {
   "cell_type": "markdown",
   "metadata": {
    "jupyter": {},
    "scrolled": false,
    "tags": [],
    "slideshow": {
     "slide_type": "slide"
    },
    "id": "41516C0CF2B74C33872CB33BC51F4A1B",
    "runtime": {
     "status": "default",
     "execution_status": null,
     "is_visible": false
    },
    "notebookId": "65b9a7edebb28341c8d9f868"
   },
   "source": [
    "* 正相关的特征:  \n",
    "    * projectCount VS evaluation: 0.349333  \n",
    "    * projectCount VS averageMonthlyHours: 0.417211  \n",
    "    * averageMonthlyHours VS evaluation: 0.339742"
   ]
  },
  {
   "cell_type": "markdown",
   "metadata": {
    "jupyter": {},
    "scrolled": false,
    "tags": [],
    "slideshow": {
     "slide_type": "slide"
    },
    "id": "2E1DE5A625CF43059C2DAB960EAF7E7B",
    "runtime": {
     "status": "default",
     "execution_status": null,
     "is_visible": false
    },
    "notebookId": "65b9a7edebb28341c8d9f868"
   },
   "source": [
    "* 负相关的特征:  \n",
    "    * satisfaction VS turnover: -0.388375"
   ]
  },
  {
   "cell_type": "markdown",
   "metadata": {
    "jupyter": {},
    "scrolled": false,
    "tags": [],
    "slideshow": {
     "slide_type": "slide"
    },
    "id": "26C0207D412540DCAA9C0BB1FB3CD1D9",
    "runtime": {
     "status": "default",
     "execution_status": null,
     "is_visible": false
    },
    "notebookId": "65b9a7edebb28341c8d9f868"
   },
   "source": [
    "## 3、T- test T检验"
   ]
  },
  {
   "cell_type": "markdown",
   "metadata": {
    "jupyter": {},
    "scrolled": false,
    "tags": [],
    "slideshow": {
     "slide_type": "slide"
    },
    "id": "4514604DBAE641C7997C7B8B51D0EE8C",
    "runtime": {
     "status": "default",
     "execution_status": null,
     "is_visible": false
    },
    "notebookId": "65b9a7edebb28341c8d9f868"
   },
   "source": [
    "* t检验，判定离职员工的满意度和未离职员工的满意度是不是完全一致"
   ]
  },
  {
   "cell_type": "code",
   "metadata": {
    "jupyter": {},
    "collapsed": false,
    "scrolled": false,
    "tags": [],
    "slideshow": {
     "slide_type": "slide"
    },
    "id": "6DF8C3B85B60498398A8E94B6516849A",
    "notebookId": "65b9a7edebb28341c8d9f868",
    "trusted": true
   },
   "source": [
    "# 计算未离职员工满意度\n",
    "emp_population = data.filter(data['turnover'] == 0).agg(mean('satisfaction')).collect()[0][0]\n",
    "\n",
    "# 计算离职员工满意度\n",
    "emp_turnover_satisfaction = data.filter(data['turnover'] == 1).agg(mean('satisfaction')).collect()[0][0]"
   ],
   "outputs": [],
   "execution_count": 104
  },
  {
   "cell_type": "code",
   "metadata": {
    "jupyter": {},
    "collapsed": false,
    "scrolled": false,
    "tags": [],
    "slideshow": {
     "slide_type": "slide"
    },
    "id": "7450DDF602AF4DF7AAE02264E837AC0D",
    "notebookId": "65b9a7edebb28341c8d9f868",
    "trusted": true
   },
   "source": [
    "# 打印结果\n",
    "print('未离职员工满意度: ' + str(emp_population))\n",
    "print('离职员工满意度: ' + str(emp_turnover_satisfaction))"
   ],
   "outputs": [
    {
     "name": "stdout",
     "output_type": "stream",
     "text": [
      "未离职员工满意度: 0.666809590479516\n",
      "离职员工满意度: 0.44009801176140917\n"
     ]
    }
   ],
   "execution_count": 99
  },
  {
   "cell_type": "code",
   "metadata": {
    "jupyter": {},
    "collapsed": false,
    "scrolled": false,
    "tags": [],
    "slideshow": {
     "slide_type": "slide"
    },
    "id": "14C7AE8FB8174AE5B6C61AB9D09085EE",
    "notebookId": "65b9a7edebb28341c8d9f868",
    "trusted": true
   },
   "source": [
    "# 单样本t检验\n",
    "t_statistic, p_value = stats.ttest_1samp(a=data.filter(data['turnover'] == 1).select('satisfaction').rdd.flatMap(lambda x: x).collect(), #离职员工样本数据\n",
    "                  popmean=emp_population ) #未离职员工满意度均值"
   ],
   "outputs": [],
   "execution_count": 106
  },
  {
   "cell_type": "code",
   "metadata": {
    "jupyter": {},
    "collapsed": false,
    "scrolled": false,
    "tags": [],
    "slideshow": {
     "slide_type": "slide"
    },
    "id": "8BD6FDB3FD2C410A9EB5D7CFF29ACE24",
    "notebookId": "65b9a7edebb28341c8d9f868",
    "trusted": true
   },
   "source": [
    "# 打印结果\n",
    "print('T 统计量:', t_statistic)\n",
    "print('p 值:', p_value)"
   ],
   "outputs": [
    {
     "name": "stdout",
     "output_type": "stream",
     "text": [
      "T 统计量: -51.3303486754725\n",
      "p 值: 0.0\n"
     ]
    }
   ],
   "execution_count": 107
  },
  {
   "cell_type": "markdown",
   "metadata": {
    "jupyter": {},
    "scrolled": false,
    "tags": [],
    "slideshow": {
     "slide_type": "slide"
    },
    "id": "7C42BF62F38A45DEA7DC44553C7731BF",
    "runtime": {
     "status": "default",
     "execution_status": null,
     "is_visible": false
    },
    "notebookId": "65b9a7edebb28341c8d9f868"
   },
   "source": [
    "* P值小于0.05，差异显著  \n",
    "* 离职员工和未离职员工从统计意义上来讲，差异显著  \n",
    "* 从统计上来讲离开和没有离开的人对公司的满意度有显著差异"
   ]
  },
  {
   "cell_type": "markdown",
   "metadata": {
    "jupyter": {},
    "scrolled": false,
    "tags": [],
    "slideshow": {
     "slide_type": "slide"
    },
    "id": "49623FF4AF3C415BAEC240560038A52F",
    "runtime": {
     "status": "default",
     "execution_status": null,
     "is_visible": false
    },
    "notebookId": "65b9a7edebb28341c8d9f868"
   },
   "source": [
    "## 4、决策树和随机森林"
   ]
  },
  {
   "cell_type": "code",
   "metadata": {
    "jupyter": {},
    "collapsed": false,
    "scrolled": false,
    "tags": [],
    "slideshow": {
     "slide_type": "slide"
    },
    "id": "B54B78E15E2A4E8DB4FEA9951090CC85",
    "notebookId": "65b9a7edebb28341c8d9f868",
    "trusted": true
   },
   "source": [
    "data.dtypes"
   ],
   "outputs": [
    {
     "data": {
      "text/plain": [
       "[('satisfaction', 'double'),\n",
       " ('evaluation', 'double'),\n",
       " ('projectCount', 'int'),\n",
       " ('averageMonthlyHours', 'int'),\n",
       " ('yearsAtCompany', 'int'),\n",
       " ('workAccident', 'int'),\n",
       " ('turnover', 'int'),\n",
       " ('promotion', 'int'),\n",
       " ('department', 'string'),\n",
       " ('salary', 'string')]"
      ]
     },
     "execution_count": 108,
     "metadata": {},
     "output_type": "execute_result"
    }
   ],
   "execution_count": 108
  },
  {
   "cell_type": "code",
   "metadata": {
    "jupyter": {},
    "collapsed": false,
    "scrolled": false,
    "tags": [],
    "slideshow": {
     "slide_type": "slide"
    },
    "id": "6B181CB563E6421796EC2909816486C4",
    "notebookId": "65b9a7edebb28341c8d9f868",
    "trusted": true
   },
   "source": [
    "# data中存在String类型的特征，无法代入决策树或随机森林模型中完成建模\n",
    "# 将string类型转换为整数类型\n",
    "department_indexer = StringIndexer(inputCol=\"department\", outputCol=\"department_encoded\")\n",
    "data = department_indexer.fit(data).transform(data)"
   ],
   "outputs": [],
   "execution_count": 125
  },
  {
   "cell_type": "code",
   "metadata": {
    "jupyter": {},
    "collapsed": false,
    "scrolled": false,
    "tags": [],
    "slideshow": {
     "slide_type": "slide"
    },
    "id": "5B9639956D9B49788CB304A28B019896",
    "notebookId": "65b9a7edebb28341c8d9f868",
    "trusted": true
   },
   "source": [
    "# 使用 StringIndexer 将 'salary' 列转换为整数编码\n",
    "salary_indexer = StringIndexer(inputCol=\"salary\", outputCol=\"salary_encoded\")\n",
    "data = salary_indexer.fit(data).transform(data)"
   ],
   "outputs": [],
   "execution_count": 126
  },
  {
   "cell_type": "code",
   "metadata": {
    "jupyter": {},
    "collapsed": false,
    "scrolled": false,
    "tags": [],
    "slideshow": {
     "slide_type": "slide"
    },
    "id": "88E858D0D2AB4C7AAF5B932B76294E6B",
    "notebookId": "65b9a7edebb28341c8d9f868",
    "trusted": true
   },
   "source": [
    "data.show(5)"
   ],
   "outputs": [
    {
     "name": "stdout",
     "output_type": "stream",
     "text": [
      "+------------+----------+------------+-------------------+--------------+------------+--------+---------+----------+------+------------------+--------------+\n",
      "|satisfaction|evaluation|projectCount|averageMonthlyHours|yearsAtCompany|workAccident|turnover|promotion|department|salary|department_encoded|salary_encoded|\n",
      "+------------+----------+------------+-------------------+--------------+------------+--------+---------+----------+------+------------------+--------------+\n",
      "|        0.38|      0.53|           2|                157|             3|           0|       1|        0|     sales|   low|               0.0|           0.0|\n",
      "|         0.8|      0.86|           5|                262|             6|           0|       1|        0|     sales|medium|               0.0|           1.0|\n",
      "|        0.11|      0.88|           7|                272|             4|           0|       1|        0|     sales|medium|               0.0|           1.0|\n",
      "|        0.72|      0.87|           5|                223|             5|           0|       1|        0|     sales|   low|               0.0|           0.0|\n",
      "|        0.37|      0.52|           2|                159|             3|           0|       1|        0|     sales|   low|               0.0|           0.0|\n",
      "+------------+----------+------------+-------------------+--------------+------------+--------+---------+----------+------+------------------+--------------+\n",
      "only showing top 5 rows\n",
      "\n"
     ]
    }
   ],
   "execution_count": 115
  },
  {
   "cell_type": "code",
   "metadata": {
    "jupyter": {},
    "collapsed": false,
    "scrolled": false,
    "tags": [],
    "slideshow": {
     "slide_type": "slide"
    },
    "id": "568EB3D923A44724A8356D5F98604EEE",
    "notebookId": "65b9a7edebb28341c8d9f868",
    "trusted": true
   },
   "source": [
    "# 合并特征列\n",
    "assembler = VectorAssembler(inputCols=['satisfaction','evaluation','projectCount','averageMonthlyHours','yearsAtCompany','workAccident',\n",
    "                                       'promotion','department_encoded','salary_encoded'], outputCol=\"features\")\n",
    "data = assembler.transform(data)"
   ],
   "outputs": [],
   "execution_count": 127
  },
  {
   "cell_type": "code",
   "metadata": {
    "jupyter": {},
    "collapsed": false,
    "scrolled": false,
    "tags": [],
    "slideshow": {
     "slide_type": "slide"
    },
    "id": "5BD9AC7EC4FD48C9A2F540FA4C1C840A",
    "notebookId": "65b9a7edebb28341c8d9f868",
    "trusted": true
   },
   "source": [
    "# 划分训练集和测试集\n",
    "train_data, test_data = data.randomSplit([0.8, 0.2], seed=123)"
   ],
   "outputs": [],
   "execution_count": 128
  },
  {
   "cell_type": "markdown",
   "metadata": {
    "jupyter": {},
    "scrolled": false,
    "tags": [],
    "slideshow": {
     "slide_type": "slide"
    },
    "id": "3DF90E1B8F3C4CF1BE51853A3E4A60C4",
    "runtime": {
     "status": "default",
     "execution_status": null,
     "is_visible": false
    },
    "notebookId": "65b9a7edebb28341c8d9f868"
   },
   "source": [
    "### 决策树建模"
   ]
  },
  {
   "cell_type": "code",
   "metadata": {
    "jupyter": {},
    "collapsed": false,
    "scrolled": false,
    "tags": [],
    "slideshow": {
     "slide_type": "slide"
    },
    "id": "B0463F3091A64FF7A3CCE89D8E7E8A01",
    "notebookId": "65b9a7edebb28341c8d9f868",
    "trusted": true
   },
   "source": [
    "# 初始化决策树模型\n",
    "dt = DecisionTreeClassifier(labelCol=\"turnover\", featuresCol=\"features\")"
   ],
   "outputs": [],
   "execution_count": 129
  },
  {
   "cell_type": "code",
   "metadata": {
    "jupyter": {},
    "collapsed": false,
    "scrolled": false,
    "tags": [],
    "slideshow": {
     "slide_type": "slide"
    },
    "id": "D5DB423A91A0404B9D418A11DA298E57",
    "notebookId": "65b9a7edebb28341c8d9f868",
    "trusted": true
   },
   "source": [
    "# 设置决策树参数\n",
    "dt.setMaxDepth(5)  # 最大深度\n",
    "dt.setMaxBins(32)  # 最大分箱数\n",
    "dt.setImpurity(\"entropy\")"
   ],
   "outputs": [
    {
     "data": {
      "text/plain": [
       "DecisionTreeClassifier_321d9f997731"
      ]
     },
     "execution_count": 131,
     "metadata": {},
     "output_type": "execute_result"
    }
   ],
   "execution_count": 131
  },
  {
   "cell_type": "code",
   "metadata": {
    "jupyter": {},
    "collapsed": false,
    "scrolled": false,
    "tags": [],
    "slideshow": {
     "slide_type": "slide"
    },
    "id": "C5F10C37324A4F55AE02544032BE8CDF",
    "notebookId": "65b9a7edebb28341c8d9f868",
    "trusted": true
   },
   "source": [
    "# 训练决策树模型\n",
    "model = dt.fit(train_data)"
   ],
   "outputs": [],
   "execution_count": 132
  },
  {
   "cell_type": "code",
   "metadata": {
    "jupyter": {},
    "collapsed": false,
    "scrolled": false,
    "tags": [],
    "slideshow": {
     "slide_type": "slide"
    },
    "id": "F58533ADF9BE447F829ECCE2D8AB1586",
    "notebookId": "65b9a7edebb28341c8d9f868",
    "trusted": true
   },
   "source": [
    "# 在测试集上进行预测\n",
    "predictions = model.transform(test_data)"
   ],
   "outputs": [],
   "execution_count": 133
  },
  {
   "cell_type": "code",
   "metadata": {
    "jupyter": {},
    "collapsed": false,
    "scrolled": false,
    "tags": [],
    "slideshow": {
     "slide_type": "slide"
    },
    "id": "1035F841AF67435DB96978865C5A1231",
    "notebookId": "65b9a7edebb28341c8d9f868",
    "trusted": true
   },
   "source": [
    "# 评估模型性能\n",
    "evaluator = MulticlassClassificationEvaluator(labelCol=\"turnover\", metricName=\"accuracy\")\n",
    "accuracy = evaluator.evaluate(predictions)\n",
    "\n",
    "print(\"模型准确率:\", accuracy)"
   ],
   "outputs": [
    {
     "name": "stdout",
     "output_type": "stream",
     "text": [
      "模型准确率: 0.9674449194343966\n"
     ]
    }
   ],
   "execution_count": 139
  },
  {
   "cell_type": "code",
   "metadata": {
    "jupyter": {},
    "collapsed": false,
    "scrolled": false,
    "tags": [],
    "slideshow": {
     "slide_type": "slide"
    },
    "id": "61B32BCFD2DF49819E3B0943D1C8FD08",
    "notebookId": "65b9a7edebb28341c8d9f868",
    "trusted": true
   },
   "source": [
    "# 评估模型性能\n",
    "evaluator = BinaryClassificationEvaluator(labelCol=\"turnover\", metricName='areaUnderROC')\n",
    "auc = evaluator.evaluate(predictions)\n",
    "\n",
    "print(\"模型AUC值:\", auc)"
   ],
   "outputs": [
    {
     "name": "stdout",
     "output_type": "stream",
     "text": [
      "模型AUC值: 0.9250518797782842\n"
     ]
    }
   ],
   "execution_count": 141
  },
  {
   "cell_type": "markdown",
   "metadata": {
    "jupyter": {},
    "scrolled": false,
    "tags": [],
    "slideshow": {
     "slide_type": "slide"
    },
    "id": "04D37DF038514BB299F7A021D6C86BB3",
    "runtime": {
     "status": "default",
     "execution_status": null,
     "is_visible": false
    },
    "notebookId": "65b9a7edebb28341c8d9f868"
   },
   "source": [
    "### 随机森林建模"
   ]
  },
  {
   "cell_type": "code",
   "metadata": {
    "jupyter": {},
    "collapsed": false,
    "scrolled": false,
    "tags": [],
    "slideshow": {
     "slide_type": "slide"
    },
    "id": "06D8A89187CF468E91F49C2058BBC3B2",
    "notebookId": "65b9a7edebb28341c8d9f868",
    "trusted": true
   },
   "source": [
    "# 初始化随机森林模型\n",
    "rf = RandomForestClassifier(labelCol=\"turnover\", featuresCol=\"features\")"
   ],
   "outputs": [],
   "execution_count": 143
  },
  {
   "cell_type": "code",
   "metadata": {
    "jupyter": {},
    "collapsed": false,
    "scrolled": false,
    "tags": [],
    "slideshow": {
     "slide_type": "slide"
    },
    "id": "3714B24FF42E42588125F0829EBE2D85",
    "notebookId": "65b9a7edebb28341c8d9f868",
    "trusted": true
   },
   "source": [
    "RandomForestClassifier?"
   ],
   "outputs": [],
   "execution_count": 144
  },
  {
   "cell_type": "code",
   "metadata": {
    "jupyter": {},
    "collapsed": false,
    "scrolled": false,
    "tags": [],
    "slideshow": {
     "slide_type": "slide"
    },
    "id": "8521EC0DB9614630A0A7BB24F597A2F6",
    "notebookId": "65b9a7edebb28341c8d9f868",
    "trusted": true
   },
   "source": [
    "# 设置随机森林参数\n",
    "rf.setNumTrees(20)  # 树的数量\n",
    "rf.setMaxDepth(5)  # 最大深度\n",
    "rf.setMaxBins(32)  # 最大分箱数\n",
    "rf.setMinInstancesPerNode(1)  # 每个节点的最小实例数\n",
    "rf.setMinInfoGain(0.0)  # 最小信息增益\n",
    "rf.setFeatureSubsetStrategy(\"auto\")  # 特征子集策略\n",
    "rf.setImpurity(\"entropy\")"
   ],
   "outputs": [
    {
     "data": {
      "text/plain": [
       "RandomForestClassifier_a0be7f314079"
      ]
     },
     "execution_count": 145,
     "metadata": {},
     "output_type": "execute_result"
    }
   ],
   "execution_count": 145
  },
  {
   "cell_type": "code",
   "metadata": {
    "jupyter": {},
    "collapsed": false,
    "scrolled": false,
    "tags": [],
    "slideshow": {
     "slide_type": "slide"
    },
    "id": "8A5F5D36467F46799428EC49C8C3CFDB",
    "notebookId": "65b9a7edebb28341c8d9f868",
    "trusted": true
   },
   "source": [
    "# 训练随机森林模型\n",
    "model_rf = rf.fit(train_data)"
   ],
   "outputs": [],
   "execution_count": 146
  },
  {
   "cell_type": "code",
   "metadata": {
    "jupyter": {},
    "collapsed": false,
    "scrolled": false,
    "tags": [],
    "slideshow": {
     "slide_type": "slide"
    },
    "id": "7588EEA8F3694083BE65545A62A9C4DB",
    "notebookId": "65b9a7edebb28341c8d9f868",
    "trusted": true
   },
   "source": [
    "# 在测试集上进行预测\n",
    "predictions_rf = model_rf.transform(test_data)"
   ],
   "outputs": [],
   "execution_count": 149
  },
  {
   "cell_type": "code",
   "metadata": {
    "jupyter": {},
    "collapsed": false,
    "scrolled": false,
    "tags": [],
    "slideshow": {
     "slide_type": "slide"
    },
    "id": "1BEFB7048B5243EBBFC7192E367767DF",
    "notebookId": "65b9a7edebb28341c8d9f868",
    "trusted": true
   },
   "source": [
    "# 评估模型性能\n",
    "evaluator = MulticlassClassificationEvaluator(labelCol=\"turnover\", metricName=\"accuracy\")\n",
    "accuracy = evaluator.evaluate(predictions_rf)\n",
    "\n",
    "print(\"模型准确率:\", accuracy)"
   ],
   "outputs": [
    {
     "name": "stdout",
     "output_type": "stream",
     "text": [
      "模型准确率: 0.9697467938178231\n"
     ]
    }
   ],
   "execution_count": 150
  },
  {
   "cell_type": "code",
   "metadata": {
    "jupyter": {},
    "collapsed": false,
    "scrolled": false,
    "tags": [],
    "slideshow": {
     "slide_type": "slide"
    },
    "id": "EE2F34424E9D4C5090402C139D4E4576",
    "notebookId": "65b9a7edebb28341c8d9f868",
    "trusted": true
   },
   "source": [
    "# 评估模型性能\n",
    "evaluator = BinaryClassificationEvaluator(labelCol=\"turnover\", metricName='areaUnderROC')\n",
    "auc = evaluator.evaluate(predictions_rf)\n",
    "\n",
    "print(\"模型AUC值:\", auc)"
   ],
   "outputs": [
    {
     "name": "stdout",
     "output_type": "stream",
     "text": [
      "模型AUC值: 0.9790629514013165\n"
     ]
    }
   ],
   "execution_count": 151
  },
  {
   "cell_type": "markdown",
   "metadata": {
    "jupyter": {},
    "scrolled": false,
    "tags": [],
    "slideshow": {
     "slide_type": "slide"
    },
    "id": "E337CFDC0DC64DD08088A3C4B1368FD5",
    "runtime": {
     "status": "default",
     "execution_status": null,
     "is_visible": false
    },
    "notebookId": "65b9a7edebb28341c8d9f868"
   },
   "source": [
    "* 随机森林模型的拟合效果明显优于决策树模型"
   ]
  },
  {
   "cell_type": "code",
   "metadata": {
    "jupyter": {},
    "collapsed": false,
    "scrolled": false,
    "tags": [],
    "slideshow": {
     "slide_type": "slide"
    },
    "id": "A28B666D8A8846DA9E9219D075F2EDA3",
    "notebookId": "65b9a7edebb28341c8d9f868",
    "trusted": true
   },
   "source": [],
   "outputs": [],
   "execution_count": null
  }
 ],
 "metadata": {
  "kernelspec": {
   "language": "python",
   "display_name": "Python 3",
   "name": "python3"
  },
  "language_info": {
   "codemirror_mode": {
    "name": "ipython",
    "version": 3
   },
   "name": "python",
   "mimetype": "text/x-python",
   "nbconvert_exporter": "python",
   "file_extension": ".py",
   "version": "3.5.2",
   "pygments_lexer": "ipython3"
  }
 },
 "nbformat": 4,
 "nbformat_minor": 5
}
