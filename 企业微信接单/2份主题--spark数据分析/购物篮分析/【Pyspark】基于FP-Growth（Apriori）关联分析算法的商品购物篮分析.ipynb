{
 "cells": [
  {
   "cell_type": "markdown",
   "metadata": {
    "jupyter": {},
    "scrolled": false,
    "tags": [],
    "slideshow": {
     "slide_type": "slide"
    },
    "id": "0B39159DDFB240018CF691D257C383B5",
    "runtime": {
     "status": "default",
     "execution_status": null,
     "is_visible": false
    },
    "notebookId": "65b9ac27ebb28341c8da4768"
   },
   "source": [
    "# 基于FP-Growth（Apriori）关联分析算法的商品购物篮分析"
   ]
  },
  {
   "cell_type": "markdown",
   "metadata": {
    "jupyter": {},
    "scrolled": false,
    "tags": [],
    "slideshow": {
     "slide_type": "slide"
    },
    "id": "DACA5FD8AC8243929C531359B76440C0",
    "runtime": {
     "status": "default",
     "execution_status": null,
     "is_visible": false
    },
    "notebookId": "65b9ac27ebb28341c8da4768"
   },
   "source": [
    "# 一、数据介绍"
   ]
  },
  {
   "cell_type": "markdown",
   "metadata": {
    "jupyter": {},
    "scrolled": false,
    "tags": [],
    "slideshow": {
     "slide_type": "slide"
    },
    "id": "99066A5FA8764D3DA29C641906FBAF04",
    "runtime": {
     "status": "default",
     "execution_status": null,
     "is_visible": false
    },
    "notebookId": "65b9ac27ebb28341c8da4768"
   },
   "source": [
    "* Member_number：用户ID  \n",
    "* Date：日期  \n",
    "* itemDescription：商品名称"
   ]
  },
  {
   "cell_type": "markdown",
   "metadata": {
    "jupyter": {},
    "scrolled": false,
    "tags": [],
    "slideshow": {
     "slide_type": "slide"
    },
    "id": "9C5033E2383A408894B4248B86887B0E",
    "runtime": {
     "status": "default",
     "execution_status": null,
     "is_visible": false
    },
    "notebookId": "65b9ac27ebb28341c8da4768"
   },
   "source": [
    "# 二、分析概述"
   ]
  },
  {
   "cell_type": "markdown",
   "metadata": {
    "jupyter": {},
    "scrolled": false,
    "tags": [],
    "slideshow": {
     "slide_type": "slide"
    },
    "id": "9629F822CCCF4634A71C26FA408D67B1",
    "runtime": {
     "status": "default",
     "execution_status": null,
     "is_visible": false
    },
    "notebookId": "65b9ac27ebb28341c8da4768"
   },
   "source": [
    "# 三、数据预处理"
   ]
  },
  {
   "cell_type": "code",
   "metadata": {
    "jupyter": {},
    "collapsed": false,
    "scrolled": false,
    "tags": [],
    "slideshow": {
     "slide_type": "slide"
    },
    "id": "0CD8811B734743748E662E7400D7BB1C",
    "notebookId": "65b9ac27ebb28341c8da4768",
    "trusted": true
   },
   "source": [
    "import findspark\n",
    "findspark.init()"
   ],
   "outputs": [],
   "execution_count": 1
  },
  {
   "cell_type": "code",
   "metadata": {
    "jupyter": {},
    "collapsed": false,
    "scrolled": false,
    "tags": [],
    "slideshow": {
     "slide_type": "slide"
    },
    "id": "FE4662E8DA174D2E84B6B1E238BE1D91",
    "notebookId": "65b9ac27ebb28341c8da4768",
    "trusted": true
   },
   "source": [
    "from pyspark.sql import SparkSession\n",
    "from pyspark.sql.functions import col, concat_ws,collect_list\n",
    "from pyspark.ml.fpm import FPGrowth"
   ],
   "outputs": [],
   "execution_count": 2
  },
  {
   "cell_type": "code",
   "metadata": {
    "jupyter": {},
    "collapsed": false,
    "scrolled": false,
    "tags": [],
    "slideshow": {
     "slide_type": "slide"
    },
    "id": "5EC9FFEFC3B7486DA487C23344495AD3",
    "notebookId": "65b9ac27ebb28341c8da4768",
    "trusted": true
   },
   "source": [
    "# 创建 SparkSession\n",
    "spark = SparkSession.builder.appName(\"FP-Growth\").master(\"local[*]\").getOrCreate()"
   ],
   "outputs": [],
   "execution_count": 3
  },
  {
   "cell_type": "code",
   "metadata": {
    "jupyter": {},
    "collapsed": false,
    "scrolled": false,
    "tags": [],
    "slideshow": {
     "slide_type": "slide"
    },
    "id": "DBAB27E252E445B4851A30D21503233B",
    "notebookId": "65b9ac27ebb28341c8da4768",
    "trusted": true
   },
   "source": [
    "# 读取 CSV 数据\n",
    "# header = True 代表读入数据的第一行是列名\n",
    "# inferSchema=True 自动推断每列数据的数据类型，设为False就都当成字符串类型了\n",
    "data = spark.read.csv(\"Groceries_dataset.csv\", header=True, inferSchema=True)"
   ],
   "outputs": [],
   "execution_count": 4
  },
  {
   "cell_type": "code",
   "metadata": {
    "jupyter": {},
    "collapsed": false,
    "scrolled": false,
    "tags": [],
    "slideshow": {
     "slide_type": "slide"
    },
    "id": "7E4DE84BFD594568A826EC9BCF07E7D9",
    "notebookId": "65b9ac27ebb28341c8da4768",
    "trusted": true
   },
   "source": [
    "data.show()"
   ],
   "outputs": [
    {
     "name": "stdout",
     "output_type": "stream",
     "text": [
      "+-------------+----------+--------------------+\n",
      "|Member_number|      Date|     itemDescription|\n",
      "+-------------+----------+--------------------+\n",
      "|         1808|21-07-2015|      tropical fruit|\n",
      "|         2552|05-01-2015|          whole milk|\n",
      "|         2300|19-09-2015|           pip fruit|\n",
      "|         1187|12-12-2015|    other vegetables|\n",
      "|         3037|01-02-2015|          whole milk|\n",
      "|         4941|14-02-2015|          rolls/buns|\n",
      "|         4501|08-05-2015|    other vegetables|\n",
      "|         3803|23-12-2015|          pot plants|\n",
      "|         2762|20-03-2015|          whole milk|\n",
      "|         4119|12-02-2015|      tropical fruit|\n",
      "|         1340|24-02-2015|        citrus fruit|\n",
      "|         2193|14-04-2015|                beef|\n",
      "|         1997|21-07-2015|         frankfurter|\n",
      "|         4546|03-09-2015|             chicken|\n",
      "|         4736|21-07-2015|              butter|\n",
      "|         1959|30-03-2015|fruit/vegetable j...|\n",
      "|         1974|03-05-2015|packaged fruit/ve...|\n",
      "|         2421|02-09-2015|           chocolate|\n",
      "|         1513|03-08-2015|       specialty bar|\n",
      "|         1905|07-07-2015|    other vegetables|\n",
      "+-------------+----------+--------------------+\n",
      "only showing top 20 rows\n",
      "\n"
     ]
    }
   ],
   "execution_count": 5
  },
  {
   "cell_type": "code",
   "metadata": {
    "jupyter": {},
    "collapsed": false,
    "scrolled": false,
    "tags": [],
    "slideshow": {
     "slide_type": "slide"
    },
    "id": "E36B57D968F24D49BD4C4308B2F9AB1D",
    "notebookId": "65b9ac27ebb28341c8da4768",
    "trusted": true
   },
   "source": [
    "data.count()"
   ],
   "outputs": [
    {
     "data": {
      "text/plain": "38765"
     },
     "execution_count": 6,
     "metadata": {},
     "output_type": "execute_result"
    }
   ],
   "execution_count": 6
  },
  {
   "cell_type": "code",
   "metadata": {
    "jupyter": {},
    "collapsed": false,
    "scrolled": false,
    "tags": [],
    "slideshow": {
     "slide_type": "slide"
    },
    "id": "0909AEF640FC4EFE95B21FD153E99136",
    "notebookId": "65b9ac27ebb28341c8da4768",
    "trusted": true
   },
   "source": [
    "data.dtypes"
   ],
   "outputs": [
    {
     "data": {
      "text/plain": "[('Member_number', 'int'), ('Date', 'string'), ('itemDescription', 'string')]"
     },
     "execution_count": 7,
     "metadata": {},
     "output_type": "execute_result"
    }
   ],
   "execution_count": 7
  },
  {
   "cell_type": "markdown",
   "metadata": {
    "jupyter": {},
    "scrolled": false,
    "tags": [],
    "slideshow": {
     "slide_type": "slide"
    },
    "id": "B4516285A7C14A5DA1916B3AB475FC24",
    "runtime": {
     "status": "default",
     "execution_status": null,
     "is_visible": false
    },
    "notebookId": "65b9ac27ebb28341c8da4768"
   },
   "source": [
    "## 缺失值处理"
   ]
  },
  {
   "cell_type": "code",
   "metadata": {
    "jupyter": {},
    "collapsed": false,
    "scrolled": false,
    "tags": [],
    "slideshow": {
     "slide_type": "slide"
    },
    "id": "82C5ACBBA30C4ED88B2750F6DBB7ACDE",
    "notebookId": "65b9ac27ebb28341c8da4768",
    "trusted": true
   },
   "source": [
    "# 计算DataFrame中每一列的缺失率\n",
    "def calculate_missing_rates(df):\n",
    "    \"\"\"\n",
    "    计算每列的缺失率（为 null 和 空格 都认为是缺失值）\n",
    "\n",
    "    Parameters:\n",
    "    - df: PySpark DataFrame\n",
    "\n",
    "    Returns:\n",
    "    - missing_rates_df: PySpark DataFrame，包含每列的缺失率\n",
    "    \"\"\"\n",
    "    total_rows = df.count()\n",
    "    missing_rates = []\n",
    "\n",
    "    for column in df.columns:\n",
    "        missing_count = df.filter(col(column).isNull() | (col(column) == \"\") | (col(column) == \" \")).count()\n",
    "        missing_rate = (missing_count / total_rows) * 100\n",
    "        missing_rates.append((column, missing_rate))\n",
    "\n",
    "    # 创建 DataFrame 显示结果\n",
    "    missing_rates_df = spark.createDataFrame(missing_rates, [\"Column\", \"MissingRate\"])\n",
    "    return missing_rates_df"
   ],
   "outputs": [],
   "execution_count": 10
  },
  {
   "cell_type": "code",
   "metadata": {
    "jupyter": {},
    "collapsed": false,
    "scrolled": false,
    "tags": [],
    "slideshow": {
     "slide_type": "slide"
    },
    "id": "356F901C8880455FA3CF32FF4C7DEDFC",
    "notebookId": "65b9ac27ebb28341c8da4768",
    "trusted": true
   },
   "source": [
    "missing_rates = calculate_missing_rates(data)"
   ],
   "outputs": [],
   "execution_count": 13
  },
  {
   "cell_type": "code",
   "metadata": {
    "jupyter": {},
    "collapsed": false,
    "scrolled": false,
    "tags": [],
    "slideshow": {
     "slide_type": "slide"
    },
    "id": "2802BA4255C342D9B9119993D1D7CFD9",
    "notebookId": "65b9ac27ebb28341c8da4768",
    "trusted": true
   },
   "source": [
    "missing_rates.show()"
   ],
   "outputs": [
    {
     "name": "stdout",
     "output_type": "stream",
     "text": [
      "+---------------+-----------+\n",
      "|         Column|MissingRate|\n",
      "+---------------+-----------+\n",
      "|  Member_number|        0.0|\n",
      "|           Date|        0.0|\n",
      "|itemDescription|        0.0|\n",
      "+---------------+-----------+\n",
      "\n"
     ]
    }
   ],
   "execution_count": 14
  },
  {
   "cell_type": "markdown",
   "metadata": {
    "jupyter": {},
    "scrolled": false,
    "tags": [],
    "slideshow": {
     "slide_type": "slide"
    },
    "id": "29E27C97701044138D28EBD17BBEC3B9",
    "runtime": {
     "status": "default",
     "execution_status": null,
     "is_visible": false
    },
    "notebookId": "65b9ac27ebb28341c8da4768"
   },
   "source": [
    "* 本数据集中不存在缺失值"
   ]
  },
  {
   "cell_type": "code",
   "metadata": {
    "jupyter": {},
    "collapsed": false,
    "scrolled": false,
    "tags": [],
    "slideshow": {
     "slide_type": "slide"
    },
    "id": "4158352DF2C043CDB7014BDFA56F2BC3",
    "notebookId": "65b9ac27ebb28341c8da4768",
    "trusted": true
   },
   "source": [
    "# 删除数据中的重复数据，由于后续要使用FP-Growth，FP-Growth只关注于用户和item两列，并且不敏感于item的排列顺序，\n",
    "# 故只针对Member_number 和 itemDescription两列进行去重操作\n",
    "data = data.select(\"Member_number\", \"itemDescription\").dropDuplicates()"
   ],
   "outputs": [],
   "execution_count": 17
  },
  {
   "cell_type": "code",
   "metadata": {
    "jupyter": {},
    "collapsed": false,
    "scrolled": false,
    "tags": [],
    "slideshow": {
     "slide_type": "slide"
    },
    "id": "A6951B69071B4983A1903FB9A20CB94C",
    "notebookId": "65b9ac27ebb28341c8da4768",
    "trusted": true
   },
   "source": [
    "data.count()"
   ],
   "outputs": [
    {
     "data": {
      "text/plain": [
       "34766"
      ]
     },
     "execution_count": 18,
     "metadata": {},
     "output_type": "execute_result"
    }
   ],
   "execution_count": 18
  },
  {
   "cell_type": "markdown",
   "metadata": {
    "jupyter": {},
    "scrolled": false,
    "tags": [],
    "slideshow": {
     "slide_type": "slide"
    },
    "id": "8CF762EB27084BF5B39A7E9C5B9AC316",
    "runtime": {
     "status": "default",
     "execution_status": null,
     "is_visible": false
    },
    "notebookId": "65b9ac27ebb28341c8da4768"
   },
   "source": [
    "* 总计34766条数据参与构建FP-Growth模型"
   ]
  },
  {
   "cell_type": "markdown",
   "metadata": {
    "jupyter": {},
    "scrolled": false,
    "tags": [],
    "slideshow": {
     "slide_type": "slide"
    },
    "id": "FB2358CA390A4ADDAEB11617A2ACC2AE",
    "runtime": {
     "status": "default",
     "execution_status": null,
     "is_visible": false
    },
    "notebookId": "65b9ac27ebb28341c8da4768"
   },
   "source": [
    "# 四、数据建模"
   ]
  },
  {
   "cell_type": "code",
   "metadata": {
    "jupyter": {},
    "collapsed": false,
    "scrolled": false,
    "tags": [],
    "slideshow": {
     "slide_type": "slide"
    },
    "id": "E421978774C947BD9373A45458F7E337",
    "notebookId": "65b9ac27ebb28341c8da4768",
    "trusted": true
   },
   "source": [
    "# 构造参与构建FP-Growth模型的DataFrame\n",
    "grouped_df = data.groupBy(\"Member_number\").agg( collect_list(\"itemDescription\").alias(\"items\"))"
   ],
   "outputs": [],
   "execution_count": 20
  },
  {
   "cell_type": "code",
   "metadata": {
    "jupyter": {},
    "collapsed": false,
    "scrolled": false,
    "tags": [],
    "slideshow": {
     "slide_type": "slide"
    },
    "id": "CCECC5AEF0BE44DFBCAB72797D1FFB62",
    "notebookId": "65b9ac27ebb28341c8da4768",
    "trusted": true
   },
   "source": [
    "grouped_df.show()"
   ],
   "outputs": [
    {
     "name": "stdout",
     "output_type": "stream",
     "text": [
      "+-------------+--------------------+\n",
      "|Member_number|               items|\n",
      "+-------------+--------------------+\n",
      "|         1000|[hygiene articles...|\n",
      "|         1001|[whipped/sour cre...|\n",
      "|         1002|[other vegetables...|\n",
      "|         1003|[frozen meals, de...|\n",
      "|         1004|[tropical fruit, ...|\n",
      "|         1005|[whipped/sour cre...|\n",
      "|         1006|[bottled water, b...|\n",
      "|         1008|[liver loaf, dome...|\n",
      "|         1009|[tropical fruit, ...|\n",
      "|         1010|[candles, pip fru...|\n",
      "|         1011|[citrus fruit, he...|\n",
      "|         1012|[tropical fruit, ...|\n",
      "|         1013|[bottled water, t...|\n",
      "|         1014|[whole milk, butt...|\n",
      "|         1015|[citrus fruit, ro...|\n",
      "|         1016|[mayonnaise, red/...|\n",
      "|         1017|[yogurt, soda, ro...|\n",
      "|         1018|[curd, root veget...|\n",
      "|         1019|[hamburger meat, ...|\n",
      "|         1020|[canned beer, spi...|\n",
      "+-------------+--------------------+\n",
      "only showing top 20 rows\n",
      "\n"
     ]
    }
   ],
   "execution_count": 21
  },
  {
   "cell_type": "code",
   "metadata": {
    "jupyter": {},
    "collapsed": false,
    "scrolled": false,
    "tags": [],
    "slideshow": {
     "slide_type": "slide"
    },
    "id": "451DAC54B5594341A2D6C7A036EC439E",
    "notebookId": "65b9ac27ebb28341c8da4768",
    "trusted": true
   },
   "source": [
    "grouped_df.count()"
   ],
   "outputs": [
    {
     "data": {
      "text/plain": [
       "3898"
      ]
     },
     "execution_count": 22,
     "metadata": {},
     "output_type": "execute_result"
    }
   ],
   "execution_count": 22
  },
  {
   "cell_type": "code",
   "metadata": {
    "jupyter": {},
    "collapsed": false,
    "scrolled": false,
    "tags": [],
    "slideshow": {
     "slide_type": "slide"
    },
    "id": "30E776BAE3C74FB498B86738443DBE22",
    "notebookId": "65b9ac27ebb28341c8da4768",
    "trusted": true
   },
   "source": [
    "grouped_df.dtypes"
   ],
   "outputs": [
    {
     "data": {
      "text/plain": [
       "[('Member_number', 'int'), ('items', 'array<string>')]"
      ]
     },
     "execution_count": 23,
     "metadata": {},
     "output_type": "execute_result"
    }
   ],
   "execution_count": 23
  },
  {
   "cell_type": "code",
   "metadata": {
    "jupyter": {},
    "collapsed": false,
    "scrolled": false,
    "tags": [],
    "slideshow": {
     "slide_type": "slide"
    },
    "id": "44810589862E418F8C7289CCC0DE1BB0",
    "notebookId": "65b9ac27ebb28341c8da4768",
    "trusted": true
   },
   "source": [
    "# 构造FPGrowth模型\n",
    "# minSupport（最小支持度）：支持度是指在数据集中出现某个项集的频率，即包含该项集的事务数占总事务数的比例。\n",
    "#                           只有支持度大于或等于 minSupport 的项集才会被认为是频繁的\n",
    "\n",
    "# minConfidence（最小置信度）：置信度是关联规则中的一个度量，表示在前提条件下出现后项的概率。\n",
    "#                           只有置信度大于或等于 minConfidence 的关联规则才会被认为是强关联规则。\n",
    "fp_growth = FPGrowth(itemsCol=\"items\", minSupport=0.15, minConfidence=0.5)"
   ],
   "outputs": [],
   "execution_count": 40
  },
  {
   "cell_type": "code",
   "metadata": {
    "jupyter": {},
    "collapsed": false,
    "scrolled": false,
    "tags": [],
    "slideshow": {
     "slide_type": "slide"
    },
    "id": "77DB69B1510546D6B3F666C512EFD3CB",
    "notebookId": "65b9ac27ebb28341c8da4768",
    "trusted": true
   },
   "source": [
    "model = fp_growth.fit(grouped_df)"
   ],
   "outputs": [],
   "execution_count": 41
  },
  {
   "cell_type": "code",
   "metadata": {
    "jupyter": {},
    "collapsed": false,
    "scrolled": false,
    "tags": [],
    "slideshow": {
     "slide_type": "slide"
    },
    "id": "9BF2FB9F94B347B7A2051D26714FA942",
    "notebookId": "65b9ac27ebb28341c8da4768",
    "trusted": true
   },
   "source": [
    "model.freqItemsets.show()"
   ],
   "outputs": [
    {
     "name": "stdout",
     "output_type": "stream",
     "text": [
      "+--------------------+----+\n",
      "|               items|freq|\n",
      "+--------------------+----+\n",
      "|           [sausage]| 803|\n",
      "|         [pip fruit]| 665|\n",
      "|        [rolls/buns]|1363|\n",
      "|[rolls/buns, whol...| 696|\n",
      "|    [tropical fruit]| 911|\n",
      "|      [bottled beer]| 619|\n",
      "|            [yogurt]|1103|\n",
      "|[yogurt, whole milk]| 587|\n",
      "|       [canned beer]| 644|\n",
      "|     [bottled water]| 833|\n",
      "|  [other vegetables]|1468|\n",
      "|[other vegetables...| 746|\n",
      "|            [pastry]| 692|\n",
      "|      [citrus fruit]| 723|\n",
      "|     [shopping bags]| 656|\n",
      "|              [soda]|1222|\n",
      "|  [soda, whole milk]| 589|\n",
      "|   [root vegetables]| 899|\n",
      "|[whipped/sour cream]| 603|\n",
      "|        [whole milk]|1786|\n",
      "+--------------------+----+\n",
      "\n"
     ]
    }
   ],
   "execution_count": 42
  },
  {
   "cell_type": "code",
   "metadata": {
    "jupyter": {},
    "collapsed": false,
    "scrolled": false,
    "tags": [],
    "slideshow": {
     "slide_type": "slide"
    },
    "id": "55E71E553EC34292929C03A13C28AC4B",
    "notebookId": "65b9ac27ebb28341c8da4768",
    "trusted": true
   },
   "source": [
    "# 查看频繁项集\n",
    "model.freqItemsets.orderBy(\"freq\", ascending=False).show()"
   ],
   "outputs": [
    {
     "name": "stdout",
     "output_type": "stream",
     "text": [
      "+--------------------+----+\n",
      "|               items|freq|\n",
      "+--------------------+----+\n",
      "|        [whole milk]|1786|\n",
      "|  [other vegetables]|1468|\n",
      "|        [rolls/buns]|1363|\n",
      "|              [soda]|1222|\n",
      "|            [yogurt]|1103|\n",
      "|    [tropical fruit]| 911|\n",
      "|   [root vegetables]| 899|\n",
      "|     [bottled water]| 833|\n",
      "|           [sausage]| 803|\n",
      "|[other vegetables...| 746|\n",
      "|      [citrus fruit]| 723|\n",
      "|[rolls/buns, whol...| 696|\n",
      "|            [pastry]| 692|\n",
      "|         [pip fruit]| 665|\n",
      "|     [shopping bags]| 656|\n",
      "|       [canned beer]| 644|\n",
      "|      [bottled beer]| 619|\n",
      "|[whipped/sour cream]| 603|\n",
      "|  [soda, whole milk]| 589|\n",
      "|[yogurt, whole milk]| 587|\n",
      "+--------------------+----+\n",
      "\n"
     ]
    }
   ],
   "execution_count": 43
  },
  {
   "cell_type": "markdown",
   "metadata": {
    "jupyter": {},
    "scrolled": false,
    "tags": [],
    "slideshow": {
     "slide_type": "slide"
    },
    "id": "F3E7F32725594A3FAFF1F64E41BC456E",
    "runtime": {
     "status": "default",
     "execution_status": null,
     "is_visible": false
    },
    "notebookId": "65b9ac27ebb28341c8da4768"
   },
   "source": [
    "* 在这份数据集中，买 whole milk 、other vegetables 和 rolls/buns 的顾客最多。"
   ]
  },
  {
   "cell_type": "code",
   "metadata": {
    "jupyter": {},
    "collapsed": false,
    "scrolled": false,
    "tags": [],
    "slideshow": {
     "slide_type": "slide"
    },
    "id": "7818701FFB474255889F246E79F7BDEA",
    "notebookId": "65b9ac27ebb28341c8da4768",
    "trusted": true
   },
   "source": [
    "# 获取关联规则\n",
    "model.associationRules.show(30)"
   ],
   "outputs": [
    {
     "name": "stdout",
     "output_type": "stream",
     "text": [
      "+------------------+------------+------------------+------------------+-------------------+\n",
      "|        antecedent|  consequent|        confidence|              lift|            support|\n",
      "+------------------+------------+------------------+------------------+-------------------+\n",
      "|[other vegetables]|[whole milk]|0.5081743869209809|1.1091062487222754| 0.1913801949717804|\n",
      "|          [yogurt]|[whole milk]|0.5321849501359928|1.1615100423460805|0.15059004617752694|\n",
      "|      [rolls/buns]|[whole milk]|0.5106382978723404|1.1144838102499344|0.17855310415597742|\n",
      "+------------------+------------+------------------+------------------+-------------------+\n",
      "\n"
     ]
    }
   ],
   "execution_count": 44
  },
  {
   "cell_type": "markdown",
   "metadata": {
    "jupyter": {},
    "scrolled": false,
    "tags": [],
    "slideshow": {
     "slide_type": "slide"
    },
    "id": "D7824C9698A5423C98602C5BEC42E590",
    "runtime": {
     "status": "default",
     "execution_status": null,
     "is_visible": false
    },
    "notebookId": "65b9ac27ebb28341c8da4768"
   },
   "source": [
    "当最小支持度为0.15，最小置信度为0.5的条件下  \n",
    "* 顾客同时购买other vegetables、whole milk的概率为19%。  \n",
    "* 顾客同时购买yogurt、whole milk的概率为15%。  \n",
    "* 顾客同时购买rolls/buns、whole milk的概率为18%。"
   ]
  },
  {
   "cell_type": "code",
   "metadata": {
    "jupyter": {},
    "collapsed": false,
    "scrolled": false,
    "tags": [],
    "slideshow": {
     "slide_type": "slide"
    },
    "id": "94E86FF984F6435D89859F26E1863E1A",
    "notebookId": "65b9ac27ebb28341c8da4768",
    "trusted": true
   },
   "source": [],
   "outputs": [],
   "execution_count": null
  }
 ],
 "metadata": {
  "kernelspec": {
   "language": "python",
   "display_name": "Python 3",
   "name": "python3"
  },
  "language_info": {
   "codemirror_mode": {
    "name": "ipython",
    "version": 3
   },
   "name": "python",
   "mimetype": "text/x-python",
   "nbconvert_exporter": "python",
   "file_extension": ".py",
   "version": "3.5.2",
   "pygments_lexer": "ipython3"
  }
 },
 "nbformat": 4,
 "nbformat_minor": 5
}
