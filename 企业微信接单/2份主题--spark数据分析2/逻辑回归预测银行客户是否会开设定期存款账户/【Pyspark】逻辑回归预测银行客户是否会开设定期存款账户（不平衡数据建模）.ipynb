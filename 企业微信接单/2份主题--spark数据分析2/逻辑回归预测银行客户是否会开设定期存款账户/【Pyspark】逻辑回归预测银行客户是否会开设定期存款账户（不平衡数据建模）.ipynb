{
 "cells": [
  {
   "cell_type": "markdown",
   "metadata": {
    "jupyter": {},
    "scrolled": false,
    "tags": [],
    "slideshow": {
     "slide_type": "slide"
    },
    "id": "BE0751DD06E54FCAB0270A2EAFBBE511",
    "runtime": {
     "status": "default",
     "execution_status": null,
     "is_visible": false
    },
    "notebookId": "65b9a994ebb28341c8da1020"
   },
   "source": [
    "# 【Pyspark】逻辑回归预测银行客户是否会开设定期存款账户"
   ]
  },
  {
   "cell_type": "markdown",
   "metadata": {
    "jupyter": {},
    "scrolled": false,
    "tags": [],
    "slideshow": {
     "slide_type": "slide"
    },
    "id": "694D60277C714E89842070F6FA16684A",
    "runtime": {
     "status": "default",
     "execution_status": null,
     "is_visible": false
    },
    "notebookId": "65b9a994ebb28341c8da1020"
   },
   "source": [
    "# 一、项目介绍"
   ]
  },
  {
   "cell_type": "markdown",
   "metadata": {
    "jupyter": {},
    "scrolled": false,
    "tags": [],
    "slideshow": {
     "slide_type": "slide"
    },
    "id": "CCDD58992C324AAEA4D4A4028ACC1019",
    "runtime": {
     "status": "default",
     "execution_status": null,
     "is_visible": false
    },
    "notebookId": "65b9a994ebb28341c8da1020"
   },
   "source": [
    "* 逻辑回归预测银行客户是否会开设定期存款账户，采用多次建模进行投票的方式解决数据不均衡的问题"
   ]
  },
  {
   "cell_type": "markdown",
   "metadata": {
    "jupyter": {},
    "scrolled": false,
    "tags": [],
    "slideshow": {
     "slide_type": "slide"
    },
    "id": "36D7EA70CAC64BD4BA262FAF2E8B41DD",
    "runtime": {
     "status": "default",
     "execution_status": null,
     "is_visible": false
    },
    "notebookId": "65b9a994ebb28341c8da1020"
   },
   "source": [
    "# 二、分析概述"
   ]
  },
  {
   "cell_type": "markdown",
   "metadata": {
    "jupyter": {},
    "scrolled": false,
    "tags": [],
    "slideshow": {
     "slide_type": "slide"
    },
    "id": "E47A654C8E0641A1B9EF89650AA36AB4",
    "runtime": {
     "status": "default",
     "execution_status": null,
     "is_visible": false
    },
    "notebookId": "65b9a994ebb28341c8da1020"
   },
   "source": [
    "* 购买定期存款的客户的平均年龄高于未购买定期存款的客户的平均年龄  \n",
    "\n",
    "* 购买定期存款的客户的pdays（自上次联系客户以来的天数）较低。pdays越低，最后一次通话的记忆越好，因此销售的机会就越大  \n",
    "\n",
    "* 逻辑回归准确率为0.91"
   ]
  },
  {
   "cell_type": "markdown",
   "metadata": {
    "jupyter": {},
    "scrolled": false,
    "tags": [],
    "slideshow": {
     "slide_type": "slide"
    },
    "id": "6137E1904E794C98B7ECA165B6B42EFA",
    "runtime": {
     "status": "default",
     "execution_status": null,
     "is_visible": false
    },
    "notebookId": "65b9a994ebb28341c8da1020"
   },
   "source": [
    "# 三、数据预处理"
   ]
  },
  {
   "cell_type": "code",
   "metadata": {
    "jupyter": {},
    "collapsed": false,
    "scrolled": false,
    "tags": [],
    "slideshow": {
     "slide_type": "slide"
    },
    "id": "AE2BE16BA05F41629ECF5E2F0B7668C4",
    "notebookId": "65b9a994ebb28341c8da1020",
    "trusted": true
   },
   "source": [
    "import findspark\n",
    "import result as result\n",
    "\n",
    "findspark.init()"
   ],
   "outputs": [],
   "execution_count": 1
  },
  {
   "cell_type": "code",
   "metadata": {
    "jupyter": {},
    "collapsed": false,
    "scrolled": false,
    "tags": [],
    "slideshow": {
     "slide_type": "slide"
    },
    "id": "C93FEFA168B045059EEE98BDEEC59932",
    "notebookId": "65b9a994ebb28341c8da1020",
    "trusted": true
   },
   "source": [
    "from pyspark.sql import SparkSession\n",
    "from pyspark.sql.functions import when, col, mean, monotonically_increasing_id, rand\n",
    "from pyspark.ml.feature import StringIndexer, OneHotEncoder, VectorAssembler, StandardScaler\n",
    "from pyspark.ml.classification import LogisticRegression\n",
    "from pyspark.ml import Pipeline\n",
    "from pyspark.ml.tuning import ParamGridBuilder, CrossValidator\n",
    "from pyspark.ml.evaluation import BinaryClassificationEvaluator\n",
    "from functools import reduce\n",
    "from pyspark.ml.evaluation import MulticlassClassificationEvaluator"
   ],
   "outputs": [],
   "execution_count": 164
  },
  {
   "cell_type": "code",
   "metadata": {
    "jupyter": {},
    "collapsed": false,
    "scrolled": false,
    "tags": [],
    "slideshow": {
     "slide_type": "slide"
    },
    "id": "99F1E250DE384C979EA3260A013865EA",
    "notebookId": "65b9a994ebb28341c8da1020",
    "trusted": true
   },
   "source": [
    "# 创建 SparkSession\n",
    "spark = SparkSession.builder.appName(\"LogisticRegression\").master(\"local[*]\").getOrCreate()"
   ],
   "outputs": [],
   "execution_count": 3
  },
  {
   "cell_type": "code",
   "metadata": {
    "jupyter": {},
    "collapsed": false,
    "scrolled": false,
    "tags": [],
    "slideshow": {
     "slide_type": "slide"
    },
    "id": "0695793818C14D528CF6B4B62247DE97",
    "notebookId": "65b9a994ebb28341c8da1020",
    "trusted": true
   },
   "source": [
    "# 读取 CSV 数据\n",
    "# header = True 代表读入数据的第一行是列名\n",
    "# inferSchema=True 自动推断每列数据的数据类型，设为False就都当成字符串类型了\n",
    "data = spark.read.csv(\"banking.csv\", header=True, inferSchema=True)"
   ],
   "outputs": [],
   "execution_count": 4
  },
  {
   "cell_type": "code",
   "metadata": {
    "jupyter": {},
    "collapsed": false,
    "scrolled": false,
    "tags": [],
    "slideshow": {
     "slide_type": "slide"
    },
    "id": "431E1579CC7F4857B6B4CD70F5BA9DD9",
    "notebookId": "65b9a994ebb28341c8da1020",
    "trusted": true
   },
   "source": [
    "data.show()"
   ],
   "outputs": [
    {
     "name": "stdout",
     "output_type": "stream",
     "text": [
      "+---+-----------+--------+-----------------+-------+-------+----+---------+-----+-----------+--------+--------+-----+--------+-----------+------------+--------------+-------------+---------+-----------+---+\n",
      "|age|        job| marital|        education|default|housing|loan|  contact|month|day_of_week|duration|campaign|pdays|previous|   poutcome|emp_var_rate|cons_price_idx|cons_conf_idx|euribor3m|nr_employed|  y|\n",
      "+---+-----------+--------+-----------------+-------+-------+----+---------+-----+-----------+--------+--------+-----+--------+-----------+------------+--------------+-------------+---------+-----------+---+\n",
      "| 44|blue-collar| married|         basic.4y|unknown|    yes|  no| cellular|  aug|        thu|     210|       1|  999|       0|nonexistent|         1.4|        93.444|        -36.1|    4.963|     5228.1|  0|\n",
      "| 53| technician| married|          unknown|     no|     no|  no| cellular|  nov|        fri|     138|       1|  999|       0|nonexistent|        -0.1|          93.2|        -42.0|    4.021|     5195.8|  0|\n",
      "| 28| management|  single|university.degree|     no|    yes|  no| cellular|  jun|        thu|     339|       3|    6|       2|    success|        -1.7|        94.055|        -39.8|    0.729|     4991.6|  1|\n",
      "| 39|   services| married|      high.school|     no|     no|  no| cellular|  apr|        fri|     185|       2|  999|       0|nonexistent|        -1.8|        93.075|        -47.1|    1.405|     5099.1|  0|\n",
      "| 55|    retired| married|         basic.4y|     no|    yes|  no| cellular|  aug|        fri|     137|       1|    3|       1|    success|        -2.9|        92.201|        -31.4|    0.869|     5076.2|  1|\n",
      "| 30| management|divorced|         basic.4y|     no|    yes|  no| cellular|  jul|        tue|      68|       8|  999|       0|nonexistent|         1.4|        93.918|        -42.7|    4.961|     5228.1|  0|\n",
      "| 37|blue-collar| married|         basic.4y|     no|    yes|  no| cellular|  may|        thu|     204|       1|  999|       0|nonexistent|        -1.8|        92.893|        -46.2|    1.327|     5099.1|  0|\n",
      "| 39|blue-collar|divorced|         basic.9y|     no|    yes|  no| cellular|  may|        fri|     191|       1|  999|       0|nonexistent|        -1.8|        92.893|        -46.2|    1.313|     5099.1|  0|\n",
      "| 36|     admin.| married|university.degree|     no|     no|  no| cellular|  jun|        mon|     174|       1|    3|       1|    success|        -2.9|        92.963|        -40.8|    1.266|     5076.2|  1|\n",
      "| 27|blue-collar|  single|         basic.4y|     no|    yes|  no| cellular|  apr|        thu|     191|       2|  999|       1|    failure|        -1.8|        93.075|        -47.1|     1.41|     5099.1|  0|\n",
      "| 34|  housemaid|  single|university.degree|     no|     no|  no|telephone|  may|        fri|      62|       2|  999|       0|nonexistent|         1.1|        93.994|        -36.4|    4.864|     5191.0|  0|\n",
      "| 41| management| married|university.degree|     no|    yes|  no| cellular|  aug|        thu|     789|       1|  999|       0|nonexistent|         1.4|        93.444|        -36.1|    4.964|     5228.1|  0|\n",
      "| 55| management| married|university.degree|     no|     no|  no| cellular|  aug|        mon|     372|       3|  999|       0|nonexistent|         1.4|        93.444|        -36.1|    4.965|     5228.1|  1|\n",
      "| 33|   services|divorced|      high.school|     no|    yes|  no| cellular|  may|        tue|      75|       5|  999|       0|nonexistent|        -1.8|        92.893|        -46.2|    1.291|     5099.1|  0|\n",
      "| 26|     admin.| married|      high.school|     no|     no| yes|telephone|  jun|        mon|    1021|       1|  999|       0|nonexistent|         1.4|        94.465|        -41.8|     4.96|     5228.1|  0|\n",
      "| 52|   services| married|      high.school|unknown|    yes|  no| cellular|  jul|        thu|     117|       2|  999|       0|nonexistent|         1.4|        93.918|        -42.7|    4.962|     5228.1|  0|\n",
      "| 35|   services| married|      high.school|     no|     no|  no| cellular|  apr|        thu|    1034|       2|  999|       0|nonexistent|        -1.8|        93.075|        -47.1|    1.365|     5099.1|  1|\n",
      "| 27|     admin.|  single|university.degree|     no|     no|  no|telephone|  oct|        tue|     540|       1|  999|       0|nonexistent|        -0.1|        93.798|        -40.4|     4.86|     5195.8|  1|\n",
      "| 28|blue-collar| married|         basic.9y|unknown|     no|  no|telephone|  may|        thu|     140|       1|  999|       0|nonexistent|         1.1|        93.994|        -36.4|     4.86|     5191.0|  0|\n",
      "| 26| unemployed|  single|         basic.9y|     no|    yes| yes| cellular|  jul|        mon|     104|       4|  999|       0|nonexistent|         1.4|        93.918|        -42.7|     4.96|     5228.1|  0|\n",
      "+---+-----------+--------+-----------------+-------+-------+----+---------+-----+-----------+--------+--------+-----+--------+-----------+------------+--------------+-------------+---------+-----------+---+\n",
      "only showing top 20 rows\n",
      "\n"
     ]
    }
   ],
   "execution_count": 5
  },
  {
   "cell_type": "code",
   "metadata": {
    "jupyter": {},
    "collapsed": false,
    "scrolled": false,
    "tags": [],
    "slideshow": {
     "slide_type": "slide"
    },
    "id": "2CFFB454E7F64797B68CDD25F330B7FD",
    "notebookId": "65b9a994ebb28341c8da1020",
    "trusted": true
   },
   "source": [
    "# 删除 data 中包含空值的行\n",
    "data = data.na.drop()"
   ],
   "outputs": [],
   "execution_count": 6
  },
  {
   "cell_type": "code",
   "metadata": {
    "jupyter": {},
    "collapsed": false,
    "scrolled": false,
    "tags": [],
    "slideshow": {
     "slide_type": "slide"
    },
    "id": "AC851269784147D592D9FA3E69870A88",
    "notebookId": "65b9a994ebb28341c8da1020",
    "trusted": true
   },
   "source": [
    "# 删除重复数据\n",
    "data = data.dropDuplicates()"
   ],
   "outputs": [],
   "execution_count": 7
  },
  {
   "cell_type": "code",
   "metadata": {
    "jupyter": {},
    "collapsed": false,
    "scrolled": false,
    "tags": [],
    "slideshow": {
     "slide_type": "slide"
    },
    "id": "8F8ACC37C62F4734B2EF0E848DA10594",
    "notebookId": "65b9a994ebb28341c8da1020",
    "trusted": true
   },
   "source": [
    "# 剩余数据的数量\n",
    "data.count()"
   ],
   "outputs": [
    {
     "data": {
      "text/plain": [
       "41176"
      ]
     },
     "execution_count": 9,
     "metadata": {},
     "output_type": "execute_result"
    }
   ],
   "execution_count": 9
  },
  {
   "cell_type": "code",
   "metadata": {
    "jupyter": {},
    "collapsed": false,
    "scrolled": false,
    "tags": [],
    "slideshow": {
     "slide_type": "slide"
    },
    "id": "118E98A6627A40AD921AF7268731568D",
    "notebookId": "65b9a994ebb28341c8da1020",
    "trusted": true
   },
   "source": [
    "data.columns"
   ],
   "outputs": [
    {
     "data": {
      "text/plain": [
       "['age',\n",
       " 'job',\n",
       " 'marital',\n",
       " 'education',\n",
       " 'default',\n",
       " 'housing',\n",
       " 'loan',\n",
       " 'contact',\n",
       " 'month',\n",
       " 'day_of_week',\n",
       " 'duration',\n",
       " 'campaign',\n",
       " 'pdays',\n",
       " 'previous',\n",
       " 'poutcome',\n",
       " 'emp_var_rate',\n",
       " 'cons_price_idx',\n",
       " 'cons_conf_idx',\n",
       " 'euribor3m',\n",
       " 'nr_employed',\n",
       " 'y']"
      ]
     },
     "execution_count": 10,
     "metadata": {},
     "output_type": "execute_result"
    }
   ],
   "execution_count": 10
  },
  {
   "cell_type": "code",
   "metadata": {
    "jupyter": {},
    "collapsed": false,
    "scrolled": false,
    "tags": [],
    "slideshow": {
     "slide_type": "slide"
    },
    "id": "96150A80E3ED438B8F00743BAC9782B0",
    "notebookId": "65b9a994ebb28341c8da1020",
    "trusted": true
   },
   "source": [
    "# education的不同取值\n",
    "data.select('education').distinct().collect()"
   ],
   "outputs": [
    {
     "data": {
      "text/plain": [
       "[Row(education='high.school'),\n",
       " Row(education='unknown'),\n",
       " Row(education='basic.6y'),\n",
       " Row(education='professional.course'),\n",
       " Row(education='university.degree'),\n",
       " Row(education='illiterate'),\n",
       " Row(education='basic.4y'),\n",
       " Row(education='basic.9y')]"
      ]
     },
     "execution_count": 13,
     "metadata": {},
     "output_type": "execute_result"
    }
   ],
   "execution_count": 13
  },
  {
   "cell_type": "code",
   "metadata": {
    "jupyter": {},
    "collapsed": false,
    "scrolled": false,
    "tags": [],
    "slideshow": {
     "slide_type": "slide"
    },
    "id": "EAE21EBBC947457092E2FCA5F00E4FB3",
    "notebookId": "65b9a994ebb28341c8da1020",
    "trusted": true
   },
   "source": [
    "# 更新 education 列 数据\n",
    "data = data.withColumn(\"education\", when(data[\"education\"] == \"basic.4y\", \"Basic\")\n",
    "                                .when(data[\"education\"] == \"basic.6y\", \"Basic\")\n",
    "                                .when(data[\"education\"] == \"basic.9y\", \"Basic\")\n",
    "                                .otherwise(data[\"education\"]))"
   ],
   "outputs": [],
   "execution_count": 16
  },
  {
   "cell_type": "code",
   "metadata": {
    "jupyter": {},
    "collapsed": false,
    "scrolled": false,
    "tags": [],
    "slideshow": {
     "slide_type": "slide"
    },
    "id": "277FCE0289F54E18AF5F2D47751129FA",
    "notebookId": "65b9a994ebb28341c8da1020",
    "trusted": true
   },
   "source": [
    "# 观察标签列的数据分布\n",
    "y_counts_df = data.groupBy(\"y\").count().orderBy(\"y\")\n",
    "y_counts_df.show()"
   ],
   "outputs": [
    {
     "name": "stdout",
     "output_type": "stream",
     "text": [
      "+---+-----+\n",
      "|  y|count|\n",
      "+---+-----+\n",
      "|  0|36537|\n",
      "|  1| 4639|\n",
      "+---+-----+\n",
      "\n"
     ]
    }
   ],
   "execution_count": 18
  },
  {
   "cell_type": "markdown",
   "metadata": {
    "jupyter": {},
    "scrolled": false,
    "tags": [],
    "slideshow": {
     "slide_type": "slide"
    },
    "id": "577FF1000EC540EFAA96ED2918275C62",
    "runtime": {
     "status": "default",
     "execution_status": null,
     "is_visible": false
    },
    "notebookId": "65b9a994ebb28341c8da1020"
   },
   "source": [
    "* 数据处于极度不平衡的状态"
   ]
  },
  {
   "cell_type": "code",
   "metadata": {
    "jupyter": {},
    "collapsed": false,
    "scrolled": false,
    "tags": [],
    "slideshow": {
     "slide_type": "slide"
    },
    "id": "F58ABFBDBD6C43FCAC6D8491FA8EC3F4",
    "notebookId": "65b9a994ebb28341c8da1020",
    "trusted": true
   },
   "source": [
    "count_no_sub = y_counts_df.filter(col(\"y\") == 0).select(\"count\").first()[0]\n",
    "count_sub = y_counts_df.filter(col(\"y\") == 1).select(\"count\").first()[0]\n",
    "pct_of_no_sub = count_no_sub / (count_no_sub + count_sub)\n",
    "pct_of_sub = count_sub / (count_no_sub + count_sub)\n",
    "print('未开户的百分比：%.2f%%' %(pct_of_no_sub * 100))\n",
    "print('开户的百分比：%.2f%%' %(pct_of_sub * 100))"
   ],
   "outputs": [
    {
     "name": "stdout",
     "output_type": "stream",
     "text": [
      "未开户的百分比：88.73%\n",
      "开户的百分比：11.27%\n"
     ]
    }
   ],
   "execution_count": 20
  },
  {
   "cell_type": "markdown",
   "metadata": {
    "jupyter": {},
    "scrolled": false,
    "tags": [],
    "slideshow": {
     "slide_type": "slide"
    },
    "id": "6BF139E8ED924C7FBDF3A68C2610C05E",
    "runtime": {
     "status": "default",
     "execution_status": null,
     "is_visible": false
    },
    "notebookId": "65b9a994ebb28341c8da1020"
   },
   "source": [
    "## 探索分析"
   ]
  },
  {
   "cell_type": "code",
   "metadata": {
    "jupyter": {},
    "collapsed": false,
    "scrolled": false,
    "tags": [],
    "slideshow": {
     "slide_type": "slide"
    },
    "id": "8AB6889D82504263B5BF0AD2F57D3A45",
    "notebookId": "65b9a994ebb28341c8da1020",
    "trusted": true
   },
   "source": [
    "grouped_mean_df1 = data.groupBy(\"y\").agg(\n",
    "    mean(\"age\").alias(\"mean_age\"),\n",
    "    mean(\"duration\").alias(\"mean_duration\"),\n",
    "    mean(\"campaign\").alias(\"mean_campaign\"),\n",
    "    mean(\"pdays\").alias(\"mean_pdays\"),\n",
    "    mean(\"previous\").alias(\"mean_previous\")\n",
    ")"
   ],
   "outputs": [],
   "execution_count": 30
  },
  {
   "cell_type": "code",
   "metadata": {
    "jupyter": {},
    "collapsed": false,
    "scrolled": false,
    "tags": [],
    "slideshow": {
     "slide_type": "slide"
    },
    "id": "CA8A20A2BFA74A718E9088784226C8D7",
    "notebookId": "65b9a994ebb28341c8da1020",
    "trusted": true
   },
   "source": [
    "grouped_mean_df2 = data.groupBy(\"y\").agg(\n",
    "    mean(\"emp_var_rate\").alias(\"mean_emp_var_rate\"),\n",
    "    mean(\"cons_price_idx\").alias(\"mean_cons_price_idx\"),\n",
    "    mean(\"cons_conf_idx\").alias(\"mean_cons_conf_idx\"),\n",
    "    mean(\"euribor3m\").alias(\"mean_euribor3m\"),\n",
    "    mean(\"nr_employed\").alias(\"mean_nr_employed\")\n",
    ")"
   ],
   "outputs": [],
   "execution_count": 31
  },
  {
   "cell_type": "code",
   "metadata": {
    "jupyter": {},
    "collapsed": false,
    "scrolled": false,
    "tags": [],
    "slideshow": {
     "slide_type": "slide"
    },
    "id": "52B29BDE1B0041CA82A9DFA0C6BEA09B",
    "notebookId": "65b9a994ebb28341c8da1020",
    "trusted": true
   },
   "source": [
    "grouped_mean_df1.show()"
   ],
   "outputs": [
    {
     "name": "stdout",
     "output_type": "stream",
     "text": [
      "+---+-----------------+------------------+------------------+-----------------+-------------------+\n",
      "|  y|         mean_age|     mean_duration|     mean_campaign|       mean_pdays|      mean_previous|\n",
      "+---+-----------------+------------------+------------------+-----------------+-------------------+\n",
      "|  1|40.91226557447726| 553.2560896744989| 2.051950851476611|791.9909463246389|0.49277861608105195|\n",
      "|  0|39.91099433451022|220.86807893368368|2.6333853354134167|984.1093959547856|0.13241371760133563|\n",
      "+---+-----------------+------------------+------------------+-----------------+-------------------+\n",
      "\n"
     ]
    }
   ],
   "execution_count": 32
  },
  {
   "cell_type": "code",
   "metadata": {
    "jupyter": {},
    "collapsed": false,
    "scrolled": false,
    "tags": [],
    "slideshow": {
     "slide_type": "slide"
    },
    "id": "39AB9F8154B84F21927E8E6E4EAE819D",
    "notebookId": "65b9a994ebb28341c8da1020",
    "trusted": true
   },
   "source": [
    "grouped_mean_df2.show()"
   ],
   "outputs": [
    {
     "name": "stdout",
     "output_type": "stream",
     "text": [
      "+---+-------------------+-------------------+------------------+------------------+------------------+\n",
      "|  y|  mean_emp_var_rate|mean_cons_price_idx|mean_cons_conf_idx|    mean_euribor3m|  mean_nr_employed|\n",
      "+---+-------------------+-------------------+------------------+------------------+------------------+\n",
      "|  1|-1.2330890278077151|  93.35457684845879|-39.79111877559823|2.1233617158870453| 5095.120068980305|\n",
      "|  0|0.24888469222979895|  93.60379779400651|-40.59323151873497|3.8114816213702474|5176.1656895749975|\n",
      "+---+-------------------+-------------------+------------------+------------------+------------------+\n",
      "\n"
     ]
    }
   ],
   "execution_count": 33
  },
  {
   "cell_type": "markdown",
   "metadata": {
    "jupyter": {},
    "scrolled": false,
    "tags": [],
    "slideshow": {
     "slide_type": "slide"
    },
    "id": "A29D8AF8B39D486E8219BE9214A6E269",
    "runtime": {
     "status": "default",
     "execution_status": null,
     "is_visible": false
    },
    "notebookId": "65b9a994ebb28341c8da1020"
   },
   "source": [
    "### 观察："
   ]
  },
  {
   "cell_type": "markdown",
   "metadata": {
    "jupyter": {},
    "scrolled": false,
    "tags": [],
    "slideshow": {
     "slide_type": "slide"
    },
    "id": "73EC7B758C0D471CA574F74DF861B53C",
    "runtime": {
     "status": "default",
     "execution_status": null,
     "is_visible": false
    },
    "notebookId": "65b9a994ebb28341c8da1020"
   },
   "source": [
    "* 购买定期存款的客户的平均年龄高于未购买定期存款的客户的平均年龄  \n",
    "* 购买定期存款的客户的pdays（自上次联系客户以来的天数）较低。pdays越低，最后一次通话的记忆越好，因此销售的机会就越大  \n",
    "* 此次活动期间购买定期存款的客户的销售通话次数（campaign）相比未购买的较低  \n",
    "* 需进一步计算其他特征值（如教育和婚姻状况）的分布，以便更加详细地了解数据"
   ]
  },
  {
   "cell_type": "markdown",
   "metadata": {
    "jupyter": {},
    "scrolled": false,
    "tags": [],
    "slideshow": {
     "slide_type": "slide"
    },
    "id": "135847A05E63482893AC1B8B090E1AEA",
    "runtime": {
     "status": "default",
     "execution_status": null,
     "is_visible": false
    },
    "notebookId": "65b9a994ebb28341c8da1020"
   },
   "source": [
    "# 四、逻辑回归建模"
   ]
  },
  {
   "cell_type": "markdown",
   "metadata": {
    "jupyter": {},
    "scrolled": false,
    "tags": [],
    "slideshow": {
     "slide_type": "slide"
    },
    "id": "D4A744FFFA194860A9916F211E8DB22E",
    "runtime": {
     "status": "default",
     "execution_status": null,
     "is_visible": false
    },
    "notebookId": "65b9a994ebb28341c8da1020"
   },
   "source": [
    "## 不均衡数据集处理"
   ]
  },
  {
   "cell_type": "markdown",
   "metadata": {
    "jupyter": {},
    "scrolled": false,
    "tags": [],
    "slideshow": {
     "slide_type": "slide"
    },
    "id": "DD45864BB8254F09901CF84C2D15F0C5",
    "runtime": {
     "status": "default",
     "execution_status": null,
     "is_visible": false
    },
    "notebookId": "65b9a994ebb28341c8da1020"
   },
   "source": [
    "* 由于数据集极度不平衡，为解决这个问题，将负样本随机分为7份，与正样本分别构建7个逻辑回归模型，模型构建完成后，使用投票法对测试集进行预测，评估建模效果"
   ]
  },
  {
   "cell_type": "code",
   "metadata": {
    "jupyter": {},
    "collapsed": false,
    "scrolled": false,
    "tags": [],
    "slideshow": {
     "slide_type": "slide"
    },
    "id": "5E3D2E87B671464A9E24DCBFDF698D28",
    "notebookId": "65b9a994ebb28341c8da1020",
    "trusted": true
   },
   "source": [
    "# 划分测试集和训练集\n",
    "(train, test) = data.randomSplit([0.8, 0.2], seed=12345)"
   ],
   "outputs": [],
   "execution_count": 100
  },
  {
   "cell_type": "code",
   "metadata": {
    "jupyter": {},
    "collapsed": false,
    "scrolled": false,
    "tags": [],
    "slideshow": {
     "slide_type": "slide"
    },
    "id": "72956C721A824CFE8D698A581150129A",
    "notebookId": "65b9a994ebb28341c8da1020",
    "trusted": true
   },
   "source": [
    "# 查看训练集中正负样本的比例\n",
    "y_counts_df = train.groupBy(\"y\").count().orderBy(\"y\")\n",
    "y_counts_df.show()\n",
    "count_no_sub = y_counts_df.filter(col(\"y\") == 0).select(\"count\").first()[0]\n",
    "count_sub = y_counts_df.filter(col(\"y\") == 1).select(\"count\").first()[0]\n",
    "pct_of_no_sub = count_no_sub / (count_no_sub + count_sub)\n",
    "pct_of_sub = count_sub / (count_no_sub + count_sub)\n",
    "print('未开户的百分比：%.2f%%' %(pct_of_no_sub * 100))\n",
    "print('开户的百分比：%.2f%%' %(pct_of_sub * 100))"
   ],
   "outputs": [
    {
     "name": "stdout",
     "output_type": "stream",
     "text": [
      "+---+-----+\n",
      "|  y|count|\n",
      "+---+-----+\n",
      "|  0|29186|\n",
      "|  1| 3745|\n",
      "+---+-----+\n",
      "\n",
      "未开户的百分比：88.63%\n",
      "开户的百分比：11.37%\n"
     ]
    }
   ],
   "execution_count": 101
  },
  {
   "cell_type": "code",
   "metadata": {
    "jupyter": {},
    "collapsed": false,
    "scrolled": false,
    "tags": [],
    "slideshow": {
     "slide_type": "slide"
    },
    "id": "D3715DB01CE747268EF5B902B0D48410",
    "notebookId": "65b9a994ebb28341c8da1020",
    "trusted": true
   },
   "source": [
    "# 训练集数据量\n",
    "train.count()"
   ],
   "outputs": [
    {
     "data": {
      "text/plain": [
       "32931"
      ]
     },
     "execution_count": 102,
     "metadata": {},
     "output_type": "execute_result"
    }
   ],
   "execution_count": 102
  },
  {
   "cell_type": "code",
   "metadata": {
    "jupyter": {},
    "collapsed": false,
    "scrolled": false,
    "tags": [],
    "slideshow": {
     "slide_type": "slide"
    },
    "id": "F4C9A23A6591476C934B42DF9A0C1A8C",
    "notebookId": "65b9a994ebb28341c8da1020",
    "trusted": true
   },
   "source": [
    "# 分离训练集正负样本\n",
    "positive_df = train.filter(col('y') == 1)\n",
    "negative_df = train.filter(col('y') == 0)"
   ],
   "outputs": [],
   "execution_count": 104
  },
  {
   "cell_type": "code",
   "metadata": {
    "jupyter": {},
    "collapsed": false,
    "scrolled": false,
    "tags": [],
    "slideshow": {
     "slide_type": "slide"
    },
    "id": "E4AB0371BC2642CA96F3453093ACECDD",
    "notebookId": "65b9a994ebb28341c8da1020",
    "trusted": true
   },
   "source": [
    "# 将负样本随机分为7份\n",
    "negative_df = negative_df.withColumn(\"random\", (rand(seed=12345) * 7).cast(\"int\"))\n",
    "negative_dfs = [negative_df.filter(col(\"random\") == i) for i in range(7)]"
   ],
   "outputs": [],
   "execution_count": 107
  },
  {
   "cell_type": "markdown",
   "metadata": {
    "jupyter": {},
    "scrolled": false,
    "tags": [],
    "slideshow": {
     "slide_type": "slide"
    },
    "id": "58247F751D414BB1B0E77DEC3AE84EB8",
    "runtime": {
     "status": "default",
     "execution_status": null,
     "is_visible": false
    },
    "notebookId": "65b9a994ebb28341c8da1020"
   },
   "source": [
    "## 处理离散特征"
   ]
  },
  {
   "cell_type": "code",
   "metadata": {
    "jupyter": {},
    "collapsed": false,
    "scrolled": false,
    "tags": [],
    "slideshow": {
     "slide_type": "slide"
    },
    "id": "5A0CAA8D831048CB854208D0EFAF4ECA",
    "notebookId": "65b9a994ebb28341c8da1020",
    "trusted": true
   },
   "source": [
    "data.dtypes"
   ],
   "outputs": [
    {
     "data": {
      "text/plain": [
       "[('age', 'double'),\n",
       " ('job', 'string'),\n",
       " ('marital', 'string'),\n",
       " ('education', 'string'),\n",
       " ('default', 'string'),\n",
       " ('housing', 'string'),\n",
       " ('loan', 'string'),\n",
       " ('contact', 'string'),\n",
       " ('month', 'string'),\n",
       " ('day_of_week', 'string'),\n",
       " ('duration', 'int'),\n",
       " ('campaign', 'int'),\n",
       " ('pdays', 'int'),\n",
       " ('previous', 'int'),\n",
       " ('poutcome', 'string'),\n",
       " ('emp_var_rate', 'double'),\n",
       " ('cons_price_idx', 'double'),\n",
       " ('cons_conf_idx', 'double'),\n",
       " ('euribor3m', 'double'),\n",
       " ('nr_employed', 'double'),\n",
       " ('y', 'int')]"
      ]
     },
     "execution_count": 108,
     "metadata": {},
     "output_type": "execute_result"
    }
   ],
   "execution_count": 108
  },
  {
   "cell_type": "code",
   "metadata": {
    "jupyter": {},
    "collapsed": false,
    "scrolled": false,
    "tags": [],
    "slideshow": {
     "slide_type": "slide"
    },
    "id": "AA6A5FF7A175447B85F46C7299E8DEDE",
    "notebookId": "65b9a994ebb28341c8da1020",
    "trusted": true
   },
   "source": [
    "# 分离出 data 中的离散型变量和连续型变量\n",
    "string_columns = [field for (field, dtype) in data.dtypes if dtype == \"string\"]\n",
    "numeric_columns = [field for (field, dtype) in data.dtypes if dtype != \"string\" and field != \"y\"]\n",
    "\n",
    "# 对离散变量进行独热编码\n",
    "indexers = [StringIndexer(inputCol=column, outputCol=column+\"_index\") for column in string_columns]\n",
    "encoders = [OneHotEncoder(inputCol=column+\"_index\", outputCol=column+\"_vec\") for column in string_columns]"
   ],
   "outputs": [],
   "execution_count": 109
  },
  {
   "cell_type": "markdown",
   "metadata": {
    "jupyter": {},
    "scrolled": false,
    "tags": [],
    "slideshow": {
     "slide_type": "slide"
    },
    "id": "32E53FD4E9BE4FE49339A92CDF25C85C",
    "runtime": {
     "status": "default",
     "execution_status": null,
     "is_visible": false
    },
    "notebookId": "65b9a994ebb28341c8da1020"
   },
   "source": [
    "## 处理连续型特征"
   ]
  },
  {
   "cell_type": "code",
   "metadata": {
    "jupyter": {},
    "collapsed": false,
    "scrolled": false,
    "tags": [],
    "slideshow": {
     "slide_type": "slide"
    },
    "id": "08A7A5E0910345098CA03C7D35A08AE0",
    "notebookId": "65b9a994ebb28341c8da1020",
    "trusted": true
   },
   "source": [
    "# 合并数值型特征列\n",
    "assembler_numeric = VectorAssembler(inputCols=numeric_columns, outputCol=\"features_numeric\")"
   ],
   "outputs": [],
   "execution_count": 110
  },
  {
   "cell_type": "code",
   "metadata": {
    "jupyter": {},
    "collapsed": false,
    "scrolled": false,
    "tags": [],
    "slideshow": {
     "slide_type": "slide"
    },
    "id": "5D1232AD776E4C18A22F69514CB6D406",
    "notebookId": "65b9a994ebb28341c8da1020",
    "trusted": true
   },
   "source": [
    "# 将每个数值列转换为向量列\n",
    "vector_assemblers = [VectorAssembler(inputCols=[col], outputCol=col+\"_vec\") for col in numeric_columns]\n",
    "\n",
    "# 分别对每个特征列进行标准化\n",
    "scalers = [StandardScaler(inputCol=col+\"_vec\", outputCol=col+\"_scaled\") for col in numeric_columns]"
   ],
   "outputs": [],
   "execution_count": 111
  },
  {
   "cell_type": "markdown",
   "metadata": {
    "jupyter": {},
    "scrolled": false,
    "tags": [],
    "slideshow": {
     "slide_type": "slide"
    },
    "id": "B75A350E7DB6415B80B815453344731F",
    "runtime": {
     "status": "default",
     "execution_status": null,
     "is_visible": false
    },
    "notebookId": "65b9a994ebb28341c8da1020"
   },
   "source": [
    "## 模型搭建"
   ]
  },
  {
   "cell_type": "code",
   "metadata": {
    "jupyter": {},
    "collapsed": false,
    "scrolled": false,
    "tags": [],
    "slideshow": {
     "slide_type": "slide"
    },
    "id": "C21C04D193A7482A854BB6B129506AD6",
    "notebookId": "65b9a994ebb28341c8da1020",
    "trusted": true
   },
   "source": [
    "# 合并所有特征到一个向量中\n",
    "assembler_inputs = [c + \"_vec\" for c in string_columns] + [col + \"_scaled\" for col in numeric_columns]\n",
    "assembler = VectorAssembler(inputCols=assembler_inputs, outputCol=\"features\")"
   ],
   "outputs": [],
   "execution_count": 113
  },
  {
   "cell_type": "code",
   "metadata": {
    "jupyter": {},
    "collapsed": false,
    "scrolled": false,
    "tags": [],
    "slideshow": {
     "slide_type": "slide"
    },
    "id": "C3B78B6A56BA4D8793C981DB88A06A26",
    "notebookId": "65b9a994ebb28341c8da1020",
    "trusted": true
   },
   "source": [
    "# 创建逻辑回归模型\n",
    "lr = LogisticRegression(featuresCol=\"features\", labelCol=\"y\")"
   ],
   "outputs": [],
   "execution_count": 114
  },
  {
   "cell_type": "code",
   "metadata": {
    "jupyter": {},
    "collapsed": false,
    "scrolled": false,
    "tags": [],
    "slideshow": {
     "slide_type": "slide"
    },
    "id": "E80CEA9D2B5B4D36852F317F3673E502",
    "notebookId": "65b9a994ebb28341c8da1020",
    "trusted": true
   },
   "source": [
    "# 构建Pipeline\n",
    "pipeline = Pipeline(stages=indexers + encoders + vector_assemblers + scalers + [assembler, lr])"
   ],
   "outputs": [],
   "execution_count": 115
  },
  {
   "cell_type": "code",
   "metadata": {
    "jupyter": {},
    "collapsed": false,
    "scrolled": false,
    "tags": [],
    "slideshow": {
     "slide_type": "slide"
    },
    "id": "322971287E8948B5AD7728EF478024D2",
    "notebookId": "65b9a994ebb28341c8da1020",
    "trusted": true
   },
   "source": [
    "# 设置参数网格\n",
    "paramGrid = ParamGridBuilder() \\\n",
    "    .addGrid(lr.regParam, [0.1, 0.01]) \\\n",
    "    .addGrid(lr.maxIter, [50, 100]) \\\n",
    "    .addGrid(lr.elasticNetParam, [0.0, 0.5, 1.0]) \\\n",
    "    .build()"
   ],
   "outputs": [],
   "execution_count": 116
  },
  {
   "cell_type": "code",
   "metadata": {
    "jupyter": {},
    "collapsed": false,
    "scrolled": false,
    "tags": [],
    "slideshow": {
     "slide_type": "slide"
    },
    "id": "35E16C7021E948AE905CD68C7E92E14E",
    "notebookId": "65b9a994ebb28341c8da1020",
    "trusted": true
   },
   "source": [
    "# 设置评估器\n",
    "evaluator = BinaryClassificationEvaluator(labelCol='y')"
   ],
   "outputs": [],
   "execution_count": 117
  },
  {
   "cell_type": "code",
   "metadata": {
    "jupyter": {},
    "collapsed": false,
    "scrolled": false,
    "tags": [],
    "slideshow": {
     "slide_type": "slide"
    },
    "id": "FE6809DFF7154A5C86902E375D8FEF31",
    "notebookId": "65b9a994ebb28341c8da1020",
    "trusted": true
   },
   "source": [
    "# 设置交叉验证\n",
    "crossval = CrossValidator(estimator=pipeline,\n",
    "                          estimatorParamMaps=paramGrid,\n",
    "                          evaluator=evaluator,\n",
    "                          numFolds=5)  # 使用5折交叉验证"
   ],
   "outputs": [],
   "execution_count": 118
  },
  {
   "cell_type": "code",
   "metadata": {
    "jupyter": {},
    "collapsed": false,
    "scrolled": false,
    "tags": [],
    "slideshow": {
     "slide_type": "slide"
    },
    "id": "7BDA3FC785E94AB1A76720926C2E10F9",
    "notebookId": "65b9a994ebb28341c8da1020",
    "trusted": true
   },
   "source": [
    "# 训练模型\n",
    "models = []\n",
    "for i in range(7):\n",
    "    combined_df = positive_df.union(negative_dfs[i].drop(\"random\"))\n",
    "    # 运行交叉验证并选择最佳参数\n",
    "    cvModel = crossval.fit(data)\n",
    "    models.append(cvModel)"
   ],
   "outputs": [],
   "execution_count": 122
  },
  {
   "cell_type": "code",
   "metadata": {
    "jupyter": {},
    "collapsed": false,
    "scrolled": false,
    "tags": [],
    "slideshow": {
     "slide_type": "slide"
    },
    "id": "D265758CE00D4A33B69F717B9910386E",
    "notebookId": "65b9a994ebb28341c8da1020",
    "trusted": true
   },
   "source": [
    "models"
   ],
   "outputs": [
    {
     "data": {
      "text/plain": [
       "[CrossValidatorModel_67e6a69caa32,\n",
       " CrossValidatorModel_a9ed59c20cdf,\n",
       " CrossValidatorModel_679d73782444,\n",
       " CrossValidatorModel_ec1f68105b27,\n",
       " CrossValidatorModel_1ee2546b6b76,\n",
       " CrossValidatorModel_5d13d17c1862,\n",
       " CrossValidatorModel_1061dea5bd39]"
      ]
     },
     "execution_count": 123,
     "metadata": {},
     "output_type": "execute_result"
    }
   ],
   "execution_count": 123
  },
  {
   "cell_type": "code",
   "metadata": {
    "jupyter": {},
    "collapsed": false,
    "scrolled": false,
    "tags": [],
    "slideshow": {
     "slide_type": "slide"
    },
    "id": "2883399776824DF98DA9B93CC474BFEE",
    "notebookId": "65b9a994ebb28341c8da1020",
    "trusted": true
   },
   "source": [
    "data.count()"
   ],
   "outputs": [
    {
     "data": {
      "text/plain": [
       "41176"
      ]
     },
     "execution_count": 99,
     "metadata": {},
     "output_type": "execute_result"
    }
   ],
   "execution_count": 99
  },
  {
   "cell_type": "code",
   "metadata": {
    "jupyter": {},
    "collapsed": false,
    "scrolled": false,
    "tags": [],
    "slideshow": {
     "slide_type": "slide"
    },
    "id": "D498669561C944D286D441741C4F343A",
    "notebookId": "65b9a994ebb28341c8da1020",
    "trusted": true
   },
   "source": [
    "# 显示每个最佳模型参数\n",
    "for i,cvModel in enumerate(models):  \n",
    "    bestModel = cvModel.bestModel\n",
    "    bestLRModel = bestModel.stages[-1]\n",
    "    output_text = \"Model {} 的最优参数为：regParam={}, maxIter={}, elasticNetParam={}\".format(i, bestLRModel.getRegParam(), bestLRModel.getMaxIter(), bestLRModel.getElasticNetParam())\n",
    "    print(output_text)"
   ],
   "outputs": [
    {
     "name": "stdout",
     "output_type": "stream",
     "text": [
      "Model 0 的最优参数为：regParam=0.01, maxIter=50, elasticNetParam=0.5\n",
      "Model 1 的最优参数为：regParam=0.01, maxIter=50, elasticNetParam=0.5\n",
      "Model 2 的最优参数为：regParam=0.01, maxIter=50, elasticNetParam=0.5\n",
      "Model 3 的最优参数为：regParam=0.01, maxIter=50, elasticNetParam=0.5\n",
      "Model 4 的最优参数为：regParam=0.01, maxIter=50, elasticNetParam=0.5\n",
      "Model 5 的最优参数为：regParam=0.01, maxIter=50, elasticNetParam=0.5\n",
      "Model 6 的最优参数为：regParam=0.01, maxIter=50, elasticNetParam=0.5\n"
     ]
    }
   ],
   "execution_count": 134
  },
  {
   "cell_type": "code",
   "metadata": {
    "jupyter": {},
    "collapsed": false,
    "scrolled": false,
    "tags": [],
    "slideshow": {
     "slide_type": "slide"
    },
    "id": "4E607F4A1AF44EB8BC11C40B407CA5B1",
    "notebookId": "65b9a994ebb28341c8da1020",
    "trusted": true
   },
   "source": [
    "test_new = test.withColumn(\"incremental_id\", monotonically_increasing_id())"
   ],
   "outputs": [],
   "execution_count": 151
  },
  {
   "cell_type": "code",
   "metadata": {
    "jupyter": {},
    "collapsed": false,
    "scrolled": false,
    "tags": [],
    "slideshow": {
     "slide_type": "slide"
    },
    "id": "CEDDCBB1F96B46618126049762B48829",
    "notebookId": "65b9a994ebb28341c8da1020",
    "trusted": true
   },
   "source": [
    "# 分别用训练好的7个模型完成对测试集的预测\n",
    "predictions = [model.transform(test_new).select(\"incremental_id\", \"prediction\") for model in models]"
   ],
   "outputs": [],
   "execution_count": 152
  },
  {
   "cell_type": "code",
   "metadata": {
    "jupyter": {},
    "collapsed": false,
    "scrolled": false,
    "tags": [],
    "slideshow": {
     "slide_type": "slide"
    },
    "id": "6BB9ABBD19A441AB9174B560DC97C24A",
    "notebookId": "65b9a994ebb28341c8da1020",
    "trusted": true
   },
   "source": [
    "# 投票法计算最终结果\n",
    "def majority_vote(df1, df2):\n",
    "    return df1.join(df2.withColumnRenamed(\"prediction\", \"prediction2\"), on=\"incremental_id\", how=\"inner\")\\\n",
    "                .withColumn(\"prediction3\", col(\"prediction\") + col(\"prediction2\"))\\\n",
    "                .select(\"prediction3\", \"incremental_id\" )\\\n",
    "                .withColumnRenamed(\"prediction3\", \"prediction\")"
   ],
   "outputs": [],
   "execution_count": 159
  },
  {
   "cell_type": "code",
   "metadata": {
    "jupyter": {},
    "collapsed": false,
    "scrolled": false,
    "tags": [],
    "slideshow": {
     "slide_type": "slide"
    },
    "id": "AB156824B6DA4E31B6D47BEA6C58B21C",
    "notebookId": "65b9a994ebb28341c8da1020",
    "trusted": true
   },
   "source": [
    "# 计算投票结果\n",
    "vote_result = reduce(majority_vote, predictions)\n",
    "final_prediction = vote_result.withColumn(\"majority_vote\", (col(\"prediction\") > 3.5).cast(\"int\"))"
   ],
   "outputs": [],
   "execution_count": 161
  },
  {
   "cell_type": "code",
   "metadata": {
    "jupyter": {},
    "collapsed": false,
    "scrolled": false,
    "tags": [],
    "slideshow": {
     "slide_type": "slide"
    },
    "id": "59CA2C2AE70A418F8CF239E03306EE72",
    "notebookId": "65b9a994ebb28341c8da1020",
    "trusted": true
   },
   "source": [
    "result.dtypes"
   ],
   "outputs": [
    {
     "data": {
      "text/plain": [
       "[('majority_vote', 'int'), ('y', 'int')]"
      ]
     },
     "execution_count": 167,
     "metadata": {},
     "output_type": "execute_result"
    }
   ],
   "execution_count": 167
  },
  {
   "cell_type": "code",
   "metadata": {
    "jupyter": {},
    "collapsed": false,
    "scrolled": false,
    "tags": [],
    "slideshow": {
     "slide_type": "slide"
    },
    "id": "84486C30F5FA40958D7BC3EFE6386CD0",
    "notebookId": "65b9a994ebb28341c8da1020",
    "trusted": true
   },
   "source": [
    "# 计算最终预测结果在测试集上的准确率\n",
    "result = final_prediction.join(test_new, on=\"incremental_id\", how=\"inner\").select(\"majority_vote\", \"y\").withColumn(\"prediction\", col(\"majority_vote\").cast(\"double\"))\n",
    "evaluator = MulticlassClassificationEvaluator(labelCol=\"y\", predictionCol=\"prediction\", metricName=\"accuracy\")\n",
    "\n",
    "# 计算准确率\n",
    "accuracy = evaluator.evaluate(result)"
   ],
   "outputs": [],
   "execution_count": 169
  },
  {
   "cell_type": "code",
   "metadata": {
    "jupyter": {},
    "collapsed": false,
    "scrolled": false,
    "tags": [],
    "slideshow": {
     "slide_type": "slide"
    },
    "id": "127E8AA3BF0A4B2BA759DABE8440F4AD",
    "notebookId": "65b9a994ebb28341c8da1020",
    "trusted": true
   },
   "source": [
    "accuracy"
   ],
   "outputs": [
    {
     "data": {
      "text/plain": [
       "0.9142510612492419"
      ]
     },
     "execution_count": 170,
     "metadata": {},
     "output_type": "execute_result"
    }
   ],
   "execution_count": 170
  },
  {
   "cell_type": "markdown",
   "metadata": {
    "jupyter": {},
    "scrolled": false,
    "tags": [],
    "slideshow": {
     "slide_type": "slide"
    },
    "id": "672453957AB2458E8D75DDCE5EE8FCF1",
    "runtime": {
     "status": "default",
     "execution_status": null,
     "is_visible": false
    },
    "notebookId": "65b9a994ebb28341c8da1020"
   },
   "source": [
    "* 预测准确率达到91%以上，预测效果较好"
   ]
  },
  {
   "cell_type": "code",
   "metadata": {
    "jupyter": {},
    "collapsed": false,
    "scrolled": false,
    "tags": [],
    "slideshow": {
     "slide_type": "slide"
    },
    "id": "BD093301357E4A4DAEF9CFBA7A40E49B",
    "notebookId": "65b9a994ebb28341c8da1020",
    "trusted": true
   },
   "source": [],
   "outputs": [],
   "execution_count": null
  }
 ],
 "metadata": {
  "kernelspec": {
   "language": "python",
   "display_name": "Python 3",
   "name": "python3"
  },
  "language_info": {
   "codemirror_mode": {
    "name": "ipython",
    "version": 3
   },
   "name": "python",
   "mimetype": "text/x-python",
   "nbconvert_exporter": "python",
   "file_extension": ".py",
   "version": "3.5.2",
   "pygments_lexer": "ipython3"
  }
 },
 "nbformat": 4,
 "nbformat_minor": 5
}
