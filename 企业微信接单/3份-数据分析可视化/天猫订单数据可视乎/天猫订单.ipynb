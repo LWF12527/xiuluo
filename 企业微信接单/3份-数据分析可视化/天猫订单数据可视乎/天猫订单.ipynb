{
 "cells": [
  {
   "cell_type": "code",
   "execution_count": 13,
   "metadata": {
    "collapsed": false,
    "id": "9DEF56B02ACD4EA39E5E4F630037189D",
    "jupyter": {
     "outputs_hidden": false
    },
    "notebookId": "657ea0492c9ef87f436b26d9",
    "slideshow": {
     "slide_type": "slide"
    },
    "tags": []
   },
   "outputs": [],
   "source": [
    "import pandas as pd\n",
    "import numpy as np\n",
    "from pyecharts.charts import Pie,Bar,Line,Map,Map3D,Funnel\n",
    "from pyecharts import options as opts\n",
    "import matplotlib.pyplot as plt\n",
    "import warnings\n",
    "import seaborn as sns\n",
    "from pyecharts.commons.utils import JsCode\n",
    "from pyecharts.globals import ThemeType, ChartType\n",
    "import textwrap\n",
    "\n",
    "# 字体设置\n",
    "plt.rcParams['font.sans-serif']=['Microsoft YaHei'] \n",
    "plt.rcParams['axes.unicode_minus']=False\n",
    "plt.rc('font',family = 'Microsoft YaHei',size = '15')\n",
    "warnings.filterwarnings(\"ignore\")\n",
    "\n",
    "%matplotlib inline"
   ]
  },
  {
   "cell_type": "markdown",
   "metadata": {
    "collapsed": false,
    "id": "873E8EB4528B4FEC887C9A4A0E7A573B",
    "jupyter": {
     "outputs_hidden": false
    },
    "mdEditEnable": false,
    "notebookId": "657ea0492c9ef87f436b26d9",
    "runtime": {
     "execution_status": null,
     "is_visible": false,
     "status": "default"
    },
    "scrolled": false,
    "slideshow": {
     "slide_type": "slide"
    },
    "tags": []
   },
   "source": [
    "# 一、导入数据及数据预处理"
   ]
  },
  {
   "cell_type": "code",
   "execution_count": 14,
   "metadata": {
    "collapsed": false,
    "id": "BEE8AD43D23E4E4795D142883550B390",
    "jupyter": {
     "outputs_hidden": false
    },
    "notebookId": "657ea0492c9ef87f436b26d9",
    "slideshow": {
     "slide_type": "slide"
    },
    "tags": []
   },
   "outputs": [
    {
     "data": {
      "text/plain": "   订单编号    总金额  买家实际支付金额   收货地址                订单创建时间              订单付款时间   \\\n0     1  178.8       0.0      上海  2020-02-21 00:00:00                  NaN   \n1     2   21.0      21.0  内蒙古自治区  2020-02-20 23:59:54  2020-02-21 00:00:02   \n2     3   37.0       0.0     安徽省  2020-02-20 23:59:35                  NaN   \n3     4  157.0     157.0     湖南省  2020-02-20 23:58:34  2020-02-20 23:58:44   \n4     5   64.8       0.0     江苏省  2020-02-20 23:57:04  2020-02-20 23:57:11   \n5     6  327.7     148.9     浙江省  2020-02-20 23:56:39  2020-02-20 23:56:53   \n6     7  357.0     357.0      天津  2020-02-20 23:56:36  2020-02-20 23:56:40   \n7     8   53.0      53.0     浙江省  2020-02-20 23:56:12  2020-02-20 23:56:16   \n8     9   43.0       0.0     湖南省  2020-02-20 23:54:53  2020-02-20 23:55:04   \n9    10  421.0     421.0      北京  2020-02-20 23:54:28  2020-02-20 23:54:33   \n\n    退款金额  \n0    0.0  \n1    0.0  \n2    0.0  \n3    0.0  \n4   64.8  \n5  178.8  \n6    0.0  \n7    0.0  \n8   43.0  \n9    0.0  ",
      "text/html": "<div>\n<style scoped>\n    .dataframe tbody tr th:only-of-type {\n        vertical-align: middle;\n    }\n\n    .dataframe tbody tr th {\n        vertical-align: top;\n    }\n\n    .dataframe thead th {\n        text-align: right;\n    }\n</style>\n<table border=\"1\" class=\"dataframe\">\n  <thead>\n    <tr style=\"text-align: right;\">\n      <th></th>\n      <th>订单编号</th>\n      <th>总金额</th>\n      <th>买家实际支付金额</th>\n      <th>收货地址</th>\n      <th>订单创建时间</th>\n      <th>订单付款时间</th>\n      <th>退款金额</th>\n    </tr>\n  </thead>\n  <tbody>\n    <tr>\n      <th>0</th>\n      <td>1</td>\n      <td>178.8</td>\n      <td>0.0</td>\n      <td>上海</td>\n      <td>2020-02-21 00:00:00</td>\n      <td>NaN</td>\n      <td>0.0</td>\n    </tr>\n    <tr>\n      <th>1</th>\n      <td>2</td>\n      <td>21.0</td>\n      <td>21.0</td>\n      <td>内蒙古自治区</td>\n      <td>2020-02-20 23:59:54</td>\n      <td>2020-02-21 00:00:02</td>\n      <td>0.0</td>\n    </tr>\n    <tr>\n      <th>2</th>\n      <td>3</td>\n      <td>37.0</td>\n      <td>0.0</td>\n      <td>安徽省</td>\n      <td>2020-02-20 23:59:35</td>\n      <td>NaN</td>\n      <td>0.0</td>\n    </tr>\n    <tr>\n      <th>3</th>\n      <td>4</td>\n      <td>157.0</td>\n      <td>157.0</td>\n      <td>湖南省</td>\n      <td>2020-02-20 23:58:34</td>\n      <td>2020-02-20 23:58:44</td>\n      <td>0.0</td>\n    </tr>\n    <tr>\n      <th>4</th>\n      <td>5</td>\n      <td>64.8</td>\n      <td>0.0</td>\n      <td>江苏省</td>\n      <td>2020-02-20 23:57:04</td>\n      <td>2020-02-20 23:57:11</td>\n      <td>64.8</td>\n    </tr>\n    <tr>\n      <th>5</th>\n      <td>6</td>\n      <td>327.7</td>\n      <td>148.9</td>\n      <td>浙江省</td>\n      <td>2020-02-20 23:56:39</td>\n      <td>2020-02-20 23:56:53</td>\n      <td>178.8</td>\n    </tr>\n    <tr>\n      <th>6</th>\n      <td>7</td>\n      <td>357.0</td>\n      <td>357.0</td>\n      <td>天津</td>\n      <td>2020-02-20 23:56:36</td>\n      <td>2020-02-20 23:56:40</td>\n      <td>0.0</td>\n    </tr>\n    <tr>\n      <th>7</th>\n      <td>8</td>\n      <td>53.0</td>\n      <td>53.0</td>\n      <td>浙江省</td>\n      <td>2020-02-20 23:56:12</td>\n      <td>2020-02-20 23:56:16</td>\n      <td>0.0</td>\n    </tr>\n    <tr>\n      <th>8</th>\n      <td>9</td>\n      <td>43.0</td>\n      <td>0.0</td>\n      <td>湖南省</td>\n      <td>2020-02-20 23:54:53</td>\n      <td>2020-02-20 23:55:04</td>\n      <td>43.0</td>\n    </tr>\n    <tr>\n      <th>9</th>\n      <td>10</td>\n      <td>421.0</td>\n      <td>421.0</td>\n      <td>北京</td>\n      <td>2020-02-20 23:54:28</td>\n      <td>2020-02-20 23:54:33</td>\n      <td>0.0</td>\n    </tr>\n  </tbody>\n</table>\n</div>"
     },
     "execution_count": 14,
     "metadata": {},
     "output_type": "execute_result"
    }
   ],
   "source": [
    "df = pd.read_csv('tmall_order_report.csv')\n",
    "df.head(10) #测试导入结果，显示前10行数据"
   ]
  },
  {
   "cell_type": "code",
   "execution_count": 15,
   "metadata": {
    "collapsed": false,
    "id": "6C4A6CAB8B7B4DEA9E3E2F55725A1245",
    "jupyter": {
     "outputs_hidden": false
    },
    "notebookId": "657ea0492c9ef87f436b26d9",
    "slideshow": {
     "slide_type": "slide"
    },
    "tags": []
   },
   "outputs": [
    {
     "name": "stdout",
     "output_type": "stream",
     "text": [
      "<class 'pandas.core.frame.DataFrame'>\n",
      "RangeIndex: 28010 entries, 0 to 28009\n",
      "Data columns (total 7 columns):\n",
      " #   Column    Non-Null Count  Dtype  \n",
      "---  ------    --------------  -----  \n",
      " 0   订单编号      28010 non-null  int64  \n",
      " 1   总金额       28010 non-null  float64\n",
      " 2   买家实际支付金额  28010 non-null  float64\n",
      " 3   收货地址      28010 non-null  object \n",
      " 4   订单创建时间    28010 non-null  object \n",
      " 5   订单付款时间    24087 non-null  object \n",
      " 6   退款金额      28010 non-null  float64\n",
      "dtypes: float64(3), int64(1), object(3)\n",
      "memory usage: 1.5+ MB\n"
     ]
    }
   ],
   "source": [
    "# 去除字段名中的空格\n",
    "new_columns = [col.strip() for col in df.columns]\n",
    "df.columns = new_columns\n",
    "# 显示 dataframe 信息\n",
    "df.info()"
   ]
  },
  {
   "cell_type": "code",
   "execution_count": 16,
   "metadata": {
    "collapsed": false,
    "id": "8B43BF6B2D05400885DAEB6A4EFF600D",
    "jupyter": {
     "outputs_hidden": false
    },
    "notebookId": "657ea0492c9ef87f436b26d9",
    "slideshow": {
     "slide_type": "slide"
    },
    "tags": []
   },
   "outputs": [
    {
     "name": "stdout",
     "output_type": "stream",
     "text": [
      "数据的时间区间为 2020-02-01 00:14:15 到 2020-02-29 23:59:18\n",
      "收货地址总计有： 31 个\n"
     ]
    },
    {
     "data": {
      "text/plain": "               订单编号            总金额      买家实际支付金额          退款金额\ncount  28010.000000   28010.000000  28010.000000  28010.000000\nmean   14005.500000     106.953253     67.921712     20.433271\nstd     8085.934856    1136.587094    151.493434     71.501963\nmin        1.000000       1.000000      0.000000      0.000000\n25%     7003.250000      38.000000      0.000000      0.000000\n50%    14005.500000      75.000000     45.000000      0.000000\n75%    21007.750000     119.000000    101.000000      0.000000\nmax    28010.000000  188320.000000  16065.000000   3800.000000",
      "text/html": "<div>\n<style scoped>\n    .dataframe tbody tr th:only-of-type {\n        vertical-align: middle;\n    }\n\n    .dataframe tbody tr th {\n        vertical-align: top;\n    }\n\n    .dataframe thead th {\n        text-align: right;\n    }\n</style>\n<table border=\"1\" class=\"dataframe\">\n  <thead>\n    <tr style=\"text-align: right;\">\n      <th></th>\n      <th>订单编号</th>\n      <th>总金额</th>\n      <th>买家实际支付金额</th>\n      <th>退款金额</th>\n    </tr>\n  </thead>\n  <tbody>\n    <tr>\n      <th>count</th>\n      <td>28010.000000</td>\n      <td>28010.000000</td>\n      <td>28010.000000</td>\n      <td>28010.000000</td>\n    </tr>\n    <tr>\n      <th>mean</th>\n      <td>14005.500000</td>\n      <td>106.953253</td>\n      <td>67.921712</td>\n      <td>20.433271</td>\n    </tr>\n    <tr>\n      <th>std</th>\n      <td>8085.934856</td>\n      <td>1136.587094</td>\n      <td>151.493434</td>\n      <td>71.501963</td>\n    </tr>\n    <tr>\n      <th>min</th>\n      <td>1.000000</td>\n      <td>1.000000</td>\n      <td>0.000000</td>\n      <td>0.000000</td>\n    </tr>\n    <tr>\n      <th>25%</th>\n      <td>7003.250000</td>\n      <td>38.000000</td>\n      <td>0.000000</td>\n      <td>0.000000</td>\n    </tr>\n    <tr>\n      <th>50%</th>\n      <td>14005.500000</td>\n      <td>75.000000</td>\n      <td>45.000000</td>\n      <td>0.000000</td>\n    </tr>\n    <tr>\n      <th>75%</th>\n      <td>21007.750000</td>\n      <td>119.000000</td>\n      <td>101.000000</td>\n      <td>0.000000</td>\n    </tr>\n    <tr>\n      <th>max</th>\n      <td>28010.000000</td>\n      <td>188320.000000</td>\n      <td>16065.000000</td>\n      <td>3800.000000</td>\n    </tr>\n  </tbody>\n</table>\n</div>"
     },
     "execution_count": 16,
     "metadata": {},
     "output_type": "execute_result"
    }
   ],
   "source": [
    "# 数据基本描述\n",
    "print('数据的时间区间为',df['订单创建时间'].min(),'到',df['订单创建时间'].max())\n",
    "print('收货地址总计有：',df['收货地址'].nunique(),'个')\n",
    "df.describe()"
   ]
  },
  {
   "cell_type": "code",
   "execution_count": 20,
   "metadata": {
    "collapsed": false,
    "id": "DABDD07C54E0488E832BA6DCF2DF4C8D",
    "jupyter": {
     "outputs_hidden": false
    },
    "notebookId": "657ea0492c9ef87f436b26d9",
    "slideshow": {
     "slide_type": "slide"
    },
    "tags": []
   },
   "outputs": [
    {
     "data": {
      "text/plain": "      订单编号   总金额  买家实际支付金额 收货地址              订单创建时间              订单付款时间  退款金额  \\\n6063  6064  38.0       0.0  四川省 2020-02-01 00:14:15 2020-02-01 00:14:20  38.0   \n6062  6063  38.0      38.0  江苏省 2020-02-01 00:17:47 2020-02-01 00:17:58   0.0   \n6061  6062  76.0       0.0  湖北省 2020-02-01 00:33:01 2020-02-01 00:33:08  76.0   \n6060  6061  38.0      38.0  贵州省 2020-02-01 00:50:18 2020-02-01 00:50:25   0.0   \n6059  6060  38.0       0.0  陕西省 2020-02-01 00:54:18 2020-02-01 00:54:23  38.0   \n\n      月  日        日期    周  小时  \n6063  2  1  2.0月1.0日  星期6   0  \n6062  2  1  2.0月1.0日  星期6   0  \n6061  2  1  2.0月1.0日  星期6   0  \n6060  2  1  2.0月1.0日  星期6   0  \n6059  2  1  2.0月1.0日  星期6   0  ",
      "text/html": "<div>\n<style scoped>\n    .dataframe tbody tr th:only-of-type {\n        vertical-align: middle;\n    }\n\n    .dataframe tbody tr th {\n        vertical-align: top;\n    }\n\n    .dataframe thead th {\n        text-align: right;\n    }\n</style>\n<table border=\"1\" class=\"dataframe\">\n  <thead>\n    <tr style=\"text-align: right;\">\n      <th></th>\n      <th>订单编号</th>\n      <th>总金额</th>\n      <th>买家实际支付金额</th>\n      <th>收货地址</th>\n      <th>订单创建时间</th>\n      <th>订单付款时间</th>\n      <th>退款金额</th>\n      <th>月</th>\n      <th>日</th>\n      <th>日期</th>\n      <th>周</th>\n      <th>小时</th>\n    </tr>\n  </thead>\n  <tbody>\n    <tr>\n      <th>6063</th>\n      <td>6064</td>\n      <td>38.0</td>\n      <td>0.0</td>\n      <td>四川省</td>\n      <td>2020-02-01 00:14:15</td>\n      <td>2020-02-01 00:14:20</td>\n      <td>38.0</td>\n      <td>2</td>\n      <td>1</td>\n      <td>2.0月1.0日</td>\n      <td>星期6</td>\n      <td>0</td>\n    </tr>\n    <tr>\n      <th>6062</th>\n      <td>6063</td>\n      <td>38.0</td>\n      <td>38.0</td>\n      <td>江苏省</td>\n      <td>2020-02-01 00:17:47</td>\n      <td>2020-02-01 00:17:58</td>\n      <td>0.0</td>\n      <td>2</td>\n      <td>1</td>\n      <td>2.0月1.0日</td>\n      <td>星期6</td>\n      <td>0</td>\n    </tr>\n    <tr>\n      <th>6061</th>\n      <td>6062</td>\n      <td>76.0</td>\n      <td>0.0</td>\n      <td>湖北省</td>\n      <td>2020-02-01 00:33:01</td>\n      <td>2020-02-01 00:33:08</td>\n      <td>76.0</td>\n      <td>2</td>\n      <td>1</td>\n      <td>2.0月1.0日</td>\n      <td>星期6</td>\n      <td>0</td>\n    </tr>\n    <tr>\n      <th>6060</th>\n      <td>6061</td>\n      <td>38.0</td>\n      <td>38.0</td>\n      <td>贵州省</td>\n      <td>2020-02-01 00:50:18</td>\n      <td>2020-02-01 00:50:25</td>\n      <td>0.0</td>\n      <td>2</td>\n      <td>1</td>\n      <td>2.0月1.0日</td>\n      <td>星期6</td>\n      <td>0</td>\n    </tr>\n    <tr>\n      <th>6059</th>\n      <td>6060</td>\n      <td>38.0</td>\n      <td>0.0</td>\n      <td>陕西省</td>\n      <td>2020-02-01 00:54:18</td>\n      <td>2020-02-01 00:54:23</td>\n      <td>38.0</td>\n      <td>2</td>\n      <td>1</td>\n      <td>2.0月1.0日</td>\n      <td>星期6</td>\n      <td>0</td>\n    </tr>\n  </tbody>\n</table>\n</div>"
     },
     "execution_count": 20,
     "metadata": {},
     "output_type": "execute_result"
    }
   ],
   "source": [
    "# 确保 '订单创建时间' 和 '订单付款时间' 列以正确的 datetime64[ns] 格式进行转换\n",
    "df['订单创建时间'] = pd.to_datetime(df['订单创建时间'])\n",
    "df['订单付款时间'] = pd.to_datetime(df['订单付款时间'])\n",
    "\n",
    "# 提取月份和日期\n",
    "df['月'] = df['订单付款时间'].dt.month\n",
    "df['日'] = df['订单付款时间'].dt.day\n",
    "\n",
    "# 过滤掉 '订单付款时间' 为空的行\n",
    "df2 = df.dropna(subset=['订单付款时间'])\n",
    "\n",
    "# 将月份和日期转换为字符串并添加中文字符\n",
    "df2['日期'] = df2['月'].astype(str) + '月' + df2['日'].astype(str) + '日'\n",
    "\n",
    "# 获取星期几，并将其转换为中文表示\n",
    "df2['周'] = '星期' + (df2['订单付款时间'].dt.weekday + 1).astype(str)\n",
    "\n",
    "# 确保 '月' 和 '日' 是整数类型\n",
    "df2['月'] = df2['月'].astype(int)\n",
    "df2['日'] = df2['日'].astype(int)\n",
    "\n",
    "# 按 '订单付款时间' 排序\n",
    "df2 = df2.sort_values(by='订单付款时间')\n",
    "\n",
    "# 提取小时\n",
    "df2['小时'] = df2['订单付款时间'].dt.hour\n",
    "\n",
    "# 查看前几行\n",
    "df2.head()"
   ]
  },
  {
   "cell_type": "code",
   "execution_count": 21,
   "metadata": {
    "collapsed": false,
    "id": "36DBC3D89F55438F8E5D2254208B280B",
    "jupyter": {
     "outputs_hidden": false
    },
    "notebookId": "657ea0492c9ef87f436b26d9",
    "slideshow": {
     "slide_type": "slide"
    },
    "tags": []
   },
   "outputs": [
    {
     "data": {
      "text/plain": "array(['四川省', '江苏省', '湖北省', '贵州省', '陕西省', '上海', '重庆', '浙江省', '湖南省', '河北省',\n       '北京', '广东省', '新疆维吾尔自治区', '河南省', '吉林省', '黑龙江省', '云南省', '安徽省', '天津',\n       '山西省', '辽宁省', '江西省', '内蒙古自治区', '福建省', '广西壮族自治区', '海南省', '山东省',\n       '青海省', '甘肃省', '宁夏回族自治区', '西藏自治区'], dtype=object)"
     },
     "execution_count": 21,
     "metadata": {},
     "output_type": "execute_result"
    }
   ],
   "source": [
    "# 查看收货地址信息\n",
    "df2.收货地址.unique()"
   ]
  },
  {
   "cell_type": "code",
   "execution_count": 22,
   "metadata": {
    "collapsed": false,
    "id": "BBBEC3AB8E8A40F8AF6437172313F259",
    "jupyter": {
     "outputs_hidden": false
    },
    "notebookId": "657ea0492c9ef87f436b26d9",
    "slideshow": {
     "slide_type": "slide"
    },
    "tags": []
   },
   "outputs": [
    {
     "data": {
      "text/plain": "array(['四川', '江苏', '湖北', '贵州', '陕西', '上海', '重庆', '浙江', '湖南', '河北', '北京',\n       '广东', '新疆', '河南', '吉林', '黑龙江', '云南', '安徽', '天津', '山西', '辽宁', '江西',\n       '内蒙古', '福建', '广西', '海南', '山东', '青海', '甘肃', '宁夏', '西藏'],\n      dtype=object)"
     },
     "execution_count": 22,
     "metadata": {},
     "output_type": "execute_result"
    }
   ],
   "source": [
    "df2['收货地址'] = df2.收货地址.apply(lambda x:x.strip('省|自治区'))\n",
    "df2['收货地址'] = df2.收货地址.replace(['新疆维吾尔','广西壮族','宁夏回族'],['新疆','广西','宁夏'])\n",
    "df2.head()\n",
    "df2.收货地址.unique()"
   ]
  },
  {
   "cell_type": "code",
   "execution_count": 23,
   "metadata": {
    "collapsed": false,
    "id": "F2DF70891BC7439A8C529E3F25FD0E83",
    "jupyter": {
     "outputs_hidden": false
    },
    "notebookId": "657ea0492c9ef87f436b26d9",
    "slideshow": {
     "slide_type": "slide"
    },
    "tags": []
   },
   "outputs": [
    {
     "data": {
      "text/plain": "    订单编号    总金额  买家实际支付金额 收货地址              订单创建时间 订单付款时间  退款金额   月   日\n0      1  178.8       0.0   上海 2020-02-21 00:00:00    NaT   0.0 NaN NaN\n2      3   37.0       0.0  安徽省 2020-02-20 23:59:35    NaT   0.0 NaN NaN\n13    14   34.9       0.0   天津 2020-02-20 23:53:44    NaT   0.0 NaN NaN\n14    15   96.8       0.0  贵州省 2020-02-20 23:51:37    NaT   0.0 NaN NaN\n37    38   37.0       0.0  广东省 2020-02-20 23:43:56    NaT   0.0 NaN NaN",
      "text/html": "<div>\n<style scoped>\n    .dataframe tbody tr th:only-of-type {\n        vertical-align: middle;\n    }\n\n    .dataframe tbody tr th {\n        vertical-align: top;\n    }\n\n    .dataframe thead th {\n        text-align: right;\n    }\n</style>\n<table border=\"1\" class=\"dataframe\">\n  <thead>\n    <tr style=\"text-align: right;\">\n      <th></th>\n      <th>订单编号</th>\n      <th>总金额</th>\n      <th>买家实际支付金额</th>\n      <th>收货地址</th>\n      <th>订单创建时间</th>\n      <th>订单付款时间</th>\n      <th>退款金额</th>\n      <th>月</th>\n      <th>日</th>\n    </tr>\n  </thead>\n  <tbody>\n    <tr>\n      <th>0</th>\n      <td>1</td>\n      <td>178.8</td>\n      <td>0.0</td>\n      <td>上海</td>\n      <td>2020-02-21 00:00:00</td>\n      <td>NaT</td>\n      <td>0.0</td>\n      <td>NaN</td>\n      <td>NaN</td>\n    </tr>\n    <tr>\n      <th>2</th>\n      <td>3</td>\n      <td>37.0</td>\n      <td>0.0</td>\n      <td>安徽省</td>\n      <td>2020-02-20 23:59:35</td>\n      <td>NaT</td>\n      <td>0.0</td>\n      <td>NaN</td>\n      <td>NaN</td>\n    </tr>\n    <tr>\n      <th>13</th>\n      <td>14</td>\n      <td>34.9</td>\n      <td>0.0</td>\n      <td>天津</td>\n      <td>2020-02-20 23:53:44</td>\n      <td>NaT</td>\n      <td>0.0</td>\n      <td>NaN</td>\n      <td>NaN</td>\n    </tr>\n    <tr>\n      <th>14</th>\n      <td>15</td>\n      <td>96.8</td>\n      <td>0.0</td>\n      <td>贵州省</td>\n      <td>2020-02-20 23:51:37</td>\n      <td>NaT</td>\n      <td>0.0</td>\n      <td>NaN</td>\n      <td>NaN</td>\n    </tr>\n    <tr>\n      <th>37</th>\n      <td>38</td>\n      <td>37.0</td>\n      <td>0.0</td>\n      <td>广东省</td>\n      <td>2020-02-20 23:43:56</td>\n      <td>NaT</td>\n      <td>0.0</td>\n      <td>NaN</td>\n      <td>NaN</td>\n    </tr>\n  </tbody>\n</table>\n</div>"
     },
     "execution_count": 23,
     "metadata": {},
     "output_type": "execute_result"
    }
   ],
   "source": [
    "# 查看缺失数据\n",
    "df[df['订单付款时间'].isnull()].head()"
   ]
  },
  {
   "cell_type": "code",
   "execution_count": 24,
   "metadata": {
    "collapsed": false,
    "id": "79D5FACE5B86495D941BCF8CF9C62169",
    "jupyter": {
     "outputs_hidden": false
    },
    "notebookId": "657ea0492c9ef87f436b26d9",
    "scrolled": true,
    "slideshow": {
     "slide_type": "slide"
    },
    "tags": []
   },
   "outputs": [
    {
     "name": "stdout",
     "output_type": "stream",
     "text": [
      "重复值数量为： 0\n"
     ]
    }
   ],
   "source": [
    "# 查看是否有重复值\n",
    "df[df['退款金额'] > df['总金额']]\n",
    "print('重复值数量为：',df.duplicated().sum())"
   ]
  },
  {
   "cell_type": "code",
   "execution_count": 26,
   "metadata": {
    "collapsed": false,
    "hide_input": false,
    "id": "0144C87F31514ADD85E9046F65466194",
    "jupyter": {
     "outputs_hidden": false
    },
    "notebookId": "657ea0492c9ef87f436b26d9",
    "slideshow": {
     "slide_type": "slide"
    },
    "tags": []
   },
   "outputs": [
    {
     "ename": "ValueError",
     "evalue": "Number of rows must be a positive integer, not 2.0",
     "output_type": "error",
     "traceback": [
      "\u001B[1;31m---------------------------------------------------------------------------\u001B[0m",
      "\u001B[1;31mValueError\u001B[0m                                Traceback (most recent call last)",
      "Cell \u001B[1;32mIn[26], line 22\u001B[0m\n\u001B[0;32m     20\u001B[0m df[df\u001B[38;5;241m.\u001B[39m总金额 \u001B[38;5;241m>\u001B[39m \u001B[38;5;241m5000\u001B[39m]\n\u001B[0;32m     21\u001B[0m plot_df \u001B[38;5;241m=\u001B[39m df[(df\u001B[38;5;241m.\u001B[39m总金额 \u001B[38;5;241m<\u001B[39m \u001B[38;5;241m500\u001B[39m)\u001B[38;5;241m&\u001B[39m(df\u001B[38;5;241m.\u001B[39m退款金额 \u001B[38;5;241m<\u001B[39m \u001B[38;5;241m400\u001B[39m)][[\u001B[38;5;124m'\u001B[39m\u001B[38;5;124m总金额\u001B[39m\u001B[38;5;124m'\u001B[39m,\u001B[38;5;124m'\u001B[39m\u001B[38;5;124m买家实际支付金额\u001B[39m\u001B[38;5;124m'\u001B[39m,\u001B[38;5;124m'\u001B[39m\u001B[38;5;124m退款金额\u001B[39m\u001B[38;5;124m'\u001B[39m]]\n\u001B[1;32m---> 22\u001B[0m \u001B[43mkde_plot_array\u001B[49m\u001B[43m(\u001B[49m\u001B[43mplot_df\u001B[49m\u001B[43m)\u001B[49m\n",
      "Cell \u001B[1;32mIn[26], line 9\u001B[0m, in \u001B[0;36mkde_plot_array\u001B[1;34m(df)\u001B[0m\n\u001B[0;32m      7\u001B[0m plt\u001B[38;5;241m.\u001B[39mfigure(figsize \u001B[38;5;241m=\u001B[39m (\u001B[38;5;241m24\u001B[39m,\u001B[38;5;241m16\u001B[39m))  \u001B[38;5;66;03m# 图一figure\u001B[39;00m\n\u001B[0;32m      8\u001B[0m \u001B[38;5;28;01mfor\u001B[39;00m num,columns \u001B[38;5;129;01min\u001B[39;00m \u001B[38;5;28mzip\u001B[39m(\u001B[38;5;28mrange\u001B[39m(\u001B[38;5;28mlen\u001B[39m(df\u001B[38;5;241m.\u001B[39mcolumns)),df\u001B[38;5;241m.\u001B[39mcolumns):\n\u001B[1;32m----> 9\u001B[0m     \u001B[43mplt\u001B[49m\u001B[38;5;241;43m.\u001B[39;49m\u001B[43msubplot\u001B[49m\u001B[43m(\u001B[49m\u001B[38;5;28;43mround\u001B[39;49m\u001B[43m(\u001B[49m\u001B[38;5;28;43mlen\u001B[39;49m\u001B[43m(\u001B[49m\u001B[43mdf\u001B[49m\u001B[38;5;241;43m.\u001B[39;49m\u001B[43mcolumns\u001B[49m\u001B[43m)\u001B[49m\u001B[38;5;241;43m/\u001B[39;49m\u001B[38;5;241;43m2\u001B[39;49m\u001B[43m,\u001B[49m\u001B[38;5;241;43m0\u001B[39;49m\u001B[43m)\u001B[49m\u001B[43m,\u001B[49m\u001B[38;5;241;43m2\u001B[39;49m\u001B[43m,\u001B[49m\u001B[43mnum\u001B[49m\u001B[38;5;241;43m+\u001B[39;49m\u001B[38;5;241;43m1\u001B[39;49m\u001B[43m)\u001B[49m\n\u001B[0;32m     10\u001B[0m     \u001B[38;5;66;03m# sns.set(font = 'SimHei',font_scale = 1.6)\u001B[39;00m\n\u001B[0;32m     11\u001B[0m     index \u001B[38;5;241m=\u001B[39m columns\n",
      "File \u001B[1;32mD:\\Desktop\\Python\\pySDK 3.10.5\\Lib\\site-packages\\matplotlib\\pyplot.py:1550\u001B[0m, in \u001B[0;36msubplot\u001B[1;34m(*args, **kwargs)\u001B[0m\n\u001B[0;32m   1547\u001B[0m fig \u001B[38;5;241m=\u001B[39m gcf()\n\u001B[0;32m   1549\u001B[0m \u001B[38;5;66;03m# First, search for an existing subplot with a matching spec.\u001B[39;00m\n\u001B[1;32m-> 1550\u001B[0m key \u001B[38;5;241m=\u001B[39m \u001B[43mSubplotSpec\u001B[49m\u001B[38;5;241;43m.\u001B[39;49m\u001B[43m_from_subplot_args\u001B[49m\u001B[43m(\u001B[49m\u001B[43mfig\u001B[49m\u001B[43m,\u001B[49m\u001B[43m \u001B[49m\u001B[43margs\u001B[49m\u001B[43m)\u001B[49m\n\u001B[0;32m   1552\u001B[0m \u001B[38;5;28;01mfor\u001B[39;00m ax \u001B[38;5;129;01min\u001B[39;00m fig\u001B[38;5;241m.\u001B[39maxes:\n\u001B[0;32m   1553\u001B[0m     \u001B[38;5;66;03m# If we found an Axes at the position, we can reuse it if the user passed no\u001B[39;00m\n\u001B[0;32m   1554\u001B[0m     \u001B[38;5;66;03m# kwargs or if the Axes class and kwargs are identical.\u001B[39;00m\n\u001B[0;32m   1555\u001B[0m     \u001B[38;5;28;01mif\u001B[39;00m (ax\u001B[38;5;241m.\u001B[39mget_subplotspec() \u001B[38;5;241m==\u001B[39m key\n\u001B[0;32m   1556\u001B[0m         \u001B[38;5;129;01mand\u001B[39;00m (kwargs \u001B[38;5;241m==\u001B[39m {}\n\u001B[0;32m   1557\u001B[0m              \u001B[38;5;129;01mor\u001B[39;00m (ax\u001B[38;5;241m.\u001B[39m_projection_init\n\u001B[0;32m   1558\u001B[0m                  \u001B[38;5;241m==\u001B[39m fig\u001B[38;5;241m.\u001B[39m_process_projection_requirements(\u001B[38;5;241m*\u001B[39m\u001B[38;5;241m*\u001B[39mkwargs)))):\n",
      "File \u001B[1;32mD:\\Desktop\\Python\\pySDK 3.10.5\\Lib\\site-packages\\matplotlib\\gridspec.py:578\u001B[0m, in \u001B[0;36mSubplotSpec._from_subplot_args\u001B[1;34m(figure, args)\u001B[0m\n\u001B[0;32m    575\u001B[0m \u001B[38;5;28;01melse\u001B[39;00m:\n\u001B[0;32m    576\u001B[0m     \u001B[38;5;28;01mraise\u001B[39;00m _api\u001B[38;5;241m.\u001B[39mnargs_error(\u001B[38;5;124m\"\u001B[39m\u001B[38;5;124msubplot\u001B[39m\u001B[38;5;124m\"\u001B[39m, takes\u001B[38;5;241m=\u001B[39m\u001B[38;5;124m\"\u001B[39m\u001B[38;5;124m1 or 3\u001B[39m\u001B[38;5;124m\"\u001B[39m, given\u001B[38;5;241m=\u001B[39m\u001B[38;5;28mlen\u001B[39m(args))\n\u001B[1;32m--> 578\u001B[0m gs \u001B[38;5;241m=\u001B[39m \u001B[43mGridSpec\u001B[49m\u001B[38;5;241;43m.\u001B[39;49m\u001B[43m_check_gridspec_exists\u001B[49m\u001B[43m(\u001B[49m\u001B[43mfigure\u001B[49m\u001B[43m,\u001B[49m\u001B[43m \u001B[49m\u001B[43mrows\u001B[49m\u001B[43m,\u001B[49m\u001B[43m \u001B[49m\u001B[43mcols\u001B[49m\u001B[43m)\u001B[49m\n\u001B[0;32m    579\u001B[0m \u001B[38;5;28;01mif\u001B[39;00m gs \u001B[38;5;129;01mis\u001B[39;00m \u001B[38;5;28;01mNone\u001B[39;00m:\n\u001B[0;32m    580\u001B[0m     gs \u001B[38;5;241m=\u001B[39m GridSpec(rows, cols, figure\u001B[38;5;241m=\u001B[39mfigure)\n",
      "File \u001B[1;32mD:\\Desktop\\Python\\pySDK 3.10.5\\Lib\\site-packages\\matplotlib\\gridspec.py:210\u001B[0m, in \u001B[0;36mGridSpecBase._check_gridspec_exists\u001B[1;34m(figure, nrows, ncols)\u001B[0m\n\u001B[0;32m    208\u001B[0m             \u001B[38;5;28;01mreturn\u001B[39;00m gs\n\u001B[0;32m    209\u001B[0m \u001B[38;5;66;03m# else gridspec not found:\u001B[39;00m\n\u001B[1;32m--> 210\u001B[0m \u001B[38;5;28;01mreturn\u001B[39;00m \u001B[43mGridSpec\u001B[49m\u001B[43m(\u001B[49m\u001B[43mnrows\u001B[49m\u001B[43m,\u001B[49m\u001B[43m \u001B[49m\u001B[43mncols\u001B[49m\u001B[43m,\u001B[49m\u001B[43m \u001B[49m\u001B[43mfigure\u001B[49m\u001B[38;5;241;43m=\u001B[39;49m\u001B[43mfigure\u001B[49m\u001B[43m)\u001B[49m\n",
      "File \u001B[1;32mD:\\Desktop\\Python\\pySDK 3.10.5\\Lib\\site-packages\\matplotlib\\gridspec.py:363\u001B[0m, in \u001B[0;36mGridSpec.__init__\u001B[1;34m(self, nrows, ncols, figure, left, bottom, right, top, wspace, hspace, width_ratios, height_ratios)\u001B[0m\n\u001B[0;32m    360\u001B[0m \u001B[38;5;28mself\u001B[39m\u001B[38;5;241m.\u001B[39mhspace \u001B[38;5;241m=\u001B[39m hspace\n\u001B[0;32m    361\u001B[0m \u001B[38;5;28mself\u001B[39m\u001B[38;5;241m.\u001B[39mfigure \u001B[38;5;241m=\u001B[39m figure\n\u001B[1;32m--> 363\u001B[0m \u001B[38;5;28;43msuper\u001B[39;49m\u001B[43m(\u001B[49m\u001B[43m)\u001B[49m\u001B[38;5;241;43m.\u001B[39;49m\u001B[38;5;21;43m__init__\u001B[39;49m\u001B[43m(\u001B[49m\u001B[43mnrows\u001B[49m\u001B[43m,\u001B[49m\u001B[43m \u001B[49m\u001B[43mncols\u001B[49m\u001B[43m,\u001B[49m\n\u001B[0;32m    364\u001B[0m \u001B[43m                 \u001B[49m\u001B[43mwidth_ratios\u001B[49m\u001B[38;5;241;43m=\u001B[39;49m\u001B[43mwidth_ratios\u001B[49m\u001B[43m,\u001B[49m\n\u001B[0;32m    365\u001B[0m \u001B[43m                 \u001B[49m\u001B[43mheight_ratios\u001B[49m\u001B[38;5;241;43m=\u001B[39;49m\u001B[43mheight_ratios\u001B[49m\u001B[43m)\u001B[49m\n",
      "File \u001B[1;32mD:\\Desktop\\Python\\pySDK 3.10.5\\Lib\\site-packages\\matplotlib\\gridspec.py:48\u001B[0m, in \u001B[0;36mGridSpecBase.__init__\u001B[1;34m(self, nrows, ncols, height_ratios, width_ratios)\u001B[0m\n\u001B[0;32m     33\u001B[0m \u001B[38;5;250m\u001B[39m\u001B[38;5;124;03m\"\"\"\u001B[39;00m\n\u001B[0;32m     34\u001B[0m \u001B[38;5;124;03mParameters\u001B[39;00m\n\u001B[0;32m     35\u001B[0m \u001B[38;5;124;03m----------\u001B[39;00m\n\u001B[1;32m   (...)\u001B[0m\n\u001B[0;32m     45\u001B[0m \u001B[38;5;124;03m    If not given, all rows will have the same height.\u001B[39;00m\n\u001B[0;32m     46\u001B[0m \u001B[38;5;124;03m\"\"\"\u001B[39;00m\n\u001B[0;32m     47\u001B[0m \u001B[38;5;28;01mif\u001B[39;00m \u001B[38;5;129;01mnot\u001B[39;00m \u001B[38;5;28misinstance\u001B[39m(nrows, Integral) \u001B[38;5;129;01mor\u001B[39;00m nrows \u001B[38;5;241m<\u001B[39m\u001B[38;5;241m=\u001B[39m \u001B[38;5;241m0\u001B[39m:\n\u001B[1;32m---> 48\u001B[0m     \u001B[38;5;28;01mraise\u001B[39;00m \u001B[38;5;167;01mValueError\u001B[39;00m(\n\u001B[0;32m     49\u001B[0m         \u001B[38;5;124mf\u001B[39m\u001B[38;5;124m\"\u001B[39m\u001B[38;5;124mNumber of rows must be a positive integer, not \u001B[39m\u001B[38;5;132;01m{\u001B[39;00mnrows\u001B[38;5;132;01m!r}\u001B[39;00m\u001B[38;5;124m\"\u001B[39m)\n\u001B[0;32m     50\u001B[0m \u001B[38;5;28;01mif\u001B[39;00m \u001B[38;5;129;01mnot\u001B[39;00m \u001B[38;5;28misinstance\u001B[39m(ncols, Integral) \u001B[38;5;129;01mor\u001B[39;00m ncols \u001B[38;5;241m<\u001B[39m\u001B[38;5;241m=\u001B[39m \u001B[38;5;241m0\u001B[39m:\n\u001B[0;32m     51\u001B[0m     \u001B[38;5;28;01mraise\u001B[39;00m \u001B[38;5;167;01mValueError\u001B[39;00m(\n\u001B[0;32m     52\u001B[0m         \u001B[38;5;124mf\u001B[39m\u001B[38;5;124m\"\u001B[39m\u001B[38;5;124mNumber of columns must be a positive integer, not \u001B[39m\u001B[38;5;132;01m{\u001B[39;00mncols\u001B[38;5;132;01m!r}\u001B[39;00m\u001B[38;5;124m\"\u001B[39m)\n",
      "\u001B[1;31mValueError\u001B[0m: Number of rows must be a positive integer, not 2.0"
     ]
    },
    {
     "data": {
      "text/plain": "<Figure size 2400x1600 with 0 Axes>"
     },
     "metadata": {},
     "output_type": "display_data"
    }
   ],
   "source": [
    "def kde_plot_array(df):\n",
    "    \"\"\"\n",
    "    绘制概率密度图矩阵函数\n",
    "    df:要绘制图像的dataframe\n",
    "    绘制各个字段的概率密度分布，最终返回图像的show()\n",
    "    \"\"\"\n",
    "    plt.figure(figsize = (24,16))  # 图一figure\n",
    "    for num,columns in zip(range(len(df.columns)),df.columns):\n",
    "        plt.subplot(round(len(df.columns)/2,0),2,num+1)\n",
    "        # sns.set(font = 'SimHei',font_scale = 1.6)\n",
    "        index = columns\n",
    "        sns.kdeplot(df[columns],\n",
    "                   shade = True,label = index,alpha = 0.7)\n",
    "        plt.legend()\n",
    "        plt.title('{}分布图'.format(index))\n",
    "    return plt.show()\n",
    "\n",
    "# 过滤极端数据\n",
    "df.describe()\n",
    "df[df.总金额 > 5000]\n",
    "plot_df = df[(df.总金额 < 500)&(df.退款金额 < 400)][['总金额','买家实际支付金额','退款金额']]\n",
    "kde_plot_array(plot_df)"
   ]
  },
  {
   "cell_type": "code",
   "execution_count": 27,
   "metadata": {
    "collapsed": false,
    "id": "2BB407ECA6A1485D9153D5D1C52FE6B8",
    "jupyter": {
     "outputs_hidden": false
    },
    "notebookId": "657ea0492c9ef87f436b26d9",
    "slideshow": {
     "slide_type": "slide"
    },
    "tags": []
   },
   "outputs": [
    {
     "data": {
      "text/plain": "        订单编号       总金额  买家实际支付金额    收货地址              订单创建时间  \\\n3143    3144   11400.0   11400.0     江苏省 2020-02-18 09:34:43   \n3841    3842    3800.0       0.0     广东省 2020-02-09 23:50:33   \n5311    5312    3800.0    3800.0      上海 2020-02-04 10:41:53   \n5764    5765    3800.0       0.0     河南省 2020-02-02 16:52:17   \n13511  13512   16065.0   16065.0  内蒙古自治区 2020-02-26 15:41:27   \n19257  19258  188320.0       0.0      上海 2020-02-24 19:35:06   \n19550  19551    4000.0    4000.0     江苏省 2020-02-24 17:20:40   \n22031  22032    4800.0    4800.0      重庆 2020-02-29 11:08:38   \n22060  22061    4800.0       0.0      重庆 2020-02-29 10:57:33   \n27737  27738    3200.0       0.0      上海 2020-02-27 08:32:00   \n\n                   订单付款时间    退款金额    月     日  \n3143  2020-02-18 09:34:53     0.0  2.0  18.0  \n3841  2020-02-10 00:52:40  3800.0  2.0  10.0  \n5311  2020-02-04 10:48:51     0.0  2.0   4.0  \n5764  2020-02-02 16:52:22  3800.0  2.0   2.0  \n13511 2020-02-26 15:42:24     0.0  2.0  26.0  \n19257                 NaT     0.0  NaN   NaN  \n19550 2020-02-24 17:20:47     0.0  2.0  24.0  \n22031 2020-02-29 11:08:55     0.0  2.0  29.0  \n22060                 NaT     0.0  NaN   NaN  \n27737                 NaT     0.0  NaN   NaN  ",
      "text/html": "<div>\n<style scoped>\n    .dataframe tbody tr th:only-of-type {\n        vertical-align: middle;\n    }\n\n    .dataframe tbody tr th {\n        vertical-align: top;\n    }\n\n    .dataframe thead th {\n        text-align: right;\n    }\n</style>\n<table border=\"1\" class=\"dataframe\">\n  <thead>\n    <tr style=\"text-align: right;\">\n      <th></th>\n      <th>订单编号</th>\n      <th>总金额</th>\n      <th>买家实际支付金额</th>\n      <th>收货地址</th>\n      <th>订单创建时间</th>\n      <th>订单付款时间</th>\n      <th>退款金额</th>\n      <th>月</th>\n      <th>日</th>\n    </tr>\n  </thead>\n  <tbody>\n    <tr>\n      <th>3143</th>\n      <td>3144</td>\n      <td>11400.0</td>\n      <td>11400.0</td>\n      <td>江苏省</td>\n      <td>2020-02-18 09:34:43</td>\n      <td>2020-02-18 09:34:53</td>\n      <td>0.0</td>\n      <td>2.0</td>\n      <td>18.0</td>\n    </tr>\n    <tr>\n      <th>3841</th>\n      <td>3842</td>\n      <td>3800.0</td>\n      <td>0.0</td>\n      <td>广东省</td>\n      <td>2020-02-09 23:50:33</td>\n      <td>2020-02-10 00:52:40</td>\n      <td>3800.0</td>\n      <td>2.0</td>\n      <td>10.0</td>\n    </tr>\n    <tr>\n      <th>5311</th>\n      <td>5312</td>\n      <td>3800.0</td>\n      <td>3800.0</td>\n      <td>上海</td>\n      <td>2020-02-04 10:41:53</td>\n      <td>2020-02-04 10:48:51</td>\n      <td>0.0</td>\n      <td>2.0</td>\n      <td>4.0</td>\n    </tr>\n    <tr>\n      <th>5764</th>\n      <td>5765</td>\n      <td>3800.0</td>\n      <td>0.0</td>\n      <td>河南省</td>\n      <td>2020-02-02 16:52:17</td>\n      <td>2020-02-02 16:52:22</td>\n      <td>3800.0</td>\n      <td>2.0</td>\n      <td>2.0</td>\n    </tr>\n    <tr>\n      <th>13511</th>\n      <td>13512</td>\n      <td>16065.0</td>\n      <td>16065.0</td>\n      <td>内蒙古自治区</td>\n      <td>2020-02-26 15:41:27</td>\n      <td>2020-02-26 15:42:24</td>\n      <td>0.0</td>\n      <td>2.0</td>\n      <td>26.0</td>\n    </tr>\n    <tr>\n      <th>19257</th>\n      <td>19258</td>\n      <td>188320.0</td>\n      <td>0.0</td>\n      <td>上海</td>\n      <td>2020-02-24 19:35:06</td>\n      <td>NaT</td>\n      <td>0.0</td>\n      <td>NaN</td>\n      <td>NaN</td>\n    </tr>\n    <tr>\n      <th>19550</th>\n      <td>19551</td>\n      <td>4000.0</td>\n      <td>4000.0</td>\n      <td>江苏省</td>\n      <td>2020-02-24 17:20:40</td>\n      <td>2020-02-24 17:20:47</td>\n      <td>0.0</td>\n      <td>2.0</td>\n      <td>24.0</td>\n    </tr>\n    <tr>\n      <th>22031</th>\n      <td>22032</td>\n      <td>4800.0</td>\n      <td>4800.0</td>\n      <td>重庆</td>\n      <td>2020-02-29 11:08:38</td>\n      <td>2020-02-29 11:08:55</td>\n      <td>0.0</td>\n      <td>2.0</td>\n      <td>29.0</td>\n    </tr>\n    <tr>\n      <th>22060</th>\n      <td>22061</td>\n      <td>4800.0</td>\n      <td>0.0</td>\n      <td>重庆</td>\n      <td>2020-02-29 10:57:33</td>\n      <td>NaT</td>\n      <td>0.0</td>\n      <td>NaN</td>\n      <td>NaN</td>\n    </tr>\n    <tr>\n      <th>27737</th>\n      <td>27738</td>\n      <td>3200.0</td>\n      <td>0.0</td>\n      <td>上海</td>\n      <td>2020-02-27 08:32:00</td>\n      <td>NaT</td>\n      <td>0.0</td>\n      <td>NaN</td>\n      <td>NaN</td>\n    </tr>\n  </tbody>\n</table>\n</div>"
     },
     "execution_count": 27,
     "metadata": {},
     "output_type": "execute_result"
    }
   ],
   "source": [
    "df[df.总金额 > 3000]"
   ]
  },
  {
   "cell_type": "markdown",
   "metadata": {
    "collapsed": false,
    "id": "27734882A59C45E6B56B48976C9514FB",
    "jupyter": {
     "outputs_hidden": false
    },
    "mdEditEnable": false,
    "notebookId": "657ea0492c9ef87f436b26d9",
    "runtime": {
     "execution_status": null,
     "is_visible": false,
     "status": "default"
    },
    "scrolled": false,
    "slideshow": {
     "slide_type": "slide"
    },
    "tags": []
   },
   "source": [
    "## 1. 成交金额"
   ]
  },
  {
   "cell_type": "markdown",
   "metadata": {
    "collapsed": false,
    "id": "3E30CE363BA9463F98C20F3A84BAB25B",
    "jupyter": {
     "outputs_hidden": false
    },
    "mdEditEnable": false,
    "notebookId": "657ea0492c9ef87f436b26d9",
    "runtime": {
     "execution_status": null,
     "is_visible": false,
     "status": "default"
    },
    "scrolled": false,
    "slideshow": {
     "slide_type": "slide"
    },
    "tags": []
   },
   "source": [
    "### a. 成交金额在时间维度上的变化"
   ]
  },
  {
   "cell_type": "code",
   "execution_count": 28,
   "metadata": {
    "collapsed": false,
    "id": "7A4B26AB06FF4073817F661BD94115CB",
    "jupyter": {
     "outputs_hidden": false
    },
    "notebookId": "657ea0492c9ef87f436b26d9",
    "slideshow": {
     "slide_type": "slide"
    },
    "tags": []
   },
   "outputs": [],
   "source": [
    "change = df2[['买家实际支付金额','日']].groupby('日').sum().round(2).reset_index().sort_values(by = '日')"
   ]
  },
  {
   "cell_type": "code",
   "execution_count": 29,
   "metadata": {
    "collapsed": false,
    "hide_input": false,
    "id": "5139F1D034054795A48750EBDCCB873D",
    "jupyter": {
     "outputs_hidden": false
    },
    "notebookId": "657ea0492c9ef87f436b26d9",
    "slideshow": {
     "slide_type": "slide"
    },
    "tags": []
   },
   "outputs": [],
   "source": [
    "\n",
    "def echarts_line(x,y,title = '主标题',subtitle = '副标题',label = '图例'):\n",
    "    \"\"\"\n",
    "    x: 函数传入x轴标签数据\n",
    "    y：函数传入y轴数据\n",
    "    title：主标题\n",
    "    subtitle：副标题\n",
    "    label：图例\n",
    "    \"\"\"\n",
    "    line = Line(\n",
    "        init_opts=opts.InitOpts(\n",
    "            bg_color='#080b30',  # 设置背景颜色\n",
    "            theme='dark'         # 设置主题\n",
    "            # width='980px',     # 设置图的宽度\n",
    "            # height='800px'     # 设置图的高度\n",
    "        )\n",
    "    )\n",
    "    line.add_xaxis(x)\n",
    "    line.add_yaxis(\n",
    "        label,\n",
    "        y,\n",
    "        is_symbol_show=False,  # 是否显示数据标签点\n",
    "        is_smooth=True,        # 设置曲线平滑\n",
    "        label_opts=opts.LabelOpts(\n",
    "            is_show=False,     # 是否显示数据\n",
    "        ),\n",
    "        itemstyle_opts=opts.ItemStyleOpts(color='#00ca95'),  # 设置系列颜色\n",
    "        # 线条粗细阴影设置\n",
    "        linestyle_opts={\n",
    "            \"normal\": {\n",
    "                \"color\": \"#4ADEDE\",  #线条颜色\n",
    "                \"shadowColor\": 'rgba(0, 0, 0, .3)', #阴影颜色和不透明度\n",
    "                \"shadowBlur\": 2,     #阴影虚化大小\n",
    "                \"shadowOffsetY\": 5,  #阴影y偏移量\n",
    "                \"shadowOffsetX\": 5,  #阴影x偏移量\n",
    "                \"width\": 6   # 线条粗细\n",
    "            },\n",
    "        },\n",
    "        # 阴影设置\n",
    "        areastyle_opts={\n",
    "            \"normal\": {\n",
    "                \"color\": JsCode(\"\"\"new echarts.graphic.LinearGradient(0, 0, 0, 1, [{\n",
    "                                offset: 0,\n",
    "                                color: '#7BD5F5'\n",
    "                            },\n",
    "                            {\n",
    "                                offset: 1,\n",
    "                                color: 'rgba(0,202,149, 0)'\n",
    "                            }\n",
    "                        ], false)\"\"\"),  #设置底色色块渐变\n",
    "                \"shadowColor\": 'rgba(0,202,149, 0.9)',  #设置底色阴影\n",
    "                \"shadowBlur\": 20  #设置底色阴影大小\n",
    "            }\n",
    "        },\n",
    "    )\n",
    "    line.set_global_opts(\n",
    "        # 标题设置\n",
    "        title_opts=opts.TitleOpts(\n",
    "            title=title, # 主标题\n",
    "            subtitle=subtitle, # 副标题\n",
    "            pos_left='center',  # 标题展示位置\n",
    "            title_textstyle_opts=dict(color='#fff') # 设置标题字体颜色\n",
    "        ),\n",
    "        # 图例设置\n",
    "        legend_opts=opts.LegendOpts(\n",
    "            is_show=True, # 是否显示图例\n",
    "            pos_left='right', # 图例显示位置\n",
    "            pos_top='3%',  #图例距离顶部的距离\n",
    "            orient='horizontal'  # 图例水平布局\n",
    "        ),\n",
    "    )\n",
    "    return line.render_notebook()\n"
   ]
  },
  {
   "cell_type": "code",
   "execution_count": 30,
   "metadata": {
    "collapsed": false,
    "id": "F33A3F95BC564B4EAC8FF3A303E6F7E5",
    "jupyter": {
     "outputs_hidden": false
    },
    "notebookId": "657ea0492c9ef87f436b26d9",
    "slideshow": {
     "slide_type": "slide"
    },
    "tags": []
   },
   "outputs": [
    {
     "data": {
      "text/plain": "<pyecharts.render.display.HTML at 0x18f7807ffd0>",
      "text/html": "\n<script>\n    require.config({\n        paths: {\n            'echarts':'https://assets.pyecharts.org/assets/v5/echarts.min'\n        }\n    });\n</script>\n\n        <div id=\"0446a330e5e64c21812a0c8aa9f4c0b8\" style=\"width:900px; height:500px;\"></div>\n\n<script>\n        require(['echarts'], function(echarts) {\n                var chart_0446a330e5e64c21812a0c8aa9f4c0b8 = echarts.init(\n                    document.getElementById('0446a330e5e64c21812a0c8aa9f4c0b8'), 'dark', {renderer: 'canvas'});\n                var option_0446a330e5e64c21812a0c8aa9f4c0b8 = {\n    \"backgroundColor\": \"#080b30\",\n    \"animation\": true,\n    \"animationThreshold\": 2000,\n    \"animationDuration\": 1000,\n    \"animationEasing\": \"cubicOut\",\n    \"animationDelay\": 0,\n    \"animationDurationUpdate\": 300,\n    \"animationEasingUpdate\": \"cubicOut\",\n    \"animationDelayUpdate\": 0,\n    \"aria\": {\n        \"enabled\": false\n    },\n    \"series\": [\n        {\n            \"type\": \"line\",\n            \"name\": \"\\u6210\\u4ea4\\u91d1\\u989d\",\n            \"connectNulls\": false,\n            \"xAxisIndex\": 0,\n            \"symbolSize\": 4,\n            \"showSymbol\": false,\n            \"smooth\": true,\n            \"clip\": true,\n            \"step\": false,\n            \"data\": [\n                [\n                    1,\n                    7329.0\n                ],\n                [\n                    2,\n                    8508.0\n                ],\n                [\n                    3,\n                    11316.0\n                ],\n                [\n                    4,\n                    21926.74\n                ],\n                [\n                    5,\n                    15495.0\n                ],\n                [\n                    6,\n                    6025.0\n                ],\n                [\n                    7,\n                    7185.0\n                ],\n                [\n                    8,\n                    38.0\n                ],\n                [\n                    9,\n                    22123.0\n                ],\n                [\n                    10,\n                    1010.0\n                ],\n                [\n                    11,\n                    364.0\n                ],\n                [\n                    12,\n                    22.0\n                ],\n                [\n                    13,\n                    110.0\n                ],\n                [\n                    14,\n                    383.0\n                ],\n                [\n                    15,\n                    83.0\n                ],\n                [\n                    17,\n                    22819.59\n                ],\n                [\n                    18,\n                    67709.98\n                ],\n                [\n                    19,\n                    59206.84\n                ],\n                [\n                    20,\n                    97646.4\n                ],\n                [\n                    21,\n                    152718.34\n                ],\n                [\n                    22,\n                    131631.89\n                ],\n                [\n                    23,\n                    153258.1\n                ],\n                [\n                    24,\n                    145152.33\n                ],\n                [\n                    25,\n                    228983.2\n                ],\n                [\n                    26,\n                    204976.7\n                ],\n                [\n                    27,\n                    185955.4\n                ],\n                [\n                    28,\n                    192530.34\n                ],\n                [\n                    29,\n                    157980.3\n                ]\n            ],\n            \"hoverAnimation\": true,\n            \"label\": {\n                \"show\": false,\n                \"margin\": 8\n            },\n            \"logBase\": 10,\n            \"seriesLayoutBy\": \"column\",\n            \"lineStyle\": {\n                \"normal\": {\n                    \"color\": \"#4ADEDE\",\n                    \"shadowColor\": \"rgba(0, 0, 0, .3)\",\n                    \"shadowBlur\": 2,\n                    \"shadowOffsetY\": 5,\n                    \"shadowOffsetX\": 5,\n                    \"width\": 6\n                }\n            },\n            \"areaStyle\": {\n                \"normal\": {\n                    \"color\": new echarts.graphic.LinearGradient(0, 0, 0, 1, [{                                offset: 0,                                color: '#7BD5F5'                            },                            {                                offset: 1,                                color: 'rgba(0,202,149, 0)'                            }                        ], false),\n                    \"shadowColor\": \"rgba(0,202,149, 0.9)\",\n                    \"shadowBlur\": 20\n                }\n            },\n            \"itemStyle\": {\n                \"color\": \"#00ca95\"\n            },\n            \"zlevel\": 0,\n            \"z\": 0\n        }\n    ],\n    \"legend\": [\n        {\n            \"data\": [\n                \"\\u6210\\u4ea4\\u91d1\\u989d\"\n            ],\n            \"selected\": {},\n            \"show\": true,\n            \"left\": \"right\",\n            \"top\": \"3%\",\n            \"orient\": \"horizontal\",\n            \"padding\": 5,\n            \"itemGap\": 10,\n            \"itemWidth\": 25,\n            \"itemHeight\": 14,\n            \"backgroundColor\": \"transparent\",\n            \"borderColor\": \"#ccc\",\n            \"borderWidth\": 1,\n            \"borderRadius\": 0,\n            \"pageButtonItemGap\": 5,\n            \"pageButtonPosition\": \"end\",\n            \"pageFormatter\": \"{current}/{total}\",\n            \"pageIconColor\": \"#2f4554\",\n            \"pageIconInactiveColor\": \"#aaa\",\n            \"pageIconSize\": 15,\n            \"animationDurationUpdate\": 800,\n            \"selector\": false,\n            \"selectorPosition\": \"auto\",\n            \"selectorItemGap\": 7,\n            \"selectorButtonGap\": 10\n        }\n    ],\n    \"tooltip\": {\n        \"show\": true,\n        \"trigger\": \"item\",\n        \"triggerOn\": \"mousemove|click\",\n        \"axisPointer\": {\n            \"type\": \"line\"\n        },\n        \"showContent\": true,\n        \"alwaysShowContent\": false,\n        \"showDelay\": 0,\n        \"hideDelay\": 100,\n        \"enterable\": false,\n        \"confine\": false,\n        \"appendToBody\": false,\n        \"transitionDuration\": 0.4,\n        \"textStyle\": {\n            \"fontSize\": 14\n        },\n        \"borderWidth\": 0,\n        \"padding\": 5,\n        \"order\": \"seriesAsc\"\n    },\n    \"xAxis\": [\n        {\n            \"show\": true,\n            \"scale\": false,\n            \"nameLocation\": \"end\",\n            \"nameGap\": 15,\n            \"gridIndex\": 0,\n            \"inverse\": false,\n            \"offset\": 0,\n            \"splitNumber\": 5,\n            \"minInterval\": 0,\n            \"splitLine\": {\n                \"show\": true,\n                \"lineStyle\": {\n                    \"show\": true,\n                    \"width\": 1,\n                    \"opacity\": 1,\n                    \"curveness\": 0,\n                    \"type\": \"solid\"\n                }\n            },\n            \"data\": null\n        }\n    ],\n    \"yAxis\": [\n        {\n            \"show\": true,\n            \"scale\": false,\n            \"nameLocation\": \"end\",\n            \"nameGap\": 15,\n            \"gridIndex\": 0,\n            \"inverse\": false,\n            \"offset\": 0,\n            \"splitNumber\": 5,\n            \"minInterval\": 0,\n            \"splitLine\": {\n                \"show\": true,\n                \"lineStyle\": {\n                    \"show\": true,\n                    \"width\": 1,\n                    \"opacity\": 1,\n                    \"curveness\": 0,\n                    \"type\": \"solid\"\n                }\n            }\n        }\n    ],\n    \"title\": [\n        {\n            \"show\": true,\n            \"text\": \"\\u6210\\u4ea4\\u91d1\\u989d\\u53d8\\u5316\\u56fe\",\n            \"target\": \"blank\",\n            \"subtext\": \"\\u6210\\u4ea4\\u91d1\\u989d\\u5728\\u65f6\\u95f4\\u7ef4\\u5ea6\\u4e0a\\u7684\\u53d8\\u5316\",\n            \"subtarget\": \"blank\",\n            \"left\": \"center\",\n            \"padding\": 5,\n            \"itemGap\": 10,\n            \"textAlign\": \"auto\",\n            \"textVerticalAlign\": \"auto\",\n            \"triggerEvent\": false,\n            \"textStyle\": {\n                \"color\": \"#fff\"\n            }\n        }\n    ]\n};\n                chart_0446a330e5e64c21812a0c8aa9f4c0b8.setOption(option_0446a330e5e64c21812a0c8aa9f4c0b8);\n        });\n    </script>\n"
     },
     "execution_count": 30,
     "metadata": {},
     "output_type": "execute_result"
    }
   ],
   "source": [
    "echarts_line(change['日'],change['买家实际支付金额'],title = '成交金额变化图',subtitle = \"成交金额在时间维度上的变化\",\n",
    "            label = '成交金额')"
   ]
  },
  {
   "cell_type": "code",
   "execution_count": 31,
   "metadata": {
    "collapsed": false,
    "id": "42A0DDBFBDE945B4A4B451C2E68C9A56",
    "jupyter": {
     "outputs_hidden": false
    },
    "notebookId": "657ea0492c9ef87f436b26d9",
    "slideshow": {
     "slide_type": "slide"
    },
    "tags": []
   },
   "outputs": [],
   "source": [
    "week_change = df2[['周','买家实际支付金额']].groupby('周').sum().round(2).reset_index()"
   ]
  },
  {
   "cell_type": "code",
   "execution_count": null,
   "metadata": {
    "collapsed": false,
    "hide_input": false,
    "id": "E0AA39D4227D43039988D73EAA335AB0",
    "jupyter": {
     "outputs_hidden": false
    },
    "notebookId": "657ea0492c9ef87f436b26d9",
    "slideshow": {
     "slide_type": "slide"
    },
    "tags": []
   },
   "outputs": [],
   "source": [
    "\n",
    "def echarts_bar(x,y,title = '主标题',subtitle = '副标题',label = '图例'):\n",
    "    \"\"\"\n",
    "    x: 函数传入x轴标签数据\n",
    "    y：函数传入y轴数据\n",
    "    title：主标题\n",
    "    subtitle：副标题\n",
    "    label：图例\n",
    "    \"\"\"\n",
    "    bar = Bar(\n",
    "            init_opts=opts.InitOpts(\n",
    "            bg_color='#080b30',  # 设置背景颜色\n",
    "            theme='dark'         # 设置主题\n",
    "            # width='980px',     # 设置图的宽度\n",
    "            # height='800px'     # 设置图的高度\n",
    "        )\n",
    "    )\n",
    "    bar.add_xaxis(x)\n",
    "    bar.add_yaxis(label,y,\n",
    "        label_opts=opts.LabelOpts(is_show=True) # 是否显示数据\n",
    "        ,category_gap=\"50%\" # 柱子宽度设置\n",
    "        ) \n",
    "    bar.set_series_opts( # 自定义图表样式\n",
    "        label_opts=opts.LabelOpts(is_show=False), # 是否显示数据标签\n",
    "        markpoint_opts=opts.MarkPointOpts(\n",
    "            data=[\n",
    "            opts.MarkPointItem(type_=\"min\", name=\"最小值\"), # 显示最小值标签\n",
    "            opts.MarkPointItem(type_=\"max\", name=\"最大值\"), # 显示最大值标签\n",
    "            opts.MarkPointItem(type_=\"average\", name=\"平均值\") # 显示均值标签\n",
    "            ]\n",
    "        ),\n",
    "        itemstyle_opts={  \n",
    "            \"normal\": {\n",
    "                \"color\": JsCode(\n",
    "                    \"\"\"new echarts.graphic.LinearGradient(0, 0, 0, 1, [{\n",
    "                        offset: 0,color: 'rgba(0, 244, 255, 1)'}\n",
    "                        ,{offset: 1,color: 'rgba(0, 77, 167, 1)'}], false)\n",
    "                    \"\"\"\n",
    "                ),       # 调整柱子颜色渐变\n",
    "                \"barBorderRadius\": [100, 100, 100, 100],  # 调整柱子圆角弧度\n",
    "                \"shadowColor\": \"rgb(0, 160, 221)\", # 调整阴影颜色\n",
    "            }\n",
    "        }\n",
    "    )\n",
    "    bar.set_global_opts(\n",
    "        # 标题设置\n",
    "        title_opts=opts.TitleOpts(\n",
    "            title=title, # 主标题\n",
    "            subtitle=subtitle, # 副标题\n",
    "            pos_left='center',  # 标题展示位置\n",
    "            title_textstyle_opts=dict(color='#fff') # 设置标题字体颜色\n",
    "        ),\n",
    "        # 图例设置\n",
    "        legend_opts=opts.LegendOpts(\n",
    "            is_show=True, # 是否显示图例\n",
    "            pos_left='right', # 图例显示位置\n",
    "            pos_top='3%',  #图例距离顶部的距离\n",
    "            orient='horizontal'  # 图例水平布局\n",
    "        ),\n",
    "    )\n",
    "    return bar.render_notebook()"
   ]
  },
  {
   "cell_type": "code",
   "execution_count": null,
   "metadata": {
    "collapsed": false,
    "id": "25B4C02A6C8C426AAA9E09356FEB7BAF",
    "jupyter": {
     "outputs_hidden": false
    },
    "notebookId": "657ea0492c9ef87f436b26d9",
    "slideshow": {
     "slide_type": "slide"
    },
    "tags": []
   },
   "outputs": [],
   "source": [
    "echarts_bar(week_change['周'].tolist(),week_change['买家实际支付金额'].tolist(),title = '订单成交金额平均每周对比',\n",
    "            subtitle = '每周对比图',label = '成交金额')"
   ]
  },
  {
   "cell_type": "code",
   "execution_count": null,
   "metadata": {
    "collapsed": false,
    "id": "F970BBDC7818460BBC86FE91C870A7BC",
    "jupyter": {
     "outputs_hidden": false
    },
    "notebookId": "657ea0492c9ef87f436b26d9",
    "slideshow": {
     "slide_type": "slide"
    },
    "tags": []
   },
   "outputs": [],
   "source": [
    "hour_change = df2[['小时','买家实际支付金额']].groupby('小时').sum().round(2).reset_index()"
   ]
  },
  {
   "cell_type": "code",
   "execution_count": null,
   "metadata": {
    "collapsed": false,
    "id": "840CFFB943A04A5B9DD5825E18EDD82B",
    "jupyter": {
     "outputs_hidden": false
    },
    "notebookId": "657ea0492c9ef87f436b26d9",
    "slideshow": {
     "slide_type": "slide"
    },
    "tags": []
   },
   "outputs": [],
   "source": [
    "echarts_line(hour_change['小时'],hour_change['买家实际支付金额'],title = '每天各时段成交金额变化图'\n",
    "            ,subtitle = '一天24小时哪个时间段成交金额多',label = '成交金额')"
   ]
  },
  {
   "cell_type": "markdown",
   "metadata": {
    "collapsed": false,
    "id": "653ED9901D8B46AC8930E57F40210DF0",
    "jupyter": {
     "outputs_hidden": false
    },
    "mdEditEnable": false,
    "notebookId": "657ea0492c9ef87f436b26d9",
    "runtime": {
     "execution_status": null,
     "is_visible": false,
     "status": "default"
    },
    "scrolled": false,
    "slideshow": {
     "slide_type": "slide"
    },
    "tags": []
   },
   "source": [
    "### b. 成交金额在地区维度上的分布"
   ]
  },
  {
   "cell_type": "code",
   "execution_count": null,
   "metadata": {
    "collapsed": false,
    "id": "8279950291F04656940846E1E410A857",
    "jupyter": {
     "outputs_hidden": false
    },
    "notebookId": "657ea0492c9ef87f436b26d9",
    "slideshow": {
     "slide_type": "slide"
    },
    "tags": []
   },
   "outputs": [],
   "source": [
    "change_map = df2[['收货地址','买家实际支付金额']].groupby('收货地址').sum().round(2).reset_index().sort_values(by = '买家实际支付金额',\n",
    "                ascending = False)"
   ]
  },
  {
   "cell_type": "code",
   "execution_count": null,
   "metadata": {
    "collapsed": false,
    "hide_input": true,
    "id": "88E50495577B45FBA9DBEA615E8E4506",
    "jupyter": {
     "outputs_hidden": false
    },
    "notebookId": "657ea0492c9ef87f436b26d9",
    "slideshow": {
     "slide_type": "slide"
    },
    "tags": []
   },
   "outputs": [],
   "source": [
    "\n",
    "def echarts_map(province,data,title = '主标题',subtitle = '副标题',label = '图例'):\n",
    "    \"\"\"\n",
    "    province：传入省份List\n",
    "    data：传入各省对应的数据List\n",
    "    title：主标题\n",
    "    subtitle：副标题\n",
    "    label：图例\n",
    "    \"\"\"\n",
    "    map_ = Map(\n",
    "            init_opts=opts.InitOpts(\n",
    "            bg_color='#080b30',  # 设置背景颜色\n",
    "            theme='dark'         # 设置主题\n",
    "            # width='980px',     # 设置图的宽度\n",
    "            # height='800px'     # 设置图的高度\n",
    "            )\n",
    "    )\n",
    "    map_.add(label,[list(i) for i in zip(province,data)])\n",
    "    map_.set_global_opts(\n",
    "        # 标题设置\n",
    "        title_opts=opts.TitleOpts(\n",
    "            title=title, # 主标题\n",
    "            subtitle=subtitle, # 副标题\n",
    "            pos_left='center',  # 标题展示位置\n",
    "            title_textstyle_opts=dict(color='#fff') # 设置标题字体颜色\n",
    "        ),\n",
    "        # 图例设置\n",
    "        legend_opts=opts.LegendOpts(\n",
    "            is_show=True, # 是否显示图例\n",
    "            pos_left='right', # 图例显示位置\n",
    "            pos_top='3%',  #图例距离顶部的距离\n",
    "            orient='horizontal'  # 图例水平布局\n",
    "        ),\n",
    "        visualmap_opts = opts.VisualMapOpts(max_ = int(data.max()),is_piecewise = False)\n",
    "    )\n",
    "    return map_.render_notebook()\n"
   ]
  },
  {
   "cell_type": "code",
   "execution_count": null,
   "metadata": {
    "collapsed": false,
    "id": "5F3F013E58BE4FC7847B6AE8F3496E4F",
    "jupyter": {
     "outputs_hidden": false
    },
    "notebookId": "657ea0492c9ef87f436b26d9",
    "slideshow": {
     "slide_type": "slide"
    },
    "tags": []
   },
   "outputs": [],
   "source": [
    "echarts_map(change_map['收货地址'],change_map['买家实际支付金额'],title = '成交金额分布图'\n",
    "            ,subtitle = '成交金额在全国各地分布情况',label = '成交金额')"
   ]
  },
  {
   "cell_type": "code",
   "execution_count": null,
   "metadata": {
    "collapsed": false,
    "id": "C588319B39AD47EB9705FA4B5CAC4A6B",
    "jupyter": {
     "outputs_hidden": false
    },
    "notebookId": "657ea0492c9ef87f436b26d9",
    "slideshow": {
     "slide_type": "slide"
    },
    "tags": []
   },
   "outputs": [],
   "source": [
    "change_map = df2[['收货地址','买家实际支付金额']].groupby('收货地址').sum().round(2).reset_index().sort_values(by = '买家实际支付金额',\n",
    "                ascending = False)"
   ]
  },
  {
   "cell_type": "markdown",
   "metadata": {
    "collapsed": false,
    "id": "62D97A07028A436F84893FADA4B72D5B",
    "jupyter": {
     "outputs_hidden": false
    },
    "mdEditEnable": false,
    "notebookId": "657ea0492c9ef87f436b26d9",
    "runtime": {
     "execution_status": null,
     "is_visible": false,
     "status": "default"
    },
    "scrolled": false,
    "slideshow": {
     "slide_type": "slide"
    },
    "tags": []
   },
   "source": [
    "## 2. 退款金额"
   ]
  },
  {
   "cell_type": "markdown",
   "metadata": {
    "collapsed": false,
    "id": "7CDFE0F5A0DD43B48DF6D8FBF965B40A",
    "jupyter": {
     "outputs_hidden": false
    },
    "mdEditEnable": false,
    "notebookId": "657ea0492c9ef87f436b26d9",
    "runtime": {
     "execution_status": null,
     "is_visible": false,
     "status": "default"
    },
    "scrolled": false,
    "slideshow": {
     "slide_type": "slide"
    },
    "tags": []
   },
   "source": [
    "### a. 退款金额在时间维度上的变化"
   ]
  },
  {
   "cell_type": "code",
   "execution_count": null,
   "metadata": {
    "collapsed": false,
    "id": "2A06E2F9BC7442A78C20ACFADD6F4C06",
    "jupyter": {
     "outputs_hidden": false
    },
    "notebookId": "657ea0492c9ef87f436b26d9",
    "slideshow": {
     "slide_type": "slide"
    },
    "tags": []
   },
   "outputs": [],
   "source": [
    "back_money = df2[['日','退款金额']].groupby('日').sum().round(2).reset_index()"
   ]
  },
  {
   "cell_type": "code",
   "execution_count": null,
   "metadata": {
    "collapsed": false,
    "id": "EE614110758A40EBACB6614416A39588",
    "jupyter": {
     "outputs_hidden": false
    },
    "notebookId": "657ea0492c9ef87f436b26d9",
    "slideshow": {
     "slide_type": "slide"
    },
    "tags": []
   },
   "outputs": [],
   "source": [
    "echarts_bar(back_money['日'].tolist(),back_money['退款金额'].tolist(),title = '退款金额变化图'\n",
    "            ,subtitle = '退款金额日变化图',label = '退款金额')"
   ]
  },
  {
   "cell_type": "code",
   "execution_count": null,
   "metadata": {
    "collapsed": false,
    "id": "15FB163B98F3414E8D0D3E014618EA0A",
    "jupyter": {
     "outputs_hidden": false
    },
    "notebookId": "657ea0492c9ef87f436b26d9",
    "slideshow": {
     "slide_type": "slide"
    },
    "tags": []
   },
   "outputs": [],
   "source": [
    "hour_back_money = df2[['小时','退款金额']].groupby('小时').sum().round(2).reset_index()"
   ]
  },
  {
   "cell_type": "code",
   "execution_count": null,
   "metadata": {
    "collapsed": false,
    "id": "7179C2874A744A6287E1843C7AC13B18",
    "jupyter": {
     "outputs_hidden": false
    },
    "notebookId": "657ea0492c9ef87f436b26d9",
    "slideshow": {
     "slide_type": "slide"
    },
    "tags": []
   },
   "outputs": [],
   "source": [
    "echarts_line(hour_back_money['小时'].tolist(),hour_back_money['退款金额'].tolist(),title = '退款金额变化图'\n",
    "                ,subtitle = '退款金额每日小时变化图',label = '退款金额')"
   ]
  },
  {
   "cell_type": "markdown",
   "metadata": {
    "collapsed": false,
    "id": "91AFED51D05A4BF399E5F74717FB7AD6",
    "jupyter": {
     "outputs_hidden": false
    },
    "mdEditEnable": false,
    "notebookId": "657ea0492c9ef87f436b26d9",
    "runtime": {
     "execution_status": null,
     "is_visible": false,
     "status": "default"
    },
    "scrolled": false,
    "slideshow": {
     "slide_type": "slide"
    },
    "tags": []
   },
   "source": [
    "### b. 退款金额在地区维度上的分布"
   ]
  },
  {
   "cell_type": "code",
   "execution_count": null,
   "metadata": {
    "collapsed": false,
    "id": "3A5F53AE414643FE864355F6312268D9",
    "jupyter": {
     "outputs_hidden": false
    },
    "notebookId": "657ea0492c9ef87f436b26d9",
    "slideshow": {
     "slide_type": "slide"
    },
    "tags": []
   },
   "outputs": [],
   "source": [
    "local_back_money = df2[['收货地址','退款金额']].groupby('收货地址').sum().round(2).reset_index()"
   ]
  },
  {
   "cell_type": "code",
   "execution_count": null,
   "metadata": {
    "collapsed": false,
    "id": "203E8FAC2D7A4C28894E8BCD5C41EBB6",
    "jupyter": {
     "outputs_hidden": false
    },
    "notebookId": "657ea0492c9ef87f436b26d9",
    "slideshow": {
     "slide_type": "slide"
    },
    "tags": []
   },
   "outputs": [],
   "source": [
    "echarts_map(local_back_money['收货地址'],local_back_money['退款金额'],title = '退款金额分布图'\n",
    "            ,subtitle = '退款金额在全国各地分布情况',label = '退款金额')"
   ]
  },
  {
   "cell_type": "code",
   "execution_count": null,
   "metadata": {
    "collapsed": false,
    "id": "7B3F627CDBC9449E8BD4A14DF6BEF47D",
    "jupyter": {
     "outputs_hidden": false
    },
    "notebookId": "657ea0492c9ef87f436b26d9",
    "slideshow": {
     "slide_type": "slide"
    },
    "tags": []
   },
   "outputs": [],
   "source": [
    "map3d_with_bar3d(local_back_money['收货地址'],local_back_money['退款金额'],title = '退款金额分布图'\n",
    "            ,subtitle = '退款金额在全国各地分布情况',label = '退款金额')"
   ]
  }
 ],
 "metadata": {
  "kernelspec": {
   "display_name": "Python 3 (ipykernel)",
   "language": "python",
   "name": "python3"
  },
  "language_info": {
   "codemirror_mode": {
    "name": "ipython",
    "version": 3
   },
   "file_extension": ".py",
   "mimetype": "text/x-python",
   "name": "python",
   "nbconvert_exporter": "python",
   "pygments_lexer": "ipython3",
   "version": "3.10.5"
  }
 },
 "nbformat": 4,
 "nbformat_minor": 4
}
