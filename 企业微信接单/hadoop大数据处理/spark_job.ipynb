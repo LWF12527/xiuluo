{
 "cells": [
  {
   "cell_type": "code",
   "execution_count": 12,
   "outputs": [
    {
     "name": "stdout",
     "output_type": "stream",
     "text": [
      "+-------+--------+------+----------+\n",
      "|user_id|movie_id|rating| timestamp|\n",
      "+-------+--------+------+----------+\n",
      "|      1|       1|     5|2019-09-20|\n",
      "|      1|       2|     5|2020-04-05|\n",
      "|      2|       3|     4|2020-06-07|\n",
      "|      3|       4|     5|2020-07-07|\n",
      "|      2|       1|     3|2020-06-03|\n",
      "+-------+--------+------+----------+\n",
      "only showing top 5 rows\n",
      "\n",
      "root\n",
      " |-- user_id: integer (nullable = true)\n",
      " |-- movie_id: integer (nullable = true)\n",
      " |-- rating: integer (nullable = true)\n",
      " |-- timestamp: string (nullable = true)\n",
      "\n"
     ]
    }
   ],
   "source": [
    "from pyspark.sql import SparkSession\n",
    "\n",
    "# 创建 Spark 会话\n",
    "spark = SparkSession.builder \\\n",
    "    .appName(\"Movie Rating Analysis\") \\\n",
    "    .getOrCreate()\n",
    "\n",
    "# 加载 rate.txt 文件\n",
    "rate_path = \"hdfs://127.0.0.1:9000/jd/dataset/moviedata/rate.txt\"\n",
    "ratings_df = spark.read.option(\"delimiter\", \"::\").csv(rate_path, header=False, inferSchema=True)\n",
    "ratings_df = ratings_df.withColumnRenamed(\"_c0\", \"user_id\") \\\n",
    "                       .withColumnRenamed(\"_c1\", \"movie_id\") \\\n",
    "                       .withColumnRenamed(\"_c2\", \"rating\") \\\n",
    "                       .withColumnRenamed(\"_c3\", \"timestamp\")\n",
    "\n",
    "ratings_df.show(5)\n",
    "ratings_df.printSchema()\n"
   ],
   "metadata": {
    "collapsed": false
   }
  },
  {
   "cell_type": "code",
   "execution_count": null,
   "outputs": [],
   "source": [
    "# 1.输出每部电影的总评分并查询总评分前3名(输出格式：电影编号  总评分)"
   ],
   "metadata": {
    "collapsed": false
   }
  },
  {
   "cell_type": "code",
   "execution_count": 13,
   "outputs": [
    {
     "name": "stdout",
     "output_type": "stream",
     "text": [
      "+--------+------------+\n",
      "|movie_id|total_rating|\n",
      "+--------+------------+\n",
      "|       1|          13|\n",
      "|       5|           9|\n",
      "|       6|           9|\n",
      "+--------+------------+\n",
      "\n"
     ]
    }
   ],
   "source": [
    "# 计算每部电影的总评分\n",
    "movie_total_ratings = ratings_df.groupBy(\"movie_id\").sum(\"rating\").withColumnRenamed(\"sum(rating)\", \"total_rating\")\n",
    "\n",
    "# 查询总评分前3名\n",
    "top_3_movies = movie_total_ratings.orderBy(\"total_rating\", ascending=False).limit(3)\n",
    "top_3_movies.show()\n"
   ],
   "metadata": {
    "collapsed": false
   }
  },
  {
   "cell_type": "code",
   "execution_count": null,
   "outputs": [],
   "source": [
    "# 2根据评分数据得到每位用户的评分前三名"
   ],
   "metadata": {
    "collapsed": false
   }
  },
  {
   "cell_type": "code",
   "execution_count": 21,
   "outputs": [
    {
     "name": "stdout",
     "output_type": "stream",
     "text": [
      "+-------+--------+------+\n",
      "|user_id|movie_id|rating|\n",
      "+-------+--------+------+\n",
      "|      1|       1|     5|\n",
      "|      1|       2|     5|\n",
      "|      1|       5|     5|\n",
      "|      3|       1|     5|\n",
      "|      3|       4|     5|\n",
      "|      2|       6|     5|\n",
      "|      2|       2|     4|\n",
      "|      2|       3|     4|\n",
      "+-------+--------+------+\n",
      "\n"
     ]
    }
   ],
   "source": [
    "from pyspark.sql import functions as F\n",
    "from pyspark.sql.window import Window\n",
    "\n",
    "# 为每个用户创建一个窗口函数，根据评分降序排列，并根据 movie_id 排序确保处理一致性\n",
    "window_spec = Window.partitionBy(\"user_id\").orderBy(F.desc(\"rating\"), \"movie_id\")\n",
    "\n",
    "# 使用 rank() 来给每部电影评分排序\n",
    "user_top_ratings = ratings_df.withColumn(\"rank\", F.rank().over(window_spec))\n",
    "\n",
    "# 过滤出每个用户的前三名评分\n",
    "user_top_3_ratings = user_top_ratings.filter(user_top_ratings[\"rank\"] <= 3).select(\"user_id\", \"movie_id\", \"rating\")\n",
    "\n",
    "# 显示结果\n",
    "user_top_3_ratings.show()\n"
   ],
   "metadata": {
    "collapsed": false
   }
  },
  {
   "cell_type": "code",
   "execution_count": null,
   "outputs": [],
   "source": [
    "# 3. 根据评分数据得到最火的三部电影,最火的电影是评论次数最多的电影。我们可以通过对 movie_id 进行计数来找出评论最多的电影。"
   ],
   "metadata": {
    "collapsed": false
   }
  },
  {
   "cell_type": "code",
   "execution_count": 22,
   "outputs": [
    {
     "name": "stdout",
     "output_type": "stream",
     "text": [
      "+--------+------------+\n",
      "|movie_id|rating_count|\n",
      "+--------+------------+\n",
      "|       1|           3|\n",
      "|       6|           2|\n",
      "|       5|           2|\n",
      "+--------+------------+\n",
      "\n"
     ]
    }
   ],
   "source": [
    "# 统计每部电影的评分次数\n",
    "movie_rating_count = ratings_df.groupBy(\"movie_id\").count().withColumnRenamed(\"count\", \"rating_count\")\n",
    "\n",
    "# 查询评论次数最多的前三部电影\n",
    "top_3_hot_movies = movie_rating_count.orderBy(\"rating_count\", ascending=False).limit(3)\n",
    "top_3_hot_movies.show()\n"
   ],
   "metadata": {
    "collapsed": false
   }
  },
  {
   "cell_type": "code",
   "execution_count": null,
   "outputs": [],
   "source": [
    "# 4. 求被评分次数最多的3部电影，并给出评分次数\n",
    "# 这一部分实际上和第3点是相似的，只是输出格式要求不同。"
   ],
   "metadata": {
    "collapsed": false
   }
  },
  {
   "cell_type": "code",
   "execution_count": 23,
   "outputs": [
    {
     "name": "stdout",
     "output_type": "stream",
     "text": [
      "+--------+------------+\n",
      "|movie_id|rating_count|\n",
      "+--------+------------+\n",
      "|       1|           3|\n",
      "|       6|           2|\n",
      "|       5|           2|\n",
      "+--------+------------+\n",
      "\n"
     ]
    }
   ],
   "source": [
    "    # 直接复用第三步的查询\n",
    "    top_3_hot_movies_count = movie_rating_count.orderBy(\"rating_count\", ascending=False).limit(3)\n",
    "    top_3_hot_movies_count.show()\n"
   ],
   "metadata": {
    "collapsed": false
   }
  },
  {
   "cell_type": "code",
   "execution_count": null,
   "outputs": [],
   "source": [
    "# 5. 每个电影前三名的评分,对于每部电影，我们可以为其评分按降序排列，并提取前三名评分。"
   ],
   "metadata": {
    "collapsed": false
   }
  },
  {
   "cell_type": "code",
   "execution_count": 25,
   "outputs": [
    {
     "name": "stdout",
     "output_type": "stream",
     "text": [
      "+--------+------+\n",
      "|movie_id|rating|\n",
      "+--------+------+\n",
      "|       1|     5|\n",
      "|       1|     5|\n",
      "|       1|     3|\n",
      "|       6|     5|\n",
      "|       6|     4|\n",
      "|       3|     4|\n",
      "|       5|     5|\n",
      "|       5|     4|\n",
      "|       4|     5|\n",
      "|       7|     5|\n",
      "|       2|     5|\n",
      "|       2|     4|\n",
      "+--------+------+\n",
      "\n"
     ]
    }
   ],
   "source": [
    "from pyspark.sql import functions as F\n",
    "from pyspark.sql.window import Window\n",
    "\n",
    "# 为每部电影创建一个窗口函数，按评分降序排列\n",
    "window_spec_movie = Window.partitionBy(\"movie_id\").orderBy(F.desc(\"rating\"))\n",
    "\n",
    "# 添加排名列\n",
    "movie_top_ratings = ratings_df.withColumn(\"rank\", F.rank().over(window_spec_movie))\n",
    "\n",
    "# 过滤出每部电影的前三名评分\n",
    "movie_top_3_ratings = movie_top_ratings.filter(movie_top_ratings[\"rank\"] <= 3).select(\"movie_id\", \"rating\")\n",
    "\n",
    "# 显示结果\n",
    "movie_top_3_ratings.show()\n"
   ],
   "metadata": {
    "collapsed": false
   }
  },
  {
   "cell_type": "code",
   "execution_count": null,
   "outputs": [],
   "source": [
    "# 6. 求2017年上映的电影中，评分最高的3部剧情类电影\n",
    "# 假设我们有一个 movies.csv 文件包含了电影的相关信息（如电影类型、上映年份等），我们需要加载这个文件，并过滤出2017年上映的剧情类电影，按评分求前3名。"
   ],
   "metadata": {
    "collapsed": false
   }
  },
  {
   "cell_type": "code",
   "execution_count": null,
   "outputs": [],
   "source": [
    "# 假设我们有一个 movie_info.csv 文件，包含电影的ID、类型和上映年份\n",
    "movie_info_path = \"hdfs://jd/dataset/moviedata/movies.csv\"\n",
    "movies_df = spark.read.option(\"delimiter\", \"\\t\").csv(movie_info_path, header=True, inferSchema=True)\n",
    "\n",
    "# 假设movies.csv文件有以下列: movie_id, title, genre, year\n",
    "movies_df = movies_df.filter((movies_df[\"year\"] == 2017) & (movies_df[\"genre\"] == \"Drama\"))\n",
    "\n",
    "# 连接电影信息和评分数据\n",
    "movie_ratings_2017_drama = ratings_df.join(movies_df, \"movie_id\")\n",
    "\n",
    "# 计算评分最高的3部电影\n",
    "top_3_drama_movies = movie_ratings_2017_drama.groupBy(\"movie_id\").sum(\"rating\").withColumnRenamed(\"sum(rating)\", \"total_rating\") \\\n",
    "                                             .orderBy(\"total_rating\", ascending=False).limit(3)\n",
    "\n",
    "top_3_drama_movies.show()\n"
   ],
   "metadata": {
    "collapsed": false
   }
  },
  {
   "cell_type": "code",
   "execution_count": null,
   "outputs": [],
   "source": [
    "# 7. 分别求男性，女性当中评分(平均得分)最高的10部电影\n",
    "# 假设用户信息存储在一个 users.csv 文件中，包含用户的 user_id 和 gender，我们需要连接这个数据来计算男性和女性评分最高的电影。"
   ],
   "metadata": {
    "collapsed": false
   }
  },
  {
   "cell_type": "code",
   "execution_count": null,
   "outputs": [],
   "source": [
    "# 假设 users.csv 文件包含用户性别信息\n",
    "user_info_path = \"hdfs://jd/dataset/moviedata/users.csv\"\n",
    "users_df = spark.read.option(\"delimiter\", \"\\t\").csv(user_info_path, header=True, inferSchema=True)\n",
    "\n",
    "# 假设 users.csv 文件有： user_id, gender\n",
    "# 连接用户信息和评分数据\n",
    "user_ratings = ratings_df.join(users_df, \"user_id\")\n",
    "\n",
    "# 按性别计算评分最高的10部电影\n",
    "user_ratings_avg = user_ratings.groupBy(\"gender\", \"movie_id\").avg(\"rating\").withColumnRenamed(\"avg(rating)\", \"avg_rating\")\n",
    "\n",
    "# 求每个性别评分最高的10部电影\n",
    "top_10_movies_by_gender = user_ratings_avg.orderBy(\"avg_rating\", ascending=False).limit(10)\n",
    "top_10_movies_by_gender.show()\n"
   ],
   "metadata": {
    "collapsed": false
   }
  }
 ],
 "metadata": {
  "kernelspec": {
   "display_name": "Python 3",
   "language": "python",
   "name": "python3"
  },
  "language_info": {
   "codemirror_mode": {
    "name": "ipython",
    "version": 2
   },
   "file_extension": ".py",
   "mimetype": "text/x-python",
   "name": "python",
   "nbconvert_exporter": "python",
   "pygments_lexer": "ipython2",
   "version": "2.7.6"
  }
 },
 "nbformat": 4,
 "nbformat_minor": 0
}
