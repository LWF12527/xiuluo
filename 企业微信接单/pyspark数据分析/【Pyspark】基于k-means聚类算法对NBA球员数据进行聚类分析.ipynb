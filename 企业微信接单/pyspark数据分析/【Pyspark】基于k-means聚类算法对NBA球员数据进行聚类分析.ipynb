{
 "cells": [
  {
   "cell_type": "markdown",
   "metadata": {
    "jupyter": {},
    "scrolled": false,
    "tags": [],
    "slideshow": {
     "slide_type": "slide"
    },
    "id": "39B195CB384A4E2EB05EAA8CDC734E76",
    "runtime": {
     "status": "default",
     "execution_status": null,
     "is_visible": false
    },
    "notebookId": "65b9ab1110f31b28efc8b35e"
   },
   "source": [
    "# 一、数据介绍"
   ]
  },
  {
   "cell_type": "markdown",
   "metadata": {
    "jupyter": {},
    "scrolled": false,
    "tags": [],
    "slideshow": {
     "slide_type": "slide"
    },
    "id": "68AC5BF847B14201872B2A9C05384EFB",
    "runtime": {
     "status": "default",
     "execution_status": null,
     "is_visible": false
    },
    "notebookId": "65b9ab1110f31b28efc8b35e"
   },
   "source": [
    "* 某赛季NBA球员数据"
   ]
  },
  {
   "cell_type": "markdown",
   "metadata": {
    "jupyter": {},
    "scrolled": false,
    "tags": [],
    "slideshow": {
     "slide_type": "slide"
    },
    "id": "2160834447A04F4696C64040870C6E2A",
    "runtime": {
     "status": "default",
     "execution_status": null,
     "is_visible": false
    },
    "notebookId": "65b9ab1110f31b28efc8b35e"
   },
   "source": [
    "# 二、分析概述"
   ]
  },
  {
   "cell_type": "markdown",
   "metadata": {
    "jupyter": {},
    "scrolled": false,
    "tags": [],
    "slideshow": {
     "slide_type": "slide"
    },
    "id": "C9617FB0C597488D80A501F41870530F",
    "runtime": {
     "status": "default",
     "execution_status": null,
     "is_visible": false
    },
    "notebookId": "65b9ab1110f31b28efc8b35e"
   },
   "source": [
    "* 从轮廓系数的维度看，该数据集分为两类最优  \n",
    "* 对于聚类算法这类无监督的算法，具体分为几类需要根据实际需求确定"
   ]
  },
  {
   "cell_type": "markdown",
   "metadata": {
    "jupyter": {},
    "scrolled": false,
    "tags": [],
    "slideshow": {
     "slide_type": "slide"
    },
    "id": "567A16E79C954E05A83D70B5FB1AC296",
    "runtime": {
     "status": "default",
     "execution_status": null,
     "is_visible": false
    },
    "notebookId": "65b9ab1110f31b28efc8b35e"
   },
   "source": [
    "# 三、数据预处理"
   ]
  },
  {
   "cell_type": "code",
   "metadata": {
    "jupyter": {},
    "collapsed": false,
    "scrolled": false,
    "tags": [],
    "slideshow": {
     "slide_type": "slide"
    },
    "id": "CD43ABAEB94944D59964B2A3BC7AB2D6",
    "notebookId": "65b9ab1110f31b28efc8b35e",
    "trusted": true
   },
   "source": [
    "import findspark\n",
    "findspark.init()"
   ],
   "outputs": [],
   "execution_count": 2
  },
  {
   "cell_type": "code",
   "metadata": {
    "jupyter": {},
    "collapsed": false,
    "scrolled": false,
    "tags": [],
    "slideshow": {
     "slide_type": "slide"
    },
    "id": "D2579CF3FD17452184443F9CB428CF4E",
    "notebookId": "65b9ab1110f31b28efc8b35e",
    "trusted": true
   },
   "source": [
    "from pyspark.sql import SparkSession\n",
    "from pyspark.sql.functions import col, when\n",
    "\n",
    "from pyspark.sql import functions as F\n",
    "from pyspark.sql.types import FloatType\n",
    "import matplotlib.pyplot as plt\n",
    "from pyspark.ml.feature import VectorAssembler\n",
    "import matplotlib.pyplot as plt\n",
    "from pyspark.ml.clustering import KMeans\n",
    "from pyspark.ml.evaluation import ClusteringEvaluator"
   ],
   "outputs": [],
   "execution_count": 3
  },
  {
   "cell_type": "code",
   "metadata": {
    "jupyter": {},
    "collapsed": false,
    "scrolled": false,
    "tags": [],
    "slideshow": {
     "slide_type": "slide"
    },
    "id": "7F244886C0504D0380E9D567DBE6E63B",
    "notebookId": "65b9ab1110f31b28efc8b35e",
    "trusted": true
   },
   "source": [
    "# 创建 SparkSession\n",
    "spark = SparkSession.builder.appName(\"KMeans\").master(\"local[*]\").getOrCreate()"
   ],
   "outputs": [],
   "execution_count": 4
  },
  {
   "cell_type": "code",
   "metadata": {
    "jupyter": {},
    "collapsed": false,
    "scrolled": false,
    "tags": [],
    "slideshow": {
     "slide_type": "slide"
    },
    "id": "FA533A6B2C0C44B88A86E38ED25A432E",
    "notebookId": "65b9ab1110f31b28efc8b35e",
    "trusted": true
   },
   "source": [
    "# 读取 CSV 数据\n",
    "# header = True 代表读入数据的第一行是列名\n",
    "# inferSchema=True 自动推断每列数据的数据类型，设为False就都当成字符串类型了\n",
    "data = spark.read.csv(\"data.csv\", header=True, inferSchema=True)"
   ],
   "outputs": [],
   "execution_count": 5
  },
  {
   "cell_type": "code",
   "metadata": {
    "jupyter": {},
    "collapsed": false,
    "scrolled": false,
    "tags": [],
    "slideshow": {
     "slide_type": "slide"
    },
    "id": "E73951CE9E594CD88FAAA19D333CD147",
    "notebookId": "65b9ab1110f31b28efc8b35e",
    "trusted": true
   },
   "source": [
    "data.show()"
   ],
   "outputs": [
    {
     "name": "stdout",
     "output_type": "stream",
     "text": [
      "+---+---------------+----+----+----+-----+----+----+-----+--------+--------+------+--------+--------+----+----+----+----+----+----+----+----+----+---+---+\n",
      "|_c0|           球员|出场|首发|时间| 投篮|命中|出手| 三分|三分命中|三分出手|  罚球|罚球命中|罚球出手|篮板|前场|后场|助攻|抢断|盖帽|失误|犯规|得分| 胜| 负|\n",
      "+---+---------------+----+----+----+-----+----+----+-----+--------+--------+------+--------+--------+----+----+----+----+----+----+----+----+----+---+---+\n",
      "|  0|凯兰纳-阿祖布克| 208|  84|24.2|45.9%| 3.9| 8.4|40.9%|     1.0|     2.5| 77.0%|     1.8|     2.3| 4.0| 1.2| 2.8| 1.1| 0.6| 0.5| 1.0| 2.0|10.5| 99|109|\n",
      "|  1|  古斯塔沃-阿永| 135|  41|16.7|53.6%| 2.1| 3.9| 0.0%|     0.0|     0.0| 50.4%|     0.5|     1.0| 4.4| 1.4| 3.0| 1.3| 0.7| 0.5| 0.9| 2.0| 4.7| 47| 88|\n",
      "|  2|  德尼斯-沃特雷| 733|    |19.3|45.9%| 1.9| 4.1|     |        |        | 65.2%|     1.0|     1.6| 4.6|    |    | 2.0|    |    |    | 2.3| 4.8|   |   |\n",
      "|  3|    威廉-艾弗里| 142|   1| 8.5|33.0%| 1.0| 2.9|25.5%|     0.3|     1.1| 71.4%|     0.5|     0.6| 0.7| 0.1| 0.5| 1.4| 0.2| 0.0| 0.7| 0.9| 2.7| 86| 56|\n",
      "|  4|   Bird Averitt| 130|    |17.1|39.2%| 3.3| 8.5|     |        |        | 71.3%|     1.7|     2.4| 1.2| 0.3| 1.0| 2.5| 0.5| 0.1|    | 1.9| 8.3|   |   |\n",
      "|  5|  安东尼-埃文特| 352| 156|19.1|40.3%| 2.3| 5.7| 0.0%|     0.0|     0.0| 68.6%|     0.9|     1.4| 4.5| 1.6| 2.9| 0.8| 0.5| 0.6| 1.2| 2.3| 5.6|140|212|\n",
      "|  6|      肯-奥斯汀|   7|   0| 4.0|46.2%| 0.9| 1.9|     |     0.0|     0.0|      |     0.0|     0.0| 0.4| 0.3| 0.1| 0.1| 0.1| 0.1| 0.4| 1.0| 1.7|   |   |\n",
      "|  7|  Johnny Austin|   4|    |15.3|22.7%| 1.3| 5.5|     |        |        | 81.3%|     3.3|     4.0| 1.8|    |    | 1.0|    |    |    | 3.0| 5.8|   |   |\n",
      "|  8|   Isaac Austin| 432| 166|19.3|44.6%| 3.0| 6.7|17.6%|     0.0|     0.1| 67.0%|     1.6|     2.4| 4.7| 1.4| 3.3| 1.2| 0.5| 0.5| 1.6| 2.2| 7.6|227|205|\n",
      "|  9|詹姆斯-奥古斯丁|  27|   0| 5.8|51.4%| 0.7| 1.4|     |     0.0|     0.0| 50.0%|     0.1|     0.3| 1.2| 0.6| 0.6| 0.1| 0.2| 0.1| 0.2| 0.7| 1.6| 18|  9|\n",
      "| 10|    DJ-奥古斯丁| 833| 313|24.1|41.2%| 3.2| 7.7|37.9%|     1.3|     3.4| 86.4%|     2.1|     2.5| 1.9| 0.3| 1.6| 4.0| 0.6| 0.0| 1.5| 1.5| 9.8|381|452|\n",
      "| 11|  斯特西-奥格蒙|1001| 472|21.6|46.9%| 3.0| 6.5|15.2%|     0.0|     0.1| 72.8%|     1.9|     2.6| 3.2| 1.3| 1.9| 1.6| 1.0| 0.3| 1.2| 1.7| 8.0|564|437|\n",
      "| 12|    切特-奥布琼|  30|    |    |25.3%| 0.8| 3.0|     |        |        | 54.3%|     0.6|     1.2|    |    |    | 0.7|    |    |    | 1.5| 2.2|   |   |\n",
      "| 13|      Al Attles| 711|    |25.1|45.1%| 3.5| 7.8|     |        |        | 63.2%|     1.9|     3.0| 3.5|    |    | 3.5|    |    |    | 3.4| 8.9|   |   |\n",
      "| 14|  查基-阿特金斯| 695| 326|24.9|41.2%| 3.6| 8.7|36.4%|     1.3|     3.7| 77.2%|     1.4|     1.8| 1.7| 0.3| 1.4| 3.4| 0.7| 0.1| 1.5| 1.8| 9.9|337|358|\n",
      "| 15|      Dick Atha|  43|    |10.4|39.3%| 1.2| 3.1|     |        |        | 79.5%|     0.7|     0.9| 1.5|    |    | 1.2|    |    |    | 1.5| 3.2|   |   |\n",
      "| 16|    唐-艾莫斯哥|   7|    | 6.6|13.3%| 0.3| 2.1|     |        |        |100.0%|     0.1|     0.1| 0.1|    |    | 0.7|    |    |    | 1.7| 0.7|   |   |\n",
      "| 17|  基斯-阿斯金斯| 486|  80|16.4|40.1%| 1.4| 3.5|35.5%|     0.6|     1.6| 71.7%|     0.5|     0.6| 2.9| 1.1| 1.9| 0.8| 0.6| 0.3| 0.7| 2.3| 3.8|255|231|\n",
      "| 18|  文森特-艾斯丘| 467|  27|20.0|48.0%| 2.6| 5.4|30.0%|     0.2|     0.5| 75.4%|     1.7|     2.3| 2.5| 0.9| 1.7| 2.2| 0.7| 0.2| 1.1| 2.1| 7.1|308|159|\n",
      "| 19|  欧米尔-阿西克| 471| 262|19.6|52.8%| 2.0| 3.8| 0.0%|     0.0|     0.0| 55.1%|     1.2|     2.3| 7.1| 2.2| 4.9| 0.6| 0.4| 0.7| 1.2| 2.0| 5.3|280|191|\n",
      "+---+---------------+----+----+----+-----+----+----+-----+--------+--------+------+--------+--------+----+----+----+----+----+----+----+----+----+---+---+\n",
      "only showing top 20 rows\n",
      "\n"
     ]
    }
   ],
   "execution_count": 6
  },
  {
   "cell_type": "markdown",
   "metadata": {
    "jupyter": {},
    "scrolled": false,
    "tags": [],
    "slideshow": {
     "slide_type": "slide"
    },
    "id": "B03185EDEC1E4DEEBB774710815C5ED9",
    "runtime": {
     "status": "default",
     "execution_status": null,
     "is_visible": false
    },
    "notebookId": "65b9ab1110f31b28efc8b35e"
   },
   "source": [
    "## 缺失值处理"
   ]
  },
  {
   "cell_type": "markdown",
   "metadata": {
    "jupyter": {},
    "scrolled": false,
    "tags": [],
    "slideshow": {
     "slide_type": "slide"
    },
    "id": "0DD7585830BD48229AD6093EE7375273",
    "runtime": {
     "status": "default",
     "execution_status": null,
     "is_visible": false
    },
    "notebookId": "65b9ab1110f31b28efc8b35e"
   },
   "source": [
    "* 计算每列的空值数量，经过对数据的初步分析得知，数据集中空格代表空值"
   ]
  },
  {
   "cell_type": "code",
   "metadata": {
    "jupyter": {},
    "collapsed": false,
    "scrolled": false,
    "tags": [],
    "slideshow": {
     "slide_type": "slide"
    },
    "id": "FFE00510F36E46D9A72466955BC96B16",
    "notebookId": "65b9ab1110f31b28efc8b35e",
    "trusted": true
   },
   "source": [
    "# 计算DataFrame中每一列的缺失率\n",
    "def calculate_missing_rates(df):\n",
    "    \"\"\"\n",
    "    计算每列的缺失率（为 null 和 空格 都认为是缺失值）\n",
    "\n",
    "    Parameters:\n",
    "    - df: PySpark DataFrame\n",
    "\n",
    "    Returns:\n",
    "    - missing_rates_df: PySpark DataFrame，包含每列的缺失率\n",
    "    \"\"\"\n",
    "    total_rows = df.count()\n",
    "    missing_rates = []\n",
    "\n",
    "    for column in df.columns:\n",
    "        missing_count = df.filter(col(column).isNull() | (col(column) == \" \")).count()\n",
    "        missing_rate = (missing_count / total_rows) * 100\n",
    "        missing_rates.append((column, missing_rate))\n",
    "\n",
    "    # 创建 DataFrame 显示结果\n",
    "    missing_rates_df = spark.createDataFrame(missing_rates, [\"Column\", \"MissingRate\"])\n",
    "    return missing_rates_df"
   ],
   "outputs": [],
   "execution_count": 7
  },
  {
   "cell_type": "code",
   "metadata": {
    "jupyter": {},
    "collapsed": false,
    "scrolled": false,
    "tags": [],
    "slideshow": {
     "slide_type": "slide"
    },
    "id": "8B714509F30F4566862B56F226DB36AD",
    "notebookId": "65b9ab1110f31b28efc8b35e",
    "trusted": true
   },
   "source": [
    "missing_rates = calculate_missing_rates(data)"
   ],
   "outputs": [],
   "execution_count": 8
  },
  {
   "cell_type": "code",
   "metadata": {
    "jupyter": {},
    "collapsed": false,
    "scrolled": false,
    "tags": [],
    "slideshow": {
     "slide_type": "slide"
    },
    "id": "5CDD91786B0E4530B9D468BB019C9E4D",
    "notebookId": "65b9ab1110f31b28efc8b35e",
    "trusted": true
   },
   "source": [
    "missing_rates.show()"
   ],
   "outputs": [
    {
     "name": "stdout",
     "output_type": "stream",
     "text": [
      "+--------+------------------+\n",
      "|  Column|       MissingRate|\n",
      "+--------+------------------+\n",
      "|     _c0|               0.0|\n",
      "|    球员|               0.0|\n",
      "|    出场|               0.0|\n",
      "|    首发| 37.10832587287377|\n",
      "|    时间| 9.937332139659803|\n",
      "|    投篮|0.6490599820948971|\n",
      "|    命中|               0.0|\n",
      "|    出手|               0.0|\n",
      "|    三分| 42.79319606087735|\n",
      "|三分命中|34.064458370635634|\n",
      "|三分出手|34.064458370635634|\n",
      "|    罚球| 4.767233661593554|\n",
      "|罚球命中|               0.0|\n",
      "|罚球出手|               0.0|\n",
      "|    篮板| 9.288272157564906|\n",
      "|    前场|26.029543419874663|\n",
      "|    后场|26.007162041181736|\n",
      "|    助攻|               0.0|\n",
      "|    抢断| 26.16383169203223|\n",
      "|    盖帽| 26.16383169203223|\n",
      "+--------+------------------+\n",
      "only showing top 20 rows\n",
      "\n"
     ]
    }
   ],
   "execution_count": 9
  },
  {
   "cell_type": "code",
   "metadata": {
    "jupyter": {},
    "collapsed": false,
    "scrolled": false,
    "tags": [],
    "slideshow": {
     "slide_type": "slide"
    },
    "id": "ECFD840BADBF4E5A9BB128248CC5CAD3",
    "notebookId": "65b9ab1110f31b28efc8b35e",
    "trusted": true
   },
   "source": [
    "# 过滤出缺失率超过80%的特征，认为这部分特征无法参与建模，删除\n",
    "missing_rates.filter(col(\"MissingRate\") > 80).show()"
   ],
   "outputs": [
    {
     "name": "stdout",
     "output_type": "stream",
     "text": [
      "+------+-----------+\n",
      "|Column|MissingRate|\n",
      "+------+-----------+\n",
      "+------+-----------+\n",
      "\n"
     ]
    }
   ],
   "execution_count": 10
  },
  {
   "cell_type": "code",
   "metadata": {
    "jupyter": {},
    "collapsed": false,
    "scrolled": false,
    "tags": [],
    "slideshow": {
     "slide_type": "slide"
    },
    "id": "19BA5035000B4E60956AB0FC95CD96C5",
    "notebookId": "65b9ab1110f31b28efc8b35e",
    "trusted": true
   },
   "source": [
    "# 对于其他有缺失值但是缺失率小于0.8的进行数据填充\n",
    "# 找出需要填充的列\n",
    "missing_rates_list = missing_rates.filter(col(\"MissingRate\") > 0).select(\"Column\").collect()\n",
    "columns_to_fill = [row[\"Column\"] for row in missing_rates_list]"
   ],
   "outputs": [],
   "execution_count": 11
  },
  {
   "cell_type": "code",
   "metadata": {
    "jupyter": {},
    "collapsed": false,
    "scrolled": false,
    "tags": [],
    "slideshow": {
     "slide_type": "slide"
    },
    "id": "ADA903EBD231475C943AFADD5BFF60B7",
    "notebookId": "65b9ab1110f31b28efc8b35e",
    "trusted": true
   },
   "source": [
    "columns_to_fill"
   ],
   "outputs": [
    {
     "data": {
      "text/plain": "['首发',\n '时间',\n '投篮',\n '三分',\n '三分命中',\n '三分出手',\n '罚球',\n '篮板',\n '前场',\n '后场',\n '抢断',\n '盖帽',\n '失误',\n '胜',\n '负']"
     },
     "execution_count": 12,
     "metadata": {},
     "output_type": "execute_result"
    }
   ],
   "execution_count": 12
  },
  {
   "cell_type": "markdown",
   "metadata": {
    "jupyter": {},
    "scrolled": false,
    "tags": [],
    "slideshow": {
     "slide_type": "slide"
    },
    "id": "3321921E1E564E8E85AED0FAE0CBB0F0",
    "runtime": {
     "status": "default",
     "execution_status": null,
     "is_visible": false
    },
    "notebookId": "65b9ab1110f31b28efc8b35e"
   },
   "source": [
    "根据数据含义确定填充策略  \n",
    "* '首发'列采用，0值填充  \n",
    "*  其他的特征列，均采用均值填充策略"
   ]
  },
  {
   "cell_type": "code",
   "metadata": {
    "jupyter": {},
    "collapsed": false,
    "scrolled": false,
    "tags": [],
    "slideshow": {
     "slide_type": "slide"
    },
    "id": "D7EEEC1749694C2D9FC4E149C4526BDD",
    "notebookId": "65b9ab1110f31b28efc8b35e",
    "trusted": true
   },
   "source": [
    "# 只有数字类型的数据才能代入建模，首先把几个百分比的数字改成数字类型\n",
    "# 去掉百分号并转换为浮点数\n",
    "for col in ['投篮','三分','罚球']:\n",
    "    data = data.withColumn(\n",
    "        col,\n",
    "        F.expr(f\"CAST(REGEXP_REPLACE(`{col}`, '%', '') AS FLOAT)\")\n",
    "    )"
   ],
   "outputs": [],
   "execution_count": 13
  },
  {
   "cell_type": "code",
   "metadata": {
    "jupyter": {},
    "collapsed": false,
    "scrolled": false,
    "tags": [],
    "slideshow": {
     "slide_type": "slide"
    },
    "id": "12151D6A9325449BAAD04867CDEBE8D8",
    "notebookId": "65b9ab1110f31b28efc8b35e",
    "trusted": true
   },
   "source": [
    "# 去除每列中的空格数据并计算它们的均值\n",
    "columns_to_fill.append(\"_c0\")\n",
    "data_no_empty_strings = data.select([F.col(c).cast(FloatType()) if c not in [\"首发\",\"_c0\"] else F.col(c) for c in [*columns_to_fill]])\n",
    "# 计算均值\n",
    "mean_values = data_no_empty_strings.agg(*[F.mean(c).alias(c) for c in data_no_empty_strings.columns if c not in [\"首发\",\"_c0\"]]).collect()[0]"
   ],
   "outputs": [],
   "execution_count": 14
  },
  {
   "cell_type": "code",
   "metadata": {
    "jupyter": {},
    "collapsed": false,
    "scrolled": false,
    "tags": [],
    "slideshow": {
     "slide_type": "slide"
    },
    "id": "611D8DC253974814B0F8D317B641803D",
    "notebookId": "65b9ab1110f31b28efc8b35e",
    "trusted": true
   },
   "source": [
    "# 使用均值替换空格\n",
    "data_filled = data_no_empty_strings.na.fill(mean_values.asDict())"
   ],
   "outputs": [],
   "execution_count": 15
  },
  {
   "cell_type": "code",
   "metadata": {
    "jupyter": {},
    "collapsed": false,
    "scrolled": false,
    "tags": [],
    "slideshow": {
     "slide_type": "slide"
    },
    "id": "39FEE08E4F7448C98993BCB2619E53B4",
    "notebookId": "65b9ab1110f31b28efc8b35e",
    "trusted": true
   },
   "source": [
    "# 用 0填充：'首发'\n",
    "# data_filled = data_filled.withColumn(\"首发\", F.when(data_filled[\"首发\"] == \" \", 0).otherwise(data_filled[\"首发\"]))\n",
    "from pyspark.sql.functions import col, when\n",
    "\n",
    "# 用 0 填充空字符串或无法转换的值\n",
    "data_filled = data_filled.withColumn(\n",
    "    \"首发\",\n",
    "    when(col(\"首发\").rlike(\"^\\d+$\"), col(\"首发\")).otherwise(\"0\")\n",
    ")\n",
    "\n",
    "# 转换 '首发' 为整数类型\n",
    "data_filled = data_filled.withColumn(\"首发\", col(\"首发\").cast(\"int\"))\n"
   ],
   "outputs": [],
   "execution_count": 26
  },
  {
   "cell_type": "code",
   "metadata": {
    "jupyter": {},
    "collapsed": false,
    "scrolled": false,
    "tags": [],
    "slideshow": {
     "slide_type": "slide"
    },
    "id": "906B8A32018E467AB7D942AE13CC5F24",
    "notebookId": "65b9ab1110f31b28efc8b35e",
    "trusted": true
   },
   "source": [
    "# '首发' 转换成数字类型，只有数字类型才能参与建模\n",
    "# data_filled = data_filled.withColumn(\"首发\", col(\"首发\").cast(\"int\"))\n"
   ],
   "outputs": [],
   "execution_count": 27
  },
  {
   "cell_type": "code",
   "metadata": {
    "jupyter": {},
    "collapsed": false,
    "scrolled": false,
    "tags": [],
    "slideshow": {
     "slide_type": "slide"
    },
    "id": "FD32E37CB40040A495DA22DF9E00011F",
    "notebookId": "65b9ab1110f31b28efc8b35e",
    "trusted": true
   },
   "source": [
    "data_filled.show()"
   ],
   "outputs": [
    {
     "name": "stdout",
     "output_type": "stream",
     "text": [
      "+----+---------+----+---------+----------+---------+--------+---------+---------+---------+----------+----------+---------+---------+---------+---+\n",
      "|首发|     时间|投篮|     三分|  三分命中| 三分出手|    罚球|     篮板|     前场|     后场|      抢断|      盖帽|     失误|       胜|       负|_c0|\n",
      "+----+---------+----+---------+----------+---------+--------+---------+---------+---------+----------+----------+---------+---------+---------+---+\n",
      "|  84|     24.2|45.9|     40.9|       1.0|      2.5|    77.0|      4.0|      1.2|      2.8|       0.6|       0.5|      1.0|     99.0|    109.0|  0|\n",
      "|  41|     16.7|53.6|      0.0|       0.0|      0.0|    50.4|      4.4|      1.4|      3.0|       0.7|       0.5|      0.9|     47.0|     88.0|  1|\n",
      "|   0|     19.3|45.9|24.931887|0.35254583|1.0626951|    65.2|      4.6|0.8444478|1.9524199|0.53767806|0.31770232|0.9910995|137.24385|139.66055|  2|\n",
      "|   1|      8.5|33.0|     25.5|       0.3|      1.1|    71.4|      0.7|      0.1|      0.5|       0.2|       0.0|      0.7|     86.0|     56.0|  3|\n",
      "|   0|     17.1|39.2|24.931887|0.35254583|1.0626951|    71.3|      1.2|      0.3|      1.0|       0.5|       0.1|0.9910995|137.24385|139.66055|  4|\n",
      "| 156|     19.1|40.3|      0.0|       0.0|      0.0|    68.6|      4.5|      1.6|      2.9|       0.5|       0.6|      1.2|    140.0|    212.0|  5|\n",
      "|   0|      4.0|46.2|24.931887|       0.0|      0.0|69.74585|      0.4|      0.3|      0.1|       0.1|       0.1|      0.4|137.24385|139.66055|  6|\n",
      "|   0|     15.3|22.7|24.931887|0.35254583|1.0626951|    81.3|      1.8|0.8444478|1.9524199|0.53767806|0.31770232|0.9910995|137.24385|139.66055|  7|\n",
      "| 166|     19.3|44.6|     17.6|       0.0|      0.1|    67.0|      4.7|      1.4|      3.3|       0.5|       0.5|      1.6|    227.0|    205.0|  8|\n",
      "|   0|      5.8|51.4|24.931887|       0.0|      0.0|    50.0|      1.2|      0.6|      0.6|       0.2|       0.1|      0.2|     18.0|      9.0|  9|\n",
      "| 313|     24.1|41.2|     37.9|       1.3|      3.4|    86.4|      1.9|      0.3|      1.6|       0.6|       0.0|      1.5|    381.0|    452.0| 10|\n",
      "| 472|     21.6|46.9|     15.2|       0.0|      0.1|    72.8|      3.2|      1.3|      1.9|       1.0|       0.3|      1.2|    564.0|    437.0| 11|\n",
      "|   0|16.219532|25.3|24.931887|0.35254583|1.0626951|    54.3|2.9361215|0.8444478|1.9524199|0.53767806|0.31770232|0.9910995|137.24385|139.66055| 12|\n",
      "|   0|     25.1|45.1|24.931887|0.35254583|1.0626951|    63.2|      3.5|0.8444478|1.9524199|0.53767806|0.31770232|0.9910995|137.24385|139.66055| 13|\n",
      "| 326|     24.9|41.2|     36.4|       1.3|      3.7|    77.2|      1.7|      0.3|      1.4|       0.7|       0.1|      1.5|    337.0|    358.0| 14|\n",
      "|   0|     10.4|39.3|24.931887|0.35254583|1.0626951|    79.5|      1.5|0.8444478|1.9524199|0.53767806|0.31770232|0.9910995|137.24385|139.66055| 15|\n",
      "|   0|      6.6|13.3|24.931887|0.35254583|1.0626951|   100.0|      0.1|0.8444478|1.9524199|0.53767806|0.31770232|0.9910995|137.24385|139.66055| 16|\n",
      "|  80|     16.4|40.1|     35.5|       0.6|      1.6|    71.7|      2.9|      1.1|      1.9|       0.6|       0.3|      0.7|    255.0|    231.0| 17|\n",
      "|  27|     20.0|48.0|     30.0|       0.2|      0.5|    75.4|      2.5|      0.9|      1.7|       0.7|       0.2|      1.1|    308.0|    159.0| 18|\n",
      "| 262|     19.6|52.8|      0.0|       0.0|      0.0|    55.1|      7.1|      2.2|      4.9|       0.4|       0.7|      1.2|    280.0|    191.0| 19|\n",
      "+----+---------+----+---------+----------+---------+--------+---------+---------+---------+----------+----------+---------+---------+---------+---+\n",
      "only showing top 20 rows\n",
      "\n"
     ]
    }
   ],
   "execution_count": 28
  },
  {
   "cell_type": "code",
   "metadata": {
    "jupyter": {},
    "collapsed": false,
    "scrolled": false,
    "tags": [],
    "slideshow": {
     "slide_type": "slide"
    },
    "id": "F5584597EE9543DC85B01D4CAA778CC6",
    "notebookId": "65b9ab1110f31b28efc8b35e",
    "trusted": true
   },
   "source": [
    "# 把data中其他的数字类型的列拼接到data_filled中构造最后参与建模的数据集\n",
    "filtered_data = data.select(['出场','命中','出手','罚球命中','助攻','犯规','得分', '_c0'])\n",
    "data_filled = data_filled.join(filtered_data, on='_c0')"
   ],
   "outputs": [],
   "execution_count": 29
  },
  {
   "cell_type": "markdown",
   "metadata": {
    "jupyter": {},
    "scrolled": false,
    "tags": [],
    "slideshow": {
     "slide_type": "slide"
    },
    "id": "F4F113BF895C4EE0859258AE61B80646",
    "runtime": {
     "status": "default",
     "execution_status": null,
     "is_visible": false
    },
    "notebookId": "65b9ab1110f31b28efc8b35e"
   },
   "source": [
    "## 重复值处理"
   ]
  },
  {
   "cell_type": "code",
   "metadata": {
    "jupyter": {},
    "collapsed": false,
    "scrolled": false,
    "tags": [],
    "slideshow": {
     "slide_type": "slide"
    },
    "id": "2549FFE91A894519809A80E9C559358E",
    "notebookId": "65b9ab1110f31b28efc8b35e",
    "trusted": true
   },
   "source": [
    "data_filled = data_filled.dropDuplicates()"
   ],
   "outputs": [],
   "execution_count": 30
  },
  {
   "cell_type": "markdown",
   "metadata": {
    "jupyter": {},
    "scrolled": false,
    "tags": [],
    "slideshow": {
     "slide_type": "slide"
    },
    "id": "6119925CE6914A49878D70A06B52ABAD",
    "runtime": {
     "status": "default",
     "execution_status": null,
     "is_visible": false
    },
    "notebookId": "65b9ab1110f31b28efc8b35e"
   },
   "source": [
    "# 四、模型搭建"
   ]
  },
  {
   "cell_type": "code",
   "metadata": {
    "jupyter": {},
    "collapsed": false,
    "scrolled": false,
    "tags": [],
    "slideshow": {
     "slide_type": "slide"
    },
    "id": "CEB378290E0B4AF0BD0EA0F6CEB03E59",
    "notebookId": "65b9ab1110f31b28efc8b35e",
    "trusted": true
   },
   "source": [
    "# 构造进行聚类建模的向量数据\n",
    "assembler = VectorAssembler(inputCols=[ '首发','时间','投篮','三分','三分命中','三分出手','罚球','篮板','前场',\n",
    " '后场','抢断','盖帽','失误','胜','负','出场','命中','出手','罚球命中','助攻','犯规','得分'], outputCol=\"features\")\n",
    "final_data = assembler.transform(data_filled)"
   ],
   "outputs": [],
   "execution_count": 31
  },
  {
   "cell_type": "code",
   "metadata": {
    "jupyter": {},
    "collapsed": false,
    "scrolled": false,
    "tags": [],
    "slideshow": {
     "slide_type": "slide"
    },
    "id": "2E4AF16483FB473FB89ACAE972D97574",
    "notebookId": "65b9ab1110f31b28efc8b35e",
    "trusted": true
   },
   "source": [
    "# 构造自定义函数，用于绘制不同k值和对应轮廓系数的折线图\n",
    "def k_silhouette(X, clusters):\n",
    "    K = range(2,clusters+1)\n",
    "    # 构建空列表，用于存储个中簇数下的轮廓系数\n",
    "    S = []\n",
    "    for k in K:\n",
    "        kmeans = KMeans().setK(k) \\\n",
    "        .setSeed(1) \\\n",
    "        .setMaxIter(200) \\\n",
    "        .setInitMode(\"k-means||\") \\\n",
    "        .setInitSteps(3) \\\n",
    "        .setTol(1e-4) \\\n",
    "        .setDistanceMeasure(\"euclidean\") \\\n",
    "        .setFeaturesCol(\"features\") \\\n",
    "        .setPredictionCol(\"prediction\")\n",
    "        model = kmeans.fit(X)\n",
    "        predictions = model.transform(X)\n",
    "        # 使用 ClusteringEvaluator 计算轮廓系数\n",
    "        evaluator = ClusteringEvaluator()\n",
    "        silhouette = evaluator.evaluate(predictions)\n",
    "        S.append(silhouette)\n",
    "\n",
    "    # 中文和负号的正常显示\n",
    "    plt.rcParams['font.sans-serif'] = ['Microsoft YaHei']\n",
    "    plt.rcParams['axes.unicode_minus'] = False\n",
    "    # 设置绘图风格\n",
    "    plt.style.use('ggplot')\n",
    "    # 绘制K的个数与轮廓系数的关系\n",
    "    plt.plot(K, S, 'b*-')\n",
    "    plt.xlabel('簇的个数')\n",
    "    plt.ylabel('轮廓系数')\n",
    "    # 显示图形\n",
    "    plt.show()"
   ],
   "outputs": [],
   "execution_count": 32
  },
  {
   "cell_type": "code",
   "metadata": {
    "jupyter": {},
    "collapsed": false,
    "scrolled": false,
    "tags": [],
    "slideshow": {
     "slide_type": "slide"
    },
    "id": "E6326366D06E476787DD1B1F398C2896",
    "notebookId": "65b9ab1110f31b28efc8b35e",
    "trusted": true
   },
   "source": [
    "k_silhouette(final_data, 10)"
   ],
   "outputs": [
    {
     "data": {
      "text/plain": "<Figure size 640x480 with 1 Axes>",
      "image/png": "[encoded data removed]"
     },
     "metadata": {},
     "output_type": "display_data"
    }
   ],
   "execution_count": 33
  },
  {
   "cell_type": "code",
   "metadata": {
    "jupyter": {},
    "collapsed": false,
    "scrolled": false,
    "tags": [],
    "slideshow": {
     "slide_type": "slide"
    },
    "id": "8DA087325BCD45CB9905515304735F46",
    "notebookId": "65b9ab1110f31b28efc8b35e",
    "trusted": true
   },
   "source": [
    "# 观察上图发现在k=2的时候聚类效果最好\n",
    "# 用k=2对模型进行重建\n",
    "kmeans = KMeans().setK(2) \\\n",
    "        .setSeed(1) \\\n",
    "        .setMaxIter(200) \\\n",
    "        .setInitMode(\"k-means||\") \\\n",
    "        .setInitSteps(3) \\\n",
    "        .setTol(1e-4) \\\n",
    "        .setDistanceMeasure(\"euclidean\") \\\n",
    "        .setFeaturesCol(\"features\") \\\n",
    "        .setPredictionCol(\"prediction\")"
   ],
   "outputs": [],
   "execution_count": 34
  },
  {
   "cell_type": "code",
   "metadata": {
    "jupyter": {},
    "collapsed": false,
    "scrolled": false,
    "tags": [],
    "slideshow": {
     "slide_type": "slide"
    },
    "id": "C653B47144544F4AB9A52A47D2E2B2D5",
    "notebookId": "65b9ab1110f31b28efc8b35e",
    "trusted": true
   },
   "source": [
    "model = kmeans.fit(final_data)\n",
    "predictions = model.transform(final_data)"
   ],
   "outputs": [],
   "execution_count": 35
  },
  {
   "cell_type": "code",
   "metadata": {
    "jupyter": {},
    "collapsed": false,
    "scrolled": false,
    "tags": [],
    "slideshow": {
     "slide_type": "slide"
    },
    "id": "DAB188601A78441D85DE2228063D3DAB",
    "notebookId": "65b9ab1110f31b28efc8b35e",
    "trusted": true
   },
   "source": [
    "predictions.show()"
   ],
   "outputs": [
    {
     "name": "stdout",
     "output_type": "stream",
     "text": [
      "+----+----+---------+----+---------+----------+---------+--------+---------+---------+---------+----------+----------+---------+---------+---------+----+----+----+--------+----+----+----+--------------------+----------+\n",
      "| _c0|首发|     时间|投篮|     三分|  三分命中| 三分出手|    罚球|     篮板|     前场|     后场|      抢断|      盖帽|     失误|       胜|       负|出场|命中|出手|罚球命中|助攻|犯规|得分|            features|prediction|\n",
      "+----+----+---------+----+---------+----------+---------+--------+---------+---------+---------+----------+----------+---------+---------+---------+----+----+----+--------+----+----+----+--------------------+----------+\n",
      "| 468|   0|     27.5|47.2|24.931887|0.35254583|1.0626951|    78.7|      6.1|      1.8|      4.3|       1.1|       0.3|      1.3|137.24385|139.66055| 802| 5.3|11.1|     1.8| 2.2| 2.3|12.4|[0.0,27.5,47.2000...|         1|\n",
      "| 584| 216|     15.8|45.5|      0.0|       0.0|      0.0|    69.9|      2.9|      1.2|      1.7|       0.3|       0.2|      0.6|    300.0|    242.0| 542| 1.3| 2.8|     1.3| 0.8| 2.4| 3.9|[216.0,15.8000001...|         1|\n",
      "| 875|  11|     14.5|44.6|      0.0|       0.0|      0.0|    81.7|      2.8|      1.0|      1.8|       0.4|       0.2|      0.8|     31.0|     78.0| 109| 1.8| 4.1|     1.3| 0.6| 1.6| 5.0|[11.0,14.5,44.599...|         0|\n",
      "|1034|  13|     13.5|43.4|     34.0|       0.4|      1.3|    70.2|      2.0|      0.5|      1.5|       0.4|       0.1|      0.9|     52.0|     59.0| 111| 2.1| 4.9|     1.1| 0.9| 1.2| 5.8|[13.0,13.5,43.400...|         0|\n",
      "|1600|   0|16.219532|35.5|24.931887|0.35254583|1.0626951|    75.7|2.9361215|0.8444478|1.9524199|0.53767806|0.31770232|0.9910995|137.24385|139.66055| 140| 3.7|10.5|     2.8| 3.1| 3.2|10.2|[0.0,16.219532012...|         0|\n",
      "|1694| 637|     25.3|47.9|     14.5|       0.0|      0.2|    70.6|      1.7|      0.4|      1.3|       1.0|       0.1|      1.7|    625.0|    429.0|1054| 3.4| 7.2|     1.5| 5.5| 1.6| 8.4|[637.0,25.2999992...|         1|\n",
      "|1785|   0|      5.6|31.8|24.931887|       0.0|      0.0|   100.0|      1.5|      0.8|      0.8|       0.0|       0.6|      0.6|137.24385|139.66055|   8| 0.9| 2.8|     0.3| 0.4| 1.0| 2.0|[0.0,5.5999999046...|         0|\n",
      "|1887|   0|16.219532|23.8|24.931887|0.35254583|1.0626951|    79.5|2.9361215|0.8444478|1.9524199|0.53767806|0.31770232|0.9910995|137.24385|139.66055|  59| 2.2| 9.1|     2.2| 0.5| 1.3| 6.5|[0.0,16.219532012...|         0|\n",
      "|2069| 686|     31.0|52.7|     24.7|       0.0|      0.1|    69.2|      8.5|      2.6|      5.9|       0.5|       2.8|      2.6|    491.0|    347.0| 838| 6.1|11.6|     4.8| 1.1| 3.4|17.1|[686.0,31.0,52.70...|         1|\n",
      "|3100|   0|     11.5|22.2|     12.5|       0.3|      2.0|    66.7|      1.5|      0.8|      0.8|       0.3|       0.0|      0.8|      2.0|      2.0|   4| 1.0| 4.5|     0.5| 0.8| 1.5| 2.8|[0.0,11.5,22.2000...|         0|\n",
      "|3226|   1|      6.4|38.9|24.931887|       0.0|      0.0|    46.2|      1.6|      0.7|      0.9|       0.0|       0.4|      0.1|     13.0|     34.0|  47| 0.6| 1.5|     0.3| 0.1| 0.8| 1.4|[1.0,6.4000000953...|         0|\n",
      "|3334|  67|     20.9|47.1|     17.0|       0.1|      0.3|    76.3|      2.6|      0.8|      1.8|       0.9|       0.1|      1.3|137.24385|139.66055| 161| 3.4| 7.1|     1.6| 2.3| 2.0| 8.4|[67.0,20.89999961...|         0|\n",
      "|3970|   1|      7.0|25.0|      0.0|       0.0|      1.0|69.74585|      1.5|      0.5|      1.0|       0.3|       0.0|      0.3|      2.0|      2.0|   4| 0.8| 3.0|     0.0| 0.0| 1.5| 1.5|[1.0,7.0,25.0,0.0...|         0|\n",
      "|4405|   1|     16.5|37.4|     34.1|       0.6|      1.8|    65.0|      3.6|      0.3|      3.3|       0.3|       0.4|      0.8|     11.0|     14.0|  25| 1.4| 3.6|     0.5| 0.5| 0.9| 3.8|[1.0,16.5,37.4000...|         0|\n",
      "| 223|   2|      8.2|40.1|     20.0|       0.1|      0.5|    85.9|      1.1|      0.3|      0.8|       0.1|       0.0|      0.5|     47.0|     79.0| 126| 1.4| 3.4|     0.5| 0.4| 0.7| 3.3|[2.0,8.1999998092...|         0|\n",
      "| 346|   0|      9.2|36.7|      0.0|       0.0|      0.0|    50.9|      1.6|      0.7|      0.9|       0.4|       0.1|      0.7|137.24385|139.66055|  60| 1.5| 4.0|     0.5| 0.4| 0.9| 3.4|[0.0,9.1999998092...|         0|\n",
      "|1127|   0|      2.9|53.8|24.931887|       0.0|      0.0|    83.3|      0.7|      0.2|      0.4|       0.0|       0.1|      0.2|137.24385|139.66055|   9| 0.8| 1.4|     0.6| 0.0| 0.4| 2.1|[0.0,2.9000000953...|         0|\n",
      "|1145|   0|      6.4| 0.0|24.931887|0.35254583|1.0626951|    33.3|      0.6|0.8444478|1.9524199|0.53767806|0.31770232|0.9910995|137.24385|139.66055|   5| 0.0| 2.2|     0.6| 0.0| 0.6| 0.6|[0.0,6.4000000953...|         0|\n",
      "|1278|   0|16.219532|34.4|24.931887|0.35254583|1.0626951|    74.8|2.9361215|0.8444478|1.9524199|0.53767806|0.31770232|0.9910995|137.24385|139.66055| 151| 3.4| 9.9|     2.1| 1.6| 2.9| 8.9|[0.0,16.219532012...|         0|\n",
      "|1314| 203|     17.8|46.3|     29.3|       0.1|      0.2|    70.0|      5.4|      1.7|      3.7|       0.4|       0.6|      0.9|    355.0|    445.0| 800| 2.6| 5.6|     1.4| 0.7| 1.8| 6.7|[203.0,17.7999992...|         1|\n",
      "+----+----+---------+----+---------+----------+---------+--------+---------+---------+---------+----------+----------+---------+---------+---------+----+----+----+--------+----+----+----+--------------------+----------+\n",
      "only showing top 20 rows\n",
      "\n"
     ]
    }
   ],
   "execution_count": 36
  },
  {
   "cell_type": "code",
   "metadata": {
    "jupyter": {},
    "collapsed": false,
    "scrolled": false,
    "tags": [],
    "slideshow": {
     "slide_type": "slide"
    },
    "id": "3AA9F7C4D792406A841FAAA875283F31",
    "notebookId": "65b9ab1110f31b28efc8b35e",
    "trusted": true
   },
   "source": [
    "# 获取中心点\n",
    "centers = model.clusterCenters()"
   ],
   "outputs": [],
   "execution_count": 37
  },
  {
   "cell_type": "code",
   "metadata": {
    "jupyter": {},
    "collapsed": false,
    "scrolled": false,
    "tags": [],
    "slideshow": {
     "slide_type": "slide"
    },
    "id": "0FB6E84622784D799F0EB5DAC7FF4463",
    "notebookId": "65b9ab1110f31b28efc8b35e",
    "trusted": true,
    "pycharm": {
     "is_executing": true
    }
   },
   "source": [
    "print(\"中心点如下：\",centers)"
   ],
   "outputs": [],
   "execution_count": null
  },
  {
   "cell_type": "code",
   "metadata": {
    "jupyter": {},
    "collapsed": false,
    "scrolled": false,
    "tags": [],
    "slideshow": {
     "slide_type": "slide"
    },
    "id": "92224A749A674E76BA2498E104E489DF",
    "notebookId": "65b9ab1110f31b28efc8b35e",
    "trusted": true,
    "pycharm": {
     "is_executing": true
    }
   },
   "source": [],
   "outputs": [],
   "execution_count": null
  },
  {
   "cell_type": "code",
   "execution_count": null,
   "outputs": [],
   "source": [],
   "metadata": {
    "collapsed": false,
    "pycharm": {
     "is_executing": true
    }
   }
  },
  {
   "cell_type": "code",
   "execution_count": null,
   "outputs": [],
   "source": [],
   "metadata": {
    "collapsed": false,
    "pycharm": {
     "is_executing": true
    }
   }
  },
  {
   "cell_type": "code",
   "execution_count": null,
   "outputs": [],
   "source": [],
   "metadata": {
    "collapsed": false
   }
  }
 ],
 "metadata": {
  "kernelspec": {
   "language": "python",
   "display_name": "Python 3",
   "name": "python3"
  },
  "language_info": {
   "codemirror_mode": {
    "name": "ipython",
    "version": 3
   },
   "name": "python",
   "mimetype": "text/x-python",
   "nbconvert_exporter": "python",
   "file_extension": ".py",
   "version": "3.5.2",
   "pygments_lexer": "ipython3"
  }
 },
 "nbformat": 4,
 "nbformat_minor": 5
}
