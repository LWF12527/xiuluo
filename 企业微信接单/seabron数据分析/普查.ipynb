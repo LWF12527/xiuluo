{
 "cells": [
  {
   "cell_type": "code",
   "execution_count": 6,
   "outputs": [],
   "source": [
    "#导入包\n",
    "import pandas as pd\n",
    "import numpy as np\n",
    "import matplotlib.pyplot as plt\n",
    "import seaborn as sns\n",
    "%matplotlib inline\n",
    "plt.style.use('fivethirtyeight')\n",
    "\n",
    "from warnings import filterwarnings\n",
    "filterwarnings('ignore')"
   ],
   "metadata": {
    "collapsed": false
   }
  },
  {
   "cell_type": "code",
   "metadata": {
    "trusted": true,
    "collapsed": false,
    "jupyter": {},
    "tags": [],
    "slideshow": {
     "slide_type": "slide"
    },
    "id": "7B79696B3EB14EE0ABE2079DB9ADD0BE",
    "scrolled": false,
    "notebookId": "661be33bd60ce3fe5be1e53f"
   },
   "source": [
    "#读取各地区分年龄、性别的人口\n",
    "pcount = pd.read_csv('各地区分年龄、性别的人口.csv',skiprows=2)\n",
    "\"\"\"\n",
    "2010年各地区分年龄，性别人口数据\n",
    "背景描述\n",
    "\n",
    "数据为中国2010年人口普查资料，包含2010年各地区分年龄、性别的人口，各地区分性别的户籍人口， 2010年（城市，乡村，镇）各地区分年龄、性别的人口\n",
    "数据说明\n",
    "\n",
    "1-7c 各地区分年龄、性别的人口(乡村).csv\n",
    "1-7b 各地区分年龄、性别的人口(镇).csv\n",
    "1-7a 各地区分年龄、性别的人口(城市).csv\n",
    "1-3 各地区分性别的户籍人口.csv\n",
    "各地区分年龄、性别的人口.csv\n",
    "\"\"\""
   ],
   "outputs": [
    {
     "data": {
      "text/plain": "'\\n2010年各地区分年龄，性别人口数据\\n背景描述\\n\\n数据为中国2010年人口普查资料，包含2010年各地区分年龄、性别的人口，各地区分性别的户籍人口， 2010年（城市，乡村，镇）各地区分年龄、性别的人口\\n数据说明\\n\\n1-7c 各地区分年龄、性别的人口(乡村).csv\\n1-7b 各地区分年龄、性别的人口(镇).csv\\n1-7a 各地区分年龄、性别的人口(城市).csv\\n1-3 各地区分性别的户籍人口.csv\\n各地区分年龄、性别的人口.csv\\n'"
     },
     "execution_count": 7,
     "metadata": {},
     "output_type": "execute_result"
    }
   ],
   "execution_count": 7
  },
  {
   "cell_type": "markdown",
   "metadata": {
    "id": "3A47F876AB8A41A98F420759915D3426",
    "notebookId": "661be33bd60ce3fe5be1e53f",
    "jupyter": {},
    "tags": [],
    "slideshow": {
     "slide_type": "slide"
    },
    "trusted": true,
    "mdEditEnable": false,
    "scrolled": false,
    "runtime": {
     "status": "default",
     "execution_status": null,
     "is_visible": false
    }
   },
   "source": [
    "## 1. 探索性分析并处理数据"
   ]
  },
  {
   "cell_type": "code",
   "metadata": {
    "id": "40CDFE5F586245498A7E6E4B10DAD766",
    "notebookId": "661be33bd60ce3fe5be1e53f",
    "jupyter": {},
    "tags": [],
    "slideshow": {
     "slide_type": "slide"
    },
    "trusted": true,
    "collapsed": false,
    "scrolled": false
   },
   "source": [
    "pcount.head()"
   ],
   "outputs": [
    {
     "data": {
      "text/plain": "  Unnamed: 0        单位：人 Unnamed: 2 Unnamed: 3 Unnamed: 4 Unnamed: 5  \\\n0     地    区      合    计        NaN        NaN         0岁        NaN   \n1        NaN          合计          男          女         小计          男   \n2     全    国  1332810869  682329104  650481765   13786434    7461199   \n3     北    京    19612368   10126430    9485938     115882      60564   \n4     天    津    12938693    6907091    6031602      81871      43546   \n\n  Unnamed: 6 Unnamed: 7 Unnamed: 8 Unnamed: 9  ... Unnamed: 246 Unnamed: 247  \\\n0        NaN       1-4岁        NaN        NaN  ...          NaN          NaN   \n1          女         小计          男          女  ...          NaN          NaN   \n2    6325235   61746176   33601367   28144809  ...          NaN          NaN   \n3      55318     569998     300229     269769  ...          NaN          NaN   \n4      38325     379022     201322     177700  ...          NaN          NaN   \n\n  Unnamed: 248 Unnamed: 249 Unnamed: 250 Unnamed: 251 Unnamed: 252  \\\n0          NaN          NaN          NaN          NaN          NaN   \n1          NaN          NaN          NaN          NaN          NaN   \n2          NaN          NaN          NaN          NaN          NaN   \n3          NaN          NaN          NaN          NaN          NaN   \n4          NaN          NaN          NaN          NaN          NaN   \n\n  Unnamed: 253 Unnamed: 254 Unnamed: 255  \n0          NaN          NaN          NaN  \n1          NaN          NaN          NaN  \n2          NaN          NaN          NaN  \n3          NaN          NaN          NaN  \n4          NaN          NaN          NaN  \n\n[5 rows x 256 columns]",
      "text/html": "<div>\n<style scoped>\n    .dataframe tbody tr th:only-of-type {\n        vertical-align: middle;\n    }\n\n    .dataframe tbody tr th {\n        vertical-align: top;\n    }\n\n    .dataframe thead th {\n        text-align: right;\n    }\n</style>\n<table border=\"1\" class=\"dataframe\">\n  <thead>\n    <tr style=\"text-align: right;\">\n      <th></th>\n      <th>Unnamed: 0</th>\n      <th>单位：人</th>\n      <th>Unnamed: 2</th>\n      <th>Unnamed: 3</th>\n      <th>Unnamed: 4</th>\n      <th>Unnamed: 5</th>\n      <th>Unnamed: 6</th>\n      <th>Unnamed: 7</th>\n      <th>Unnamed: 8</th>\n      <th>Unnamed: 9</th>\n      <th>...</th>\n      <th>Unnamed: 246</th>\n      <th>Unnamed: 247</th>\n      <th>Unnamed: 248</th>\n      <th>Unnamed: 249</th>\n      <th>Unnamed: 250</th>\n      <th>Unnamed: 251</th>\n      <th>Unnamed: 252</th>\n      <th>Unnamed: 253</th>\n      <th>Unnamed: 254</th>\n      <th>Unnamed: 255</th>\n    </tr>\n  </thead>\n  <tbody>\n    <tr>\n      <th>0</th>\n      <td>地    区</td>\n      <td>合    计</td>\n      <td>NaN</td>\n      <td>NaN</td>\n      <td>0岁</td>\n      <td>NaN</td>\n      <td>NaN</td>\n      <td>1-4岁</td>\n      <td>NaN</td>\n      <td>NaN</td>\n      <td>...</td>\n      <td>NaN</td>\n      <td>NaN</td>\n      <td>NaN</td>\n      <td>NaN</td>\n      <td>NaN</td>\n      <td>NaN</td>\n      <td>NaN</td>\n      <td>NaN</td>\n      <td>NaN</td>\n      <td>NaN</td>\n    </tr>\n    <tr>\n      <th>1</th>\n      <td>NaN</td>\n      <td>合计</td>\n      <td>男</td>\n      <td>女</td>\n      <td>小计</td>\n      <td>男</td>\n      <td>女</td>\n      <td>小计</td>\n      <td>男</td>\n      <td>女</td>\n      <td>...</td>\n      <td>NaN</td>\n      <td>NaN</td>\n      <td>NaN</td>\n      <td>NaN</td>\n      <td>NaN</td>\n      <td>NaN</td>\n      <td>NaN</td>\n      <td>NaN</td>\n      <td>NaN</td>\n      <td>NaN</td>\n    </tr>\n    <tr>\n      <th>2</th>\n      <td>全    国</td>\n      <td>1332810869</td>\n      <td>682329104</td>\n      <td>650481765</td>\n      <td>13786434</td>\n      <td>7461199</td>\n      <td>6325235</td>\n      <td>61746176</td>\n      <td>33601367</td>\n      <td>28144809</td>\n      <td>...</td>\n      <td>NaN</td>\n      <td>NaN</td>\n      <td>NaN</td>\n      <td>NaN</td>\n      <td>NaN</td>\n      <td>NaN</td>\n      <td>NaN</td>\n      <td>NaN</td>\n      <td>NaN</td>\n      <td>NaN</td>\n    </tr>\n    <tr>\n      <th>3</th>\n      <td>北    京</td>\n      <td>19612368</td>\n      <td>10126430</td>\n      <td>9485938</td>\n      <td>115882</td>\n      <td>60564</td>\n      <td>55318</td>\n      <td>569998</td>\n      <td>300229</td>\n      <td>269769</td>\n      <td>...</td>\n      <td>NaN</td>\n      <td>NaN</td>\n      <td>NaN</td>\n      <td>NaN</td>\n      <td>NaN</td>\n      <td>NaN</td>\n      <td>NaN</td>\n      <td>NaN</td>\n      <td>NaN</td>\n      <td>NaN</td>\n    </tr>\n    <tr>\n      <th>4</th>\n      <td>天    津</td>\n      <td>12938693</td>\n      <td>6907091</td>\n      <td>6031602</td>\n      <td>81871</td>\n      <td>43546</td>\n      <td>38325</td>\n      <td>379022</td>\n      <td>201322</td>\n      <td>177700</td>\n      <td>...</td>\n      <td>NaN</td>\n      <td>NaN</td>\n      <td>NaN</td>\n      <td>NaN</td>\n      <td>NaN</td>\n      <td>NaN</td>\n      <td>NaN</td>\n      <td>NaN</td>\n      <td>NaN</td>\n      <td>NaN</td>\n    </tr>\n  </tbody>\n</table>\n<p>5 rows × 256 columns</p>\n</div>"
     },
     "execution_count": 8,
     "metadata": {},
     "output_type": "execute_result"
    }
   ],
   "execution_count": 8
  },
  {
   "cell_type": "code",
   "metadata": {
    "id": "98C308B2F8464BF9A4E4AB748798A8E4",
    "notebookId": "661be33bd60ce3fe5be1e53f",
    "jupyter": {},
    "collapsed": false,
    "scrolled": false,
    "tags": [],
    "slideshow": {
     "slide_type": "slide"
    },
    "trusted": true
   },
   "source": [
    "pcount.info()"
   ],
   "outputs": [],
   "execution_count": null
  },
  {
   "cell_type": "markdown",
   "metadata": {
    "id": "5706419CCA0B45F08DF2A1D4B381D5FF",
    "notebookId": "661be33bd60ce3fe5be1e53f",
    "jupyter": {},
    "tags": [],
    "slideshow": {
     "slide_type": "slide"
    },
    "trusted": true,
    "mdEditEnable": false,
    "scrolled": false,
    "runtime": {
     "status": "default",
     "execution_status": null,
     "is_visible": false
    }
   },
   "source": [
    "### 1.1 删除多余的列"
   ]
  },
  {
   "cell_type": "code",
   "metadata": {
    "id": "B686D20D590947C199F01792B7A288A7",
    "notebookId": "661be33bd60ce3fe5be1e53f",
    "jupyter": {},
    "tags": [],
    "slideshow": {
     "slide_type": "slide"
    },
    "trusted": true,
    "collapsed": false,
    "scrolled": false
   },
   "source": [
    "#删除所有值为na的列 \n",
    "pcount=pcount.dropna(axis=1,how='all') "
   ],
   "outputs": [],
   "execution_count": null
  },
  {
   "cell_type": "markdown",
   "metadata": {
    "id": "A4F2BD235D18473F91C79789BD97BAB2",
    "notebookId": "661be33bd60ce3fe5be1e53f",
    "jupyter": {},
    "tags": [],
    "slideshow": {
     "slide_type": "slide"
    },
    "trusted": true,
    "mdEditEnable": false,
    "scrolled": false,
    "runtime": {
     "status": "default",
     "execution_status": null,
     "is_visible": false
    }
   },
   "source": [
    "### 1.2 处理表头"
   ]
  },
  {
   "cell_type": "code",
   "metadata": {
    "id": "125468B0DA1C4DE383D3285E38852ECD",
    "notebookId": "661be33bd60ce3fe5be1e53f",
    "jupyter": {},
    "tags": [],
    "slideshow": {
     "slide_type": "slide"
    },
    "trusted": true,
    "collapsed": false,
    "scrolled": false
   },
   "source": [
    "def rename(frame):\n",
    "    for i in range(frame.shape[1]):\n",
    "        frame.iloc[1,0]='地区'\n",
    "        if frame.iloc[1,i]=='小计':\n",
    "            frame.iloc[1,i]='小计'+ '_'+str(frame.iloc[0,i])\n",
    "        elif frame.iloc[1,i]=='男':\n",
    "            frame.iloc[1,i]='男' + '_' + str(frame.iloc[0,i-1])\n",
    "        elif frame.iloc[1,i]=='女':\n",
    "            frame.iloc[1,i]='女' + '_' + str(frame.iloc[0,i-2])\n",
    "\n",
    "    \n",
    "rename(pcount)"
   ],
   "outputs": [],
   "execution_count": null
  },
  {
   "cell_type": "code",
   "metadata": {
    "id": "02F80DFE10F340CA84AF710A9E493B39",
    "notebookId": "661be33bd60ce3fe5be1e53f",
    "jupyter": {},
    "collapsed": false,
    "scrolled": false,
    "tags": [],
    "slideshow": {
     "slide_type": "slide"
    },
    "trusted": true
   },
   "source": [
    "pcount.head()"
   ],
   "outputs": [],
   "execution_count": null
  },
  {
   "cell_type": "markdown",
   "metadata": {
    "id": "1CCD197384DA44E3930E158D74C1874A",
    "notebookId": "661be33bd60ce3fe5be1e53f",
    "jupyter": {},
    "tags": [],
    "slideshow": {
     "slide_type": "slide"
    },
    "trusted": true,
    "mdEditEnable": false,
    "scrolled": false,
    "runtime": {
     "status": "default",
     "execution_status": null,
     "is_visible": false
    }
   },
   "source": [
    "### 1.3 透视数据"
   ]
  },
  {
   "cell_type": "code",
   "metadata": {
    "id": "A02E2F51FFE04C089254DC878D320213",
    "notebookId": "661be33bd60ce3fe5be1e53f",
    "jupyter": {},
    "collapsed": false,
    "scrolled": false,
    "tags": [],
    "slideshow": {
     "slide_type": "slide"
    },
    "trusted": true
   },
   "source": [
    "pcount.columns = pcount.iloc[1,]\n",
    "pcount.columns"
   ],
   "outputs": [],
   "execution_count": null
  },
  {
   "cell_type": "code",
   "metadata": {
    "id": "6415920F6B7640D2A3316EF26C883C0E",
    "notebookId": "661be33bd60ce3fe5be1e53f",
    "jupyter": {},
    "collapsed": false,
    "scrolled": false,
    "tags": [],
    "slideshow": {
     "slide_type": "slide"
    },
    "trusted": true
   },
   "source": [
    "pcount = pcount.iloc[2:,:]\n",
    "pcount"
   ],
   "outputs": [],
   "execution_count": null
  },
  {
   "cell_type": "code",
   "metadata": {
    "id": "EBB234E6FA82482D948C2A4416143313",
    "notebookId": "661be33bd60ce3fe5be1e53f",
    "jupyter": {},
    "collapsed": false,
    "scrolled": false,
    "tags": [],
    "slideshow": {
     "slide_type": "slide"
    },
    "trusted": true
   },
   "source": [
    "pcounts = pcount.set_index(\"地区\").stack().reset_index()\n",
    "pcounts"
   ],
   "outputs": [],
   "execution_count": null
  },
  {
   "cell_type": "code",
   "metadata": {
    "id": "1EE38B716DCE42C2841B12FC597E96ED",
    "notebookId": "661be33bd60ce3fe5be1e53f",
    "jupyter": {},
    "tags": [],
    "slideshow": {
     "slide_type": "slide"
    },
    "trusted": true,
    "collapsed": false,
    "scrolled": false
   },
   "source": [
    "pcounts.columns = ['地区','类别','统计人数']\n",
    "pcounts"
   ],
   "outputs": [],
   "execution_count": null
  },
  {
   "cell_type": "code",
   "metadata": {
    "id": "3EB688C4007D4133AD0B67384C060172",
    "notebookId": "661be33bd60ce3fe5be1e53f",
    "jupyter": {},
    "collapsed": false,
    "scrolled": false,
    "tags": [],
    "slideshow": {
     "slide_type": "slide"
    },
    "trusted": true
   },
   "source": [],
   "outputs": [],
   "execution_count": null
  },
  {
   "cell_type": "markdown",
   "metadata": {
    "id": "06B44C746A564B3F8D92973AE21FEC0D",
    "notebookId": "661be33bd60ce3fe5be1e53f",
    "jupyter": {},
    "tags": [],
    "slideshow": {
     "slide_type": "slide"
    },
    "trusted": true,
    "mdEditEnable": false,
    "scrolled": false,
    "runtime": {
     "status": "default",
     "execution_status": null,
     "is_visible": false
    }
   },
   "source": [
    "### 1.4 处理空格（数据量大的话不建议这么做）"
   ]
  },
  {
   "cell_type": "code",
   "metadata": {
    "id": "39A745CB9F45454B9DA740DA94320F11",
    "notebookId": "661be33bd60ce3fe5be1e53f",
    "jupyter": {},
    "tags": [],
    "slideshow": {
     "slide_type": "slide"
    },
    "trusted": true,
    "collapsed": false,
    "scrolled": false
   },
   "source": [
    "def replace_r(frame):\n",
    "    for i in range(frame.shape[0]):\n",
    "        frame.iloc[i,0] = frame.iloc[i,0].replace(\" \",'')\n",
    "        frame.iloc[i,1] = frame.iloc[i,1].replace(\" \",'')\n",
    "        \n",
    "replace_r(pcounts)\n",
    "pcounts"
   ],
   "outputs": [],
   "execution_count": null
  },
  {
   "cell_type": "markdown",
   "metadata": {
    "id": "23C29C9F577C4DECB7AA40BA13514EBA",
    "notebookId": "661be33bd60ce3fe5be1e53f",
    "jupyter": {},
    "tags": [],
    "slideshow": {
     "slide_type": "slide"
    },
    "trusted": true,
    "mdEditEnable": false,
    "scrolled": false,
    "runtime": {
     "status": "default",
     "execution_status": null,
     "is_visible": false
    }
   },
   "source": [
    "### 1.5 增加统计列"
   ]
  },
  {
   "cell_type": "code",
   "metadata": {
    "id": "76E8F782CD24429482EABA3988376BF6",
    "notebookId": "661be33bd60ce3fe5be1e53f",
    "jupyter": {},
    "tags": [],
    "slideshow": {
     "slide_type": "slide"
    },
    "trusted": true,
    "collapsed": false,
    "scrolled": false
   },
   "source": [
    "pcounts['年龄段'] = pcounts['类别'].str.split('_').str[-1]\n",
    "pcounts['性别'] = pcounts['类别'].str.split('_').str[0]"
   ],
   "outputs": [],
   "execution_count": null
  },
  {
   "cell_type": "code",
   "metadata": {
    "id": "CC30FE30C8D24F97856EBED59CBF6798",
    "notebookId": "661be33bd60ce3fe5be1e53f",
    "jupyter": {},
    "tags": [],
    "slideshow": {
     "slide_type": "slide"
    },
    "trusted": true,
    "collapsed": false,
    "scrolled": false
   },
   "source": [
    "#将统计人数转换为数值\n",
    "pcounts['统计人数']=pcounts['统计人数'].astype('int')"
   ],
   "outputs": [],
   "execution_count": null
  },
  {
   "cell_type": "markdown",
   "metadata": {
    "id": "A0CAEED133444DDD8A7E00116DAD301C",
    "notebookId": "661be33bd60ce3fe5be1e53f",
    "jupyter": {},
    "tags": [],
    "slideshow": {
     "slide_type": "slide"
    },
    "trusted": true,
    "mdEditEnable": false,
    "scrolled": false,
    "runtime": {
     "status": "default",
     "execution_status": null,
     "is_visible": false
    }
   },
   "source": [
    "## 2. 可视化部分"
   ]
  },
  {
   "cell_type": "markdown",
   "metadata": {
    "id": "00731849D316424386B74EE59AFA3BA2",
    "notebookId": "661be33bd60ce3fe5be1e53f",
    "jupyter": {},
    "tags": [],
    "slideshow": {
     "slide_type": "slide"
    },
    "trusted": true,
    "mdEditEnable": false,
    "scrolled": false,
    "runtime": {
     "status": "default",
     "execution_status": null,
     "is_visible": false
    }
   },
   "source": [
    "###  2.1 我国人口总数"
   ]
  },
  {
   "cell_type": "code",
   "metadata": {
    "id": "B39990C2874047858E6B33212A313CD7",
    "notebookId": "661be33bd60ce3fe5be1e53f",
    "jupyter": {},
    "tags": [],
    "slideshow": {
     "slide_type": "slide"
    },
    "trusted": true,
    "collapsed": false,
    "scrolled": false
   },
   "source": [
    "plt.figure(1,figsize=(16,6))\n",
    "plt.subplot(1,2,1)\n",
    "sns.barplot(y=['全国人口总数','男性人口总数','女性人口总数'],x=[1337376754,687562046,649814708],color='CadetBlue')\n",
    "plt.title(\"全国人口总数\",loc='left')\n",
    "plt.xticks(fontsize=12)\n",
    "plt.yticks(fontsize=13)\n",
    "\n",
    "plt.subplot(1,2,2)\n",
    "patches,l_text,p_text=plt.pie([687562046,649814708],labels=['男性','女性'],\n",
    "       autopct='%.2f%%',colors=['CadetBlue','DarkSalmon'],explode=[0,0.05],startangle=90)\n",
    "plt.title('不同性别占全国人口总数的百分比')\n",
    "plt.axis('equal')\n",
    "plt.show()"
   ],
   "outputs": [],
   "execution_count": null
  },
  {
   "cell_type": "markdown",
   "metadata": {
    "id": "E602B6C76E5945A58BFCDFA6A77F32D3",
    "notebookId": "661be33bd60ce3fe5be1e53f",
    "jupyter": {},
    "tags": [],
    "slideshow": {
     "slide_type": "slide"
    },
    "trusted": true,
    "mdEditEnable": false,
    "scrolled": false,
    "runtime": {
     "status": "default",
     "execution_status": null,
     "is_visible": false
    }
   },
   "source": [
    "### 2.1 人口年龄结构金字塔（左边女右边男）"
   ]
  },
  {
   "cell_type": "code",
   "metadata": {
    "id": "869E5501B8FF42778241993DDAAE9FCE",
    "notebookId": "661be33bd60ce3fe5be1e53f",
    "jupyter": {},
    "tags": [],
    "slideshow": {
     "slide_type": "slide"
    },
    "trusted": true,
    "collapsed": false,
    "scrolled": false
   },
   "source": [
    "result = pcounts[(pcounts['性别'].isin(['男','女']))&(pcounts['地区']=='全国')&(pcounts['年龄段']!='合计')]\n",
    "result\n"
   ],
   "outputs": [],
   "execution_count": null
  },
  {
   "cell_type": "code",
   "metadata": {
    "id": "EFA335373637486E8753ABD242BED1EB",
    "notebookId": "661be33bd60ce3fe5be1e53f",
    "jupyter": {},
    "collapsed": false,
    "scrolled": false,
    "tags": [],
    "slideshow": {
     "slide_type": "slide"
    },
    "trusted": true
   },
   "source": [
    "result['人口占比'] =( result['统计人数']/result['统计人数'].sum()*100).round(2)\n",
    "result"
   ],
   "outputs": [],
   "execution_count": null
  },
  {
   "cell_type": "code",
   "metadata": {
    "id": "6142AD1C18834CAFBF738534974551F6",
    "notebookId": "661be33bd60ce3fe5be1e53f",
    "jupyter": {},
    "collapsed": false,
    "scrolled": false,
    "tags": [],
    "slideshow": {
     "slide_type": "slide"
    },
    "trusted": true
   },
   "source": [
    "# 女性占比\n",
    "-result[result['性别']=='女']['人口占比'].values"
   ],
   "outputs": [],
   "execution_count": null
  },
  {
   "cell_type": "code",
   "metadata": {
    "id": "AA57A280A7DE46E48CA45FB821550E20",
    "notebookId": "661be33bd60ce3fe5be1e53f",
    "jupyter": {},
    "tags": [],
    "slideshow": {
     "slide_type": "slide"
    },
    "trusted": true,
    "collapsed": false,
    "scrolled": false
   },
   "source": [
    "plt.figure(figsize=(12,8))\n",
    "\n",
    "bar_plot = sns.barplot(y = result['年龄段'].unique(), x = -result[result['性别']=='女']['人口占比'].values, color = \"DarkSalmon\", \n",
    "                       data = result,order = result['年龄段'].unique()[::-1],)\n",
    "bar_plot = sns.barplot(y = result['年龄段'].unique(), x = result[result['性别']=='男']['人口占比'].values, color = \"CadetBlue\",\n",
    "                       data = result,order = result['年龄段'].unique()[::-1],)\n",
    "\n",
    "plt.xticks([-5,-3,-1,0,1,3,5])\n",
    "# plt.xticks([-5,-3,-1,0,1,3,5],[-5,-3,-1,0,1,3,5])\n",
    "# plt.rcParams['font.sans-serif'] = ['SimHei']\n",
    "plt.rcParams['font.sans-serif'] = ['Microsoft YaHei']\n",
    "plt.rcParams['axes.unicode_minus'] = True\n",
    "bar_plot.set(xlabel=\"人口占比（%）\", ylabel=\"年龄层\", title = \"2010中国人口普查年龄结构金字塔\")\n",
    "plt.show()"
   ],
   "outputs": [],
   "execution_count": null
  },
  {
   "cell_type": "markdown",
   "metadata": {
    "id": "A84FACADA13049F99A18405E678AAB33",
    "notebookId": "661be33bd60ce3fe5be1e53f",
    "jupyter": {},
    "tags": [],
    "slideshow": {
     "slide_type": "slide"
    },
    "trusted": true,
    "mdEditEnable": false,
    "scrolled": false,
    "runtime": {
     "status": "default",
     "execution_status": null,
     "is_visible": false
    }
   },
   "source": [
    "### 2.2 差异"
   ]
  },
  {
   "cell_type": "code",
   "metadata": {
    "id": "C875DED9F7D74600868A2C588981E300",
    "notebookId": "661be33bd60ce3fe5be1e53f",
    "jupyter": {},
    "tags": [],
    "slideshow": {
     "slide_type": "slide"
    },
    "trusted": true,
    "collapsed": false,
    "scrolled": false
   },
   "source": [
    "data = {'index': result['年龄段'].unique(),\n",
    "        '男': result[result['性别']=='男']['人口占比'].values,\n",
    "        '女': result[result['性别']=='女']['人口占比'].values,\n",
    "        }\n",
    "Data = pd.DataFrame(data)\n",
    "Data['差异']=Data['男']-Data['女']\n",
    "Data"
   ],
   "outputs": [],
   "execution_count": null
  },
  {
   "cell_type": "code",
   "metadata": {
    "id": "7D67E060EDD044FB9B484A10885B5904",
    "notebookId": "661be33bd60ce3fe5be1e53f",
    "jupyter": {},
    "tags": [],
    "slideshow": {
     "slide_type": "slide"
    },
    "trusted": true,
    "collapsed": false,
    "scrolled": false
   },
   "source": [
    "plt.figure(1,figsize=(12,8))\n",
    "sns.lineplot(x=Data['index'],y=Data['差异'],color='DarkSalmon',sort=False)\n",
    "plt.xlabel(\"年龄层\")\n",
    "plt.ylabel(\"人口占比(%)\")\n",
    "plt.title(\"各年龄层的 男 VS 女(占比)的差异\")\n",
    "plt.xticks(rotation=35)\n",
    "plt.show()"
   ],
   "outputs": [],
   "execution_count": null
  },
  {
   "cell_type": "markdown",
   "metadata": {
    "id": "0B67144F43454FE49E53B793825B26C9",
    "notebookId": "661be33bd60ce3fe5be1e53f",
    "jupyter": {},
    "tags": [],
    "slideshow": {
     "slide_type": "slide"
    },
    "trusted": true,
    "scrolled": false,
    "mdEditEnable": false,
    "runtime": {
     "status": "default",
     "execution_status": null,
     "is_visible": false
    }
   },
   "source": [
    "### 2.3 北京、上海、广东地区的人口年龄结构金字塔（左边女右边男）"
   ]
  },
  {
   "cell_type": "code",
   "metadata": {
    "id": "B8E7D9ECD79C44DAB9A49CFC8197BF6D",
    "notebookId": "661be33bd60ce3fe5be1e53f",
    "jupyter": {},
    "tags": [],
    "slideshow": {
     "slide_type": "slide"
    },
    "trusted": true,
    "collapsed": false,
    "scrolled": false
   },
   "source": [
    "plt.figure(1,figsize=(18,16))\n",
    "n = 0\n",
    "for x in ['北京','上海','广东']:\n",
    "    result = pcounts[(pcounts['性别'].isin(['男','女']))&(pcounts['地区'] == x )&(pcounts['年龄段']!='合计')]\n",
    "    result['人口占比'] =( result['统计人数']/result['统计人数'].sum()*100).round(2)\n",
    "    n +=1\n",
    "    plt.subplot(2,3,n)\n",
    "    bar_plot = sns.barplot(y = result['年龄段'].unique(), x = -result[result['性别']=='女']['人口占比'].values, color = \"DarkSalmon\", \n",
    "                       data = result,order = result['年龄段'].unique()[::-1],)\n",
    "    bar_plot = sns.barplot(y = result['年龄段'].unique(), x = result[result['性别']=='男']['人口占比'].values, color = \"CadetBlue\",\n",
    "                       data = result,order = result['年龄段'].unique()[::-1],)\n",
    "\n",
    "    plt.xticks([-7,-5,-3,-1,0,1,3,5,7],[7,5,3,1,0,1,3,5,7])\n",
    "    plt.rcParams['font.sans-serif'] = ['Microsoft YaHei']\n",
    "    plt.rcParams['axes.unicode_minus'] = True\n",
    "    bar_plot.set(xlabel=\"人口占比（%）\", ylabel=\"年龄层\", title = x )\n",
    "    plt.ylabel('')\n",
    "plt.show()   "
   ],
   "outputs": [],
   "execution_count": null
  },
  {
   "cell_type": "markdown",
   "metadata": {
    "trusted": true,
    "jupyter": {},
    "tags": [],
    "slideshow": {
     "slide_type": "slide"
    },
    "id": "2B529054A31B4F6D97CD51C5F2C8455A",
    "scrolled": false,
    "mdEditEnable": false,
    "notebookId": "661be33bd60ce3fe5be1e53f",
    "runtime": {
     "status": "default",
     "execution_status": null,
     "is_visible": false
    }
   },
   "source": [
    "上图这三个地区还是比较突出的但不容易看出男女差异，我们再来一个性别的对比图"
   ]
  },
  {
   "cell_type": "code",
   "metadata": {
    "id": "983ED8070F72443F85EE28C2634A6688",
    "notebookId": "661be33bd60ce3fe5be1e53f",
    "jupyter": {},
    "tags": [],
    "slideshow": {
     "slide_type": "slide"
    },
    "trusted": true,
    "collapsed": false,
    "scrolled": false
   },
   "source": [
    "plt.figure(1,figsize=(18,16))\n",
    "n = 0\n",
    "for x in ['北京','上海','广东']:\n",
    "    result = pcounts[(pcounts['性别'].isin(['男','女']))&(pcounts['地区'] == x )&(pcounts['年龄段']!='合计')]\n",
    "    n +=1\n",
    "    plt.subplot(2,3,n)\n",
    "    sns.barplot(x='统计人数',y='年龄段',hue='性别',data=result,palette=['CadetBlue','DarkSalmon'],order=result['年龄段'].unique()[::-1])\n",
    "    plt.title(x)\n",
    "    plt.xticks(rotation=35)\n",
    "    plt.ylabel('')\n",
    "plt.show()"
   ],
   "outputs": [],
   "execution_count": null
  },
  {
   "cell_type": "markdown",
   "metadata": {
    "id": "427D93C8C9834815AB3BC11BC37805BC",
    "notebookId": "661be33bd60ce3fe5be1e53f",
    "jupyter": {},
    "tags": [],
    "slideshow": {
     "slide_type": "slide"
    },
    "trusted": true,
    "mdEditEnable": false,
    "scrolled": false,
    "runtime": {
     "status": "default",
     "execution_status": null,
     "is_visible": false
    }
   },
   "source": [
    "不难发现这三个地区的男女比例失衡，在中青年这个年龄段较为严重"
   ]
  },
  {
   "cell_type": "markdown",
   "metadata": {
    "id": "07E128EBC6D94CD8856A8D10455DA925",
    "notebookId": "661be33bd60ce3fe5be1e53f",
    "jupyter": {},
    "tags": [],
    "slideshow": {
     "slide_type": "slide"
    },
    "trusted": true,
    "mdEditEnable": false,
    "scrolled": false,
    "runtime": {
     "status": "default",
     "execution_status": null,
     "is_visible": false
    }
   },
   "source": [
    "### 2.4 人口分布地图"
   ]
  },
  {
   "cell_type": "code",
   "metadata": {
    "id": "0FB2A54881AB48F782F765EB49A2E7E3",
    "notebookId": "661be33bd60ce3fe5be1e53f",
    "jupyter": {},
    "tags": [],
    "slideshow": {
     "slide_type": "slide"
    },
    "trusted": true,
    "collapsed": false,
    "scrolled": false
   },
   "source": [
    "result1 = pcounts[(pcounts['性别']=='小计')&(pcounts['地区']!='全国')&(pcounts['年龄段']!='合计')]\n",
    "result1"
   ],
   "outputs": [],
   "execution_count": null
  },
  {
   "cell_type": "code",
   "metadata": {
    "id": "82495C34AA6B47638A8FFEF98CB48FA3",
    "notebookId": "661be33bd60ce3fe5be1e53f",
    "jupyter": {},
    "tags": [],
    "slideshow": {
     "slide_type": "slide"
    },
    "trusted": true,
    "collapsed": false,
    "scrolled": false
   },
   "source": [
    "result2 = result1.groupby('地区')['统计人数'].sum().reset_index(name='统计人数')\n",
    "result2"
   ],
   "outputs": [],
   "execution_count": null
  },
  {
   "cell_type": "code",
   "metadata": {
    "id": "EC9D39B69259481985FDAFB97C4D1C73",
    "notebookId": "661be33bd60ce3fe5be1e53f",
    "jupyter": {},
    "tags": [],
    "slideshow": {
     "slide_type": "slide"
    },
    "trusted": true,
    "collapsed": false,
    "scrolled": false
   },
   "source": [],
   "outputs": [],
   "execution_count": null
  },
  {
   "cell_type": "code",
   "metadata": {
    "id": "B49DDE229BAA42A88F2267B2B4149CE4",
    "notebookId": "661be33bd60ce3fe5be1e53f",
    "jupyter": {},
    "tags": [],
    "slideshow": {
     "slide_type": "slide"
    },
    "trusted": true,
    "collapsed": false,
    "scrolled": false
   },
   "source": [],
   "outputs": [],
   "execution_count": null
  },
  {
   "cell_type": "code",
   "metadata": {
    "id": "54E2BCF57AC6469A86A2B72457F878CD",
    "notebookId": "661be33bd60ce3fe5be1e53f",
    "jupyter": {},
    "tags": [],
    "slideshow": {
     "slide_type": "slide"
    },
    "trusted": true,
    "collapsed": false,
    "scrolled": false
   },
   "source": [
    "# pip install pyecharts\n",
    "# from pyecharts.globals import CurrentConfig,OnlineHostType\n",
    "# CurrentConfig.ONLINE_HOST = OnlineHostType.NOTEBOOK_HOST\n",
    "from pyecharts.charts import Map\n",
    "from pyecharts import options as opts"
   ],
   "outputs": [],
   "execution_count": null
  },
  {
   "cell_type": "code",
   "metadata": {
    "id": "CEAC061F3DFD4BE893EB7C28D7B5DB90",
    "notebookId": "661be33bd60ce3fe5be1e53f",
    "jupyter": {},
    "collapsed": false,
    "scrolled": false,
    "tags": [],
    "slideshow": {
     "slide_type": "slide"
    },
    "trusted": true
   },
   "source": [
    "x_data = result2['地区'].tolist()\n",
    "y_data = result2['统计人数'].tolist()\n",
    "x_data"
   ],
   "outputs": [],
   "execution_count": null
  },
  {
   "cell_type": "code",
   "metadata": {
    "id": "659D5E9F48934ED1814FC871B4EC3C23",
    "notebookId": "661be33bd60ce3fe5be1e53f",
    "jupyter": {},
    "collapsed": false,
    "scrolled": false,
    "tags": [],
    "slideshow": {
     "slide_type": "slide"
    },
    "trusted": true
   },
   "source": [
    "name_translate = {\"宁夏回族自治区\":\"宁夏\",\"河南省\":\"河南\",\"北京市\":\"北京\",\"河北省\":\"河北\",\"辽宁省\":\"辽宁\",\"江西省\":\"江西\",\n",
    "\"上海市\":\"上海\",\"安徽省\": \"安徽\",\"江苏省\":\"江苏\",\"湖南省\":\"湖南\",\"浙江省\":\"浙江\",\"海南省\":\"海南\",\n",
    "\"广东省\":\"广东\",\"湖北省\":\"湖北\", \"黑龙江省\": \"黑龙江\",\"陕西省\":\"陕西\",\"四川省\":\"四川\",\"内蒙古自治区\":\"内蒙古\",\n",
    "\"重庆市\":\"重庆\",\"广西壮族自治区\":\"广西\",\"云南省\":\"云南\",\"贵州省\":\"贵州\",\"吉林省\":\"吉林\",\"山西省\":\"山西\",\n",
    "\"山东省\":\"山东\",\"福建省\":\"福建\",\"青海省\":\"青海\",\"天津市\":\"天津\",\"新疆维吾尔自治区\":\"新疆\",\"西藏自治区\":\"西藏\",\n",
    "\"甘肃省\":\"甘肃\",\"大连市\":\"大连\", \"东莞市\":\"东莞\",\"宁波市\":\"宁波\",\"青岛市\":\"青岛\",\"厦门市\":\"厦门\",\"台湾省\":\" \",\"澳门特别行政区\":\" \",\n",
    "\"香港特别行政区\":\" \",\"南海诸岛\":\" \"}"
   ],
   "outputs": [],
   "execution_count": null
  },
  {
   "cell_type": "code",
   "metadata": {
    "id": "359D10CCB1904912ACD345993DF5F9D2",
    "notebookId": "661be33bd60ce3fe5be1e53f",
    "jupyter": {},
    "tags": [],
    "slideshow": {
     "slide_type": "slide"
    },
    "trusted": true,
    "collapsed": false,
    "scrolled": false
   },
   "source": [
    "\n",
    "\n",
    "# 地图\n",
    "map1 = Map()\n",
    "map1.add(\"\", [list(z) for z in zip(x_data, y_data)],\"china\",name_map=name_translate) \n",
    "map1.set_series_opts(label_opts=opts.LabelOpts(is_show=True))\n",
    "map1.set_global_opts(title_opts=opts.TitleOpts(title='全国各地区人口分布'),\n",
    "                     visualmap_opts=opts.VisualMapOpts( max_=result2['统计人数'].max(),\n",
    "                                                       min_ =result2['统计人数'].min(),\n",
    "                                                       is_piecewise=False)\n",
    "                    )\n",
    "map1.render_notebook() "
   ],
   "outputs": [],
   "execution_count": null
  },
  {
   "cell_type": "markdown",
   "metadata": {
    "id": "784B975ACAA84D9BA341247330986FCA",
    "notebookId": "661be33bd60ce3fe5be1e53f",
    "jupyter": {},
    "tags": [],
    "slideshow": {
     "slide_type": "slide"
    },
    "trusted": true,
    "mdEditEnable": false,
    "scrolled": false,
    "runtime": {
     "status": "default",
     "execution_status": null,
     "is_visible": false
    }
   },
   "source": [
    "2010年的人口普查数据显示：广东省、山东省、河南省、四川省、江苏省 是总人口数前 5 的地区"
   ]
  }
 ],
 "metadata": {
  "kernelspec": {
   "language": "python",
   "display_name": "Python 3",
   "name": "python3"
  },
  "language_info": {
   "codemirror_mode": {
    "name": "ipython",
    "version": 3
   },
   "name": "python",
   "mimetype": "text/x-python",
   "nbconvert_exporter": "python",
   "file_extension": ".py",
   "version": "3.5.2",
   "pygments_lexer": "ipython3"
  }
 },
 "nbformat": 4,
 "nbformat_minor": 0
}
