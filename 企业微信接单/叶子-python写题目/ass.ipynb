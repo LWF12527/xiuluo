{
 "cells": [
  {
   "cell_type": "code",
   "execution_count": 10,
   "metadata": {
    "collapsed": true
   },
   "outputs": [],
   "source": [
    "#题目一"
   ]
  },
  {
   "cell_type": "code",
   "execution_count": 1,
   "outputs": [
    {
     "name": "stdout",
     "output_type": "stream",
     "text": [
      "正三角形:\n",
      "                                                                                                   1\n",
      "                                                                                                  2 3\n",
      "                                                                                                 4 5 6\n",
      "                                                                                                7 8 9 10\n",
      "                                                                                               11 12 13 14 15\n",
      "                                                                                              16 17 18 19 20 21\n",
      "                                                                                             22 23 24 25 26 27 28\n",
      "                                                                                            29 30 31 32 33 34 35 36\n",
      "                                                                                           37 38 39 40 41 42 43 44 45\n",
      "                                                                                          46 47 48 49 50 51 52 53 54 55\n",
      "                                                                                         56 57 58 59 60 61 62 63 64 65 66\n",
      "                                                                                        67 68 69 70 71 72 73 74 75 76 77 78\n",
      "                                                                                       79 80 81 82 83 84 85 86 87 88 89 90 91\n",
      "                                                                                      92 93 94 95 96 97 98 99 100\n",
      "                                                                                     \n",
      "                                                                                    \n",
      "                                                                                   \n",
      "                                                                                  \n",
      "                                                                                 \n",
      "                                                                                \n",
      "                                                                               \n",
      "                                                                              \n",
      "                                                                             \n",
      "                                                                            \n",
      "                                                                           \n",
      "                                                                          \n",
      "                                                                         \n",
      "                                                                        \n",
      "                                                                       \n",
      "                                                                      \n",
      "                                                                     \n",
      "                                                                    \n",
      "                                                                   \n",
      "                                                                  \n",
      "                                                                 \n",
      "                                                                \n",
      "                                                               \n",
      "                                                              \n",
      "                                                             \n",
      "                                                            \n",
      "                                                           \n",
      "                                                          \n",
      "                                                         \n",
      "                                                        \n",
      "                                                       \n",
      "                                                      \n",
      "                                                     \n",
      "                                                    \n",
      "                                                   \n",
      "                                                  \n",
      "                                                 \n",
      "                                                \n",
      "                                               \n",
      "                                              \n",
      "                                             \n",
      "                                            \n",
      "                                           \n",
      "                                          \n",
      "                                         \n",
      "                                        \n",
      "                                       \n",
      "                                      \n",
      "                                     \n",
      "                                    \n",
      "                                   \n",
      "                                  \n",
      "                                 \n",
      "                                \n",
      "                               \n",
      "                              \n",
      "                             \n",
      "                            \n",
      "                           \n",
      "                          \n",
      "                         \n",
      "                        \n",
      "                       \n",
      "                      \n",
      "                     \n",
      "                    \n",
      "                   \n",
      "                  \n",
      "                 \n",
      "                \n",
      "               \n",
      "              \n",
      "             \n",
      "            \n",
      "           \n",
      "          \n",
      "         \n",
      "        \n",
      "       \n",
      "      \n",
      "     \n",
      "    \n",
      "   \n",
      "  \n",
      " \n",
      "\n",
      "\n",
      "倒正三角形:\n",
      "9 8 7 6 5 4 3 2 1\n",
      " 22 21 20 19 18 17 16 15 14 13 12 11 10\n",
      "  34 33 32 31 30 29 28 27 26 25 24 23\n",
      "   45 44 43 42 41 40 39 38 37 36 35\n",
      "    55 54 53 52 51 50 49 48 47 46\n",
      "     64 63 62 61 60 59 58 57 56\n",
      "      72 71 70 69 68 67 66 65\n",
      "       79 78 77 76 75 74 73\n",
      "        85 84 83 82 81 80\n",
      "         90 89 88 87 86\n",
      "          94 93 92 91\n",
      "           97 96 95\n",
      "            99 98\n",
      "             100\n"
     ]
    }
   ],
   "source": [
    "def print_pyramid_triangles(n):\n",
    "    # 正三角形（正金字塔形状）\n",
    "    print(\"正三角形:\")\n",
    "    current = 1\n",
    "    for i in range(1, n + 1):\n",
    "        row = []\n",
    "        for j in range(i):\n",
    "            if current > n:\n",
    "                break\n",
    "            row.append(current)\n",
    "            current += 1\n",
    "        # 计算前面的空格数量，使其形成正金字塔形状\n",
    "        spaces = \" \" * (n - i)\n",
    "        print(spaces + \" \".join(map(str, row)))\n",
    "\n",
    "    # 倒正三角形（倒金字塔形状）\n",
    "    print(\"\\n倒正三角形:\")\n",
    "    rows = []\n",
    "    current = n\n",
    "    for i in range(1, n + 1):\n",
    "        row = []\n",
    "        for j in range(i):\n",
    "            if current < 1:\n",
    "                break\n",
    "            row.append(current)\n",
    "            current -= 1\n",
    "        rows.append(row)\n",
    "        if current < 1:\n",
    "            break\n",
    "\n",
    "    for i, row in enumerate(reversed(rows)):\n",
    "        # 计算前面的空格数量，使其形成倒金字塔形状\n",
    "        spaces = \" \" * i\n",
    "        print(spaces + \" \".join(map(str, row)))\n",
    "\n",
    "# 示例调用\n",
    "num = int(input(\"请输入一个0到100之间的整数: \"))\n",
    "if 0 <= num <= 100:\n",
    "    print_pyramid_triangles(num)\n",
    "else:\n",
    "    print(\"请输入有效的整数范围！\")\n"
   ],
   "metadata": {
    "collapsed": false
   }
  },
  {
   "cell_type": "markdown",
   "source": [],
   "metadata": {
    "collapsed": false
   }
  },
  {
   "cell_type": "code",
   "execution_count": 2,
   "outputs": [],
   "source": [
    "#题目二"
   ],
   "metadata": {
    "collapsed": false
   }
  },
  {
   "cell_type": "code",
   "execution_count": 4,
   "outputs": [
    {
     "name": "stdout",
     "output_type": "stream",
     "text": [
      "结果已保存到 data\\result.txt\n"
     ]
    }
   ],
   "source": [
    "import os\n",
    "import pandas as pd\n",
    "\n",
    "# 读取用户上传的文件\n",
    "file_path = '叶子形状.csv'  # 替换为你的文件路径\n",
    "data = pd.read_csv(file_path)\n",
    "\n",
    "# 确保列名无误，去掉可能的前后空格\n",
    "data.columns = data.columns.str.strip()\n",
    "\n",
    "# 提取每列第500大的值\n",
    "result = {col: data[col].sort_values(ascending=False).iloc[499] for col in data.columns if pd.api.types.is_numeric_dtype(data[col])}\n",
    "\n",
    "# 创建保存路径的文件夹\n",
    "result_folder = 'data'\n",
    "os.makedirs(result_folder, exist_ok=True)\n",
    "\n",
    "# 保存结果到 result.txt\n",
    "result_file_path = os.path.join(result_folder, 'result.txt')\n",
    "with open(result_file_path, 'w') as file:\n",
    "    for key, value in result.items():\n",
    "        file.write(f\"{key}\\t{value:.6f}\\n\")\n",
    "\n",
    "print(f\"结果已保存到 {result_file_path}\")\n"
   ],
   "metadata": {
    "collapsed": false
   }
  },
  {
   "cell_type": "code",
   "execution_count": null,
   "outputs": [],
   "source": [
    "# 题目3"
   ],
   "metadata": {
    "collapsed": false
   }
  },
  {
   "cell_type": "code",
   "execution_count": 5,
   "outputs": [
    {
     "name": "stdout",
     "output_type": "stream",
     "text": [
      "相关系数矩阵图像已保存到 data\\correlation_matrix.png\n"
     ]
    }
   ],
   "source": [
    "import os\n",
    "import pandas as pd\n",
    "import numpy as np\n",
    "import matplotlib.pyplot as plt\n",
    "\n",
    "# 读取数据文件\n",
    "file_path = '叶子形状.csv'  # 替换为你的文件路径\n",
    "data = pd.read_csv(file_path)\n",
    "\n",
    "# 确保列名无误，去掉可能的前后空格\n",
    "data.columns = data.columns.str.strip()\n",
    "\n",
    "# 筛选数值列\n",
    "numeric_data = data.select_dtypes(include=[np.number])\n",
    "\n",
    "# 计算 Pearson 相关系数矩阵\n",
    "correlation_matrix = numeric_data.corr(method='pearson')\n",
    "\n",
    "# 创建相关系数矩阵图像\n",
    "plt.figure(figsize=(10, 8))\n",
    "plt.imshow(correlation_matrix, cmap='coolwarm', interpolation='none')\n",
    "plt.colorbar(label='Correlation Coefficient')\n",
    "plt.title('Pearson Correlation Coefficient Matrix', fontsize=16)\n",
    "plt.xticks(range(len(correlation_matrix.columns)), correlation_matrix.columns, rotation=90)\n",
    "plt.yticks(range(len(correlation_matrix.index)), correlation_matrix.index)\n",
    "plt.tight_layout()\n",
    "\n",
    "# 确保目标文件夹存在\n",
    "output_folder = 'data'\n",
    "os.makedirs(output_folder, exist_ok=True)\n",
    "\n",
    "# 保存为 PNG 图片\n",
    "output_image_path = os.path.join(output_folder, 'correlation_matrix.png')\n",
    "plt.savefig(output_image_path)\n",
    "plt.close()\n",
    "\n",
    "print(f\"相关系数矩阵图像已保存到 {output_image_path}\")\n"
   ],
   "metadata": {
    "collapsed": false
   }
  },
  {
   "cell_type": "code",
   "execution_count": null,
   "outputs": [],
   "source": [
    "# 题目四"
   ],
   "metadata": {
    "collapsed": false
   }
  },
  {
   "cell_type": "code",
   "execution_count": 21,
   "outputs": [
    {
     "name": "stdout",
     "output_type": "stream",
     "text": [
      "筛选后的奇数列累加数据已保存到 data/奇数累加.csv\n"
     ]
    }
   ],
   "source": [
    "import pandas as pd\n",
    "\n",
    "# 读取数据文件\n",
    "file_path = '叶子形状.csv'  # 替换为你的文件路径\n",
    "data = pd.read_csv(file_path)\n",
    "\n",
    "# 确保列名无误，去掉可能的前后空格\n",
    "data.columns = data.columns.str.strip()\n",
    "\n",
    "# 筛选列名中包含奇数数字的变量\n",
    "odd_columns = [col for col in data.columns if any(char.isdigit() and int(char) % 2 == 1 for char in col)]\n",
    "\n",
    "# 创建包含这些列的新 DataFrame\n",
    "new_dataframe = data[odd_columns]\n",
    "\n",
    "# 对筛选出来的 DataFrame 进行列累加\n",
    "cumulative_dataframe = new_dataframe.cumsum(axis=1)\n",
    "\n",
    "# 保存累加后的 DataFrame 到文件\n",
    "cumulative_file_path = 'data/奇数累加.csv'  # 替换为你的保存路径\n",
    "cumulative_dataframe.to_csv(cumulative_file_path, index=False)\n",
    "\n",
    "print(f\"筛选后的奇数列累加数据已保存到 {cumulative_file_path}\")\n"
   ],
   "metadata": {
    "collapsed": false
   }
  },
  {
   "cell_type": "code",
   "execution_count": null,
   "outputs": [],
   "source": [
    "# 题目五"
   ],
   "metadata": {
    "collapsed": false
   }
  },
  {
   "cell_type": "code",
   "execution_count": 23,
   "outputs": [
    {
     "name": "stdout",
     "output_type": "stream",
     "text": [
      "回归图像已保存到: data\\regression_results.png\n",
      "回归方程和决定系数已保存到: data\\regression_equations.txt\n"
     ]
    }
   ],
   "source": [
    "import os\n",
    "import pandas as pd\n",
    "import numpy as np\n",
    "import matplotlib.pyplot as plt\n",
    "from sklearn.linear_model import LinearRegression\n",
    "from sklearn.metrics import r2_score\n",
    "\n",
    "# 读取数据文件\n",
    "file_path = '叶子形状.csv'  # 替换为你的文件路径\n",
    "data = pd.read_csv(file_path)\n",
    "\n",
    "# 确保列名无误，去掉可能的前后空格\n",
    "data.columns = data.columns.str.strip()\n",
    "\n",
    "# 筛选数值列\n",
    "numeric_data = data.select_dtypes(include=[np.number])\n",
    "\n",
    "# 计算 Pearson 相关系数矩阵\n",
    "correlation_matrix = numeric_data.corr(method='pearson')\n",
    "\n",
    "# 筛选与 \"margin1\" 相关系数最大的 3 个变量\n",
    "target_variable = \"margin1\"\n",
    "top_correlated = correlation_matrix[target_variable].drop(target_variable).nlargest(3).index.tolist()\n",
    "\n",
    "# 回归分析\n",
    "regression_results = {}\n",
    "plt.figure(figsize=(15, 5))\n",
    "for i, variable in enumerate(top_correlated, 1):\n",
    "    # 准备数据\n",
    "    X = numeric_data[[variable]].values\n",
    "    y = numeric_data[target_variable].values\n",
    "\n",
    "    # 拟合线性回归\n",
    "    model = LinearRegression()\n",
    "    model.fit(X, y)\n",
    "    y_pred = model.predict(X)\n",
    "\n",
    "    # 回归结果\n",
    "    slope = model.coef_[0]\n",
    "    intercept = model.intercept_\n",
    "    r2 = r2_score(y, y_pred)\n",
    "    regression_results[variable] = {\n",
    "        \"slope\": slope,\n",
    "        \"intercept\": intercept,\n",
    "        \"r2\": r2\n",
    "    }\n",
    "\n",
    "    # 绘制散点图和回归直线\n",
    "    plt.subplot(1, 3, i)\n",
    "    plt.scatter(X, y, color='blue', alpha=0.6, label='Sample Data')\n",
    "    plt.plot(X, y_pred, color='red', label=f'Fit Line\\n$R^2$={r2:.2f}')\n",
    "    plt.title(f'{target_variable} vs {variable}', fontsize=12)\n",
    "    plt.xlabel(variable)\n",
    "    plt.ylabel(target_variable)\n",
    "    plt.legend()\n",
    "\n",
    "# 保存回归图像\n",
    "output_folder = 'data'\n",
    "os.makedirs(output_folder, exist_ok=True)\n",
    "output_image_path = os.path.join(output_folder, 'regression_results.png')\n",
    "plt.tight_layout()\n",
    "plt.savefig(output_image_path)\n",
    "plt.close()\n",
    "\n",
    "# 保存回归方程和决定系数\n",
    "output_equations_path = os.path.join(output_folder, 'regression_equations.txt')\n",
    "with open(output_equations_path, 'w') as f:\n",
    "    for variable, results in regression_results.items():\n",
    "        equation = f\"{target_variable} = {results['slope']:.4f} * {variable} + {results['intercept']:.4f}\"\n",
    "        f.write(f\"{variable}:\\n\")\n",
    "        f.write(f\"Equation: {equation}\\n\")\n",
    "        f.write(f\"R^2: {results['r2']:.4f}\\n\\n\")\n",
    "\n",
    "print(f\"回归图像已保存到: {output_image_path}\")\n",
    "print(f\"回归方程和决定系数已保存到: {output_equations_path}\")\n"
   ],
   "metadata": {
    "collapsed": false
   }
  },
  {
   "cell_type": "code",
   "execution_count": null,
   "outputs": [],
   "source": [
    "# 题目6"
   ],
   "metadata": {
    "collapsed": false
   }
  },
  {
   "cell_type": "code",
   "execution_count": 24,
   "outputs": [
    {
     "data": {
      "text/plain": "['Sheet1', 'Sheet2', 'Sheet3']"
     },
     "execution_count": 24,
     "metadata": {},
     "output_type": "execute_result"
    }
   ],
   "source": [
    "import pandas as pd\n",
    "\n",
    "# Load the Excel file to inspect its structure\n",
    "file_path = '2024年秋学期补学分辅导安排日程1009.xlsx'\n",
    "xls = pd.ExcelFile(file_path)\n",
    "\n",
    "# Display all sheet names to determine the structure\n",
    "xls.sheet_names"
   ],
   "metadata": {
    "collapsed": false
   }
  },
  {
   "cell_type": "code",
   "execution_count": 25,
   "outputs": [
    {
     "data": {
      "text/plain": "                                   2024年秋学期补学分辅导安排日程 Unnamed: 1 Unnamed: 2  \\\n0  注意事项： \\n1.学生所在学院负责通知学生，开课单位负责通知辅导老师；\\n2.所有辅导地点...        NaN        NaN   \n1                                                 序号         学院         年级   \n2                                                  1       材料学院       2021   \n3                                                  2       材料学院       2021   \n4                                                  3       材料学院       2021   \n\n  Unnamed: 3    Unnamed: 4 Unnamed: 5  Unnamed: 6                 Unnamed: 7  \\\n0        NaN           NaN        NaN         NaN                        NaN   \n1         班级            学号         姓名         课程号                       课程名称   \n2     B材料211  210102041059         卜凡  0002022096  Introduction to Materials   \n3     B材料211  210102041124        李佳驹  0002022096  Introduction to Materials   \n4     B材料212  210102041081         张洛  0002022096  Introduction to Materials   \n\n  Unnamed: 8 Unnamed: 9  ... Unnamed: 11 Unnamed: 12 Unnamed: 13 Unnamed: 14  \\\n0        NaN        NaN  ...         NaN         NaN         NaN         NaN   \n1         学分       开课学院  ...        辅导方式        跟读班级        考试方式        辅导老师   \n2          2       材料学院  ...          跟班      B材料221          书面         蔡安兰   \n3          2       材料学院  ...          跟班      B材料221          书面         蔡安兰   \n4          2       材料学院  ...          跟班      B材料221          书面         蔡安兰   \n\n   Unnamed: 15 Unnamed: 16 Unnamed: 17 Unnamed: 18 Unnamed: 19 Unnamed: 20  \n0          NaN         NaN         NaN         NaN         NaN         NaN  \n1         联系方式        辅导周次      组班辅导时间      组班辅导地点      答疑辅导时间      答疑辅导地点  \n2  13851061815         NaN         NaN         NaN         NaN         NaN  \n3  13851061815         NaN         NaN         NaN         NaN         NaN  \n4  13851061815         NaN         NaN         NaN         NaN         NaN  \n\n[5 rows x 21 columns]",
      "text/html": "<div>\n<style scoped>\n    .dataframe tbody tr th:only-of-type {\n        vertical-align: middle;\n    }\n\n    .dataframe tbody tr th {\n        vertical-align: top;\n    }\n\n    .dataframe thead th {\n        text-align: right;\n    }\n</style>\n<table border=\"1\" class=\"dataframe\">\n  <thead>\n    <tr style=\"text-align: right;\">\n      <th></th>\n      <th>2024年秋学期补学分辅导安排日程</th>\n      <th>Unnamed: 1</th>\n      <th>Unnamed: 2</th>\n      <th>Unnamed: 3</th>\n      <th>Unnamed: 4</th>\n      <th>Unnamed: 5</th>\n      <th>Unnamed: 6</th>\n      <th>Unnamed: 7</th>\n      <th>Unnamed: 8</th>\n      <th>Unnamed: 9</th>\n      <th>...</th>\n      <th>Unnamed: 11</th>\n      <th>Unnamed: 12</th>\n      <th>Unnamed: 13</th>\n      <th>Unnamed: 14</th>\n      <th>Unnamed: 15</th>\n      <th>Unnamed: 16</th>\n      <th>Unnamed: 17</th>\n      <th>Unnamed: 18</th>\n      <th>Unnamed: 19</th>\n      <th>Unnamed: 20</th>\n    </tr>\n  </thead>\n  <tbody>\n    <tr>\n      <th>0</th>\n      <td>注意事项： \\n1.学生所在学院负责通知学生，开课单位负责通知辅导老师；\\n2.所有辅导地点...</td>\n      <td>NaN</td>\n      <td>NaN</td>\n      <td>NaN</td>\n      <td>NaN</td>\n      <td>NaN</td>\n      <td>NaN</td>\n      <td>NaN</td>\n      <td>NaN</td>\n      <td>NaN</td>\n      <td>...</td>\n      <td>NaN</td>\n      <td>NaN</td>\n      <td>NaN</td>\n      <td>NaN</td>\n      <td>NaN</td>\n      <td>NaN</td>\n      <td>NaN</td>\n      <td>NaN</td>\n      <td>NaN</td>\n      <td>NaN</td>\n    </tr>\n    <tr>\n      <th>1</th>\n      <td>序号</td>\n      <td>学院</td>\n      <td>年级</td>\n      <td>班级</td>\n      <td>学号</td>\n      <td>姓名</td>\n      <td>课程号</td>\n      <td>课程名称</td>\n      <td>学分</td>\n      <td>开课学院</td>\n      <td>...</td>\n      <td>辅导方式</td>\n      <td>跟读班级</td>\n      <td>考试方式</td>\n      <td>辅导老师</td>\n      <td>联系方式</td>\n      <td>辅导周次</td>\n      <td>组班辅导时间</td>\n      <td>组班辅导地点</td>\n      <td>答疑辅导时间</td>\n      <td>答疑辅导地点</td>\n    </tr>\n    <tr>\n      <th>2</th>\n      <td>1</td>\n      <td>材料学院</td>\n      <td>2021</td>\n      <td>B材料211</td>\n      <td>210102041059</td>\n      <td>卜凡</td>\n      <td>0002022096</td>\n      <td>Introduction to Materials</td>\n      <td>2</td>\n      <td>材料学院</td>\n      <td>...</td>\n      <td>跟班</td>\n      <td>B材料221</td>\n      <td>书面</td>\n      <td>蔡安兰</td>\n      <td>13851061815</td>\n      <td>NaN</td>\n      <td>NaN</td>\n      <td>NaN</td>\n      <td>NaN</td>\n      <td>NaN</td>\n    </tr>\n    <tr>\n      <th>3</th>\n      <td>2</td>\n      <td>材料学院</td>\n      <td>2021</td>\n      <td>B材料211</td>\n      <td>210102041124</td>\n      <td>李佳驹</td>\n      <td>0002022096</td>\n      <td>Introduction to Materials</td>\n      <td>2</td>\n      <td>材料学院</td>\n      <td>...</td>\n      <td>跟班</td>\n      <td>B材料221</td>\n      <td>书面</td>\n      <td>蔡安兰</td>\n      <td>13851061815</td>\n      <td>NaN</td>\n      <td>NaN</td>\n      <td>NaN</td>\n      <td>NaN</td>\n      <td>NaN</td>\n    </tr>\n    <tr>\n      <th>4</th>\n      <td>3</td>\n      <td>材料学院</td>\n      <td>2021</td>\n      <td>B材料212</td>\n      <td>210102041081</td>\n      <td>张洛</td>\n      <td>0002022096</td>\n      <td>Introduction to Materials</td>\n      <td>2</td>\n      <td>材料学院</td>\n      <td>...</td>\n      <td>跟班</td>\n      <td>B材料221</td>\n      <td>书面</td>\n      <td>蔡安兰</td>\n      <td>13851061815</td>\n      <td>NaN</td>\n      <td>NaN</td>\n      <td>NaN</td>\n      <td>NaN</td>\n      <td>NaN</td>\n    </tr>\n  </tbody>\n</table>\n<p>5 rows × 21 columns</p>\n</div>"
     },
     "execution_count": 25,
     "metadata": {},
     "output_type": "execute_result"
    }
   ],
   "source": [
    "# Load the first sheet to check its structure and content\n",
    "sheet1 = pd.read_excel(file_path, sheet_name='Sheet1')\n",
    "sheet1.head()\n"
   ],
   "metadata": {
    "collapsed": false
   }
  },
  {
   "cell_type": "code",
   "execution_count": 26,
   "outputs": [
    {
     "data": {
      "text/plain": "  序号    学院    年级      班级            学号   姓名         课程号  \\\n2  1  材料学院  2021  B材料211  210102041059   卜凡  0002022096   \n3  2  材料学院  2021  B材料211  210102041124  李佳驹  0002022096   \n4  3  材料学院  2021  B材料212  210102041081   张洛  0002022096   \n5  4  材料学院  2021  B材料213  210102041008  刘思远  0002022096   \n6  5  材料学院  2021  B材料213  210102041028  朱文韬  0002022096   \n\n                        课程名称   学分  开课学院  ... 跟读班级    考试方式 辅导老师 联系方式  \\\n2  Introduction to Materials  2.0  材料学院  ...   跟班  B材料221   书面  蔡安兰   \n3  Introduction to Materials  2.0  材料学院  ...   跟班  B材料221   书面  蔡安兰   \n4  Introduction to Materials  2.0  材料学院  ...   跟班  B材料221   书面  蔡安兰   \n5  Introduction to Materials  2.0  材料学院  ...   跟班  B材料223   书面  蔡安兰   \n6  Introduction to Materials  2.0  材料学院  ...   跟班  B材料223   书面  蔡安兰   \n\n          辅导周次 组班辅导时间 组班辅导地点 答疑辅导时间 答疑辅导地点 Unnamed: 20  \n2  13851061815    NaN    NaN    NaN    NaN         NaN  \n3  13851061815    NaN    NaN    NaN    NaN         NaN  \n4  13851061815    NaN    NaN    NaN    NaN         NaN  \n5  13851061815    NaN    NaN    NaN    NaN         NaN  \n6  13851061815    NaN    NaN    NaN    NaN         NaN  \n\n[5 rows x 21 columns]",
      "text/html": "<div>\n<style scoped>\n    .dataframe tbody tr th:only-of-type {\n        vertical-align: middle;\n    }\n\n    .dataframe tbody tr th {\n        vertical-align: top;\n    }\n\n    .dataframe thead th {\n        text-align: right;\n    }\n</style>\n<table border=\"1\" class=\"dataframe\">\n  <thead>\n    <tr style=\"text-align: right;\">\n      <th></th>\n      <th>序号</th>\n      <th>学院</th>\n      <th>年级</th>\n      <th>班级</th>\n      <th>学号</th>\n      <th>姓名</th>\n      <th>课程号</th>\n      <th>课程名称</th>\n      <th>学分</th>\n      <th>开课学院</th>\n      <th>...</th>\n      <th>跟读班级</th>\n      <th>考试方式</th>\n      <th>辅导老师</th>\n      <th>联系方式</th>\n      <th>辅导周次</th>\n      <th>组班辅导时间</th>\n      <th>组班辅导地点</th>\n      <th>答疑辅导时间</th>\n      <th>答疑辅导地点</th>\n      <th>Unnamed: 20</th>\n    </tr>\n  </thead>\n  <tbody>\n    <tr>\n      <th>2</th>\n      <td>1</td>\n      <td>材料学院</td>\n      <td>2021</td>\n      <td>B材料211</td>\n      <td>210102041059</td>\n      <td>卜凡</td>\n      <td>0002022096</td>\n      <td>Introduction to Materials</td>\n      <td>2.0</td>\n      <td>材料学院</td>\n      <td>...</td>\n      <td>跟班</td>\n      <td>B材料221</td>\n      <td>书面</td>\n      <td>蔡安兰</td>\n      <td>13851061815</td>\n      <td>NaN</td>\n      <td>NaN</td>\n      <td>NaN</td>\n      <td>NaN</td>\n      <td>NaN</td>\n    </tr>\n    <tr>\n      <th>3</th>\n      <td>2</td>\n      <td>材料学院</td>\n      <td>2021</td>\n      <td>B材料211</td>\n      <td>210102041124</td>\n      <td>李佳驹</td>\n      <td>0002022096</td>\n      <td>Introduction to Materials</td>\n      <td>2.0</td>\n      <td>材料学院</td>\n      <td>...</td>\n      <td>跟班</td>\n      <td>B材料221</td>\n      <td>书面</td>\n      <td>蔡安兰</td>\n      <td>13851061815</td>\n      <td>NaN</td>\n      <td>NaN</td>\n      <td>NaN</td>\n      <td>NaN</td>\n      <td>NaN</td>\n    </tr>\n    <tr>\n      <th>4</th>\n      <td>3</td>\n      <td>材料学院</td>\n      <td>2021</td>\n      <td>B材料212</td>\n      <td>210102041081</td>\n      <td>张洛</td>\n      <td>0002022096</td>\n      <td>Introduction to Materials</td>\n      <td>2.0</td>\n      <td>材料学院</td>\n      <td>...</td>\n      <td>跟班</td>\n      <td>B材料221</td>\n      <td>书面</td>\n      <td>蔡安兰</td>\n      <td>13851061815</td>\n      <td>NaN</td>\n      <td>NaN</td>\n      <td>NaN</td>\n      <td>NaN</td>\n      <td>NaN</td>\n    </tr>\n    <tr>\n      <th>5</th>\n      <td>4</td>\n      <td>材料学院</td>\n      <td>2021</td>\n      <td>B材料213</td>\n      <td>210102041008</td>\n      <td>刘思远</td>\n      <td>0002022096</td>\n      <td>Introduction to Materials</td>\n      <td>2.0</td>\n      <td>材料学院</td>\n      <td>...</td>\n      <td>跟班</td>\n      <td>B材料223</td>\n      <td>书面</td>\n      <td>蔡安兰</td>\n      <td>13851061815</td>\n      <td>NaN</td>\n      <td>NaN</td>\n      <td>NaN</td>\n      <td>NaN</td>\n      <td>NaN</td>\n    </tr>\n    <tr>\n      <th>6</th>\n      <td>5</td>\n      <td>材料学院</td>\n      <td>2021</td>\n      <td>B材料213</td>\n      <td>210102041028</td>\n      <td>朱文韬</td>\n      <td>0002022096</td>\n      <td>Introduction to Materials</td>\n      <td>2.0</td>\n      <td>材料学院</td>\n      <td>...</td>\n      <td>跟班</td>\n      <td>B材料223</td>\n      <td>书面</td>\n      <td>蔡安兰</td>\n      <td>13851061815</td>\n      <td>NaN</td>\n      <td>NaN</td>\n      <td>NaN</td>\n      <td>NaN</td>\n      <td>NaN</td>\n    </tr>\n  </tbody>\n</table>\n<p>5 rows × 21 columns</p>\n</div>"
     },
     "execution_count": 26,
     "metadata": {},
     "output_type": "execute_result"
    }
   ],
   "source": [
    "# Dynamically rename and clean up columns based on observed length\n",
    "columns_to_use = [\n",
    "    \"序号\", \"学院\", \"年级\", \"班级\", \"学号\", \"姓名\", \"课程号\", \"课程名称\", \"学分\", \"开课学院\",\n",
    "    \"辅导方式\", \"跟读班级\", \"考试方式\", \"辅导老师\", \"联系方式\", \"辅导周次\", \"组班辅导时间\",\n",
    "    \"组班辅导地点\", \"答疑辅导时间\", \"答疑辅导地点\"\n",
    "]\n",
    "\n",
    "# Truncate or expand the observed columns dynamically to match the desired columns\n",
    "sheet1.columns = columns_to_use + list(sheet1.columns[len(columns_to_use):])\n",
    "\n",
    "# Drop unnecessary rows (e.g., title rows or blank rows)\n",
    "sheet1_cleaned = sheet1.dropna(subset=[\"学院\", \"课程名称\", \"学分\"]).copy()\n",
    "\n",
    "# Ensure numeric columns like \"学分\" are correctly typed\n",
    "sheet1_cleaned[\"学分\"] = pd.to_numeric(sheet1_cleaned[\"学分\"], errors=\"coerce\")\n",
    "sheet1_cleaned = sheet1_cleaned.dropna(subset=[\"学分\"])  # Drop rows with invalid credits\n",
    "\n",
    "# Display the cleaned data's first few rows to verify\n",
    "sheet1_cleaned.head()\n"
   ],
   "metadata": {
    "collapsed": false
   }
  },
  {
   "cell_type": "code",
   "execution_count": 28,
   "outputs": [
    {
     "name": "stdout",
     "output_type": "stream",
     "text": [
      "积欠学分最多的 10 个学生:\n",
      "     姓名            学号       班级    学院  \\\n",
      "0    李聪  200105011019   B土木213  土木学院   \n",
      "1   黄亚振  190105141002   B建能201  土木学院   \n",
      "2  桑吉拉姆  210101021031   B旅游213  人文学院   \n",
      "3   平天奇  210101032007   B装备212  机优学院   \n",
      "4   孙朝通  200105016034   B土木213  土木学院   \n",
      "5   沈中正  190107132004  B物联网202  信息学院   \n",
      "6    缪淼  180112802011   B环艺182  设艺学院   \n",
      "7    刘聪    1710101213   B智造201  机优学院   \n",
      "8   季文翔  210137032024   B能动212  汽车学院   \n",
      "9   师雨桥  190107102033   B电科211  信息学院   \n",
      "\n",
      "                                                课程名称  学分累加  \n",
      "0  马克思主义基本原理、毛泽东思想和中国特色社会主义理论体系概论、大学物理C、高等数学A（上）、...  45.0  \n",
      "1  机械设计基础、大学物理C、高等数学A（上）、高等数学A（下）、工程流体力学、工程热力学、工业...  40.0  \n",
      "2  管理学原理、会计学原理、统计学、西方经济学、马克思主义基本原理、形势与政策3、餐饮管理、旅游...  38.9  \n",
      "3  电工电子学A、工程图学2、过程设备设计、过程设备设计课程设计、过程装备控制技术及应用、机械设...  38.5  \n",
      "4  大学物理C、概率论与数理统计、高等数学A（上）、高等数学A（下）、物理实验、材料力学、工程结...  37.0  \n",
      "5  大学物理B（上）、大学物理B（下）、概率论、高等数学B（下）、英语进阶1、毕业设计、操作系统...  36.5  \n",
      "6  城市景观与园林设计、创新活动训练、地域性传统民居文化传承与保护、公共空间室内设计1、公共空间...  36.0  \n",
      "7  PDM原理与应用、毕业设计、毕业设计Ⅰ、工程力学、人工智能、数据结构、高等数学B（上）、高等...  36.0  \n",
      "8  电工电子学A、机械设计、机械原理、汽车构造、概率论与数理统计、高等数学A（上）、高等数学A（...  34.0  \n",
      "9  电子技术实验2、大学物理C、概率论与数理统计、高等数学B（上）、高等数学B（下）、英语进阶1...  33.5  \n",
      "\n",
      "每门课程的补学分人数和开课学院:\n",
      "                         课程名称   开课学院  补学分人数\n",
      "0                   ASP.NET编程   信息学院     39\n",
      "1    Automatic Control Theory   信息学院      3\n",
      "2    Automatic Control Theory   电气学院      1\n",
      "3      AutomaticControlTheory   电气学院      1\n",
      "4      Automaticcontroltheory   信息学院      1\n",
      "..                        ...    ...    ...\n",
      "957                     高级日语2  外国语学院      1\n",
      "958                     高级日语3  外国语学院      1\n",
      "959               高级语言程序设计R语言   数理学院      7\n",
      "960                    高级财务会计   经管学院      9\n",
      "961                    高频电子线路   信息学院     13\n",
      "\n",
      "[962 rows x 3 columns]\n",
      "\n",
      "各学院积欠学分人数和学分累加值:\n",
      "       学院  补学分人数   学分累加值\n",
      "0    人文学院    142  1085.0\n",
      "1    优培学院     64   285.2\n",
      "2    信息学院    705  5395.8\n",
      "3    化工学院    522  3464.2\n",
      "4    土木学院    643  5264.2\n",
      "5   外国语学院     66   412.7\n",
      "6    数理学院     90   588.3\n",
      "7    机优学院   1084  8103.8\n",
      "8    材料学院    546  3995.9\n",
      "9    汽车学院    588  4567.6\n",
      "10   海生学院    187  1040.6\n",
      "11   环境学院    215  1454.3\n",
      "12   电气学院    452  2550.6\n",
      "13   纺服学院    323  2164.8\n",
      "14   经管学院    531  2793.9\n",
      "15   设艺学院    150   523.7\n",
      "\n",
      "各学院的工作量大小和占比:\n",
      "       学院   学分累加值      工作量占比\n",
      "0    人文学院  1085.0   2.483372\n",
      "1    优培学院   285.2   0.652772\n",
      "2    信息学院  5395.8  12.350025\n",
      "3    化工学院  3464.2   7.928937\n",
      "4    土木学院  5264.2  12.048816\n",
      "5   外国语学院   412.7   0.944597\n",
      "6    数理学院   588.3   1.346514\n",
      "7    机优学院  8103.8  18.548155\n",
      "8    材料学院  3995.9   9.145903\n",
      "9    汽车学院  4567.6  10.454423\n",
      "10   海生学院  1040.6   2.381748\n",
      "11   环境学院  1454.3   3.328634\n",
      "12   电气学院  2550.6   5.837869\n",
      "13   纺服学院  2164.8   4.954842\n",
      "14   经管学院  2793.9   6.394739\n",
      "15   设艺学院   523.7   1.198656\n"
     ]
    }
   ],
   "source": [
    "# 1. 筛选积欠学分最多的 10 个学生\n",
    "# 按学号和姓名分组，计算每个学生的总积欠学分\n",
    "student_credits = sheet1_cleaned.groupby([\"姓名\", \"学号\", \"班级\", \"学院\"], as_index=False).agg({\n",
    "    \"课程名称\": lambda x: \"、\".join(x),\n",
    "    \"学分\": \"sum\"\n",
    "}).rename(columns={\"学分\": \"学分累加\"})\n",
    "\n",
    "# 按学分累加降序排列，筛选前10名\n",
    "top_students = student_credits.sort_values(by=\"学分累加\", ascending=False).head(10)\n",
    "top_students.reset_index(drop=True, inplace=True)\n",
    "\n",
    "# 显示结果\n",
    "print(\"积欠学分最多的 10 个学生:\")\n",
    "print(top_students)\n",
    "\n",
    "# 保存结果为第一步输出\n",
    "step1_output = top_students.copy()  # 用于后续展示\n",
    "\n",
    "# 2. 统计每门课程的补学分人数和开课学院\n",
    "course_stats = sheet1_cleaned.groupby([\"课程名称\", \"开课学院\"], as_index=False).agg({\n",
    "    \"学号\": \"count\"\n",
    "}).rename(columns={\"学号\": \"补学分人数\"})\n",
    "\n",
    "# 显示结果\n",
    "print(\"\\n每门课程的补学分人数和开课学院:\")\n",
    "print(course_stats)\n",
    "\n",
    "# 保存结果为第二步输出\n",
    "step2_output = course_stats.copy()\n",
    "\n",
    "# 3. 统计各学院积欠学分人数和学分累加值\n",
    "学院_stats = sheet1_cleaned.groupby(\"学院\", as_index=False).agg({\n",
    "    \"学号\": \"nunique\",\n",
    "    \"学分\": \"sum\"\n",
    "}).rename(columns={\"学号\": \"补学分人数\", \"学分\": \"学分累加值\"})\n",
    "\n",
    "# 显示结果\n",
    "print(\"\\n各学院积欠学分人数和学分累加值:\")\n",
    "print(学院_stats)\n",
    "\n",
    "# 保存结果为第三步输出\n",
    "step3_output = 学院_stats.copy()\n",
    "\n",
    "# 4. 计算各学院工作量大小和全校占比\n",
    "total_credits = 学院_stats[\"学分累加值\"].sum()\n",
    "学院_stats[\"工作量占比\"] = 学院_stats[\"学分累加值\"] / total_credits * 100\n",
    "\n",
    "# 显示结果\n",
    "print(\"\\n各学院的工作量大小和占比:\")\n",
    "print(学院_stats[[\"学院\", \"学分累加值\", \"工作量占比\"]])\n",
    "\n",
    "# 保存结果为第四步输出\n",
    "step4_output = 学院_stats.copy()\n"
   ],
   "metadata": {
    "collapsed": false
   }
  }
 ],
 "metadata": {
  "kernelspec": {
   "display_name": "Python 3",
   "language": "python",
   "name": "python3"
  },
  "language_info": {
   "codemirror_mode": {
    "name": "ipython",
    "version": 2
   },
   "file_extension": ".py",
   "mimetype": "text/x-python",
   "name": "python",
   "nbconvert_exporter": "python",
   "pygments_lexer": "ipython2",
   "version": "2.7.6"
  }
 },
 "nbformat": 4,
 "nbformat_minor": 0
}
